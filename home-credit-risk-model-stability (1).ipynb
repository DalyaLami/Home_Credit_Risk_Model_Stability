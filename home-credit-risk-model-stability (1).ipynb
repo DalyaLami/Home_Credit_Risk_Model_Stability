{
 "cells": [
  {
   "cell_type": "code",
   "execution_count": 1,
   "id": "c4c5cf53",
   "metadata": {
    "execution": {
     "iopub.execute_input": "2024-05-22T16:44:17.206376Z",
     "iopub.status.busy": "2024-05-22T16:44:17.205468Z",
     "iopub.status.idle": "2024-05-22T16:44:17.222762Z",
     "shell.execute_reply": "2024-05-22T16:44:17.221407Z"
    },
    "papermill": {
     "duration": 0.046643,
     "end_time": "2024-05-22T16:44:17.225278",
     "exception": false,
     "start_time": "2024-05-22T16:44:17.178635",
     "status": "completed"
    },
    "tags": []
   },
   "outputs": [],
   "source": [
    "%matplotlib notebook"
   ]
  },
  {
   "cell_type": "code",
   "execution_count": 2,
   "id": "24c4286e",
   "metadata": {
    "execution": {
     "iopub.execute_input": "2024-05-22T16:44:17.278838Z",
     "iopub.status.busy": "2024-05-22T16:44:17.278455Z",
     "iopub.status.idle": "2024-05-22T16:44:20.680026Z",
     "shell.execute_reply": "2024-05-22T16:44:20.678907Z"
    },
    "papermill": {
     "duration": 3.431475,
     "end_time": "2024-05-22T16:44:20.682754",
     "exception": false,
     "start_time": "2024-05-22T16:44:17.251279",
     "status": "completed"
    },
    "tags": []
   },
   "outputs": [],
   "source": [
    "import polars as pl\n",
    "import numpy as np\n",
    "import pandas as pd \n",
    "\n",
    "from sklearn.preprocessing import LabelEncoder\n",
    "\n",
    "import os\n",
    "\n",
    "import warnings\n",
    "warnings.filterwarnings('ignore')\n",
    "\n",
    "from sklearn.model_selection import train_test_split\n",
    "from sklearn .metrics import roc_auc_score\n",
    "\n",
    "import lightgbm as lgb"
   ]
  },
  {
   "cell_type": "code",
   "execution_count": 3,
   "id": "34cfc0a7",
   "metadata": {
    "execution": {
     "iopub.execute_input": "2024-05-22T16:44:20.733467Z",
     "iopub.status.busy": "2024-05-22T16:44:20.732879Z",
     "iopub.status.idle": "2024-05-22T16:44:20.738990Z",
     "shell.execute_reply": "2024-05-22T16:44:20.738012Z"
    },
    "papermill": {
     "duration": 0.033901,
     "end_time": "2024-05-22T16:44:20.741150",
     "exception": false,
     "start_time": "2024-05-22T16:44:20.707249",
     "status": "completed"
    },
    "tags": []
   },
   "outputs": [
    {
     "name": "stdout",
     "output_type": "stream",
     "text": [
      "['home-credit-credit-risk-model-stability']\n"
     ]
    }
   ],
   "source": [
    "print(os.listdir(\"/kaggle/input/\"))"
   ]
  },
  {
   "cell_type": "code",
   "execution_count": 4,
   "id": "5b761f19",
   "metadata": {
    "execution": {
     "iopub.execute_input": "2024-05-22T16:44:20.791249Z",
     "iopub.status.busy": "2024-05-22T16:44:20.790830Z",
     "iopub.status.idle": "2024-05-22T16:44:20.795442Z",
     "shell.execute_reply": "2024-05-22T16:44:20.794431Z"
    },
    "papermill": {
     "duration": 0.032386,
     "end_time": "2024-05-22T16:44:20.797949",
     "exception": false,
     "start_time": "2024-05-22T16:44:20.765563",
     "status": "completed"
    },
    "scrolled": true,
    "tags": []
   },
   "outputs": [],
   "source": [
    "# reading the training data\n",
    "path = ('../input/home-credit-credit-risk-model-stability/')"
   ]
  },
  {
   "cell_type": "code",
   "execution_count": 5,
   "id": "5e321ad1",
   "metadata": {
    "execution": {
     "iopub.execute_input": "2024-05-22T16:44:20.846232Z",
     "iopub.status.busy": "2024-05-22T16:44:20.845808Z",
     "iopub.status.idle": "2024-05-22T16:44:20.852403Z",
     "shell.execute_reply": "2024-05-22T16:44:20.851202Z"
    },
    "papermill": {
     "duration": 0.033588,
     "end_time": "2024-05-22T16:44:20.854870",
     "exception": false,
     "start_time": "2024-05-22T16:44:20.821282",
     "status": "completed"
    },
    "tags": []
   },
   "outputs": [],
   "source": [
    "def set_table_dtypes(df: pl.DataFrame) -> pl.DataFrame:\n",
    "    # implement here all desired dtypes for tables\n",
    "    # the following is just an example\n",
    "    for clm in df.columns:\n",
    "        # last letter of column name will help you determine the type\n",
    "        if clm[-1] in (\"P\", \"A\"):\n",
    "            df = df.with_columns(pl.col(clm).cast(pl.Float64).alias(clm))\n",
    "\n",
    "    return df"
   ]
  },
  {
   "cell_type": "code",
   "execution_count": 6,
   "id": "19707220",
   "metadata": {
    "execution": {
     "iopub.execute_input": "2024-05-22T16:44:20.904894Z",
     "iopub.status.busy": "2024-05-22T16:44:20.904482Z",
     "iopub.status.idle": "2024-05-22T16:44:20.911767Z",
     "shell.execute_reply": "2024-05-22T16:44:20.910732Z"
    },
    "papermill": {
     "duration": 0.034862,
     "end_time": "2024-05-22T16:44:20.914135",
     "exception": false,
     "start_time": "2024-05-22T16:44:20.879273",
     "status": "completed"
    },
    "tags": []
   },
   "outputs": [],
   "source": [
    "def convert_strings(df: pd.DataFrame) -> pd.DataFrame:\n",
    "    for col in df.columns:  \n",
    "        if df[col].dtype.name in ['object', 'string']:\n",
    "            df[col] = df[col].astype(\"string\").astype('category')\n",
    "            current_categories = df[col].cat.categories\n",
    "            new_categories = current_categories.to_list() + [\"Unknown\"]\n",
    "            new_dtype = pd.CategoricalDtype(categories=new_categories, ordered=True)\n",
    "            df[col] = df[col].astype(new_dtype)\n",
    "    return df"
   ]
  },
  {
   "cell_type": "code",
   "execution_count": 7,
   "id": "1576f571",
   "metadata": {
    "execution": {
     "iopub.execute_input": "2024-05-22T16:44:20.964466Z",
     "iopub.status.busy": "2024-05-22T16:44:20.963774Z",
     "iopub.status.idle": "2024-05-22T16:44:20.971085Z",
     "shell.execute_reply": "2024-05-22T16:44:20.969699Z"
    },
    "papermill": {
     "duration": 0.035669,
     "end_time": "2024-05-22T16:44:20.974030",
     "exception": false,
     "start_time": "2024-05-22T16:44:20.938361",
     "status": "completed"
    },
    "scrolled": true,
    "tags": []
   },
   "outputs": [],
   "source": [
    "# checking missing data\n",
    "def counting_null_values(df: pl.DataFrame) -> pl.DataFrame:\n",
    "    total = 0\n",
    "    \n",
    "    for col in df.columns: \n",
    "        total += df.select(pl.col(col)).null_count()\n",
    "    \n",
    "    return(total)\n"
   ]
  },
  {
   "cell_type": "code",
   "execution_count": 8,
   "id": "5eb0f14e",
   "metadata": {
    "execution": {
     "iopub.execute_input": "2024-05-22T16:44:21.023899Z",
     "iopub.status.busy": "2024-05-22T16:44:21.023529Z",
     "iopub.status.idle": "2024-05-22T16:44:55.430142Z",
     "shell.execute_reply": "2024-05-22T16:44:55.429073Z"
    },
    "papermill": {
     "duration": 34.434558,
     "end_time": "2024-05-22T16:44:55.432952",
     "exception": false,
     "start_time": "2024-05-22T16:44:20.998394",
     "status": "completed"
    },
    "tags": []
   },
   "outputs": [],
   "source": [
    "train_basetable = pl.read_csv(path + \"csv_files/train/train_base.csv\")\n",
    "train_static = pl.concat(\n",
    "    [\n",
    "        pl.read_csv(path + \"csv_files/train/train_static_0_0.csv\").pipe(set_table_dtypes),\n",
    "        pl.read_csv(path + \"csv_files/train/train_static_0_1.csv\").pipe(set_table_dtypes),\n",
    "    ],\n",
    "    how=\"vertical_relaxed\",\n",
    ")\n",
    "train_static_cb = pl.read_csv(path + \"csv_files/train/train_static_cb_0.csv\").pipe(set_table_dtypes)\n",
    "train_person_1 = pl.read_csv(path + \"csv_files/train/train_person_1.csv\").pipe(set_table_dtypes) \n",
    "train_credit_bureau_b_2 = pl.read_csv(path + \"csv_files/train/train_credit_bureau_b_2.csv\").pipe(set_table_dtypes) \n",
    "applprev_1 = pl.concat(\n",
    "    [\n",
    "        pl.read_csv(path + \"csv_files/train/train_applprev_1_0.csv\").pipe(set_table_dtypes),\n",
    "        pl.read_csv(path + \"csv_files/train/train_applprev_1_1.csv\").pipe(set_table_dtypes),\n",
    "    ],\n",
    "    how=\"vertical_relaxed\",\n",
    ")\n",
    "other_1 = pl.read_csv(path + \"csv_files/train/train_other_1.csv\").pipe(set_table_dtypes)\n",
    "tax_registry_a_1 = pl.read_csv(path + \"csv_files/train/train_tax_registry_a_1.csv\").pipe(set_table_dtypes)\n",
    "tax_registry_b_1 = pl.read_csv(path + \"csv_files/train/train_tax_registry_b_1.csv\").pipe(set_table_dtypes)\n",
    "tax_registry_c_1 = pl.read_csv(path + \"csv_files/train/train_tax_registry_c_1.csv\").pipe(set_table_dtypes)\n",
    "credit_bureau_b_1 = pl.read_csv(path + \"csv_files/train/train_credit_bureau_b_1.csv\").pipe(set_table_dtypes)\n",
    "deposit_1 = pl.read_csv(path + \"csv_files/train/train_deposit_1.csv\").pipe(set_table_dtypes)\n",
    "person_1 = pl.read_csv(path + \"csv_files/train/train_person_1.csv\").pipe(set_table_dtypes)\n",
    "debitcard_1 = pl.read_csv(path + \"csv_files/train/train_debitcard_1.csv\").pipe(set_table_dtypes)\n",
    "applprev_2 = pl.read_csv(path + \"csv_files/train/train_applprev_2.csv\").pipe(set_table_dtypes)\n",
    "person_2 = pl.read_csv(path + \"csv_files/train/train_person_2.csv\").pipe(set_table_dtypes)"
   ]
  },
  {
   "cell_type": "code",
   "execution_count": 9,
   "id": "c3bcce4f",
   "metadata": {
    "execution": {
     "iopub.execute_input": "2024-05-22T16:44:55.483475Z",
     "iopub.status.busy": "2024-05-22T16:44:55.483092Z",
     "iopub.status.idle": "2024-05-22T16:44:55.583539Z",
     "shell.execute_reply": "2024-05-22T16:44:55.582285Z"
    },
    "papermill": {
     "duration": 0.128672,
     "end_time": "2024-05-22T16:44:55.586023",
     "exception": false,
     "start_time": "2024-05-22T16:44:55.457351",
     "status": "completed"
    },
    "tags": []
   },
   "outputs": [
    {
     "data": {
      "text/html": [
       "<div><style>\n",
       ".dataframe > thead > tr,\n",
       ".dataframe > tbody > tr {\n",
       "  text-align: right;\n",
       "  white-space: pre-wrap;\n",
       "}\n",
       "</style>\n",
       "<small>shape: (16, 2)</small><table border=\"1\" class=\"dataframe\"><thead><tr><th>Dataset_Names</th><th>Null_Value_Count</th></tr><tr><td>str</td><td>object</td></tr></thead><tbody><tr><td>&quot;train_basetabl…</td><td>0</td></tr><tr><td>&quot;train_static&quot;</td><td>78503607</td></tr><tr><td>&quot;train_static_c…</td><td>49375701</td></tr><tr><td>&quot;train_person_1…</td><td>51051536</td></tr><tr><td>&quot;train_credit_b…</td><td>10722</td></tr><tr><td>&hellip;</td><td>&hellip;</td></tr><tr><td>&quot;deposit_1&quot;</td><td>79682</td></tr><tr><td>&quot;person_1&quot;</td><td>51051536</td></tr><tr><td>&quot;debitcard_1&quot;</td><td>450239</td></tr><tr><td>&quot;applprev_2&quot;</td><td>16236709</td></tr><tr><td>&quot;person_2&quot;</td><td>4828073</td></tr></tbody></table></div>"
      ],
      "text/plain": [
       "shape: (16, 2)\n",
       "┌─────────────────────────┬──────────────────┐\n",
       "│ Dataset_Names           ┆ Null_Value_Count │\n",
       "│ ---                     ┆ ---              │\n",
       "│ str                     ┆ object           │\n",
       "╞═════════════════════════╪══════════════════╡\n",
       "│ train_basetable         ┆ 0                │\n",
       "│ train_static            ┆ 78503607         │\n",
       "│ train_static_cb         ┆ 49375701         │\n",
       "│ train_person_1          ┆ 51051536         │\n",
       "│ train_credit_bureau_b_2 ┆ 10722            │\n",
       "│ …                       ┆ …                │\n",
       "│ deposit_1               ┆ 79682            │\n",
       "│ person_1                ┆ 51051536         │\n",
       "│ debitcard_1             ┆ 450239           │\n",
       "│ applprev_2              ┆ 16236709         │\n",
       "│ person_2                ┆ 4828073          │\n",
       "└─────────────────────────┴──────────────────┘"
      ]
     },
     "execution_count": 9,
     "metadata": {},
     "output_type": "execute_result"
    }
   ],
   "source": [
    "dataset_names = [train_basetable , train_static, train_static_cb, train_person_1, train_credit_bureau_b_2, applprev_1, \n",
    "                other_1, tax_registry_a_1, tax_registry_b_1, tax_registry_c_1, credit_bureau_b_1, deposit_1,\n",
    "                person_1, debitcard_1, applprev_2, person_2]\n",
    "dataset_names_str = ['train_basetable' , 'train_static', 'train_static_cb', 'train_person_1',\n",
    "                     'train_credit_bureau_b_2','applprev_1', 'other_1', 'tax_registry_a_1', \n",
    "                     'tax_registry_b_1', 'tax_registry_c_1', 'credit_bureau_b_1',\n",
    "                     'deposit_1','person_1', 'debitcard_1', 'applprev_2', 'person_2']\n",
    "null_value_count = []\n",
    "\n",
    "for dataset in dataset_names:\n",
    "    null_value_count.append(pl.lit(dataset.pipe(counting_null_values))) \n",
    "    \n",
    "null_dataset_train = pl.DataFrame(\n",
    "    {\n",
    "        \"Dataset_Names\": dataset_names_str,\n",
    "        \"Null_Value_Count\": null_value_count\n",
    "         \n",
    "    }\n",
    ")\n",
    "null_dataset_train"
   ]
  },
  {
   "cell_type": "code",
   "execution_count": 10,
   "id": "a480ae38",
   "metadata": {
    "execution": {
     "iopub.execute_input": "2024-05-22T16:44:55.636347Z",
     "iopub.status.busy": "2024-05-22T16:44:55.635965Z",
     "iopub.status.idle": "2024-05-22T16:45:34.500498Z",
     "shell.execute_reply": "2024-05-22T16:45:34.498005Z"
    },
    "papermill": {
     "duration": 38.893101,
     "end_time": "2024-05-22T16:45:34.503605",
     "exception": false,
     "start_time": "2024-05-22T16:44:55.610504",
     "status": "completed"
    },
    "tags": []
   },
   "outputs": [],
   "source": [
    "credit_bureau_a_1 = pl.concat(\n",
    "    [\n",
    "        pl.read_csv(path + \"csv_files/train/train_credit_bureau_a_1_0.csv\").pipe(set_table_dtypes),\n",
    "        pl.read_csv(path + \"csv_files/train/train_credit_bureau_a_1_1.csv\").pipe(set_table_dtypes),\n",
    "#         pl.read_csv(path + \"csv_files/train/train_credit_bureau_a_1_2.csv\").pipe(set_table_dtypes),\n",
    "#         pl.read_csv(path + \"csv_files/train/train_credit_bureau_a_1_3.csv\").pipe(set_table_dtypes),\n",
    "\n",
    "    ],\n",
    "    how=\"vertical_relaxed\",\n",
    ")\n",
    "\n",
    "credit_bureau_a_2 = pl.concat(\n",
    "    [\n",
    "        pl.read_csv(path + \"csv_files/train/train_credit_bureau_a_2_0.csv\").pipe(set_table_dtypes),\n",
    "        pl.read_csv(path + \"csv_files/train/train_credit_bureau_a_2_1.csv\").pipe(set_table_dtypes),\n",
    "#         pl.read_csv(path + \"csv_files/train/train_credit_bureau_a_2_2.csv\").pipe(set_table_dtypes),\n",
    "#         pl.read_csv(path + \"csv_files/train/train_credit_bureau_a_2_3.csv\").pipe(set_table_dtypes),\n",
    "#         pl.read_csv(path + \"csv_files/train/train_credit_bureau_a_2_4.csv\").pipe(set_table_dtypes),\n",
    "#         pl.read_csv(path + \"csv_files/train/train_credit_bureau_a_2_5.csv\").pipe(set_table_dtypes),\n",
    "#         pl.read_csv(path + \"csv_files/train/train_credit_bureau_a_2_6.csv\").pipe(set_table_dtypes),\n",
    "#         pl.read_csv(path + \"csv_files/train/train_credit_bureau_a_2_7.csv\").pipe(set_table_dtypes),\n",
    "#         pl.read_csv(path + \"csv_files/train/train_credit_bureau_a_2_8.csv\").pipe(set_table_dtypes),\n",
    "#         pl.read_csv(path + \"csv_files/train/train_credit_bureau_a_2_9.csv\").pipe(set_table_dtypes),\n",
    "#         pl.read_csv(path + \"csv_files/train/train_credit_bureau_a_2_10.csv\").pipe(set_table_dtypes),\n",
    "\n",
    "\n",
    "    ],\n",
    "    how=\"vertical_relaxed\",\n",
    ")\n"
   ]
  },
  {
   "cell_type": "markdown",
   "id": "c93fcb99",
   "metadata": {
    "papermill": {
     "duration": 0.024045,
     "end_time": "2024-05-22T16:45:34.553527",
     "exception": false,
     "start_time": "2024-05-22T16:45:34.529482",
     "status": "completed"
    },
    "tags": []
   },
   "source": [
    "# Explore the Train Datasets"
   ]
  },
  {
   "cell_type": "code",
   "execution_count": 11,
   "id": "23e07070",
   "metadata": {
    "execution": {
     "iopub.execute_input": "2024-05-22T16:45:34.604570Z",
     "iopub.status.busy": "2024-05-22T16:45:34.604196Z",
     "iopub.status.idle": "2024-05-22T16:45:34.616980Z",
     "shell.execute_reply": "2024-05-22T16:45:34.615860Z"
    },
    "papermill": {
     "duration": 0.041175,
     "end_time": "2024-05-22T16:45:34.619445",
     "exception": false,
     "start_time": "2024-05-22T16:45:34.578270",
     "status": "completed"
    },
    "tags": []
   },
   "outputs": [
    {
     "data": {
      "text/html": [
       "<div><style>\n",
       ".dataframe > thead > tr,\n",
       ".dataframe > tbody > tr {\n",
       "  text-align: right;\n",
       "  white-space: pre-wrap;\n",
       "}\n",
       "</style>\n",
       "<small>shape: (5, 5)</small><table border=\"1\" class=\"dataframe\"><thead><tr><th>case_id</th><th>date_decision</th><th>MONTH</th><th>WEEK_NUM</th><th>target</th></tr><tr><td>i64</td><td>str</td><td>i64</td><td>i64</td><td>i64</td></tr></thead><tbody><tr><td>0</td><td>&quot;2019-01-03&quot;</td><td>201901</td><td>0</td><td>0</td></tr><tr><td>1</td><td>&quot;2019-01-03&quot;</td><td>201901</td><td>0</td><td>0</td></tr><tr><td>2</td><td>&quot;2019-01-04&quot;</td><td>201901</td><td>0</td><td>0</td></tr><tr><td>3</td><td>&quot;2019-01-03&quot;</td><td>201901</td><td>0</td><td>0</td></tr><tr><td>4</td><td>&quot;2019-01-04&quot;</td><td>201901</td><td>0</td><td>1</td></tr></tbody></table></div>"
      ],
      "text/plain": [
       "shape: (5, 5)\n",
       "┌─────────┬───────────────┬────────┬──────────┬────────┐\n",
       "│ case_id ┆ date_decision ┆ MONTH  ┆ WEEK_NUM ┆ target │\n",
       "│ ---     ┆ ---           ┆ ---    ┆ ---      ┆ ---    │\n",
       "│ i64     ┆ str           ┆ i64    ┆ i64      ┆ i64    │\n",
       "╞═════════╪═══════════════╪════════╪══════════╪════════╡\n",
       "│ 0       ┆ 2019-01-03    ┆ 201901 ┆ 0        ┆ 0      │\n",
       "│ 1       ┆ 2019-01-03    ┆ 201901 ┆ 0        ┆ 0      │\n",
       "│ 2       ┆ 2019-01-04    ┆ 201901 ┆ 0        ┆ 0      │\n",
       "│ 3       ┆ 2019-01-03    ┆ 201901 ┆ 0        ┆ 0      │\n",
       "│ 4       ┆ 2019-01-04    ┆ 201901 ┆ 0        ┆ 1      │\n",
       "└─────────┴───────────────┴────────┴──────────┴────────┘"
      ]
     },
     "execution_count": 11,
     "metadata": {},
     "output_type": "execute_result"
    }
   ],
   "source": [
    "train_basetable.head()"
   ]
  },
  {
   "cell_type": "code",
   "execution_count": 12,
   "id": "a626a7a1",
   "metadata": {
    "execution": {
     "iopub.execute_input": "2024-05-22T16:45:34.671223Z",
     "iopub.status.busy": "2024-05-22T16:45:34.670475Z",
     "iopub.status.idle": "2024-05-22T16:45:34.689815Z",
     "shell.execute_reply": "2024-05-22T16:45:34.688676Z"
    },
    "papermill": {
     "duration": 0.047646,
     "end_time": "2024-05-22T16:45:34.692152",
     "exception": false,
     "start_time": "2024-05-22T16:45:34.644506",
     "status": "completed"
    },
    "tags": []
   },
   "outputs": [
    {
     "data": {
      "text/html": [
       "<div><style>\n",
       ".dataframe > thead > tr,\n",
       ".dataframe > tbody > tr {\n",
       "  text-align: right;\n",
       "  white-space: pre-wrap;\n",
       "}\n",
       "</style>\n",
       "<small>shape: (5, 168)</small><table border=\"1\" class=\"dataframe\"><thead><tr><th>case_id</th><th>actualdpdtolerance_344P</th><th>amtinstpaidbefduel24m_4187115A</th><th>annuity_780A</th><th>annuitynextmonth_57A</th><th>applicationcnt_361L</th><th>applications30d_658L</th><th>applicationscnt_1086L</th><th>applicationscnt_464L</th><th>applicationscnt_629L</th><th>applicationscnt_867L</th><th>avgdbddpdlast24m_3658932P</th><th>avgdbddpdlast3m_4187120P</th><th>avgdbdtollast24m_4525197P</th><th>avgdpdtolclosure24_3658938P</th><th>avginstallast24m_3658937A</th><th>avglnamtstart24m_4525187A</th><th>avgmaxdpdlast9m_3716943P</th><th>avgoutstandbalancel6m_4187114A</th><th>avgpmtlast12m_4525200A</th><th>bankacctype_710L</th><th>cardtype_51L</th><th>clientscnt12m_3712952L</th><th>clientscnt3m_3712950L</th><th>clientscnt6m_3712949L</th><th>clientscnt_100L</th><th>clientscnt_1022L</th><th>clientscnt_1071L</th><th>clientscnt_1130L</th><th>clientscnt_136L</th><th>clientscnt_157L</th><th>clientscnt_257L</th><th>clientscnt_304L</th><th>clientscnt_360L</th><th>clientscnt_493L</th><th>clientscnt_533L</th><th>clientscnt_887L</th><th>&hellip;</th><th>numinstpaidearlyest_4493214L</th><th>numinstpaidlastcontr_4325080L</th><th>numinstpaidlate1d_3546852L</th><th>numinstregularpaid_973L</th><th>numinstregularpaidest_4493210L</th><th>numinsttopaygr_769L</th><th>numinsttopaygrest_4493213L</th><th>numinstunpaidmax_3546851L</th><th>numinstunpaidmaxest_4493212L</th><th>numnotactivated_1143L</th><th>numpmtchanneldd_318L</th><th>numrejects9m_859L</th><th>opencred_647L</th><th>paytype1st_925L</th><th>paytype_783L</th><th>payvacationpostpone_4187118D</th><th>pctinstlsallpaidearl3d_427L</th><th>pctinstlsallpaidlat10d_839L</th><th>pctinstlsallpaidlate1d_3546856L</th><th>pctinstlsallpaidlate4d_3546849L</th><th>pctinstlsallpaidlate6d_3546844L</th><th>pmtnum_254L</th><th>posfpd10lastmonth_333P</th><th>posfpd30lastmonth_3976960P</th><th>posfstqpd30lastmonth_3976962P</th><th>previouscontdistrict_112M</th><th>price_1097A</th><th>sellerplacecnt_915L</th><th>sellerplacescnt_216L</th><th>sumoutstandtotal_3546847A</th><th>sumoutstandtotalest_4493215A</th><th>totaldebt_9A</th><th>totalsettled_863A</th><th>totinstallast1m_4525188A</th><th>twobodfilling_608L</th><th>typesuite_864L</th><th>validfrom_1069D</th></tr><tr><td>i64</td><td>f64</td><td>f64</td><td>f64</td><td>f64</td><td>f64</td><td>f64</td><td>f64</td><td>f64</td><td>f64</td><td>f64</td><td>f64</td><td>f64</td><td>f64</td><td>f64</td><td>f64</td><td>f64</td><td>f64</td><td>f64</td><td>f64</td><td>str</td><td>str</td><td>f64</td><td>f64</td><td>f64</td><td>f64</td><td>f64</td><td>f64</td><td>f64</td><td>str</td><td>f64</td><td>f64</td><td>f64</td><td>f64</td><td>f64</td><td>f64</td><td>f64</td><td>&hellip;</td><td>str</td><td>str</td><td>f64</td><td>f64</td><td>str</td><td>f64</td><td>str</td><td>f64</td><td>str</td><td>f64</td><td>f64</td><td>f64</td><td>bool</td><td>str</td><td>str</td><td>str</td><td>f64</td><td>f64</td><td>f64</td><td>f64</td><td>f64</td><td>f64</td><td>f64</td><td>f64</td><td>f64</td><td>str</td><td>f64</td><td>f64</td><td>f64</td><td>f64</td><td>f64</td><td>f64</td><td>f64</td><td>f64</td><td>str</td><td>str</td><td>str</td></tr></thead><tbody><tr><td>0</td><td>null</td><td>null</td><td>1917.6</td><td>0.0</td><td>0.0</td><td>0.0</td><td>0.0</td><td>0.0</td><td>0.0</td><td>0.0</td><td>null</td><td>null</td><td>null</td><td>null</td><td>null</td><td>null</td><td>null</td><td>null</td><td>null</td><td>null</td><td>null</td><td>0.0</td><td>0.0</td><td>0.0</td><td>0.0</td><td>0.0</td><td>0.0</td><td>0.0</td><td>null</td><td>0.0</td><td>0.0</td><td>0.0</td><td>0.0</td><td>0.0</td><td>0.0</td><td>0.0</td><td>&hellip;</td><td>null</td><td>null</td><td>null</td><td>null</td><td>null</td><td>null</td><td>null</td><td>null</td><td>null</td><td>0.0</td><td>0.0</td><td>0.0</td><td>null</td><td>&quot;OTHER&quot;</td><td>&quot;OTHER&quot;</td><td>null</td><td>null</td><td>null</td><td>null</td><td>null</td><td>null</td><td>24.0</td><td>0.0</td><td>0.0</td><td>null</td><td>&quot;a55475b1&quot;</td><td>null</td><td>0.0</td><td>0.0</td><td>null</td><td>null</td><td>0.0</td><td>0.0</td><td>null</td><td>&quot;BO&quot;</td><td>null</td><td>null</td></tr><tr><td>1</td><td>null</td><td>null</td><td>3134.0</td><td>0.0</td><td>0.0</td><td>0.0</td><td>0.0</td><td>0.0</td><td>0.0</td><td>0.0</td><td>null</td><td>null</td><td>null</td><td>null</td><td>null</td><td>null</td><td>null</td><td>null</td><td>null</td><td>null</td><td>null</td><td>0.0</td><td>0.0</td><td>0.0</td><td>0.0</td><td>0.0</td><td>0.0</td><td>0.0</td><td>&quot;0.0&quot;</td><td>3.0</td><td>0.0</td><td>0.0</td><td>0.0</td><td>0.0</td><td>0.0</td><td>0.0</td><td>&hellip;</td><td>null</td><td>null</td><td>null</td><td>null</td><td>null</td><td>null</td><td>null</td><td>null</td><td>null</td><td>0.0</td><td>0.0</td><td>0.0</td><td>null</td><td>&quot;OTHER&quot;</td><td>&quot;OTHER&quot;</td><td>null</td><td>null</td><td>null</td><td>null</td><td>null</td><td>null</td><td>18.0</td><td>0.0</td><td>0.0</td><td>null</td><td>&quot;a55475b1&quot;</td><td>null</td><td>0.0</td><td>0.0</td><td>null</td><td>null</td><td>0.0</td><td>0.0</td><td>null</td><td>&quot;BO&quot;</td><td>null</td><td>null</td></tr><tr><td>2</td><td>null</td><td>null</td><td>4937.0</td><td>0.0</td><td>0.0</td><td>0.0</td><td>0.0</td><td>0.0</td><td>0.0</td><td>0.0</td><td>null</td><td>null</td><td>null</td><td>null</td><td>null</td><td>null</td><td>null</td><td>null</td><td>null</td><td>null</td><td>null</td><td>0.0</td><td>0.0</td><td>0.0</td><td>0.0</td><td>0.0</td><td>0.0</td><td>0.0</td><td>null</td><td>0.0</td><td>0.0</td><td>0.0</td><td>0.0</td><td>0.0</td><td>0.0</td><td>0.0</td><td>&hellip;</td><td>null</td><td>null</td><td>null</td><td>null</td><td>null</td><td>null</td><td>null</td><td>null</td><td>null</td><td>0.0</td><td>0.0</td><td>0.0</td><td>false</td><td>&quot;OTHER&quot;</td><td>&quot;OTHER&quot;</td><td>null</td><td>null</td><td>null</td><td>null</td><td>null</td><td>null</td><td>36.0</td><td>0.0</td><td>0.0</td><td>null</td><td>&quot;a55475b1&quot;</td><td>null</td><td>0.0</td><td>0.0</td><td>null</td><td>null</td><td>0.0</td><td>0.0</td><td>null</td><td>&quot;BO&quot;</td><td>&quot;AL&quot;</td><td>null</td></tr><tr><td>3</td><td>null</td><td>null</td><td>4643.6</td><td>0.0</td><td>0.0</td><td>1.0</td><td>0.0</td><td>2.0</td><td>0.0</td><td>1.0</td><td>null</td><td>null</td><td>null</td><td>null</td><td>null</td><td>null</td><td>null</td><td>null</td><td>null</td><td>null</td><td>null</td><td>0.0</td><td>0.0</td><td>0.0</td><td>0.0</td><td>0.0</td><td>0.0</td><td>1.0</td><td>null</td><td>0.0</td><td>0.0</td><td>0.0</td><td>0.0</td><td>0.0</td><td>0.0</td><td>0.0</td><td>&hellip;</td><td>null</td><td>null</td><td>null</td><td>null</td><td>null</td><td>null</td><td>null</td><td>null</td><td>null</td><td>0.0</td><td>0.0</td><td>1.0</td><td>false</td><td>&quot;OTHER&quot;</td><td>&quot;OTHER&quot;</td><td>null</td><td>null</td><td>null</td><td>null</td><td>null</td><td>null</td><td>12.0</td><td>0.0</td><td>0.0</td><td>null</td><td>&quot;a55475b1&quot;</td><td>null</td><td>1.0</td><td>1.0</td><td>null</td><td>null</td><td>0.0</td><td>0.0</td><td>null</td><td>&quot;BO&quot;</td><td>&quot;AL&quot;</td><td>null</td></tr><tr><td>4</td><td>null</td><td>null</td><td>3390.2</td><td>0.0</td><td>0.0</td><td>1.0</td><td>0.0</td><td>0.0</td><td>0.0</td><td>1.0</td><td>null</td><td>null</td><td>null</td><td>null</td><td>null</td><td>null</td><td>null</td><td>null</td><td>null</td><td>null</td><td>null</td><td>0.0</td><td>0.0</td><td>0.0</td><td>0.0</td><td>0.0</td><td>0.0</td><td>0.0</td><td>null</td><td>0.0</td><td>0.0</td><td>0.0</td><td>0.0</td><td>0.0</td><td>0.0</td><td>0.0</td><td>&hellip;</td><td>null</td><td>null</td><td>null</td><td>null</td><td>null</td><td>null</td><td>null</td><td>null</td><td>null</td><td>0.0</td><td>0.0</td><td>0.0</td><td>false</td><td>&quot;OTHER&quot;</td><td>&quot;OTHER&quot;</td><td>null</td><td>null</td><td>null</td><td>null</td><td>null</td><td>null</td><td>24.0</td><td>0.0</td><td>0.0</td><td>null</td><td>&quot;a55475b1&quot;</td><td>null</td><td>0.0</td><td>0.0</td><td>null</td><td>null</td><td>0.0</td><td>0.0</td><td>null</td><td>&quot;BO&quot;</td><td>&quot;AL&quot;</td><td>null</td></tr></tbody></table></div>"
      ],
      "text/plain": [
       "shape: (5, 168)\n",
       "┌─────────┬────────────┬───────────┬───────────┬───┬───────────┬───────────┬───────────┬───────────┐\n",
       "│ case_id ┆ actualdpdt ┆ amtinstpa ┆ annuity_7 ┆ … ┆ totinstal ┆ twobodfil ┆ typesuite ┆ validfrom │\n",
       "│ ---     ┆ olerance_3 ┆ idbefduel ┆ 80A       ┆   ┆ last1m_45 ┆ ling_608L ┆ _864L     ┆ _1069D    │\n",
       "│ i64     ┆ 44P        ┆ 24m_41871 ┆ ---       ┆   ┆ 25188A    ┆ ---       ┆ ---       ┆ ---       │\n",
       "│         ┆ ---        ┆ 15A       ┆ f64       ┆   ┆ ---       ┆ str       ┆ str       ┆ str       │\n",
       "│         ┆ f64        ┆ ---       ┆           ┆   ┆ f64       ┆           ┆           ┆           │\n",
       "│         ┆            ┆ f64       ┆           ┆   ┆           ┆           ┆           ┆           │\n",
       "╞═════════╪════════════╪═══════════╪═══════════╪═══╪═══════════╪═══════════╪═══════════╪═══════════╡\n",
       "│ 0       ┆ null       ┆ null      ┆ 1917.6    ┆ … ┆ null      ┆ BO        ┆ null      ┆ null      │\n",
       "│ 1       ┆ null       ┆ null      ┆ 3134.0    ┆ … ┆ null      ┆ BO        ┆ null      ┆ null      │\n",
       "│ 2       ┆ null       ┆ null      ┆ 4937.0    ┆ … ┆ null      ┆ BO        ┆ AL        ┆ null      │\n",
       "│ 3       ┆ null       ┆ null      ┆ 4643.6    ┆ … ┆ null      ┆ BO        ┆ AL        ┆ null      │\n",
       "│ 4       ┆ null       ┆ null      ┆ 3390.2    ┆ … ┆ null      ┆ BO        ┆ AL        ┆ null      │\n",
       "└─────────┴────────────┴───────────┴───────────┴───┴───────────┴───────────┴───────────┴───────────┘"
      ]
     },
     "execution_count": 12,
     "metadata": {},
     "output_type": "execute_result"
    }
   ],
   "source": [
    "train_static.head()"
   ]
  },
  {
   "cell_type": "code",
   "execution_count": 13,
   "id": "24c84eb4",
   "metadata": {
    "execution": {
     "iopub.execute_input": "2024-05-22T16:45:34.744223Z",
     "iopub.status.busy": "2024-05-22T16:45:34.743854Z",
     "iopub.status.idle": "2024-05-22T16:45:34.758380Z",
     "shell.execute_reply": "2024-05-22T16:45:34.757312Z"
    },
    "papermill": {
     "duration": 0.043511,
     "end_time": "2024-05-22T16:45:34.760779",
     "exception": false,
     "start_time": "2024-05-22T16:45:34.717268",
     "status": "completed"
    },
    "tags": []
   },
   "outputs": [
    {
     "data": {
      "text/html": [
       "<div><style>\n",
       ".dataframe > thead > tr,\n",
       ".dataframe > tbody > tr {\n",
       "  text-align: right;\n",
       "  white-space: pre-wrap;\n",
       "}\n",
       "</style>\n",
       "<small>shape: (5, 53)</small><table border=\"1\" class=\"dataframe\"><thead><tr><th>case_id</th><th>assignmentdate_238D</th><th>assignmentdate_4527235D</th><th>assignmentdate_4955616D</th><th>birthdate_574D</th><th>contractssum_5085716L</th><th>dateofbirth_337D</th><th>dateofbirth_342D</th><th>days120_123L</th><th>days180_256L</th><th>days30_165L</th><th>days360_512L</th><th>days90_310L</th><th>description_5085714M</th><th>education_1103M</th><th>education_88M</th><th>firstquarter_103L</th><th>for3years_128L</th><th>for3years_504L</th><th>for3years_584L</th><th>formonth_118L</th><th>formonth_206L</th><th>formonth_535L</th><th>forquarter_1017L</th><th>forquarter_462L</th><th>forquarter_634L</th><th>fortoday_1092L</th><th>forweek_1077L</th><th>forweek_528L</th><th>forweek_601L</th><th>foryear_618L</th><th>foryear_818L</th><th>foryear_850L</th><th>fourthquarter_440L</th><th>maritalst_385M</th><th>maritalst_893M</th><th>numberofqueries_373L</th><th>pmtaverage_3A</th><th>pmtaverage_4527227A</th><th>pmtaverage_4955615A</th><th>pmtcount_4527229L</th><th>pmtcount_4955617L</th><th>pmtcount_693L</th><th>pmtscount_423L</th><th>pmtssum_45A</th><th>requesttype_4525192L</th><th>responsedate_1012D</th><th>responsedate_4527233D</th><th>responsedate_4917613D</th><th>riskassesment_302T</th><th>riskassesment_940T</th><th>secondquarter_766L</th><th>thirdquarter_1082L</th></tr><tr><td>i64</td><td>str</td><td>str</td><td>str</td><td>str</td><td>str</td><td>str</td><td>str</td><td>f64</td><td>f64</td><td>f64</td><td>f64</td><td>f64</td><td>str</td><td>str</td><td>str</td><td>f64</td><td>f64</td><td>f64</td><td>f64</td><td>f64</td><td>f64</td><td>f64</td><td>f64</td><td>f64</td><td>f64</td><td>f64</td><td>f64</td><td>f64</td><td>f64</td><td>f64</td><td>f64</td><td>f64</td><td>f64</td><td>str</td><td>str</td><td>f64</td><td>f64</td><td>f64</td><td>f64</td><td>str</td><td>str</td><td>f64</td><td>f64</td><td>f64</td><td>str</td><td>str</td><td>str</td><td>str</td><td>str</td><td>f64</td><td>f64</td><td>f64</td></tr></thead><tbody><tr><td>357</td><td>null</td><td>null</td><td>null</td><td>&quot;1988-04-01&quot;</td><td>null</td><td>null</td><td>null</td><td>null</td><td>null</td><td>null</td><td>null</td><td>null</td><td>&quot;a55475b1&quot;</td><td>&quot;a55475b1&quot;</td><td>&quot;a55475b1&quot;</td><td>null</td><td>null</td><td>null</td><td>null</td><td>null</td><td>null</td><td>null</td><td>null</td><td>null</td><td>null</td><td>null</td><td>null</td><td>null</td><td>null</td><td>null</td><td>null</td><td>null</td><td>null</td><td>&quot;a55475b1&quot;</td><td>&quot;a55475b1&quot;</td><td>null</td><td>null</td><td>null</td><td>null</td><td>null</td><td>null</td><td>null</td><td>6.0</td><td>6301.4</td><td>null</td><td>&quot;2019-01-25&quot;</td><td>null</td><td>null</td><td>null</td><td>null</td><td>null</td><td>null</td></tr><tr><td>381</td><td>null</td><td>null</td><td>null</td><td>&quot;1973-11-01&quot;</td><td>null</td><td>null</td><td>null</td><td>null</td><td>null</td><td>null</td><td>null</td><td>null</td><td>&quot;a55475b1&quot;</td><td>&quot;a55475b1&quot;</td><td>&quot;a55475b1&quot;</td><td>null</td><td>null</td><td>null</td><td>null</td><td>null</td><td>null</td><td>null</td><td>null</td><td>null</td><td>null</td><td>null</td><td>null</td><td>null</td><td>null</td><td>null</td><td>null</td><td>null</td><td>null</td><td>&quot;a55475b1&quot;</td><td>&quot;a55475b1&quot;</td><td>null</td><td>null</td><td>null</td><td>null</td><td>null</td><td>null</td><td>null</td><td>6.0</td><td>4019.6</td><td>null</td><td>&quot;2019-01-25&quot;</td><td>null</td><td>null</td><td>null</td><td>null</td><td>null</td><td>null</td></tr><tr><td>388</td><td>null</td><td>null</td><td>null</td><td>&quot;1989-04-01&quot;</td><td>null</td><td>&quot;1989-04-01&quot;</td><td>null</td><td>6.0</td><td>8.0</td><td>2.0</td><td>10.0</td><td>4.0</td><td>&quot;a55475b1&quot;</td><td>&quot;a55475b1&quot;</td><td>&quot;a55475b1&quot;</td><td>2.0</td><td>null</td><td>null</td><td>null</td><td>null</td><td>null</td><td>null</td><td>null</td><td>null</td><td>null</td><td>null</td><td>null</td><td>null</td><td>null</td><td>null</td><td>null</td><td>null</td><td>6.0</td><td>&quot;a55475b1&quot;</td><td>&quot;a55475b1&quot;</td><td>10.0</td><td>null</td><td>null</td><td>null</td><td>null</td><td>null</td><td>null</td><td>6.0</td><td>14548.0</td><td>null</td><td>&quot;2019-01-28&quot;</td><td>null</td><td>null</td><td>null</td><td>null</td><td>3.0</td><td>5.0</td></tr><tr><td>405</td><td>null</td><td>null</td><td>null</td><td>&quot;1974-03-01&quot;</td><td>null</td><td>&quot;1974-03-01&quot;</td><td>null</td><td>0.0</td><td>0.0</td><td>0.0</td><td>1.0</td><td>0.0</td><td>&quot;a55475b1&quot;</td><td>&quot;a55475b1&quot;</td><td>&quot;a55475b1&quot;</td><td>0.0</td><td>null</td><td>null</td><td>null</td><td>null</td><td>null</td><td>null</td><td>null</td><td>null</td><td>null</td><td>null</td><td>null</td><td>null</td><td>null</td><td>null</td><td>null</td><td>null</td><td>4.0</td><td>&quot;a55475b1&quot;</td><td>&quot;a55475b1&quot;</td><td>1.0</td><td>null</td><td>null</td><td>null</td><td>null</td><td>null</td><td>null</td><td>6.0</td><td>10498.24</td><td>null</td><td>&quot;2019-01-21&quot;</td><td>null</td><td>null</td><td>null</td><td>null</td><td>2.0</td><td>0.0</td></tr><tr><td>409</td><td>null</td><td>null</td><td>null</td><td>&quot;1993-06-01&quot;</td><td>null</td><td>&quot;1993-06-01&quot;</td><td>null</td><td>2.0</td><td>3.0</td><td>0.0</td><td>3.0</td><td>1.0</td><td>&quot;a55475b1&quot;</td><td>&quot;717ddd49&quot;</td><td>&quot;a55475b1&quot;</td><td>4.0</td><td>null</td><td>null</td><td>null</td><td>null</td><td>null</td><td>null</td><td>null</td><td>null</td><td>null</td><td>null</td><td>null</td><td>null</td><td>null</td><td>null</td><td>null</td><td>null</td><td>1.0</td><td>&quot;a7fcb6e5&quot;</td><td>&quot;a55475b1&quot;</td><td>3.0</td><td>null</td><td>null</td><td>null</td><td>null</td><td>null</td><td>null</td><td>7.0</td><td>6344.8804</td><td>null</td><td>&quot;2019-01-21&quot;</td><td>null</td><td>null</td><td>null</td><td>null</td><td>0.0</td><td>4.0</td></tr></tbody></table></div>"
      ],
      "text/plain": [
       "shape: (5, 53)\n",
       "┌─────────┬────────────┬───────────┬───────────┬───┬───────────┬───────────┬───────────┬───────────┐\n",
       "│ case_id ┆ assignment ┆ assignmen ┆ assignmen ┆ … ┆ riskasses ┆ riskasses ┆ secondqua ┆ thirdquar │\n",
       "│ ---     ┆ date_238D  ┆ tdate_452 ┆ tdate_495 ┆   ┆ ment_302T ┆ ment_940T ┆ rter_766L ┆ ter_1082L │\n",
       "│ i64     ┆ ---        ┆ 7235D     ┆ 5616D     ┆   ┆ ---       ┆ ---       ┆ ---       ┆ ---       │\n",
       "│         ┆ str        ┆ ---       ┆ ---       ┆   ┆ str       ┆ f64       ┆ f64       ┆ f64       │\n",
       "│         ┆            ┆ str       ┆ str       ┆   ┆           ┆           ┆           ┆           │\n",
       "╞═════════╪════════════╪═══════════╪═══════════╪═══╪═══════════╪═══════════╪═══════════╪═══════════╡\n",
       "│ 357     ┆ null       ┆ null      ┆ null      ┆ … ┆ null      ┆ null      ┆ null      ┆ null      │\n",
       "│ 381     ┆ null       ┆ null      ┆ null      ┆ … ┆ null      ┆ null      ┆ null      ┆ null      │\n",
       "│ 388     ┆ null       ┆ null      ┆ null      ┆ … ┆ null      ┆ null      ┆ 3.0       ┆ 5.0       │\n",
       "│ 405     ┆ null       ┆ null      ┆ null      ┆ … ┆ null      ┆ null      ┆ 2.0       ┆ 0.0       │\n",
       "│ 409     ┆ null       ┆ null      ┆ null      ┆ … ┆ null      ┆ null      ┆ 0.0       ┆ 4.0       │\n",
       "└─────────┴────────────┴───────────┴───────────┴───┴───────────┴───────────┴───────────┴───────────┘"
      ]
     },
     "execution_count": 13,
     "metadata": {},
     "output_type": "execute_result"
    }
   ],
   "source": [
    "train_static_cb.head()"
   ]
  },
  {
   "cell_type": "code",
   "execution_count": 14,
   "id": "13748149",
   "metadata": {
    "execution": {
     "iopub.execute_input": "2024-05-22T16:45:34.813819Z",
     "iopub.status.busy": "2024-05-22T16:45:34.813426Z",
     "iopub.status.idle": "2024-05-22T16:45:34.826185Z",
     "shell.execute_reply": "2024-05-22T16:45:34.825122Z"
    },
    "papermill": {
     "duration": 0.041566,
     "end_time": "2024-05-22T16:45:34.828407",
     "exception": false,
     "start_time": "2024-05-22T16:45:34.786841",
     "status": "completed"
    },
    "tags": []
   },
   "outputs": [
    {
     "data": {
      "text/html": [
       "<div><style>\n",
       ".dataframe > thead > tr,\n",
       ".dataframe > tbody > tr {\n",
       "  text-align: right;\n",
       "  white-space: pre-wrap;\n",
       "}\n",
       "</style>\n",
       "<small>shape: (5, 37)</small><table border=\"1\" class=\"dataframe\"><thead><tr><th>case_id</th><th>birth_259D</th><th>birthdate_87D</th><th>childnum_185L</th><th>contaddr_district_15M</th><th>contaddr_matchlist_1032L</th><th>contaddr_smempladdr_334L</th><th>contaddr_zipcode_807M</th><th>education_927M</th><th>empl_employedfrom_271D</th><th>empl_employedtotal_800L</th><th>empl_industry_691L</th><th>empladdr_district_926M</th><th>empladdr_zipcode_114M</th><th>familystate_447L</th><th>gender_992L</th><th>housetype_905L</th><th>housingtype_772L</th><th>incometype_1044T</th><th>isreference_387L</th><th>language1_981M</th><th>mainoccupationinc_384A</th><th>maritalst_703L</th><th>num_group1</th><th>personindex_1023L</th><th>persontype_1072L</th><th>persontype_792L</th><th>registaddr_district_1083M</th><th>registaddr_zipcode_184M</th><th>relationshiptoclient_415T</th><th>relationshiptoclient_642T</th><th>remitter_829L</th><th>role_1084L</th><th>role_993L</th><th>safeguarantyflag_411L</th><th>sex_738L</th><th>type_25L</th></tr><tr><td>i64</td><td>str</td><td>str</td><td>f64</td><td>str</td><td>bool</td><td>bool</td><td>str</td><td>str</td><td>str</td><td>str</td><td>str</td><td>str</td><td>str</td><td>str</td><td>str</td><td>str</td><td>str</td><td>str</td><td>bool</td><td>str</td><td>f64</td><td>str</td><td>i64</td><td>f64</td><td>f64</td><td>f64</td><td>str</td><td>str</td><td>str</td><td>str</td><td>bool</td><td>str</td><td>str</td><td>bool</td><td>str</td><td>str</td></tr></thead><tbody><tr><td>0</td><td>&quot;1986-07-01&quot;</td><td>null</td><td>null</td><td>&quot;P88_18_84&quot;</td><td>false</td><td>false</td><td>&quot;P167_100_165&quot;</td><td>&quot;P97_36_170&quot;</td><td>&quot;2017-09-15&quot;</td><td>&quot;MORE_FIVE&quot;</td><td>&quot;OTHER&quot;</td><td>&quot;P142_57_166&quot;</td><td>&quot;P167_100_165&quot;</td><td>&quot;MARRIED&quot;</td><td>null</td><td>null</td><td>null</td><td>&quot;SALARIED_GOVT&quot;</td><td>null</td><td>&quot;P10_39_147&quot;</td><td>10800.0</td><td>null</td><td>0</td><td>0.0</td><td>1.0</td><td>1.0</td><td>&quot;P88_18_84&quot;</td><td>&quot;P167_100_165&quot;</td><td>null</td><td>null</td><td>null</td><td>&quot;CL&quot;</td><td>null</td><td>true</td><td>&quot;F&quot;</td><td>&quot;PRIMARY_MOBILE…</td></tr><tr><td>0</td><td>null</td><td>null</td><td>null</td><td>&quot;a55475b1&quot;</td><td>null</td><td>null</td><td>&quot;a55475b1&quot;</td><td>&quot;a55475b1&quot;</td><td>null</td><td>null</td><td>null</td><td>&quot;a55475b1&quot;</td><td>&quot;a55475b1&quot;</td><td>null</td><td>null</td><td>null</td><td>null</td><td>null</td><td>null</td><td>&quot;a55475b1&quot;</td><td>null</td><td>null</td><td>1</td><td>1.0</td><td>1.0</td><td>4.0</td><td>&quot;a55475b1&quot;</td><td>&quot;a55475b1&quot;</td><td>&quot;SPOUSE&quot;</td><td>null</td><td>false</td><td>&quot;EM&quot;</td><td>null</td><td>null</td><td>null</td><td>&quot;PHONE&quot;</td></tr><tr><td>0</td><td>null</td><td>null</td><td>null</td><td>&quot;a55475b1&quot;</td><td>null</td><td>null</td><td>&quot;a55475b1&quot;</td><td>&quot;a55475b1&quot;</td><td>null</td><td>null</td><td>null</td><td>&quot;a55475b1&quot;</td><td>&quot;a55475b1&quot;</td><td>null</td><td>null</td><td>null</td><td>null</td><td>null</td><td>null</td><td>&quot;a55475b1&quot;</td><td>null</td><td>null</td><td>2</td><td>2.0</td><td>4.0</td><td>5.0</td><td>&quot;a55475b1&quot;</td><td>&quot;a55475b1&quot;</td><td>&quot;COLLEAGUE&quot;</td><td>&quot;SPOUSE&quot;</td><td>false</td><td>&quot;PE&quot;</td><td>null</td><td>null</td><td>null</td><td>&quot;PHONE&quot;</td></tr><tr><td>0</td><td>null</td><td>null</td><td>null</td><td>&quot;a55475b1&quot;</td><td>null</td><td>null</td><td>&quot;a55475b1&quot;</td><td>&quot;a55475b1&quot;</td><td>null</td><td>null</td><td>null</td><td>&quot;a55475b1&quot;</td><td>&quot;a55475b1&quot;</td><td>null</td><td>null</td><td>null</td><td>null</td><td>null</td><td>null</td><td>&quot;a55475b1&quot;</td><td>null</td><td>null</td><td>3</td><td>null</td><td>5.0</td><td>null</td><td>&quot;a55475b1&quot;</td><td>&quot;a55475b1&quot;</td><td>null</td><td>&quot;COLLEAGUE&quot;</td><td>null</td><td>&quot;PE&quot;</td><td>null</td><td>null</td><td>null</td><td>&quot;PHONE&quot;</td></tr><tr><td>1</td><td>&quot;1957-08-01&quot;</td><td>null</td><td>null</td><td>&quot;P103_93_94&quot;</td><td>false</td><td>false</td><td>&quot;P176_37_166&quot;</td><td>&quot;P97_36_170&quot;</td><td>&quot;2008-10-29&quot;</td><td>&quot;MORE_FIVE&quot;</td><td>&quot;OTHER&quot;</td><td>&quot;P49_46_174&quot;</td><td>&quot;P160_59_140&quot;</td><td>&quot;DIVORCED&quot;</td><td>null</td><td>null</td><td>null</td><td>&quot;SALARIED_GOVT&quot;</td><td>null</td><td>&quot;P10_39_147&quot;</td><td>10000.0</td><td>null</td><td>0</td><td>0.0</td><td>1.0</td><td>1.0</td><td>&quot;P103_93_94&quot;</td><td>&quot;P176_37_166&quot;</td><td>null</td><td>null</td><td>null</td><td>&quot;CL&quot;</td><td>null</td><td>true</td><td>&quot;M&quot;</td><td>&quot;PRIMARY_MOBILE…</td></tr></tbody></table></div>"
      ],
      "text/plain": [
       "shape: (5, 37)\n",
       "┌─────────┬────────────┬────────────┬───────────┬───┬───────────┬───────────┬──────────┬───────────┐\n",
       "│ case_id ┆ birth_259D ┆ birthdate_ ┆ childnum_ ┆ … ┆ role_993L ┆ safeguara ┆ sex_738L ┆ type_25L  │\n",
       "│ ---     ┆ ---        ┆ 87D        ┆ 185L      ┆   ┆ ---       ┆ ntyflag_4 ┆ ---      ┆ ---       │\n",
       "│ i64     ┆ str        ┆ ---        ┆ ---       ┆   ┆ str       ┆ 11L       ┆ str      ┆ str       │\n",
       "│         ┆            ┆ str        ┆ f64       ┆   ┆           ┆ ---       ┆          ┆           │\n",
       "│         ┆            ┆            ┆           ┆   ┆           ┆ bool      ┆          ┆           │\n",
       "╞═════════╪════════════╪════════════╪═══════════╪═══╪═══════════╪═══════════╪══════════╪═══════════╡\n",
       "│ 0       ┆ 1986-07-01 ┆ null       ┆ null      ┆ … ┆ null      ┆ true      ┆ F        ┆ PRIMARY_M │\n",
       "│         ┆            ┆            ┆           ┆   ┆           ┆           ┆          ┆ OBILE     │\n",
       "│ 0       ┆ null       ┆ null       ┆ null      ┆ … ┆ null      ┆ null      ┆ null     ┆ PHONE     │\n",
       "│ 0       ┆ null       ┆ null       ┆ null      ┆ … ┆ null      ┆ null      ┆ null     ┆ PHONE     │\n",
       "│ 0       ┆ null       ┆ null       ┆ null      ┆ … ┆ null      ┆ null      ┆ null     ┆ PHONE     │\n",
       "│ 1       ┆ 1957-08-01 ┆ null       ┆ null      ┆ … ┆ null      ┆ true      ┆ M        ┆ PRIMARY_M │\n",
       "│         ┆            ┆            ┆           ┆   ┆           ┆           ┆          ┆ OBILE     │\n",
       "└─────────┴────────────┴────────────┴───────────┴───┴───────────┴───────────┴──────────┴───────────┘"
      ]
     },
     "execution_count": 14,
     "metadata": {},
     "output_type": "execute_result"
    }
   ],
   "source": [
    "train_person_1.head()"
   ]
  },
  {
   "cell_type": "code",
   "execution_count": 15,
   "id": "b73e1563",
   "metadata": {
    "execution": {
     "iopub.execute_input": "2024-05-22T16:45:34.881937Z",
     "iopub.status.busy": "2024-05-22T16:45:34.881546Z",
     "iopub.status.idle": "2024-05-22T16:45:34.889549Z",
     "shell.execute_reply": "2024-05-22T16:45:34.888452Z"
    },
    "papermill": {
     "duration": 0.037456,
     "end_time": "2024-05-22T16:45:34.891746",
     "exception": false,
     "start_time": "2024-05-22T16:45:34.854290",
     "status": "completed"
    },
    "tags": []
   },
   "outputs": [
    {
     "data": {
      "text/html": [
       "<div><style>\n",
       ".dataframe > thead > tr,\n",
       ".dataframe > tbody > tr {\n",
       "  text-align: right;\n",
       "  white-space: pre-wrap;\n",
       "}\n",
       "</style>\n",
       "<small>shape: (5, 6)</small><table border=\"1\" class=\"dataframe\"><thead><tr><th>case_id</th><th>num_group1</th><th>num_group2</th><th>pmts_date_1107D</th><th>pmts_dpdvalue_108P</th><th>pmts_pmtsoverdue_635A</th></tr><tr><td>i64</td><td>i64</td><td>i64</td><td>str</td><td>f64</td><td>f64</td></tr></thead><tbody><tr><td>467</td><td>0</td><td>0</td><td>&quot;2018-11-15&quot;</td><td>null</td><td>null</td></tr><tr><td>467</td><td>0</td><td>1</td><td>&quot;2018-12-15&quot;</td><td>null</td><td>null</td></tr><tr><td>467</td><td>1</td><td>0</td><td>&quot;2018-12-15&quot;</td><td>null</td><td>null</td></tr><tr><td>467</td><td>2</td><td>0</td><td>&quot;2016-10-15&quot;</td><td>0.0</td><td>0.0</td></tr><tr><td>467</td><td>2</td><td>1</td><td>&quot;2016-11-15&quot;</td><td>0.0</td><td>0.0</td></tr></tbody></table></div>"
      ],
      "text/plain": [
       "shape: (5, 6)\n",
       "┌─────────┬────────────┬────────────┬─────────────────┬────────────────────┬───────────────────────┐\n",
       "│ case_id ┆ num_group1 ┆ num_group2 ┆ pmts_date_1107D ┆ pmts_dpdvalue_108P ┆ pmts_pmtsoverdue_635A │\n",
       "│ ---     ┆ ---        ┆ ---        ┆ ---             ┆ ---                ┆ ---                   │\n",
       "│ i64     ┆ i64        ┆ i64        ┆ str             ┆ f64                ┆ f64                   │\n",
       "╞═════════╪════════════╪════════════╪═════════════════╪════════════════════╪═══════════════════════╡\n",
       "│ 467     ┆ 0          ┆ 0          ┆ 2018-11-15      ┆ null               ┆ null                  │\n",
       "│ 467     ┆ 0          ┆ 1          ┆ 2018-12-15      ┆ null               ┆ null                  │\n",
       "│ 467     ┆ 1          ┆ 0          ┆ 2018-12-15      ┆ null               ┆ null                  │\n",
       "│ 467     ┆ 2          ┆ 0          ┆ 2016-10-15      ┆ 0.0                ┆ 0.0                   │\n",
       "│ 467     ┆ 2          ┆ 1          ┆ 2016-11-15      ┆ 0.0                ┆ 0.0                   │\n",
       "└─────────┴────────────┴────────────┴─────────────────┴────────────────────┴───────────────────────┘"
      ]
     },
     "execution_count": 15,
     "metadata": {},
     "output_type": "execute_result"
    }
   ],
   "source": [
    "train_credit_bureau_b_2.head()"
   ]
  },
  {
   "cell_type": "code",
   "execution_count": 16,
   "id": "9bccae46",
   "metadata": {
    "execution": {
     "iopub.execute_input": "2024-05-22T16:45:35.007008Z",
     "iopub.status.busy": "2024-05-22T16:45:35.006485Z",
     "iopub.status.idle": "2024-05-22T16:45:35.019298Z",
     "shell.execute_reply": "2024-05-22T16:45:35.018224Z"
    },
    "papermill": {
     "duration": 0.10433,
     "end_time": "2024-05-22T16:45:35.022229",
     "exception": false,
     "start_time": "2024-05-22T16:45:34.917899",
     "status": "completed"
    },
    "tags": []
   },
   "outputs": [
    {
     "data": {
      "text/html": [
       "<div><style>\n",
       ".dataframe > thead > tr,\n",
       ".dataframe > tbody > tr {\n",
       "  text-align: right;\n",
       "  white-space: pre-wrap;\n",
       "}\n",
       "</style>\n",
       "<small>shape: (5, 41)</small><table border=\"1\" class=\"dataframe\"><thead><tr><th>case_id</th><th>actualdpd_943P</th><th>annuity_853A</th><th>approvaldate_319D</th><th>byoccupationinc_3656910L</th><th>cancelreason_3545846M</th><th>childnum_21L</th><th>creationdate_885D</th><th>credacc_actualbalance_314A</th><th>credacc_credlmt_575A</th><th>credacc_maxhisbal_375A</th><th>credacc_minhisbal_90A</th><th>credacc_status_367L</th><th>credacc_transactions_402L</th><th>credamount_590A</th><th>credtype_587L</th><th>currdebt_94A</th><th>dateactivated_425D</th><th>district_544M</th><th>downpmt_134A</th><th>dtlastpmt_581D</th><th>dtlastpmtallstes_3545839D</th><th>education_1138M</th><th>employedfrom_700D</th><th>familystate_726L</th><th>firstnonzeroinstldate_307D</th><th>inittransactioncode_279L</th><th>isbidproduct_390L</th><th>isdebitcard_527L</th><th>mainoccupationinc_437A</th><th>maxdpdtolerance_577P</th><th>num_group1</th><th>outstandingdebt_522A</th><th>pmtnum_8L</th><th>postype_4733339M</th><th>profession_152M</th><th>rejectreason_755M</th><th>rejectreasonclient_4145042M</th><th>revolvingaccount_394A</th><th>status_219L</th><th>tenor_203L</th></tr><tr><td>i64</td><td>f64</td><td>f64</td><td>str</td><td>f64</td><td>str</td><td>f64</td><td>str</td><td>f64</td><td>f64</td><td>f64</td><td>f64</td><td>str</td><td>f64</td><td>f64</td><td>str</td><td>f64</td><td>str</td><td>str</td><td>f64</td><td>str</td><td>str</td><td>str</td><td>str</td><td>str</td><td>str</td><td>str</td><td>bool</td><td>bool</td><td>f64</td><td>f64</td><td>i64</td><td>f64</td><td>f64</td><td>str</td><td>str</td><td>str</td><td>str</td><td>f64</td><td>str</td><td>f64</td></tr></thead><tbody><tr><td>2</td><td>0.0</td><td>640.2</td><td>null</td><td>null</td><td>&quot;a55475b1&quot;</td><td>0.0</td><td>&quot;2013-04-03&quot;</td><td>null</td><td>0.0</td><td>null</td><td>null</td><td>null</td><td>null</td><td>10000.0</td><td>&quot;CAL&quot;</td><td>null</td><td>null</td><td>&quot;P136_108_173&quot;</td><td>0.0</td><td>null</td><td>null</td><td>&quot;P97_36_170&quot;</td><td>&quot;2010-02-15&quot;</td><td>&quot;SINGLE&quot;</td><td>&quot;2013-05-04&quot;</td><td>&quot;CASH&quot;</td><td>false</td><td>null</td><td>8200.0</td><td>null</td><td>0</td><td>null</td><td>24.0</td><td>&quot;a55475b1&quot;</td><td>&quot;a55475b1&quot;</td><td>&quot;a55475b1&quot;</td><td>&quot;a55475b1&quot;</td><td>null</td><td>&quot;D&quot;</td><td>24.0</td></tr><tr><td>2</td><td>0.0</td><td>1682.4</td><td>null</td><td>null</td><td>&quot;a55475b1&quot;</td><td>0.0</td><td>&quot;2013-04-03&quot;</td><td>null</td><td>0.0</td><td>null</td><td>null</td><td>null</td><td>null</td><td>16000.0</td><td>&quot;CAL&quot;</td><td>null</td><td>null</td><td>&quot;P136_108_173&quot;</td><td>0.0</td><td>null</td><td>null</td><td>&quot;P97_36_170&quot;</td><td>&quot;2010-02-15&quot;</td><td>&quot;SINGLE&quot;</td><td>&quot;2013-05-04&quot;</td><td>&quot;CASH&quot;</td><td>false</td><td>null</td><td>8200.0</td><td>null</td><td>1</td><td>null</td><td>12.0</td><td>&quot;a55475b1&quot;</td><td>&quot;a55475b1&quot;</td><td>&quot;a55475b1&quot;</td><td>&quot;a55475b1&quot;</td><td>null</td><td>&quot;D&quot;</td><td>12.0</td></tr><tr><td>3</td><td>0.0</td><td>6140.0</td><td>null</td><td>null</td><td>&quot;P94_109_143&quot;</td><td>null</td><td>&quot;2019-01-07&quot;</td><td>null</td><td>0.0</td><td>null</td><td>null</td><td>null</td><td>null</td><td>59999.8</td><td>&quot;CAL&quot;</td><td>null</td><td>null</td><td>&quot;P131_33_167&quot;</td><td>0.0</td><td>null</td><td>null</td><td>&quot;P97_36_170&quot;</td><td>&quot;2018-05-15&quot;</td><td>&quot;MARRIED&quot;</td><td>&quot;2019-02-07&quot;</td><td>&quot;CASH&quot;</td><td>false</td><td>null</td><td>11000.0</td><td>null</td><td>0</td><td>null</td><td>12.0</td><td>&quot;a55475b1&quot;</td><td>&quot;a55475b1&quot;</td><td>&quot;P94_109_143&quot;</td><td>&quot;a55475b1&quot;</td><td>null</td><td>&quot;D&quot;</td><td>12.0</td></tr><tr><td>4</td><td>0.0</td><td>2556.6</td><td>null</td><td>null</td><td>&quot;P24_27_36&quot;</td><td>null</td><td>&quot;2019-01-08&quot;</td><td>null</td><td>0.0</td><td>null</td><td>null</td><td>null</td><td>null</td><td>40000.0</td><td>&quot;CAL&quot;</td><td>null</td><td>null</td><td>&quot;P194_82_174&quot;</td><td>0.0</td><td>null</td><td>null</td><td>&quot;a55475b1&quot;</td><td>null</td><td>null</td><td>&quot;2019-02-08&quot;</td><td>&quot;CASH&quot;</td><td>false</td><td>null</td><td>16000.0</td><td>null</td><td>0</td><td>null</td><td>24.0</td><td>&quot;a55475b1&quot;</td><td>&quot;a55475b1&quot;</td><td>&quot;a55475b1&quot;</td><td>&quot;a55475b1&quot;</td><td>null</td><td>&quot;T&quot;</td><td>24.0</td></tr><tr><td>5</td><td>0.0</td><td>null</td><td>null</td><td>null</td><td>&quot;P85_114_140&quot;</td><td>null</td><td>&quot;2019-01-16&quot;</td><td>null</td><td>null</td><td>null</td><td>null</td><td>null</td><td>null</td><td>null</td><td>null</td><td>null</td><td>null</td><td>&quot;P54_133_26&quot;</td><td>null</td><td>null</td><td>null</td><td>&quot;a55475b1&quot;</td><td>null</td><td>null</td><td>null</td><td>null</td><td>false</td><td>null</td><td>62000.0</td><td>null</td><td>0</td><td>null</td><td>null</td><td>&quot;a55475b1&quot;</td><td>&quot;a55475b1&quot;</td><td>&quot;a55475b1&quot;</td><td>&quot;a55475b1&quot;</td><td>null</td><td>&quot;T&quot;</td><td>null</td></tr></tbody></table></div>"
      ],
      "text/plain": [
       "shape: (5, 41)\n",
       "┌─────────┬────────────┬───────────┬───────────┬───┬───────────┬───────────┬───────────┬───────────┐\n",
       "│ case_id ┆ actualdpd_ ┆ annuity_8 ┆ approvald ┆ … ┆ rejectrea ┆ revolving ┆ status_21 ┆ tenor_203 │\n",
       "│ ---     ┆ 943P       ┆ 53A       ┆ ate_319D  ┆   ┆ sonclient ┆ account_3 ┆ 9L        ┆ L         │\n",
       "│ i64     ┆ ---        ┆ ---       ┆ ---       ┆   ┆ _4145042M ┆ 94A       ┆ ---       ┆ ---       │\n",
       "│         ┆ f64        ┆ f64       ┆ str       ┆   ┆ ---       ┆ ---       ┆ str       ┆ f64       │\n",
       "│         ┆            ┆           ┆           ┆   ┆ str       ┆ f64       ┆           ┆           │\n",
       "╞═════════╪════════════╪═══════════╪═══════════╪═══╪═══════════╪═══════════╪═══════════╪═══════════╡\n",
       "│ 2       ┆ 0.0        ┆ 640.2     ┆ null      ┆ … ┆ a55475b1  ┆ null      ┆ D         ┆ 24.0      │\n",
       "│ 2       ┆ 0.0        ┆ 1682.4    ┆ null      ┆ … ┆ a55475b1  ┆ null      ┆ D         ┆ 12.0      │\n",
       "│ 3       ┆ 0.0        ┆ 6140.0    ┆ null      ┆ … ┆ a55475b1  ┆ null      ┆ D         ┆ 12.0      │\n",
       "│ 4       ┆ 0.0        ┆ 2556.6    ┆ null      ┆ … ┆ a55475b1  ┆ null      ┆ T         ┆ 24.0      │\n",
       "│ 5       ┆ 0.0        ┆ null      ┆ null      ┆ … ┆ a55475b1  ┆ null      ┆ T         ┆ null      │\n",
       "└─────────┴────────────┴───────────┴───────────┴───┴───────────┴───────────┴───────────┴───────────┘"
      ]
     },
     "execution_count": 16,
     "metadata": {},
     "output_type": "execute_result"
    }
   ],
   "source": [
    "applprev_1.head()"
   ]
  },
  {
   "cell_type": "code",
   "execution_count": 17,
   "id": "46a257d2",
   "metadata": {
    "execution": {
     "iopub.execute_input": "2024-05-22T16:45:35.077170Z",
     "iopub.status.busy": "2024-05-22T16:45:35.076172Z",
     "iopub.status.idle": "2024-05-22T16:45:35.084672Z",
     "shell.execute_reply": "2024-05-22T16:45:35.083581Z"
    },
    "papermill": {
     "duration": 0.038688,
     "end_time": "2024-05-22T16:45:35.087205",
     "exception": false,
     "start_time": "2024-05-22T16:45:35.048517",
     "status": "completed"
    },
    "scrolled": true,
    "tags": []
   },
   "outputs": [
    {
     "data": {
      "text/html": [
       "<div><style>\n",
       ".dataframe > thead > tr,\n",
       ".dataframe > tbody > tr {\n",
       "  text-align: right;\n",
       "  white-space: pre-wrap;\n",
       "}\n",
       "</style>\n",
       "<small>shape: (5, 7)</small><table border=\"1\" class=\"dataframe\"><thead><tr><th>case_id</th><th>amtdebitincoming_4809443A</th><th>amtdebitoutgoing_4809440A</th><th>amtdepositbalance_4809441A</th><th>amtdepositincoming_4809444A</th><th>amtdepositoutgoing_4809442A</th><th>num_group1</th></tr><tr><td>i64</td><td>f64</td><td>f64</td><td>f64</td><td>f64</td><td>f64</td><td>i64</td></tr></thead><tbody><tr><td>43801</td><td>12466.601</td><td>12291.2</td><td>914.2</td><td>0.0</td><td>304.80002</td><td>0</td></tr><tr><td>43991</td><td>3333.4001</td><td>3273.4001</td><td>0.0</td><td>0.0</td><td>0.0</td><td>0</td></tr><tr><td>44001</td><td>10000.0</td><td>10000.0</td><td>0.0</td><td>0.0</td><td>0.0</td><td>0</td></tr><tr><td>44053</td><td>0.0</td><td>0.0</td><td>2586.4001</td><td>0.0</td><td>88.8</td><td>0</td></tr><tr><td>44130</td><td>63.8</td><td>60.8</td><td>0.0</td><td>0.0</td><td>0.0</td><td>0</td></tr></tbody></table></div>"
      ],
      "text/plain": [
       "shape: (5, 7)\n",
       "┌─────────┬───────────────┬──────────────┬──────────────┬──────────────┬──────────────┬────────────┐\n",
       "│ case_id ┆ amtdebitincom ┆ amtdebitoutg ┆ amtdepositba ┆ amtdepositin ┆ amtdepositou ┆ num_group1 │\n",
       "│ ---     ┆ ing_4809443A  ┆ oing_4809440 ┆ lance_480944 ┆ coming_48094 ┆ tgoing_48094 ┆ ---        │\n",
       "│ i64     ┆ ---           ┆ A            ┆ 1A           ┆ 44A          ┆ 42A          ┆ i64        │\n",
       "│         ┆ f64           ┆ ---          ┆ ---          ┆ ---          ┆ ---          ┆            │\n",
       "│         ┆               ┆ f64          ┆ f64          ┆ f64          ┆ f64          ┆            │\n",
       "╞═════════╪═══════════════╪══════════════╪══════════════╪══════════════╪══════════════╪════════════╡\n",
       "│ 43801   ┆ 12466.601     ┆ 12291.2      ┆ 914.2        ┆ 0.0          ┆ 304.80002    ┆ 0          │\n",
       "│ 43991   ┆ 3333.4001     ┆ 3273.4001    ┆ 0.0          ┆ 0.0          ┆ 0.0          ┆ 0          │\n",
       "│ 44001   ┆ 10000.0       ┆ 10000.0      ┆ 0.0          ┆ 0.0          ┆ 0.0          ┆ 0          │\n",
       "│ 44053   ┆ 0.0           ┆ 0.0          ┆ 2586.4001    ┆ 0.0          ┆ 88.8         ┆ 0          │\n",
       "│ 44130   ┆ 63.8          ┆ 60.8         ┆ 0.0          ┆ 0.0          ┆ 0.0          ┆ 0          │\n",
       "└─────────┴───────────────┴──────────────┴──────────────┴──────────────┴──────────────┴────────────┘"
      ]
     },
     "execution_count": 17,
     "metadata": {},
     "output_type": "execute_result"
    }
   ],
   "source": [
    "other_1.head()"
   ]
  },
  {
   "cell_type": "code",
   "execution_count": 18,
   "id": "a07ca6a6",
   "metadata": {
    "execution": {
     "iopub.execute_input": "2024-05-22T16:45:35.142940Z",
     "iopub.status.busy": "2024-05-22T16:45:35.142524Z",
     "iopub.status.idle": "2024-05-22T16:45:35.151059Z",
     "shell.execute_reply": "2024-05-22T16:45:35.149497Z"
    },
    "papermill": {
     "duration": 0.040242,
     "end_time": "2024-05-22T16:45:35.154060",
     "exception": false,
     "start_time": "2024-05-22T16:45:35.113818",
     "status": "completed"
    },
    "tags": []
   },
   "outputs": [
    {
     "data": {
      "text/html": [
       "<div><style>\n",
       ".dataframe > thead > tr,\n",
       ".dataframe > tbody > tr {\n",
       "  text-align: right;\n",
       "  white-space: pre-wrap;\n",
       "}\n",
       "</style>\n",
       "<small>shape: (5, 5)</small><table border=\"1\" class=\"dataframe\"><thead><tr><th>case_id</th><th>amount_4527230A</th><th>name_4527232M</th><th>num_group1</th><th>recorddate_4527225D</th></tr><tr><td>i64</td><td>f64</td><td>str</td><td>i64</td><td>str</td></tr></thead><tbody><tr><td>28631</td><td>711.0</td><td>&quot;f980a1ea&quot;</td><td>3</td><td>&quot;2019-09-13&quot;</td></tr><tr><td>28631</td><td>1946.0</td><td>&quot;f980a1ea&quot;</td><td>2</td><td>&quot;2019-09-13&quot;</td></tr><tr><td>28631</td><td>2600.0</td><td>&quot;f980a1ea&quot;</td><td>1</td><td>&quot;2019-09-13&quot;</td></tr><tr><td>28631</td><td>3616.4001</td><td>&quot;f980a1ea&quot;</td><td>0</td><td>&quot;2019-09-13&quot;</td></tr><tr><td>28632</td><td>400.0</td><td>&quot;5f9b74f5&quot;</td><td>6</td><td>&quot;2019-09-13&quot;</td></tr></tbody></table></div>"
      ],
      "text/plain": [
       "shape: (5, 5)\n",
       "┌─────────┬─────────────────┬───────────────┬────────────┬─────────────────────┐\n",
       "│ case_id ┆ amount_4527230A ┆ name_4527232M ┆ num_group1 ┆ recorddate_4527225D │\n",
       "│ ---     ┆ ---             ┆ ---           ┆ ---        ┆ ---                 │\n",
       "│ i64     ┆ f64             ┆ str           ┆ i64        ┆ str                 │\n",
       "╞═════════╪═════════════════╪═══════════════╪════════════╪═════════════════════╡\n",
       "│ 28631   ┆ 711.0           ┆ f980a1ea      ┆ 3          ┆ 2019-09-13          │\n",
       "│ 28631   ┆ 1946.0          ┆ f980a1ea      ┆ 2          ┆ 2019-09-13          │\n",
       "│ 28631   ┆ 2600.0          ┆ f980a1ea      ┆ 1          ┆ 2019-09-13          │\n",
       "│ 28631   ┆ 3616.4001       ┆ f980a1ea      ┆ 0          ┆ 2019-09-13          │\n",
       "│ 28632   ┆ 400.0           ┆ 5f9b74f5      ┆ 6          ┆ 2019-09-13          │\n",
       "└─────────┴─────────────────┴───────────────┴────────────┴─────────────────────┘"
      ]
     },
     "execution_count": 18,
     "metadata": {},
     "output_type": "execute_result"
    }
   ],
   "source": [
    "tax_registry_a_1.head()"
   ]
  },
  {
   "cell_type": "code",
   "execution_count": 19,
   "id": "ee809383",
   "metadata": {
    "execution": {
     "iopub.execute_input": "2024-05-22T16:45:35.211050Z",
     "iopub.status.busy": "2024-05-22T16:45:35.210605Z",
     "iopub.status.idle": "2024-05-22T16:45:35.218702Z",
     "shell.execute_reply": "2024-05-22T16:45:35.217647Z"
    },
    "papermill": {
     "duration": 0.03918,
     "end_time": "2024-05-22T16:45:35.221067",
     "exception": false,
     "start_time": "2024-05-22T16:45:35.181887",
     "status": "completed"
    },
    "tags": []
   },
   "outputs": [
    {
     "data": {
      "text/html": [
       "<div><style>\n",
       ".dataframe > thead > tr,\n",
       ".dataframe > tbody > tr {\n",
       "  text-align: right;\n",
       "  white-space: pre-wrap;\n",
       "}\n",
       "</style>\n",
       "<small>shape: (5, 5)</small><table border=\"1\" class=\"dataframe\"><thead><tr><th>case_id</th><th>amount_4917619A</th><th>deductiondate_4917603D</th><th>name_4917606M</th><th>num_group1</th></tr><tr><td>i64</td><td>f64</td><td>str</td><td>str</td><td>i64</td></tr></thead><tbody><tr><td>49435</td><td>6885.0</td><td>&quot;2019-10-16&quot;</td><td>&quot;6b730375&quot;</td><td>0</td></tr><tr><td>49435</td><td>6885.0</td><td>&quot;2019-10-16&quot;</td><td>&quot;6b730375&quot;</td><td>1</td></tr><tr><td>49435</td><td>6885.0</td><td>&quot;2019-10-16&quot;</td><td>&quot;6b730375&quot;</td><td>2</td></tr><tr><td>49435</td><td>6885.0</td><td>&quot;2019-10-16&quot;</td><td>&quot;6b730375&quot;</td><td>3</td></tr><tr><td>49435</td><td>6885.0</td><td>&quot;2019-10-16&quot;</td><td>&quot;6b730375&quot;</td><td>4</td></tr></tbody></table></div>"
      ],
      "text/plain": [
       "shape: (5, 5)\n",
       "┌─────────┬─────────────────┬────────────────────────┬───────────────┬────────────┐\n",
       "│ case_id ┆ amount_4917619A ┆ deductiondate_4917603D ┆ name_4917606M ┆ num_group1 │\n",
       "│ ---     ┆ ---             ┆ ---                    ┆ ---           ┆ ---        │\n",
       "│ i64     ┆ f64             ┆ str                    ┆ str           ┆ i64        │\n",
       "╞═════════╪═════════════════╪════════════════════════╪═══════════════╪════════════╡\n",
       "│ 49435   ┆ 6885.0          ┆ 2019-10-16             ┆ 6b730375      ┆ 0          │\n",
       "│ 49435   ┆ 6885.0          ┆ 2019-10-16             ┆ 6b730375      ┆ 1          │\n",
       "│ 49435   ┆ 6885.0          ┆ 2019-10-16             ┆ 6b730375      ┆ 2          │\n",
       "│ 49435   ┆ 6885.0          ┆ 2019-10-16             ┆ 6b730375      ┆ 3          │\n",
       "│ 49435   ┆ 6885.0          ┆ 2019-10-16             ┆ 6b730375      ┆ 4          │\n",
       "└─────────┴─────────────────┴────────────────────────┴───────────────┴────────────┘"
      ]
     },
     "execution_count": 19,
     "metadata": {},
     "output_type": "execute_result"
    }
   ],
   "source": [
    "tax_registry_b_1.head()"
   ]
  },
  {
   "cell_type": "code",
   "execution_count": 20,
   "id": "f4cda2eb",
   "metadata": {
    "execution": {
     "iopub.execute_input": "2024-05-22T16:45:35.278015Z",
     "iopub.status.busy": "2024-05-22T16:45:35.277456Z",
     "iopub.status.idle": "2024-05-22T16:45:35.285342Z",
     "shell.execute_reply": "2024-05-22T16:45:35.284351Z"
    },
    "papermill": {
     "duration": 0.039495,
     "end_time": "2024-05-22T16:45:35.287795",
     "exception": false,
     "start_time": "2024-05-22T16:45:35.248300",
     "status": "completed"
    },
    "tags": []
   },
   "outputs": [
    {
     "data": {
      "text/html": [
       "<div><style>\n",
       ".dataframe > thead > tr,\n",
       ".dataframe > tbody > tr {\n",
       "  text-align: right;\n",
       "  white-space: pre-wrap;\n",
       "}\n",
       "</style>\n",
       "<small>shape: (5, 5)</small><table border=\"1\" class=\"dataframe\"><thead><tr><th>case_id</th><th>employername_160M</th><th>num_group1</th><th>pmtamount_36A</th><th>processingdate_168D</th></tr><tr><td>i64</td><td>str</td><td>i64</td><td>f64</td><td>str</td></tr></thead><tbody><tr><td>357</td><td>&quot;c91b12ff&quot;</td><td>0</td><td>1200.0</td><td>&quot;2019-01-04&quot;</td></tr><tr><td>357</td><td>&quot;c91b12ff&quot;</td><td>1</td><td>1200.0</td><td>&quot;2018-11-28&quot;</td></tr><tr><td>357</td><td>&quot;c91b12ff&quot;</td><td>2</td><td>972.8</td><td>&quot;2018-11-01&quot;</td></tr><tr><td>357</td><td>&quot;c91b12ff&quot;</td><td>3</td><td>628.60004</td><td>&quot;2018-10-08&quot;</td></tr><tr><td>357</td><td>&quot;c91b12ff&quot;</td><td>4</td><td>1200.0</td><td>&quot;2018-09-10&quot;</td></tr></tbody></table></div>"
      ],
      "text/plain": [
       "shape: (5, 5)\n",
       "┌─────────┬───────────────────┬────────────┬───────────────┬─────────────────────┐\n",
       "│ case_id ┆ employername_160M ┆ num_group1 ┆ pmtamount_36A ┆ processingdate_168D │\n",
       "│ ---     ┆ ---               ┆ ---        ┆ ---           ┆ ---                 │\n",
       "│ i64     ┆ str               ┆ i64        ┆ f64           ┆ str                 │\n",
       "╞═════════╪═══════════════════╪════════════╪═══════════════╪═════════════════════╡\n",
       "│ 357     ┆ c91b12ff          ┆ 0          ┆ 1200.0        ┆ 2019-01-04          │\n",
       "│ 357     ┆ c91b12ff          ┆ 1          ┆ 1200.0        ┆ 2018-11-28          │\n",
       "│ 357     ┆ c91b12ff          ┆ 2          ┆ 972.8         ┆ 2018-11-01          │\n",
       "│ 357     ┆ c91b12ff          ┆ 3          ┆ 628.60004     ┆ 2018-10-08          │\n",
       "│ 357     ┆ c91b12ff          ┆ 4          ┆ 1200.0        ┆ 2018-09-10          │\n",
       "└─────────┴───────────────────┴────────────┴───────────────┴─────────────────────┘"
      ]
     },
     "execution_count": 20,
     "metadata": {},
     "output_type": "execute_result"
    }
   ],
   "source": [
    "tax_registry_c_1.head()"
   ]
  },
  {
   "cell_type": "code",
   "execution_count": 21,
   "id": "3f5e43fa",
   "metadata": {
    "execution": {
     "iopub.execute_input": "2024-05-22T16:45:35.345632Z",
     "iopub.status.busy": "2024-05-22T16:45:35.345283Z",
     "iopub.status.idle": "2024-05-22T16:45:35.358501Z",
     "shell.execute_reply": "2024-05-22T16:45:35.357504Z"
    },
    "papermill": {
     "duration": 0.044539,
     "end_time": "2024-05-22T16:45:35.360980",
     "exception": false,
     "start_time": "2024-05-22T16:45:35.316441",
     "status": "completed"
    },
    "tags": []
   },
   "outputs": [
    {
     "data": {
      "text/html": [
       "<div><style>\n",
       ".dataframe > thead > tr,\n",
       ".dataframe > tbody > tr {\n",
       "  text-align: right;\n",
       "  white-space: pre-wrap;\n",
       "}\n",
       "</style>\n",
       "<small>shape: (5, 45)</small><table border=\"1\" class=\"dataframe\"><thead><tr><th>case_id</th><th>amount_1115A</th><th>classificationofcontr_1114M</th><th>contractdate_551D</th><th>contractmaturitydate_151D</th><th>contractst_516M</th><th>contracttype_653M</th><th>credlmt_1052A</th><th>credlmt_228A</th><th>credlmt_3940954A</th><th>credor_3940957M</th><th>credquantity_1099L</th><th>credquantity_984L</th><th>debtpastduevalue_732A</th><th>debtvalue_227A</th><th>dpd_550P</th><th>dpd_733P</th><th>dpdmax_851P</th><th>dpdmaxdatemonth_804T</th><th>dpdmaxdateyear_742T</th><th>installmentamount_644A</th><th>installmentamount_833A</th><th>instlamount_892A</th><th>interesteffectiverate_369L</th><th>interestrateyearly_538L</th><th>lastupdate_260D</th><th>maxdebtpduevalodued_3940955A</th><th>num_group1</th><th>numberofinstls_810L</th><th>overdueamountmax_950A</th><th>overdueamountmaxdatemonth_494T</th><th>overdueamountmaxdateyear_432T</th><th>periodicityofpmts_997L</th><th>periodicityofpmts_997M</th><th>pmtdaysoverdue_1135P</th><th>pmtmethod_731M</th><th>pmtnumpending_403L</th><th>purposeofcred_722M</th><th>residualamount_1093A</th><th>residualamount_127A</th><th>residualamount_3940956A</th><th>subjectrole_326M</th><th>subjectrole_43M</th><th>totalamount_503A</th><th>totalamount_881A</th></tr><tr><td>i64</td><td>f64</td><td>str</td><td>str</td><td>str</td><td>str</td><td>str</td><td>f64</td><td>f64</td><td>f64</td><td>str</td><td>f64</td><td>f64</td><td>f64</td><td>f64</td><td>f64</td><td>f64</td><td>f64</td><td>f64</td><td>f64</td><td>f64</td><td>f64</td><td>f64</td><td>f64</td><td>f64</td><td>str</td><td>f64</td><td>i64</td><td>f64</td><td>f64</td><td>f64</td><td>f64</td><td>str</td><td>str</td><td>f64</td><td>str</td><td>f64</td><td>str</td><td>f64</td><td>f64</td><td>f64</td><td>str</td><td>str</td><td>f64</td><td>f64</td></tr></thead><tbody><tr><td>467</td><td>78000.0</td><td>&quot;ea6782cc&quot;</td><td>&quot;2016-10-25&quot;</td><td>&quot;2019-10-25&quot;</td><td>&quot;7241344e&quot;</td><td>&quot;4257cbed&quot;</td><td>null</td><td>null</td><td>null</td><td>&quot;c5a72b57&quot;</td><td>null</td><td>null</td><td>0.0</td><td>26571.969</td><td>null</td><td>null</td><td>0.0</td><td>11.0</td><td>2016.0</td><td>null</td><td>null</td><td>2898.76</td><td>null</td><td>null</td><td>&quot;2019-01-10&quot;</td><td>0.0</td><td>2</td><td>36.0</td><td>0.0</td><td>11.0</td><td>2016.0</td><td>null</td><td>&quot;a0b598e4&quot;</td><td>0.0</td><td>&quot;e914c86c&quot;</td><td>10.0</td><td>&quot;96a8fdfe&quot;</td><td>null</td><td>null</td><td>null</td><td>&quot;a55475b1&quot;</td><td>&quot;a55475b1&quot;</td><td>null</td><td>null</td></tr><tr><td>467</td><td>null</td><td>&quot;ea6782cc&quot;</td><td>&quot;2011-06-15&quot;</td><td>&quot;2031-06-13&quot;</td><td>&quot;7241344e&quot;</td><td>&quot;724be82a&quot;</td><td>3e6</td><td>10000.0</td><td>3e6</td><td>&quot;P164_34_168&quot;</td><td>2.0</td><td>1.0</td><td>null</td><td>null</td><td>0.0</td><td>0.0</td><td>null</td><td>null</td><td>null</td><td>0.0</td><td>0.0</td><td>null</td><td>null</td><td>null</td><td>&quot;2019-01-20&quot;</td><td>null</td><td>0</td><td>null</td><td>null</td><td>null</td><td>null</td><td>null</td><td>&quot;a55475b1&quot;</td><td>null</td><td>&quot;a55475b1&quot;</td><td>null</td><td>&quot;96a8fdfe&quot;</td><td>0.0</td><td>0.0</td><td>null</td><td>&quot;fa4f56f1&quot;</td><td>&quot;ab3c25cf&quot;</td><td>3e6</td><td>10000.0</td></tr><tr><td>467</td><td>null</td><td>&quot;ea6782cc&quot;</td><td>&quot;2019-01-04&quot;</td><td>&quot;2021-08-04&quot;</td><td>&quot;7241344e&quot;</td><td>&quot;724be82a&quot;</td><td>null</td><td>null</td><td>130365.0</td><td>&quot;P164_34_168&quot;</td><td>1.0</td><td>2.0</td><td>null</td><td>null</td><td>0.0</td><td>0.0</td><td>null</td><td>null</td><td>null</td><td>0.0</td><td>26571.969</td><td>null</td><td>null</td><td>null</td><td>&quot;2019-01-20&quot;</td><td>null</td><td>1</td><td>null</td><td>null</td><td>null</td><td>null</td><td>null</td><td>&quot;a55475b1&quot;</td><td>null</td><td>&quot;a55475b1&quot;</td><td>null</td><td>&quot;96a8fdfe&quot;</td><td>null</td><td>null</td><td>null</td><td>&quot;ab3c25cf&quot;</td><td>&quot;ab3c25cf&quot;</td><td>78000.0</td><td>960000.0</td></tr><tr><td>1445</td><td>12000.0</td><td>&quot;ea6782cc&quot;</td><td>&quot;2018-12-31&quot;</td><td>&quot;2019-01-29&quot;</td><td>&quot;7241344e&quot;</td><td>&quot;4257cbed&quot;</td><td>null</td><td>null</td><td>null</td><td>&quot;0aebc0bb&quot;</td><td>null</td><td>null</td><td>0.0</td><td>19066.64</td><td>null</td><td>null</td><td>0.0</td><td>1.0</td><td>2019.0</td><td>null</td><td>null</td><td>19571.412</td><td>null</td><td>null</td><td>&quot;2019-01-27&quot;</td><td>0.0</td><td>2</td><td>1.0</td><td>0.0</td><td>1.0</td><td>2019.0</td><td>null</td><td>&quot;d479a207&quot;</td><td>0.0</td><td>&quot;dbcbe8f8&quot;</td><td>1.0</td><td>&quot;96a8fdfe&quot;</td><td>null</td><td>null</td><td>null</td><td>&quot;a55475b1&quot;</td><td>&quot;a55475b1&quot;</td><td>null</td><td>null</td></tr><tr><td>1445</td><td>31400.0</td><td>&quot;01f63ac8&quot;</td><td>&quot;2018-07-25&quot;</td><td>&quot;2019-12-25&quot;</td><td>&quot;7241344e&quot;</td><td>&quot;4257cbed&quot;</td><td>null</td><td>null</td><td>null</td><td>&quot;50babcd4&quot;</td><td>null</td><td>null</td><td>0.0</td><td>23390.16</td><td>null</td><td>null</td><td>0.0</td><td>8.0</td><td>2018.0</td><td>null</td><td>null</td><td>2124.142</td><td>null</td><td>null</td><td>&quot;2019-01-28&quot;</td><td>0.0</td><td>3</td><td>17.0</td><td>0.0</td><td>8.0</td><td>2018.0</td><td>null</td><td>&quot;a0b598e4&quot;</td><td>0.0</td><td>&quot;dbcbe8f8&quot;</td><td>12.0</td><td>&quot;60c73645&quot;</td><td>null</td><td>null</td><td>null</td><td>&quot;a55475b1&quot;</td><td>&quot;a55475b1&quot;</td><td>null</td><td>null</td></tr></tbody></table></div>"
      ],
      "text/plain": [
       "shape: (5, 45)\n",
       "┌─────────┬────────────┬───────────┬───────────┬───┬───────────┬───────────┬───────────┬───────────┐\n",
       "│ case_id ┆ amount_111 ┆ classific ┆ contractd ┆ … ┆ subjectro ┆ subjectro ┆ totalamou ┆ totalamou │\n",
       "│ ---     ┆ 5A         ┆ ationofco ┆ ate_551D  ┆   ┆ le_326M   ┆ le_43M    ┆ nt_503A   ┆ nt_881A   │\n",
       "│ i64     ┆ ---        ┆ ntr_1114M ┆ ---       ┆   ┆ ---       ┆ ---       ┆ ---       ┆ ---       │\n",
       "│         ┆ f64        ┆ ---       ┆ str       ┆   ┆ str       ┆ str       ┆ f64       ┆ f64       │\n",
       "│         ┆            ┆ str       ┆           ┆   ┆           ┆           ┆           ┆           │\n",
       "╞═════════╪════════════╪═══════════╪═══════════╪═══╪═══════════╪═══════════╪═══════════╪═══════════╡\n",
       "│ 467     ┆ 78000.0    ┆ ea6782cc  ┆ 2016-10-2 ┆ … ┆ a55475b1  ┆ a55475b1  ┆ null      ┆ null      │\n",
       "│         ┆            ┆           ┆ 5         ┆   ┆           ┆           ┆           ┆           │\n",
       "│ 467     ┆ null       ┆ ea6782cc  ┆ 2011-06-1 ┆ … ┆ fa4f56f1  ┆ ab3c25cf  ┆ 3e6       ┆ 10000.0   │\n",
       "│         ┆            ┆           ┆ 5         ┆   ┆           ┆           ┆           ┆           │\n",
       "│ 467     ┆ null       ┆ ea6782cc  ┆ 2019-01-0 ┆ … ┆ ab3c25cf  ┆ ab3c25cf  ┆ 78000.0   ┆ 960000.0  │\n",
       "│         ┆            ┆           ┆ 4         ┆   ┆           ┆           ┆           ┆           │\n",
       "│ 1445    ┆ 12000.0    ┆ ea6782cc  ┆ 2018-12-3 ┆ … ┆ a55475b1  ┆ a55475b1  ┆ null      ┆ null      │\n",
       "│         ┆            ┆           ┆ 1         ┆   ┆           ┆           ┆           ┆           │\n",
       "│ 1445    ┆ 31400.0    ┆ 01f63ac8  ┆ 2018-07-2 ┆ … ┆ a55475b1  ┆ a55475b1  ┆ null      ┆ null      │\n",
       "│         ┆            ┆           ┆ 5         ┆   ┆           ┆           ┆           ┆           │\n",
       "└─────────┴────────────┴───────────┴───────────┴───┴───────────┴───────────┴───────────┴───────────┘"
      ]
     },
     "execution_count": 21,
     "metadata": {},
     "output_type": "execute_result"
    }
   ],
   "source": [
    "credit_bureau_b_1.head()"
   ]
  },
  {
   "cell_type": "code",
   "execution_count": 22,
   "id": "ee91a2bc",
   "metadata": {
    "execution": {
     "iopub.execute_input": "2024-05-22T16:45:35.418341Z",
     "iopub.status.busy": "2024-05-22T16:45:35.417510Z",
     "iopub.status.idle": "2024-05-22T16:45:35.426427Z",
     "shell.execute_reply": "2024-05-22T16:45:35.425215Z"
    },
    "papermill": {
     "duration": 0.040754,
     "end_time": "2024-05-22T16:45:35.429132",
     "exception": false,
     "start_time": "2024-05-22T16:45:35.388378",
     "status": "completed"
    },
    "tags": []
   },
   "outputs": [
    {
     "data": {
      "text/html": [
       "<div><style>\n",
       ".dataframe > thead > tr,\n",
       ".dataframe > tbody > tr {\n",
       "  text-align: right;\n",
       "  white-space: pre-wrap;\n",
       "}\n",
       "</style>\n",
       "<small>shape: (5, 5)</small><table border=\"1\" class=\"dataframe\"><thead><tr><th>case_id</th><th>amount_416A</th><th>contractenddate_991D</th><th>num_group1</th><th>openingdate_313D</th></tr><tr><td>i64</td><td>f64</td><td>str</td><td>i64</td><td>str</td></tr></thead><tbody><tr><td>225</td><td>0.0</td><td>null</td><td>0</td><td>&quot;2016-08-16&quot;</td></tr><tr><td>331</td><td>260.374</td><td>&quot;2018-03-18&quot;</td><td>0</td><td>&quot;2015-03-19&quot;</td></tr><tr><td>358</td><td>0.0</td><td>null</td><td>0</td><td>&quot;2014-09-02&quot;</td></tr><tr><td>390</td><td>203.602</td><td>&quot;2017-09-30&quot;</td><td>1</td><td>&quot;2015-10-01&quot;</td></tr><tr><td>390</td><td>223.68001</td><td>null</td><td>2</td><td>&quot;2016-06-08&quot;</td></tr></tbody></table></div>"
      ],
      "text/plain": [
       "shape: (5, 5)\n",
       "┌─────────┬─────────────┬──────────────────────┬────────────┬──────────────────┐\n",
       "│ case_id ┆ amount_416A ┆ contractenddate_991D ┆ num_group1 ┆ openingdate_313D │\n",
       "│ ---     ┆ ---         ┆ ---                  ┆ ---        ┆ ---              │\n",
       "│ i64     ┆ f64         ┆ str                  ┆ i64        ┆ str              │\n",
       "╞═════════╪═════════════╪══════════════════════╪════════════╪══════════════════╡\n",
       "│ 225     ┆ 0.0         ┆ null                 ┆ 0          ┆ 2016-08-16       │\n",
       "│ 331     ┆ 260.374     ┆ 2018-03-18           ┆ 0          ┆ 2015-03-19       │\n",
       "│ 358     ┆ 0.0         ┆ null                 ┆ 0          ┆ 2014-09-02       │\n",
       "│ 390     ┆ 203.602     ┆ 2017-09-30           ┆ 1          ┆ 2015-10-01       │\n",
       "│ 390     ┆ 223.68001   ┆ null                 ┆ 2          ┆ 2016-06-08       │\n",
       "└─────────┴─────────────┴──────────────────────┴────────────┴──────────────────┘"
      ]
     },
     "execution_count": 22,
     "metadata": {},
     "output_type": "execute_result"
    }
   ],
   "source": [
    "deposit_1.head()"
   ]
  },
  {
   "cell_type": "code",
   "execution_count": 23,
   "id": "eaee0f12",
   "metadata": {
    "execution": {
     "iopub.execute_input": "2024-05-22T16:45:35.487733Z",
     "iopub.status.busy": "2024-05-22T16:45:35.486739Z",
     "iopub.status.idle": "2024-05-22T16:45:35.499305Z",
     "shell.execute_reply": "2024-05-22T16:45:35.498146Z"
    },
    "papermill": {
     "duration": 0.044372,
     "end_time": "2024-05-22T16:45:35.501876",
     "exception": false,
     "start_time": "2024-05-22T16:45:35.457504",
     "status": "completed"
    },
    "tags": []
   },
   "outputs": [
    {
     "data": {
      "text/html": [
       "<div><style>\n",
       ".dataframe > thead > tr,\n",
       ".dataframe > tbody > tr {\n",
       "  text-align: right;\n",
       "  white-space: pre-wrap;\n",
       "}\n",
       "</style>\n",
       "<small>shape: (5, 37)</small><table border=\"1\" class=\"dataframe\"><thead><tr><th>case_id</th><th>birth_259D</th><th>birthdate_87D</th><th>childnum_185L</th><th>contaddr_district_15M</th><th>contaddr_matchlist_1032L</th><th>contaddr_smempladdr_334L</th><th>contaddr_zipcode_807M</th><th>education_927M</th><th>empl_employedfrom_271D</th><th>empl_employedtotal_800L</th><th>empl_industry_691L</th><th>empladdr_district_926M</th><th>empladdr_zipcode_114M</th><th>familystate_447L</th><th>gender_992L</th><th>housetype_905L</th><th>housingtype_772L</th><th>incometype_1044T</th><th>isreference_387L</th><th>language1_981M</th><th>mainoccupationinc_384A</th><th>maritalst_703L</th><th>num_group1</th><th>personindex_1023L</th><th>persontype_1072L</th><th>persontype_792L</th><th>registaddr_district_1083M</th><th>registaddr_zipcode_184M</th><th>relationshiptoclient_415T</th><th>relationshiptoclient_642T</th><th>remitter_829L</th><th>role_1084L</th><th>role_993L</th><th>safeguarantyflag_411L</th><th>sex_738L</th><th>type_25L</th></tr><tr><td>i64</td><td>str</td><td>str</td><td>f64</td><td>str</td><td>bool</td><td>bool</td><td>str</td><td>str</td><td>str</td><td>str</td><td>str</td><td>str</td><td>str</td><td>str</td><td>str</td><td>str</td><td>str</td><td>str</td><td>bool</td><td>str</td><td>f64</td><td>str</td><td>i64</td><td>f64</td><td>f64</td><td>f64</td><td>str</td><td>str</td><td>str</td><td>str</td><td>bool</td><td>str</td><td>str</td><td>bool</td><td>str</td><td>str</td></tr></thead><tbody><tr><td>0</td><td>&quot;1986-07-01&quot;</td><td>null</td><td>null</td><td>&quot;P88_18_84&quot;</td><td>false</td><td>false</td><td>&quot;P167_100_165&quot;</td><td>&quot;P97_36_170&quot;</td><td>&quot;2017-09-15&quot;</td><td>&quot;MORE_FIVE&quot;</td><td>&quot;OTHER&quot;</td><td>&quot;P142_57_166&quot;</td><td>&quot;P167_100_165&quot;</td><td>&quot;MARRIED&quot;</td><td>null</td><td>null</td><td>null</td><td>&quot;SALARIED_GOVT&quot;</td><td>null</td><td>&quot;P10_39_147&quot;</td><td>10800.0</td><td>null</td><td>0</td><td>0.0</td><td>1.0</td><td>1.0</td><td>&quot;P88_18_84&quot;</td><td>&quot;P167_100_165&quot;</td><td>null</td><td>null</td><td>null</td><td>&quot;CL&quot;</td><td>null</td><td>true</td><td>&quot;F&quot;</td><td>&quot;PRIMARY_MOBILE…</td></tr><tr><td>0</td><td>null</td><td>null</td><td>null</td><td>&quot;a55475b1&quot;</td><td>null</td><td>null</td><td>&quot;a55475b1&quot;</td><td>&quot;a55475b1&quot;</td><td>null</td><td>null</td><td>null</td><td>&quot;a55475b1&quot;</td><td>&quot;a55475b1&quot;</td><td>null</td><td>null</td><td>null</td><td>null</td><td>null</td><td>null</td><td>&quot;a55475b1&quot;</td><td>null</td><td>null</td><td>1</td><td>1.0</td><td>1.0</td><td>4.0</td><td>&quot;a55475b1&quot;</td><td>&quot;a55475b1&quot;</td><td>&quot;SPOUSE&quot;</td><td>null</td><td>false</td><td>&quot;EM&quot;</td><td>null</td><td>null</td><td>null</td><td>&quot;PHONE&quot;</td></tr><tr><td>0</td><td>null</td><td>null</td><td>null</td><td>&quot;a55475b1&quot;</td><td>null</td><td>null</td><td>&quot;a55475b1&quot;</td><td>&quot;a55475b1&quot;</td><td>null</td><td>null</td><td>null</td><td>&quot;a55475b1&quot;</td><td>&quot;a55475b1&quot;</td><td>null</td><td>null</td><td>null</td><td>null</td><td>null</td><td>null</td><td>&quot;a55475b1&quot;</td><td>null</td><td>null</td><td>2</td><td>2.0</td><td>4.0</td><td>5.0</td><td>&quot;a55475b1&quot;</td><td>&quot;a55475b1&quot;</td><td>&quot;COLLEAGUE&quot;</td><td>&quot;SPOUSE&quot;</td><td>false</td><td>&quot;PE&quot;</td><td>null</td><td>null</td><td>null</td><td>&quot;PHONE&quot;</td></tr><tr><td>0</td><td>null</td><td>null</td><td>null</td><td>&quot;a55475b1&quot;</td><td>null</td><td>null</td><td>&quot;a55475b1&quot;</td><td>&quot;a55475b1&quot;</td><td>null</td><td>null</td><td>null</td><td>&quot;a55475b1&quot;</td><td>&quot;a55475b1&quot;</td><td>null</td><td>null</td><td>null</td><td>null</td><td>null</td><td>null</td><td>&quot;a55475b1&quot;</td><td>null</td><td>null</td><td>3</td><td>null</td><td>5.0</td><td>null</td><td>&quot;a55475b1&quot;</td><td>&quot;a55475b1&quot;</td><td>null</td><td>&quot;COLLEAGUE&quot;</td><td>null</td><td>&quot;PE&quot;</td><td>null</td><td>null</td><td>null</td><td>&quot;PHONE&quot;</td></tr><tr><td>1</td><td>&quot;1957-08-01&quot;</td><td>null</td><td>null</td><td>&quot;P103_93_94&quot;</td><td>false</td><td>false</td><td>&quot;P176_37_166&quot;</td><td>&quot;P97_36_170&quot;</td><td>&quot;2008-10-29&quot;</td><td>&quot;MORE_FIVE&quot;</td><td>&quot;OTHER&quot;</td><td>&quot;P49_46_174&quot;</td><td>&quot;P160_59_140&quot;</td><td>&quot;DIVORCED&quot;</td><td>null</td><td>null</td><td>null</td><td>&quot;SALARIED_GOVT&quot;</td><td>null</td><td>&quot;P10_39_147&quot;</td><td>10000.0</td><td>null</td><td>0</td><td>0.0</td><td>1.0</td><td>1.0</td><td>&quot;P103_93_94&quot;</td><td>&quot;P176_37_166&quot;</td><td>null</td><td>null</td><td>null</td><td>&quot;CL&quot;</td><td>null</td><td>true</td><td>&quot;M&quot;</td><td>&quot;PRIMARY_MOBILE…</td></tr></tbody></table></div>"
      ],
      "text/plain": [
       "shape: (5, 37)\n",
       "┌─────────┬────────────┬────────────┬───────────┬───┬───────────┬───────────┬──────────┬───────────┐\n",
       "│ case_id ┆ birth_259D ┆ birthdate_ ┆ childnum_ ┆ … ┆ role_993L ┆ safeguara ┆ sex_738L ┆ type_25L  │\n",
       "│ ---     ┆ ---        ┆ 87D        ┆ 185L      ┆   ┆ ---       ┆ ntyflag_4 ┆ ---      ┆ ---       │\n",
       "│ i64     ┆ str        ┆ ---        ┆ ---       ┆   ┆ str       ┆ 11L       ┆ str      ┆ str       │\n",
       "│         ┆            ┆ str        ┆ f64       ┆   ┆           ┆ ---       ┆          ┆           │\n",
       "│         ┆            ┆            ┆           ┆   ┆           ┆ bool      ┆          ┆           │\n",
       "╞═════════╪════════════╪════════════╪═══════════╪═══╪═══════════╪═══════════╪══════════╪═══════════╡\n",
       "│ 0       ┆ 1986-07-01 ┆ null       ┆ null      ┆ … ┆ null      ┆ true      ┆ F        ┆ PRIMARY_M │\n",
       "│         ┆            ┆            ┆           ┆   ┆           ┆           ┆          ┆ OBILE     │\n",
       "│ 0       ┆ null       ┆ null       ┆ null      ┆ … ┆ null      ┆ null      ┆ null     ┆ PHONE     │\n",
       "│ 0       ┆ null       ┆ null       ┆ null      ┆ … ┆ null      ┆ null      ┆ null     ┆ PHONE     │\n",
       "│ 0       ┆ null       ┆ null       ┆ null      ┆ … ┆ null      ┆ null      ┆ null     ┆ PHONE     │\n",
       "│ 1       ┆ 1957-08-01 ┆ null       ┆ null      ┆ … ┆ null      ┆ true      ┆ M        ┆ PRIMARY_M │\n",
       "│         ┆            ┆            ┆           ┆   ┆           ┆           ┆          ┆ OBILE     │\n",
       "└─────────┴────────────┴────────────┴───────────┴───┴───────────┴───────────┴──────────┴───────────┘"
      ]
     },
     "execution_count": 23,
     "metadata": {},
     "output_type": "execute_result"
    }
   ],
   "source": [
    "person_1.head()"
   ]
  },
  {
   "cell_type": "code",
   "execution_count": 24,
   "id": "a2c6fd4b",
   "metadata": {
    "execution": {
     "iopub.execute_input": "2024-05-22T16:45:35.560450Z",
     "iopub.status.busy": "2024-05-22T16:45:35.559427Z",
     "iopub.status.idle": "2024-05-22T16:45:35.568325Z",
     "shell.execute_reply": "2024-05-22T16:45:35.566895Z"
    },
    "papermill": {
     "duration": 0.040728,
     "end_time": "2024-05-22T16:45:35.570827",
     "exception": false,
     "start_time": "2024-05-22T16:45:35.530099",
     "status": "completed"
    },
    "tags": []
   },
   "outputs": [
    {
     "data": {
      "text/html": [
       "<div><style>\n",
       ".dataframe > thead > tr,\n",
       ".dataframe > tbody > tr {\n",
       "  text-align: right;\n",
       "  white-space: pre-wrap;\n",
       "}\n",
       "</style>\n",
       "<small>shape: (5, 6)</small><table border=\"1\" class=\"dataframe\"><thead><tr><th>case_id</th><th>last180dayaveragebalance_704A</th><th>last180dayturnover_1134A</th><th>last30dayturnover_651A</th><th>num_group1</th><th>openingdate_857D</th></tr><tr><td>i64</td><td>f64</td><td>f64</td><td>f64</td><td>i64</td><td>str</td></tr></thead><tbody><tr><td>225</td><td>null</td><td>null</td><td>null</td><td>0</td><td>&quot;2016-08-16&quot;</td></tr><tr><td>331</td><td>null</td><td>null</td><td>null</td><td>0</td><td>&quot;2015-03-19&quot;</td></tr><tr><td>358</td><td>null</td><td>null</td><td>null</td><td>0</td><td>&quot;2014-09-02&quot;</td></tr><tr><td>390</td><td>null</td><td>null</td><td>null</td><td>0</td><td>&quot;2014-07-23&quot;</td></tr><tr><td>390</td><td>null</td><td>null</td><td>null</td><td>1</td><td>&quot;2015-10-01&quot;</td></tr></tbody></table></div>"
      ],
      "text/plain": [
       "shape: (5, 6)\n",
       "┌─────────┬──────────────────┬──────────────────┬──────────────────┬────────────┬──────────────────┐\n",
       "│ case_id ┆ last180dayaverag ┆ last180dayturnov ┆ last30dayturnove ┆ num_group1 ┆ openingdate_857D │\n",
       "│ ---     ┆ ebalance_704A    ┆ er_1134A         ┆ r_651A           ┆ ---        ┆ ---              │\n",
       "│ i64     ┆ ---              ┆ ---              ┆ ---              ┆ i64        ┆ str              │\n",
       "│         ┆ f64              ┆ f64              ┆ f64              ┆            ┆                  │\n",
       "╞═════════╪══════════════════╪══════════════════╪══════════════════╪════════════╪══════════════════╡\n",
       "│ 225     ┆ null             ┆ null             ┆ null             ┆ 0          ┆ 2016-08-16       │\n",
       "│ 331     ┆ null             ┆ null             ┆ null             ┆ 0          ┆ 2015-03-19       │\n",
       "│ 358     ┆ null             ┆ null             ┆ null             ┆ 0          ┆ 2014-09-02       │\n",
       "│ 390     ┆ null             ┆ null             ┆ null             ┆ 0          ┆ 2014-07-23       │\n",
       "│ 390     ┆ null             ┆ null             ┆ null             ┆ 1          ┆ 2015-10-01       │\n",
       "└─────────┴──────────────────┴──────────────────┴──────────────────┴────────────┴──────────────────┘"
      ]
     },
     "execution_count": 24,
     "metadata": {},
     "output_type": "execute_result"
    }
   ],
   "source": [
    "debitcard_1.head()"
   ]
  },
  {
   "cell_type": "code",
   "execution_count": 25,
   "id": "937294b2",
   "metadata": {
    "execution": {
     "iopub.execute_input": "2024-05-22T16:45:35.629751Z",
     "iopub.status.busy": "2024-05-22T16:45:35.629369Z",
     "iopub.status.idle": "2024-05-22T16:45:35.637537Z",
     "shell.execute_reply": "2024-05-22T16:45:35.636474Z"
    },
    "papermill": {
     "duration": 0.040339,
     "end_time": "2024-05-22T16:45:35.639838",
     "exception": false,
     "start_time": "2024-05-22T16:45:35.599499",
     "status": "completed"
    },
    "tags": []
   },
   "outputs": [
    {
     "data": {
      "text/html": [
       "<div><style>\n",
       ".dataframe > thead > tr,\n",
       ".dataframe > tbody > tr {\n",
       "  text-align: right;\n",
       "  white-space: pre-wrap;\n",
       "}\n",
       "</style>\n",
       "<small>shape: (5, 6)</small><table border=\"1\" class=\"dataframe\"><thead><tr><th>case_id</th><th>cacccardblochreas_147M</th><th>conts_type_509L</th><th>credacc_cards_status_52L</th><th>num_group1</th><th>num_group2</th></tr><tr><td>i64</td><td>str</td><td>str</td><td>str</td><td>i64</td><td>i64</td></tr></thead><tbody><tr><td>2</td><td>null</td><td>&quot;PRIMARY_MOBILE…</td><td>null</td><td>0</td><td>0</td></tr><tr><td>2</td><td>null</td><td>&quot;EMPLOYMENT_PHO…</td><td>null</td><td>0</td><td>1</td></tr><tr><td>2</td><td>null</td><td>&quot;PRIMARY_MOBILE…</td><td>null</td><td>1</td><td>0</td></tr><tr><td>2</td><td>null</td><td>&quot;EMPLOYMENT_PHO…</td><td>null</td><td>1</td><td>1</td></tr><tr><td>3</td><td>null</td><td>&quot;PHONE&quot;</td><td>null</td><td>0</td><td>0</td></tr></tbody></table></div>"
      ],
      "text/plain": [
       "shape: (5, 6)\n",
       "┌─────────┬─────────────────────┬──────────────────┬─────────────────────┬────────────┬────────────┐\n",
       "│ case_id ┆ cacccardblochreas_1 ┆ conts_type_509L  ┆ credacc_cards_statu ┆ num_group1 ┆ num_group2 │\n",
       "│ ---     ┆ 47M                 ┆ ---              ┆ s_52L               ┆ ---        ┆ ---        │\n",
       "│ i64     ┆ ---                 ┆ str              ┆ ---                 ┆ i64        ┆ i64        │\n",
       "│         ┆ str                 ┆                  ┆ str                 ┆            ┆            │\n",
       "╞═════════╪═════════════════════╪══════════════════╪═════════════════════╪════════════╪════════════╡\n",
       "│ 2       ┆ null                ┆ PRIMARY_MOBILE   ┆ null                ┆ 0          ┆ 0          │\n",
       "│ 2       ┆ null                ┆ EMPLOYMENT_PHONE ┆ null                ┆ 0          ┆ 1          │\n",
       "│ 2       ┆ null                ┆ PRIMARY_MOBILE   ┆ null                ┆ 1          ┆ 0          │\n",
       "│ 2       ┆ null                ┆ EMPLOYMENT_PHONE ┆ null                ┆ 1          ┆ 1          │\n",
       "│ 3       ┆ null                ┆ PHONE            ┆ null                ┆ 0          ┆ 0          │\n",
       "└─────────┴─────────────────────┴──────────────────┴─────────────────────┴────────────┴────────────┘"
      ]
     },
     "execution_count": 25,
     "metadata": {},
     "output_type": "execute_result"
    }
   ],
   "source": [
    "applprev_2.head()"
   ]
  },
  {
   "cell_type": "code",
   "execution_count": 26,
   "id": "bac7d46e",
   "metadata": {
    "execution": {
     "iopub.execute_input": "2024-05-22T16:45:35.699377Z",
     "iopub.status.busy": "2024-05-22T16:45:35.699000Z",
     "iopub.status.idle": "2024-05-22T16:45:35.707865Z",
     "shell.execute_reply": "2024-05-22T16:45:35.706797Z"
    },
    "papermill": {
     "duration": 0.041333,
     "end_time": "2024-05-22T16:45:35.710415",
     "exception": false,
     "start_time": "2024-05-22T16:45:35.669082",
     "status": "completed"
    },
    "scrolled": true,
    "tags": []
   },
   "outputs": [
    {
     "data": {
      "text/html": [
       "<div><style>\n",
       ".dataframe > thead > tr,\n",
       ".dataframe > tbody > tr {\n",
       "  text-align: right;\n",
       "  white-space: pre-wrap;\n",
       "}\n",
       "</style>\n",
       "<small>shape: (5, 11)</small><table border=\"1\" class=\"dataframe\"><thead><tr><th>case_id</th><th>addres_district_368M</th><th>addres_role_871L</th><th>addres_zip_823M</th><th>conts_role_79M</th><th>empls_economicalst_849M</th><th>empls_employedfrom_796D</th><th>empls_employer_name_740M</th><th>num_group1</th><th>num_group2</th><th>relatedpersons_role_762T</th></tr><tr><td>i64</td><td>str</td><td>str</td><td>str</td><td>str</td><td>str</td><td>str</td><td>str</td><td>i64</td><td>i64</td><td>str</td></tr></thead><tbody><tr><td>5</td><td>&quot;a55475b1&quot;</td><td>null</td><td>&quot;a55475b1&quot;</td><td>&quot;a55475b1&quot;</td><td>&quot;a55475b1&quot;</td><td>null</td><td>&quot;a55475b1&quot;</td><td>0</td><td>0</td><td>null</td></tr><tr><td>6</td><td>&quot;P55_110_32&quot;</td><td>&quot;CONTACT&quot;</td><td>&quot;P10_68_40&quot;</td><td>&quot;P38_92_157&quot;</td><td>&quot;P164_110_33&quot;</td><td>null</td><td>&quot;a55475b1&quot;</td><td>0</td><td>0</td><td>null</td></tr><tr><td>6</td><td>&quot;P55_110_32&quot;</td><td>&quot;PERMANENT&quot;</td><td>&quot;P10_68_40&quot;</td><td>&quot;a55475b1&quot;</td><td>&quot;a55475b1&quot;</td><td>null</td><td>&quot;a55475b1&quot;</td><td>0</td><td>1</td><td>null</td></tr><tr><td>6</td><td>&quot;P204_92_178&quot;</td><td>&quot;CONTACT&quot;</td><td>&quot;P65_136_169&quot;</td><td>&quot;P38_92_157&quot;</td><td>&quot;P164_110_33&quot;</td><td>null</td><td>&quot;a55475b1&quot;</td><td>1</td><td>0</td><td>&quot;OTHER_RELATIVE…</td></tr><tr><td>6</td><td>&quot;P191_109_75&quot;</td><td>&quot;CONTACT&quot;</td><td>&quot;P10_68_40&quot;</td><td>&quot;P7_147_157&quot;</td><td>&quot;a55475b1&quot;</td><td>null</td><td>&quot;a55475b1&quot;</td><td>1</td><td>1</td><td>&quot;OTHER_RELATIVE…</td></tr></tbody></table></div>"
      ],
      "text/plain": [
       "shape: (5, 11)\n",
       "┌─────────┬────────────┬───────────┬───────────┬───┬───────────┬───────────┬───────────┬───────────┐\n",
       "│ case_id ┆ addres_dis ┆ addres_ro ┆ addres_zi ┆ … ┆ empls_emp ┆ num_group ┆ num_group ┆ relatedpe │\n",
       "│ ---     ┆ trict_368M ┆ le_871L   ┆ p_823M    ┆   ┆ loyer_nam ┆ 1         ┆ 2         ┆ rsons_rol │\n",
       "│ i64     ┆ ---        ┆ ---       ┆ ---       ┆   ┆ e_740M    ┆ ---       ┆ ---       ┆ e_762T    │\n",
       "│         ┆ str        ┆ str       ┆ str       ┆   ┆ ---       ┆ i64       ┆ i64       ┆ ---       │\n",
       "│         ┆            ┆           ┆           ┆   ┆ str       ┆           ┆           ┆ str       │\n",
       "╞═════════╪════════════╪═══════════╪═══════════╪═══╪═══════════╪═══════════╪═══════════╪═══════════╡\n",
       "│ 5       ┆ a55475b1   ┆ null      ┆ a55475b1  ┆ … ┆ a55475b1  ┆ 0         ┆ 0         ┆ null      │\n",
       "│ 6       ┆ P55_110_32 ┆ CONTACT   ┆ P10_68_40 ┆ … ┆ a55475b1  ┆ 0         ┆ 0         ┆ null      │\n",
       "│ 6       ┆ P55_110_32 ┆ PERMANENT ┆ P10_68_40 ┆ … ┆ a55475b1  ┆ 0         ┆ 1         ┆ null      │\n",
       "│ 6       ┆ P204_92_17 ┆ CONTACT   ┆ P65_136_1 ┆ … ┆ a55475b1  ┆ 1         ┆ 0         ┆ OTHER_REL │\n",
       "│         ┆ 8          ┆           ┆ 69        ┆   ┆           ┆           ┆           ┆ ATIVE     │\n",
       "│ 6       ┆ P191_109_7 ┆ CONTACT   ┆ P10_68_40 ┆ … ┆ a55475b1  ┆ 1         ┆ 1         ┆ OTHER_REL │\n",
       "│         ┆ 5          ┆           ┆           ┆   ┆           ┆           ┆           ┆ ATIVE     │\n",
       "└─────────┴────────────┴───────────┴───────────┴───┴───────────┴───────────┴───────────┴───────────┘"
      ]
     },
     "execution_count": 26,
     "metadata": {},
     "output_type": "execute_result"
    }
   ],
   "source": [
    "person_2.head()"
   ]
  },
  {
   "cell_type": "code",
   "execution_count": 27,
   "id": "78e77f82",
   "metadata": {
    "execution": {
     "iopub.execute_input": "2024-05-22T16:45:35.770689Z",
     "iopub.status.busy": "2024-05-22T16:45:35.770339Z",
     "iopub.status.idle": "2024-05-22T16:45:35.788255Z",
     "shell.execute_reply": "2024-05-22T16:45:35.787193Z"
    },
    "papermill": {
     "duration": 0.051064,
     "end_time": "2024-05-22T16:45:35.790710",
     "exception": false,
     "start_time": "2024-05-22T16:45:35.739646",
     "status": "completed"
    },
    "tags": []
   },
   "outputs": [
    {
     "data": {
      "text/html": [
       "<div><style>\n",
       ".dataframe > thead > tr,\n",
       ".dataframe > tbody > tr {\n",
       "  text-align: right;\n",
       "  white-space: pre-wrap;\n",
       "}\n",
       "</style>\n",
       "<small>shape: (5, 79)</small><table border=\"1\" class=\"dataframe\"><thead><tr><th>case_id</th><th>annualeffectiverate_199L</th><th>annualeffectiverate_63L</th><th>classificationofcontr_13M</th><th>classificationofcontr_400M</th><th>contractst_545M</th><th>contractst_964M</th><th>contractsum_5085717L</th><th>credlmt_230A</th><th>credlmt_935A</th><th>dateofcredend_289D</th><th>dateofcredend_353D</th><th>dateofcredstart_181D</th><th>dateofcredstart_739D</th><th>dateofrealrepmt_138D</th><th>debtoutstand_525A</th><th>debtoverdue_47A</th><th>description_351M</th><th>dpdmax_139P</th><th>dpdmax_757P</th><th>dpdmaxdatemonth_442T</th><th>dpdmaxdatemonth_89T</th><th>dpdmaxdateyear_596T</th><th>dpdmaxdateyear_896T</th><th>financialinstitution_382M</th><th>financialinstitution_591M</th><th>instlamount_768A</th><th>instlamount_852A</th><th>interestrate_508L</th><th>lastupdate_1112D</th><th>lastupdate_388D</th><th>monthlyinstlamount_332A</th><th>monthlyinstlamount_674A</th><th>nominalrate_281L</th><th>nominalrate_498L</th><th>num_group1</th><th>numberofcontrsvalue_258L</th><th>&hellip;</th><th>numberofoverdueinstlmax_1039L</th><th>numberofoverdueinstlmax_1151L</th><th>numberofoverdueinstlmaxdat_148D</th><th>numberofoverdueinstlmaxdat_641D</th><th>numberofoverdueinstls_725L</th><th>numberofoverdueinstls_834L</th><th>outstandingamount_354A</th><th>outstandingamount_362A</th><th>overdueamount_31A</th><th>overdueamount_659A</th><th>overdueamountmax2_14A</th><th>overdueamountmax2_398A</th><th>overdueamountmax2date_1002D</th><th>overdueamountmax2date_1142D</th><th>overdueamountmax_155A</th><th>overdueamountmax_35A</th><th>overdueamountmaxdatemonth_284T</th><th>overdueamountmaxdatemonth_365T</th><th>overdueamountmaxdateyear_2T</th><th>overdueamountmaxdateyear_994T</th><th>periodicityofpmts_1102L</th><th>periodicityofpmts_837L</th><th>prolongationcount_1120L</th><th>prolongationcount_599L</th><th>purposeofcred_426M</th><th>purposeofcred_874M</th><th>refreshdate_3813885D</th><th>residualamount_488A</th><th>residualamount_856A</th><th>subjectrole_182M</th><th>subjectrole_93M</th><th>totalamount_6A</th><th>totalamount_996A</th><th>totaldebtoverduevalue_178A</th><th>totaldebtoverduevalue_718A</th><th>totaloutstanddebtvalue_39A</th><th>totaloutstanddebtvalue_668A</th></tr><tr><td>i64</td><td>str</td><td>f64</td><td>str</td><td>str</td><td>str</td><td>str</td><td>str</td><td>f64</td><td>f64</td><td>str</td><td>str</td><td>str</td><td>str</td><td>str</td><td>f64</td><td>f64</td><td>str</td><td>f64</td><td>f64</td><td>str</td><td>f64</td><td>f64</td><td>str</td><td>str</td><td>str</td><td>f64</td><td>f64</td><td>str</td><td>str</td><td>str</td><td>f64</td><td>f64</td><td>f64</td><td>str</td><td>i64</td><td>f64</td><td>&hellip;</td><td>f64</td><td>str</td><td>str</td><td>str</td><td>f64</td><td>str</td><td>f64</td><td>f64</td><td>f64</td><td>f64</td><td>f64</td><td>f64</td><td>str</td><td>str</td><td>f64</td><td>f64</td><td>str</td><td>f64</td><td>f64</td><td>str</td><td>str</td><td>f64</td><td>str</td><td>str</td><td>str</td><td>str</td><td>str</td><td>f64</td><td>f64</td><td>str</td><td>str</td><td>f64</td><td>f64</td><td>f64</td><td>f64</td><td>f64</td><td>f64</td></tr></thead><tbody><tr><td>388</td><td>null</td><td>null</td><td>&quot;ea6782cc&quot;</td><td>&quot;a55475b1&quot;</td><td>&quot;7241344e&quot;</td><td>&quot;a55475b1&quot;</td><td>null</td><td>null</td><td>135806.0</td><td>&quot;2020-08-06&quot;</td><td>null</td><td>null</td><td>&quot;2018-08-06&quot;</td><td>null</td><td>null</td><td>null</td><td>&quot;a55475b1&quot;</td><td>0.0</td><td>null</td><td>null</td><td>8.0</td><td>2018.0</td><td>null</td><td>&quot;a55475b1&quot;</td><td>&quot;P204_66_73&quot;</td><td>8742.8</td><td>null</td><td>null</td><td>&quot;2019-01-11&quot;</td><td>null</td><td>8742.8</td><td>null</td><td>null</td><td>null</td><td>1</td><td>null</td><td>&hellip;</td><td>0.0</td><td>null</td><td>null</td><td>null</td><td>0.0</td><td>null</td><td>null</td><td>null</td><td>null</td><td>0.0</td><td>0.0</td><td>null</td><td>null</td><td>null</td><td>0.0</td><td>null</td><td>null</td><td>8.0</td><td>2018.0</td><td>null</td><td>null</td><td>null</td><td>null</td><td>null</td><td>&quot;60c73645&quot;</td><td>&quot;a55475b1&quot;</td><td>null</td><td>null</td><td>114325.805</td><td>&quot;a55475b1&quot;</td><td>&quot;a55475b1&quot;</td><td>null</td><td>null</td><td>null</td><td>null</td><td>null</td><td>null</td></tr><tr><td>388</td><td>null</td><td>null</td><td>&quot;4408ff0f&quot;</td><td>&quot;a55475b1&quot;</td><td>&quot;7241344e&quot;</td><td>&quot;a55475b1&quot;</td><td>null</td><td>null</td><td>null</td><td>&quot;2023-06-20&quot;</td><td>null</td><td>null</td><td>&quot;2018-06-20&quot;</td><td>null</td><td>374419.5</td><td>0.0</td><td>&quot;a55475b1&quot;</td><td>0.0</td><td>null</td><td>null</td><td>7.0</td><td>2018.0</td><td>null</td><td>&quot;a55475b1&quot;</td><td>&quot;55b002a9&quot;</td><td>null</td><td>null</td><td>null</td><td>&quot;2019-01-24&quot;</td><td>null</td><td>7811.4463</td><td>null</td><td>null</td><td>null</td><td>0</td><td>2.0</td><td>&hellip;</td><td>0.0</td><td>null</td><td>null</td><td>null</td><td>0.0</td><td>null</td><td>null</td><td>260093.7</td><td>null</td><td>0.0</td><td>0.0</td><td>null</td><td>null</td><td>null</td><td>0.0</td><td>null</td><td>null</td><td>7.0</td><td>2018.0</td><td>null</td><td>null</td><td>30.0</td><td>null</td><td>null</td><td>&quot;96a8fdfe&quot;</td><td>&quot;a55475b1&quot;</td><td>null</td><td>null</td><td>null</td><td>&quot;ab3c25cf&quot;</td><td>&quot;ab3c25cf&quot;</td><td>null</td><td>268897.62</td><td>0.0</td><td>0.0</td><td>374419.5</td><td>0.0</td></tr><tr><td>388</td><td>null</td><td>null</td><td>&quot;a55475b1&quot;</td><td>&quot;a55475b1&quot;</td><td>&quot;a55475b1&quot;</td><td>&quot;a55475b1&quot;</td><td>null</td><td>null</td><td>null</td><td>null</td><td>null</td><td>null</td><td>null</td><td>null</td><td>null</td><td>null</td><td>&quot;a55475b1&quot;</td><td>null</td><td>null</td><td>null</td><td>null</td><td>null</td><td>null</td><td>&quot;a55475b1&quot;</td><td>&quot;a55475b1&quot;</td><td>null</td><td>null</td><td>null</td><td>null</td><td>null</td><td>null</td><td>null</td><td>null</td><td>null</td><td>2</td><td>null</td><td>&hellip;</td><td>null</td><td>null</td><td>null</td><td>null</td><td>null</td><td>null</td><td>null</td><td>null</td><td>null</td><td>null</td><td>null</td><td>null</td><td>null</td><td>null</td><td>null</td><td>null</td><td>null</td><td>null</td><td>null</td><td>null</td><td>null</td><td>null</td><td>null</td><td>null</td><td>&quot;a55475b1&quot;</td><td>&quot;a55475b1&quot;</td><td>&quot;2019-01-28&quot;</td><td>null</td><td>null</td><td>&quot;a55475b1&quot;</td><td>&quot;a55475b1&quot;</td><td>null</td><td>null</td><td>null</td><td>null</td><td>null</td><td>null</td></tr><tr><td>388</td><td>null</td><td>null</td><td>&quot;a55475b1&quot;</td><td>&quot;a55475b1&quot;</td><td>&quot;a55475b1&quot;</td><td>&quot;a55475b1&quot;</td><td>null</td><td>null</td><td>null</td><td>null</td><td>null</td><td>null</td><td>null</td><td>null</td><td>null</td><td>null</td><td>&quot;a55475b1&quot;</td><td>null</td><td>null</td><td>null</td><td>null</td><td>null</td><td>null</td><td>&quot;a55475b1&quot;</td><td>&quot;a55475b1&quot;</td><td>null</td><td>null</td><td>null</td><td>null</td><td>null</td><td>null</td><td>null</td><td>null</td><td>null</td><td>3</td><td>null</td><td>&hellip;</td><td>null</td><td>null</td><td>null</td><td>null</td><td>null</td><td>null</td><td>null</td><td>null</td><td>null</td><td>null</td><td>null</td><td>null</td><td>null</td><td>null</td><td>null</td><td>null</td><td>null</td><td>null</td><td>null</td><td>null</td><td>null</td><td>null</td><td>null</td><td>null</td><td>&quot;a55475b1&quot;</td><td>&quot;a55475b1&quot;</td><td>&quot;2019-01-28&quot;</td><td>null</td><td>null</td><td>&quot;a55475b1&quot;</td><td>&quot;a55475b1&quot;</td><td>null</td><td>null</td><td>null</td><td>null</td><td>null</td><td>null</td></tr><tr><td>388</td><td>null</td><td>null</td><td>&quot;a55475b1&quot;</td><td>&quot;a55475b1&quot;</td><td>&quot;a55475b1&quot;</td><td>&quot;a55475b1&quot;</td><td>null</td><td>null</td><td>null</td><td>null</td><td>null</td><td>null</td><td>null</td><td>null</td><td>null</td><td>null</td><td>&quot;a55475b1&quot;</td><td>null</td><td>null</td><td>null</td><td>null</td><td>null</td><td>null</td><td>&quot;a55475b1&quot;</td><td>&quot;a55475b1&quot;</td><td>null</td><td>null</td><td>null</td><td>null</td><td>null</td><td>null</td><td>null</td><td>null</td><td>null</td><td>4</td><td>null</td><td>&hellip;</td><td>null</td><td>null</td><td>null</td><td>null</td><td>null</td><td>null</td><td>null</td><td>null</td><td>null</td><td>null</td><td>null</td><td>null</td><td>null</td><td>null</td><td>null</td><td>null</td><td>null</td><td>null</td><td>null</td><td>null</td><td>null</td><td>null</td><td>null</td><td>null</td><td>&quot;a55475b1&quot;</td><td>&quot;a55475b1&quot;</td><td>&quot;2019-01-28&quot;</td><td>null</td><td>null</td><td>&quot;a55475b1&quot;</td><td>&quot;a55475b1&quot;</td><td>null</td><td>null</td><td>null</td><td>null</td><td>null</td><td>null</td></tr></tbody></table></div>"
      ],
      "text/plain": [
       "shape: (5, 79)\n",
       "┌─────────┬────────────┬───────────┬───────────┬───┬───────────┬───────────┬───────────┬───────────┐\n",
       "│ case_id ┆ annualeffe ┆ annualeff ┆ classific ┆ … ┆ totaldebt ┆ totaldebt ┆ totalouts ┆ totalouts │\n",
       "│ ---     ┆ ctiverate_ ┆ ectiverat ┆ ationofco ┆   ┆ overdueva ┆ overdueva ┆ tanddebtv ┆ tanddebtv │\n",
       "│ i64     ┆ 199L       ┆ e_63L     ┆ ntr_13M   ┆   ┆ lue_178A  ┆ lue_718A  ┆ alue_39A  ┆ alue_668A │\n",
       "│         ┆ ---        ┆ ---       ┆ ---       ┆   ┆ ---       ┆ ---       ┆ ---       ┆ ---       │\n",
       "│         ┆ str        ┆ f64       ┆ str       ┆   ┆ f64       ┆ f64       ┆ f64       ┆ f64       │\n",
       "╞═════════╪════════════╪═══════════╪═══════════╪═══╪═══════════╪═══════════╪═══════════╪═══════════╡\n",
       "│ 388     ┆ null       ┆ null      ┆ ea6782cc  ┆ … ┆ null      ┆ null      ┆ null      ┆ null      │\n",
       "│ 388     ┆ null       ┆ null      ┆ 4408ff0f  ┆ … ┆ 0.0       ┆ 0.0       ┆ 374419.5  ┆ 0.0       │\n",
       "│ 388     ┆ null       ┆ null      ┆ a55475b1  ┆ … ┆ null      ┆ null      ┆ null      ┆ null      │\n",
       "│ 388     ┆ null       ┆ null      ┆ a55475b1  ┆ … ┆ null      ┆ null      ┆ null      ┆ null      │\n",
       "│ 388     ┆ null       ┆ null      ┆ a55475b1  ┆ … ┆ null      ┆ null      ┆ null      ┆ null      │\n",
       "└─────────┴────────────┴───────────┴───────────┴───┴───────────┴───────────┴───────────┴───────────┘"
      ]
     },
     "execution_count": 27,
     "metadata": {},
     "output_type": "execute_result"
    }
   ],
   "source": [
    "credit_bureau_a_1.head()"
   ]
  },
  {
   "cell_type": "code",
   "execution_count": 28,
   "id": "da88d2b7",
   "metadata": {
    "execution": {
     "iopub.execute_input": "2024-05-22T16:45:35.851391Z",
     "iopub.status.busy": "2024-05-22T16:45:35.850644Z",
     "iopub.status.idle": "2024-05-22T16:45:35.860866Z",
     "shell.execute_reply": "2024-05-22T16:45:35.859780Z"
    },
    "papermill": {
     "duration": 0.043319,
     "end_time": "2024-05-22T16:45:35.863316",
     "exception": false,
     "start_time": "2024-05-22T16:45:35.819997",
     "status": "completed"
    },
    "tags": []
   },
   "outputs": [
    {
     "data": {
      "text/html": [
       "<div><style>\n",
       ".dataframe > thead > tr,\n",
       ".dataframe > tbody > tr {\n",
       "  text-align: right;\n",
       "  white-space: pre-wrap;\n",
       "}\n",
       "</style>\n",
       "<small>shape: (5, 19)</small><table border=\"1\" class=\"dataframe\"><thead><tr><th>case_id</th><th>collater_typofvalofguarant_298M</th><th>collater_typofvalofguarant_407M</th><th>collater_valueofguarantee_1124L</th><th>collater_valueofguarantee_876L</th><th>collaterals_typeofguarante_359M</th><th>collaterals_typeofguarante_669M</th><th>num_group1</th><th>num_group2</th><th>pmts_dpd_1073P</th><th>pmts_dpd_303P</th><th>pmts_month_158T</th><th>pmts_month_706T</th><th>pmts_overdue_1140A</th><th>pmts_overdue_1152A</th><th>pmts_year_1139T</th><th>pmts_year_507T</th><th>subjectroles_name_541M</th><th>subjectroles_name_838M</th></tr><tr><td>i64</td><td>str</td><td>str</td><td>f64</td><td>str</td><td>str</td><td>str</td><td>i64</td><td>i64</td><td>f64</td><td>f64</td><td>f64</td><td>str</td><td>f64</td><td>f64</td><td>f64</td><td>str</td><td>str</td><td>str</td></tr></thead><tbody><tr><td>388</td><td>&quot;8fd95e4b&quot;</td><td>&quot;a55475b1&quot;</td><td>0.0</td><td>null</td><td>&quot;a55475b1&quot;</td><td>&quot;c7a5ad39&quot;</td><td>0</td><td>0</td><td>null</td><td>null</td><td>2.0</td><td>null</td><td>null</td><td>null</td><td>2018.0</td><td>null</td><td>&quot;a55475b1&quot;</td><td>&quot;ab3c25cf&quot;</td></tr><tr><td>388</td><td>&quot;9a0c095e&quot;</td><td>&quot;a55475b1&quot;</td><td>0.0</td><td>null</td><td>&quot;a55475b1&quot;</td><td>&quot;c7a5ad39&quot;</td><td>1</td><td>0</td><td>null</td><td>null</td><td>2.0</td><td>null</td><td>null</td><td>null</td><td>2018.0</td><td>null</td><td>&quot;a55475b1&quot;</td><td>&quot;ab3c25cf&quot;</td></tr><tr><td>388</td><td>&quot;a55475b1&quot;</td><td>&quot;a55475b1&quot;</td><td>null</td><td>null</td><td>&quot;a55475b1&quot;</td><td>&quot;a55475b1&quot;</td><td>0</td><td>1</td><td>null</td><td>null</td><td>3.0</td><td>null</td><td>null</td><td>null</td><td>2018.0</td><td>null</td><td>&quot;a55475b1&quot;</td><td>&quot;a55475b1&quot;</td></tr><tr><td>388</td><td>&quot;a55475b1&quot;</td><td>&quot;a55475b1&quot;</td><td>null</td><td>null</td><td>&quot;a55475b1&quot;</td><td>&quot;a55475b1&quot;</td><td>0</td><td>2</td><td>null</td><td>null</td><td>4.0</td><td>null</td><td>null</td><td>null</td><td>2018.0</td><td>null</td><td>&quot;a55475b1&quot;</td><td>&quot;a55475b1&quot;</td></tr><tr><td>388</td><td>&quot;a55475b1&quot;</td><td>&quot;a55475b1&quot;</td><td>null</td><td>null</td><td>&quot;a55475b1&quot;</td><td>&quot;a55475b1&quot;</td><td>0</td><td>3</td><td>null</td><td>null</td><td>5.0</td><td>null</td><td>null</td><td>null</td><td>2018.0</td><td>null</td><td>&quot;a55475b1&quot;</td><td>&quot;a55475b1&quot;</td></tr></tbody></table></div>"
      ],
      "text/plain": [
       "shape: (5, 19)\n",
       "┌─────────┬────────────┬───────────┬───────────┬───┬───────────┬───────────┬───────────┬───────────┐\n",
       "│ case_id ┆ collater_t ┆ collater_ ┆ collater_ ┆ … ┆ pmts_year ┆ pmts_year ┆ subjectro ┆ subjectro │\n",
       "│ ---     ┆ ypofvalofg ┆ typofvalo ┆ valueofgu ┆   ┆ _1139T    ┆ _507T     ┆ les_name_ ┆ les_name_ │\n",
       "│ i64     ┆ uarant_298 ┆ fguarant_ ┆ arantee_1 ┆   ┆ ---       ┆ ---       ┆ 541M      ┆ 838M      │\n",
       "│         ┆ M          ┆ 407M      ┆ 124L      ┆   ┆ f64       ┆ str       ┆ ---       ┆ ---       │\n",
       "│         ┆ ---        ┆ ---       ┆ ---       ┆   ┆           ┆           ┆ str       ┆ str       │\n",
       "│         ┆ str        ┆ str       ┆ f64       ┆   ┆           ┆           ┆           ┆           │\n",
       "╞═════════╪════════════╪═══════════╪═══════════╪═══╪═══════════╪═══════════╪═══════════╪═══════════╡\n",
       "│ 388     ┆ 8fd95e4b   ┆ a55475b1  ┆ 0.0       ┆ … ┆ 2018.0    ┆ null      ┆ a55475b1  ┆ ab3c25cf  │\n",
       "│ 388     ┆ 9a0c095e   ┆ a55475b1  ┆ 0.0       ┆ … ┆ 2018.0    ┆ null      ┆ a55475b1  ┆ ab3c25cf  │\n",
       "│ 388     ┆ a55475b1   ┆ a55475b1  ┆ null      ┆ … ┆ 2018.0    ┆ null      ┆ a55475b1  ┆ a55475b1  │\n",
       "│ 388     ┆ a55475b1   ┆ a55475b1  ┆ null      ┆ … ┆ 2018.0    ┆ null      ┆ a55475b1  ┆ a55475b1  │\n",
       "│ 388     ┆ a55475b1   ┆ a55475b1  ┆ null      ┆ … ┆ 2018.0    ┆ null      ┆ a55475b1  ┆ a55475b1  │\n",
       "└─────────┴────────────┴───────────┴───────────┴───┴───────────┴───────────┴───────────┴───────────┘"
      ]
     },
     "execution_count": 28,
     "metadata": {},
     "output_type": "execute_result"
    }
   ],
   "source": [
    "credit_bureau_a_2.head()"
   ]
  },
  {
   "cell_type": "code",
   "execution_count": 29,
   "id": "a094623f",
   "metadata": {
    "execution": {
     "iopub.execute_input": "2024-05-22T16:45:35.924635Z",
     "iopub.status.busy": "2024-05-22T16:45:35.924278Z",
     "iopub.status.idle": "2024-05-22T16:45:36.024300Z",
     "shell.execute_reply": "2024-05-22T16:45:36.023335Z"
    },
    "papermill": {
     "duration": 0.133741,
     "end_time": "2024-05-22T16:45:36.026926",
     "exception": false,
     "start_time": "2024-05-22T16:45:35.893185",
     "status": "completed"
    },
    "tags": []
   },
   "outputs": [],
   "source": [
    "test_basetable = pl.read_csv(path + \"csv_files/test/test_base.csv\")\n",
    "test_static = pl.concat(\n",
    "    [\n",
    "        pl.read_csv(path + \"csv_files/test/test_static_0_0.csv\").pipe(set_table_dtypes),\n",
    "        pl.read_csv(path + \"csv_files/test/test_static_0_1.csv\").pipe(set_table_dtypes),\n",
    "        pl.read_csv(path + \"csv_files/test/test_static_0_2.csv\").pipe(set_table_dtypes),\n",
    "    ],\n",
    "    how=\"vertical_relaxed\",\n",
    ")\n",
    "test_static_cb = pl.read_csv(path + \"csv_files/test/test_static_cb_0.csv\").pipe(set_table_dtypes)\n",
    "test_person_1 = pl.read_csv(path + \"csv_files/test/test_person_1.csv\").pipe(set_table_dtypes) \n",
    "test_credit_bureau_b_2 = pl.read_csv(path + \"csv_files/test/test_credit_bureau_b_2.csv\").pipe(set_table_dtypes)\n",
    "applprev_1_t = pl.concat(\n",
    "    [\n",
    "        pl.read_csv(path + \"csv_files/test/test_applprev_1_0.csv\").pipe(set_table_dtypes),\n",
    "        pl.read_csv(path + \"csv_files/test/test_applprev_1_1.csv\").pipe(set_table_dtypes),\n",
    "    ],\n",
    "    how=\"vertical_relaxed\",\n",
    ")\n",
    "other_1_t = pl.read_csv(path + \"csv_files/test/test_other_1.csv\").pipe(set_table_dtypes)\n",
    "tax_registry_a_1_t = pl.read_csv(path + \"csv_files/test/test_tax_registry_a_1.csv\").pipe(set_table_dtypes)\n",
    "tax_registry_b_1_t = pl.read_csv(path + \"csv_files/test/test_tax_registry_b_1.csv\").pipe(set_table_dtypes)\n",
    "tax_registry_c_1_t = pl.read_csv(path + \"csv_files/test/test_tax_registry_c_1.csv\").pipe(set_table_dtypes)\n",
    "credit_bureau_b_1_t = pl.read_csv(path + \"csv_files/test/test_credit_bureau_b_1.csv\").pipe(set_table_dtypes)\n",
    "deposit_1_t = pl.read_csv(path + \"csv_files/test/test_deposit_1.csv\").pipe(set_table_dtypes)\n",
    "person_1_t= pl.read_csv(path + \"csv_files/test/test_person_1.csv\").pipe(set_table_dtypes)\n",
    "debitcard_1_t = pl.read_csv(path + \"csv_files/test/test_debitcard_1.csv\").pipe(set_table_dtypes)\n",
    "applprev_2_t = pl.read_csv(path + \"csv_files/test/test_applprev_2.csv\").pipe(set_table_dtypes)\n",
    "person_2_t = pl.read_csv(path + \"csv_files/test/test_person_2.csv\").pipe(set_table_dtypes)"
   ]
  },
  {
   "cell_type": "code",
   "execution_count": 30,
   "id": "3103d90e",
   "metadata": {
    "execution": {
     "iopub.execute_input": "2024-05-22T16:45:36.087659Z",
     "iopub.status.busy": "2024-05-22T16:45:36.087306Z",
     "iopub.status.idle": "2024-05-22T16:45:36.158161Z",
     "shell.execute_reply": "2024-05-22T16:45:36.156802Z"
    },
    "papermill": {
     "duration": 0.104035,
     "end_time": "2024-05-22T16:45:36.160942",
     "exception": false,
     "start_time": "2024-05-22T16:45:36.056907",
     "status": "completed"
    },
    "tags": []
   },
   "outputs": [
    {
     "data": {
      "text/html": [
       "<div><style>\n",
       ".dataframe > thead > tr,\n",
       ".dataframe > tbody > tr {\n",
       "  text-align: right;\n",
       "  white-space: pre-wrap;\n",
       "}\n",
       "</style>\n",
       "<small>shape: (16, 2)</small><table border=\"1\" class=\"dataframe\"><thead><tr><th>Dataset_Names</th><th>Null_Value_Count</th></tr><tr><td>str</td><td>object</td></tr></thead><tbody><tr><td>&quot;test_basetable…</td><td>0</td></tr><tr><td>&quot;test_static&quot;</td><td>1187</td></tr><tr><td>&quot;test_static_cb…</td><td>329</td></tr><tr><td>&quot;test_person_1&quot;</td><td>149</td></tr><tr><td>&quot;test_credit_bu…</td><td>0</td></tr><tr><td>&hellip;</td><td>&hellip;</td></tr><tr><td>&quot;deposit_1&quot;</td><td>79682</td></tr><tr><td>&quot;person_1&quot;</td><td>51051536</td></tr><tr><td>&quot;debitcard_1&quot;</td><td>450239</td></tr><tr><td>&quot;applprev_2&quot;</td><td>16236709</td></tr><tr><td>&quot;person_2&quot;</td><td>4828073</td></tr></tbody></table></div>"
      ],
      "text/plain": [
       "shape: (16, 2)\n",
       "┌────────────────────────┬──────────────────┐\n",
       "│ Dataset_Names          ┆ Null_Value_Count │\n",
       "│ ---                    ┆ ---              │\n",
       "│ str                    ┆ object           │\n",
       "╞════════════════════════╪══════════════════╡\n",
       "│ test_basetable         ┆ 0                │\n",
       "│ test_static            ┆ 1187             │\n",
       "│ test_static_cb         ┆ 329              │\n",
       "│ test_person_1          ┆ 149              │\n",
       "│ test_credit_bureau_b_2 ┆ 0                │\n",
       "│ …                      ┆ …                │\n",
       "│ deposit_1              ┆ 79682            │\n",
       "│ person_1               ┆ 51051536         │\n",
       "│ debitcard_1            ┆ 450239           │\n",
       "│ applprev_2             ┆ 16236709         │\n",
       "│ person_2               ┆ 4828073          │\n",
       "└────────────────────────┴──────────────────┘"
      ]
     },
     "execution_count": 30,
     "metadata": {},
     "output_type": "execute_result"
    }
   ],
   "source": [
    "dataset_names = [test_basetable , test_static, test_static_cb, test_person_1, test_credit_bureau_b_2, applprev_1, \n",
    "                other_1, tax_registry_a_1, tax_registry_b_1, tax_registry_c_1, credit_bureau_b_1, deposit_1,\n",
    "                person_1, debitcard_1, applprev_2, person_2]\n",
    "dataset_names_str = ['test_basetable' , 'test_static', 'test_static_cb', 'test_person_1',\n",
    "                     'test_credit_bureau_b_2','applprev_1', 'other_1', 'tax_registry_a_1', \n",
    "                     'tax_registry_b_1', 'tax_registry_c_1', 'credit_bureau_b_1',\n",
    "                     'deposit_1','person_1', 'debitcard_1', 'applprev_2', 'person_2']\n",
    "null_value_count = []\n",
    "\n",
    "for dataset in dataset_names:\n",
    "    null_value_count.append(pl.lit(dataset.pipe(counting_null_values))) \n",
    "    \n",
    "null_dataset_test = pl.DataFrame(\n",
    "    {\n",
    "        \"Dataset_Names\": dataset_names_str,\n",
    "        \"Null_Value_Count\": null_value_count\n",
    "         \n",
    "    }\n",
    ")\n",
    "null_dataset_test"
   ]
  },
  {
   "cell_type": "code",
   "execution_count": 31,
   "id": "ad1ce75d",
   "metadata": {
    "execution": {
     "iopub.execute_input": "2024-05-22T16:45:36.223655Z",
     "iopub.status.busy": "2024-05-22T16:45:36.223268Z",
     "iopub.status.idle": "2024-05-22T16:45:36.278298Z",
     "shell.execute_reply": "2024-05-22T16:45:36.277101Z"
    },
    "papermill": {
     "duration": 0.089543,
     "end_time": "2024-05-22T16:45:36.280973",
     "exception": false,
     "start_time": "2024-05-22T16:45:36.191430",
     "status": "completed"
    },
    "tags": []
   },
   "outputs": [],
   "source": [
    "credit_bureau_a_1_t = pl.concat(\n",
    "    [\n",
    "        pl.read_csv(path + \"csv_files/test/test_credit_bureau_a_1_0.csv\").pipe(set_table_dtypes),\n",
    "        pl.read_csv(path + \"csv_files/test/test_credit_bureau_a_1_1.csv\").pipe(set_table_dtypes),\n",
    "        pl.read_csv(path + \"csv_files/test/test_credit_bureau_a_1_2.csv\").pipe(set_table_dtypes),\n",
    "        pl.read_csv(path + \"csv_files/test/test_credit_bureau_a_1_3.csv\").pipe(set_table_dtypes),\n",
    "        pl.read_csv(path + \"csv_files/test/test_credit_bureau_a_1_4.csv\").pipe(set_table_dtypes),\n",
    "\n",
    "    ],\n",
    "    how=\"vertical_relaxed\",\n",
    ")\n",
    "\n",
    "credit_bureau_a_2_t = pl.concat(\n",
    "    [\n",
    "        pl.read_csv(path + \"csv_files/test/test_credit_bureau_a_2_0.csv\").pipe(set_table_dtypes),\n",
    "        pl.read_csv(path + \"csv_files/test/test_credit_bureau_a_2_1.csv\").pipe(set_table_dtypes),\n",
    "#         pl.read_csv(path + \"csv_files/test/test_credit_bureau_a_2_2.csv\").pipe(set_table_dtypes),\n",
    "#         pl.read_csv(path + \"csv_files/test/test_credit_bureau_a_2_3.csv\").pipe(set_table_dtypes),\n",
    "#         pl.read_csv(path + \"csv_files/test/test_credit_bureau_a_2_4.csv\").pipe(set_table_dtypes),\n",
    "#         pl.read_csv(path + \"csv_files/test/test_credit_bureau_a_2_5.csv\").pipe(set_table_dtypes),\n",
    "#         pl.read_csv(path + \"csv_files/test/test_credit_bureau_a_2_6.csv\").pipe(set_table_dtypes),\n",
    "#         pl.read_csv(path + \"csv_files/test/test_credit_bureau_a_2_7.csv\").pipe(set_table_dtypes),\n",
    "#         pl.read_csv(path + \"csv_files/test/test_credit_bureau_a_2_8.csv\").pipe(set_table_dtypes),\n",
    "#         pl.read_csv(path + \"csv_files/test/test_credit_bureau_a_2_9.csv\").pipe(set_table_dtypes),\n",
    "#         pl.read_csv(path + \"csv_files/test/test_credit_bureau_a_2_10.csv\").pipe(set_table_dtypes),\n",
    "#         pl.read_csv(path + \"csv_files/test/test_credit_bureau_a_2_11.csv\").pipe(set_table_dtypes),\n",
    "\n",
    "\n",
    "\n",
    "   ],\n",
    "    how=\"vertical_relaxed\",\n",
    ")\n"
   ]
  },
  {
   "cell_type": "code",
   "execution_count": 32,
   "id": "0c13cc6b",
   "metadata": {
    "execution": {
     "iopub.execute_input": "2024-05-22T16:45:36.344815Z",
     "iopub.status.busy": "2024-05-22T16:45:36.344105Z",
     "iopub.status.idle": "2024-05-22T16:45:36.352055Z",
     "shell.execute_reply": "2024-05-22T16:45:36.350977Z"
    },
    "papermill": {
     "duration": 0.041628,
     "end_time": "2024-05-22T16:45:36.354393",
     "exception": false,
     "start_time": "2024-05-22T16:45:36.312765",
     "status": "completed"
    },
    "tags": []
   },
   "outputs": [
    {
     "data": {
      "text/html": [
       "<div><style>\n",
       ".dataframe > thead > tr,\n",
       ".dataframe > tbody > tr {\n",
       "  text-align: right;\n",
       "  white-space: pre-wrap;\n",
       "}\n",
       "</style>\n",
       "<small>shape: (5, 4)</small><table border=\"1\" class=\"dataframe\"><thead><tr><th>case_id</th><th>date_decision</th><th>MONTH</th><th>WEEK_NUM</th></tr><tr><td>i64</td><td>str</td><td>i64</td><td>i64</td></tr></thead><tbody><tr><td>57543</td><td>&quot;2021-05-14&quot;</td><td>202201</td><td>100</td></tr><tr><td>57549</td><td>&quot;2022-01-17&quot;</td><td>202201</td><td>100</td></tr><tr><td>57551</td><td>&quot;2020-11-27&quot;</td><td>202201</td><td>100</td></tr><tr><td>57552</td><td>&quot;2020-11-27&quot;</td><td>202201</td><td>100</td></tr><tr><td>57569</td><td>&quot;2021-12-20&quot;</td><td>202201</td><td>100</td></tr></tbody></table></div>"
      ],
      "text/plain": [
       "shape: (5, 4)\n",
       "┌─────────┬───────────────┬────────┬──────────┐\n",
       "│ case_id ┆ date_decision ┆ MONTH  ┆ WEEK_NUM │\n",
       "│ ---     ┆ ---           ┆ ---    ┆ ---      │\n",
       "│ i64     ┆ str           ┆ i64    ┆ i64      │\n",
       "╞═════════╪═══════════════╪════════╪══════════╡\n",
       "│ 57543   ┆ 2021-05-14    ┆ 202201 ┆ 100      │\n",
       "│ 57549   ┆ 2022-01-17    ┆ 202201 ┆ 100      │\n",
       "│ 57551   ┆ 2020-11-27    ┆ 202201 ┆ 100      │\n",
       "│ 57552   ┆ 2020-11-27    ┆ 202201 ┆ 100      │\n",
       "│ 57569   ┆ 2021-12-20    ┆ 202201 ┆ 100      │\n",
       "└─────────┴───────────────┴────────┴──────────┘"
      ]
     },
     "execution_count": 32,
     "metadata": {},
     "output_type": "execute_result"
    }
   ],
   "source": [
    "test_basetable.head()"
   ]
  },
  {
   "cell_type": "code",
   "execution_count": 33,
   "id": "6a2ea453",
   "metadata": {
    "execution": {
     "iopub.execute_input": "2024-05-22T16:45:36.415163Z",
     "iopub.status.busy": "2024-05-22T16:45:36.414772Z",
     "iopub.status.idle": "2024-05-22T16:45:36.432103Z",
     "shell.execute_reply": "2024-05-22T16:45:36.431078Z"
    },
    "papermill": {
     "duration": 0.050442,
     "end_time": "2024-05-22T16:45:36.434385",
     "exception": false,
     "start_time": "2024-05-22T16:45:36.383943",
     "status": "completed"
    },
    "tags": []
   },
   "outputs": [
    {
     "data": {
      "text/html": [
       "<div><style>\n",
       ".dataframe > thead > tr,\n",
       ".dataframe > tbody > tr {\n",
       "  text-align: right;\n",
       "  white-space: pre-wrap;\n",
       "}\n",
       "</style>\n",
       "<small>shape: (5, 168)</small><table border=\"1\" class=\"dataframe\"><thead><tr><th>case_id</th><th>actualdpdtolerance_344P</th><th>amtinstpaidbefduel24m_4187115A</th><th>annuity_780A</th><th>annuitynextmonth_57A</th><th>applicationcnt_361L</th><th>applications30d_658L</th><th>applicationscnt_1086L</th><th>applicationscnt_464L</th><th>applicationscnt_629L</th><th>applicationscnt_867L</th><th>avgdbddpdlast24m_3658932P</th><th>avgdbddpdlast3m_4187120P</th><th>avgdbdtollast24m_4525197P</th><th>avgdpdtolclosure24_3658938P</th><th>avginstallast24m_3658937A</th><th>avglnamtstart24m_4525187A</th><th>avgmaxdpdlast9m_3716943P</th><th>avgoutstandbalancel6m_4187114A</th><th>avgpmtlast12m_4525200A</th><th>bankacctype_710L</th><th>cardtype_51L</th><th>clientscnt12m_3712952L</th><th>clientscnt3m_3712950L</th><th>clientscnt6m_3712949L</th><th>clientscnt_100L</th><th>clientscnt_1022L</th><th>clientscnt_1071L</th><th>clientscnt_1130L</th><th>clientscnt_136L</th><th>clientscnt_157L</th><th>clientscnt_257L</th><th>clientscnt_304L</th><th>clientscnt_360L</th><th>clientscnt_493L</th><th>clientscnt_533L</th><th>clientscnt_887L</th><th>&hellip;</th><th>numinstpaidearlyest_4493214L</th><th>numinstpaidlastcontr_4325080L</th><th>numinstpaidlate1d_3546852L</th><th>numinstregularpaid_973L</th><th>numinstregularpaidest_4493210L</th><th>numinsttopaygr_769L</th><th>numinsttopaygrest_4493213L</th><th>numinstunpaidmax_3546851L</th><th>numinstunpaidmaxest_4493212L</th><th>numnotactivated_1143L</th><th>numpmtchanneldd_318L</th><th>numrejects9m_859L</th><th>opencred_647L</th><th>paytype1st_925L</th><th>paytype_783L</th><th>payvacationpostpone_4187118D</th><th>pctinstlsallpaidearl3d_427L</th><th>pctinstlsallpaidlat10d_839L</th><th>pctinstlsallpaidlate1d_3546856L</th><th>pctinstlsallpaidlate4d_3546849L</th><th>pctinstlsallpaidlate6d_3546844L</th><th>pmtnum_254L</th><th>posfpd10lastmonth_333P</th><th>posfpd30lastmonth_3976960P</th><th>posfstqpd30lastmonth_3976962P</th><th>previouscontdistrict_112M</th><th>price_1097A</th><th>sellerplacecnt_915L</th><th>sellerplacescnt_216L</th><th>sumoutstandtotal_3546847A</th><th>sumoutstandtotalest_4493215A</th><th>totaldebt_9A</th><th>totalsettled_863A</th><th>totinstallast1m_4525188A</th><th>twobodfilling_608L</th><th>typesuite_864L</th><th>validfrom_1069D</th></tr><tr><td>i64</td><td>f64</td><td>f64</td><td>f64</td><td>f64</td><td>f64</td><td>f64</td><td>f64</td><td>f64</td><td>f64</td><td>f64</td><td>f64</td><td>f64</td><td>f64</td><td>f64</td><td>f64</td><td>f64</td><td>f64</td><td>f64</td><td>f64</td><td>str</td><td>str</td><td>f64</td><td>f64</td><td>f64</td><td>f64</td><td>f64</td><td>f64</td><td>f64</td><td>str</td><td>f64</td><td>f64</td><td>f64</td><td>f64</td><td>f64</td><td>f64</td><td>f64</td><td>&hellip;</td><td>f64</td><td>f64</td><td>f64</td><td>f64</td><td>f64</td><td>f64</td><td>f64</td><td>f64</td><td>f64</td><td>f64</td><td>f64</td><td>f64</td><td>bool</td><td>str</td><td>str</td><td>str</td><td>f64</td><td>f64</td><td>f64</td><td>f64</td><td>f64</td><td>f64</td><td>f64</td><td>f64</td><td>f64</td><td>str</td><td>f64</td><td>f64</td><td>f64</td><td>f64</td><td>f64</td><td>f64</td><td>f64</td><td>f64</td><td>str</td><td>str</td><td>str</td></tr></thead><tbody><tr><td>57543</td><td>0.0</td><td>191767.36</td><td>3674.6</td><td>1218.2001</td><td>0.0</td><td>0.0</td><td>0.0</td><td>0.0</td><td>0.0</td><td>9.0</td><td>1.0</td><td>2.0</td><td>1.0</td><td>1.0</td><td>16049.4</td><td>17054.4</td><td>2.0</td><td>14554.4</td><td>24482.0</td><td>&quot;CA&quot;</td><td>null</td><td>0.0</td><td>0.0</td><td>0.0</td><td>0.0</td><td>0.0</td><td>0.0</td><td>0.0</td><td>null</td><td>0.0</td><td>0.0</td><td>0.0</td><td>0.0</td><td>0.0</td><td>0.0</td><td>0.0</td><td>&hellip;</td><td>25.0</td><td>1.0</td><td>31.0</td><td>96.0</td><td>96.0</td><td>10.0</td><td>10.0</td><td>10.0</td><td>10.0</td><td>0.0</td><td>0.0</td><td>0.0</td><td>false</td><td>null</td><td>null</td><td>&quot;2020-05-23&quot;</td><td>0.35417</td><td>0.0</td><td>0.32292</td><td>0.07292</td><td>0.05208</td><td>6.0</td><td>0.0</td><td>0.0</td><td>0.0</td><td>&quot;a55475b1&quot;</td><td>0.0</td><td>0.0</td><td>5.0</td><td>12154.4</td><td>12154.4</td><td>12154.4</td><td>456031.1</td><td>17859.6</td><td>&quot;FO&quot;</td><td>&quot;AL&quot;</td><td>null</td></tr><tr><td>57551</td><td>0.0</td><td>71036.4</td><td>2844.6</td><td>0.0</td><td>0.0</td><td>1.0</td><td>0.0</td><td>0.0</td><td>0.0</td><td>2.0</td><td>-1.0</td><td>null</td><td>-1.0</td><td>1.0</td><td>8357.2</td><td>null</td><td>1.0</td><td>0.0</td><td>9551.0</td><td>null</td><td>null</td><td>0.0</td><td>0.0</td><td>0.0</td><td>0.0</td><td>0.0</td><td>0.0</td><td>0.0</td><td>null</td><td>0.0</td><td>0.0</td><td>0.0</td><td>0.0</td><td>0.0</td><td>0.0</td><td>0.0</td><td>&hellip;</td><td>0.0</td><td>9.0</td><td>1.0</td><td>9.0</td><td>9.0</td><td>0.0</td><td>0.0</td><td>0.0</td><td>0.0</td><td>0.0</td><td>0.0</td><td>0.0</td><td>false</td><td>&quot;OTHER&quot;</td><td>&quot;OTHER&quot;</td><td>null</td><td>0.33333</td><td>0.0</td><td>0.11111</td><td>0.11111</td><td>0.0</td><td>12.0</td><td>null</td><td>null</td><td>null</td><td>&quot;P11_36_178&quot;</td><td>27095.201</td><td>1.0</td><td>2.0</td><td>0.0</td><td>0.0</td><td>0.0</td><td>75219.0</td><td>null</td><td>&quot;FO&quot;</td><td>null</td><td>null</td></tr><tr><td>57552</td><td>0.0</td><td>183992.0</td><td>6298.8003</td><td>12155.4</td><td>0.0</td><td>0.0</td><td>0.0</td><td>0.0</td><td>0.0</td><td>9.0</td><td>-9.0</td><td>-7.0</td><td>-9.0</td><td>0.0</td><td>7440.4</td><td>null</td><td>0.0</td><td>199322.4</td><td>9148.4</td><td>&quot;CA&quot;</td><td>null</td><td>0.0</td><td>0.0</td><td>0.0</td><td>0.0</td><td>0.0</td><td>0.0</td><td>0.0</td><td>null</td><td>0.0</td><td>0.0</td><td>0.0</td><td>0.0</td><td>0.0</td><td>0.0</td><td>0.0</td><td>&hellip;</td><td>24.0</td><td>0.0</td><td>0.0</td><td>32.0</td><td>32.0</td><td>30.0</td><td>30.0</td><td>22.0</td><td>22.0</td><td>1.0</td><td>0.0</td><td>1.0</td><td>false</td><td>&quot;OTHER&quot;</td><td>&quot;OTHER&quot;</td><td>null</td><td>0.83871</td><td>0.0</td><td>0.0</td><td>0.0</td><td>0.0</td><td>24.0</td><td>0.0</td><td>0.0</td><td>0.0</td><td>&quot;P21_87_50&quot;</td><td>null</td><td>0.0</td><td>6.0</td><td>191269.61</td><td>191269.61</td><td>191269.61</td><td>284213.0</td><td>18889.0</td><td>&quot;BO&quot;</td><td>null</td><td>null</td></tr><tr><td>57569</td><td>0.0</td><td>0.0</td><td>4682.6</td><td>0.0</td><td>0.0</td><td>1.0</td><td>0.0</td><td>0.0</td><td>0.0</td><td>6.0</td><td>2824.0</td><td>null</td><td>2824.0</td><td>2517.0</td><td>null</td><td>null</td><td>null</td><td>null</td><td>10796.4</td><td>&quot;CA&quot;</td><td>null</td><td>0.0</td><td>0.0</td><td>0.0</td><td>0.0</td><td>0.0</td><td>0.0</td><td>0.0</td><td>null</td><td>0.0</td><td>0.0</td><td>0.0</td><td>0.0</td><td>0.0</td><td>0.0</td><td>0.0</td><td>&hellip;</td><td>5.0</td><td>5.0</td><td>10.0</td><td>15.0</td><td>15.0</td><td>0.0</td><td>0.0</td><td>0.0</td><td>0.0</td><td>1.0</td><td>0.0</td><td>4.0</td><td>true</td><td>null</td><td>null</td><td>null</td><td>0.33333</td><td>0.6</td><td>0.66667</td><td>0.66667</td><td>0.6</td><td>24.0</td><td>0.0</td><td>null</td><td>null</td><td>&quot;a55475b1&quot;</td><td>null</td><td>2.0</td><td>3.0</td><td>0.0</td><td>0.0</td><td>0.0</td><td>95348.42</td><td>null</td><td>&quot;FO&quot;</td><td>null</td><td>null</td></tr><tr><td>57630</td><td>0.0</td><td>0.0</td><td>8905.0</td><td>0.0</td><td>0.0</td><td>0.0</td><td>0.0</td><td>0.0</td><td>0.0</td><td>1.0</td><td>null</td><td>null</td><td>null</td><td>0.0</td><td>null</td><td>null</td><td>null</td><td>null</td><td>null</td><td>null</td><td>null</td><td>0.0</td><td>0.0</td><td>0.0</td><td>0.0</td><td>0.0</td><td>0.0</td><td>0.0</td><td>null</td><td>0.0</td><td>0.0</td><td>0.0</td><td>0.0</td><td>0.0</td><td>0.0</td><td>0.0</td><td>&hellip;</td><td>3.0</td><td>7.0</td><td>2.0</td><td>7.0</td><td>7.0</td><td>0.0</td><td>0.0</td><td>0.0</td><td>0.0</td><td>0.0</td><td>0.0</td><td>0.0</td><td>false</td><td>null</td><td>null</td><td>null</td><td>0.42857</td><td>0.0</td><td>0.28571</td><td>0.0</td><td>0.0</td><td>12.0</td><td>0.0</td><td>0.0</td><td>0.0</td><td>&quot;a55475b1&quot;</td><td>96174.0</td><td>0.0</td><td>1.0</td><td>0.0</td><td>0.0</td><td>0.0</td><td>9677.601</td><td>null</td><td>&quot;FO&quot;</td><td>null</td><td>null</td></tr></tbody></table></div>"
      ],
      "text/plain": [
       "shape: (5, 168)\n",
       "┌─────────┬────────────┬───────────┬───────────┬───┬───────────┬───────────┬───────────┬───────────┐\n",
       "│ case_id ┆ actualdpdt ┆ amtinstpa ┆ annuity_7 ┆ … ┆ totinstal ┆ twobodfil ┆ typesuite ┆ validfrom │\n",
       "│ ---     ┆ olerance_3 ┆ idbefduel ┆ 80A       ┆   ┆ last1m_45 ┆ ling_608L ┆ _864L     ┆ _1069D    │\n",
       "│ i64     ┆ 44P        ┆ 24m_41871 ┆ ---       ┆   ┆ 25188A    ┆ ---       ┆ ---       ┆ ---       │\n",
       "│         ┆ ---        ┆ 15A       ┆ f64       ┆   ┆ ---       ┆ str       ┆ str       ┆ str       │\n",
       "│         ┆ f64        ┆ ---       ┆           ┆   ┆ f64       ┆           ┆           ┆           │\n",
       "│         ┆            ┆ f64       ┆           ┆   ┆           ┆           ┆           ┆           │\n",
       "╞═════════╪════════════╪═══════════╪═══════════╪═══╪═══════════╪═══════════╪═══════════╪═══════════╡\n",
       "│ 57543   ┆ 0.0        ┆ 191767.36 ┆ 3674.6    ┆ … ┆ 17859.6   ┆ FO        ┆ AL        ┆ null      │\n",
       "│ 57551   ┆ 0.0        ┆ 71036.4   ┆ 2844.6    ┆ … ┆ null      ┆ FO        ┆ null      ┆ null      │\n",
       "│ 57552   ┆ 0.0        ┆ 183992.0  ┆ 6298.8003 ┆ … ┆ 18889.0   ┆ BO        ┆ null      ┆ null      │\n",
       "│ 57569   ┆ 0.0        ┆ 0.0       ┆ 4682.6    ┆ … ┆ null      ┆ FO        ┆ null      ┆ null      │\n",
       "│ 57630   ┆ 0.0        ┆ 0.0       ┆ 8905.0    ┆ … ┆ null      ┆ FO        ┆ null      ┆ null      │\n",
       "└─────────┴────────────┴───────────┴───────────┴───┴───────────┴───────────┴───────────┴───────────┘"
      ]
     },
     "execution_count": 33,
     "metadata": {},
     "output_type": "execute_result"
    }
   ],
   "source": [
    "test_static.head()"
   ]
  },
  {
   "cell_type": "code",
   "execution_count": 34,
   "id": "7a24bf28",
   "metadata": {
    "execution": {
     "iopub.execute_input": "2024-05-22T16:45:36.496367Z",
     "iopub.status.busy": "2024-05-22T16:45:36.496000Z",
     "iopub.status.idle": "2024-05-22T16:45:36.510599Z",
     "shell.execute_reply": "2024-05-22T16:45:36.509529Z"
    },
    "papermill": {
     "duration": 0.048486,
     "end_time": "2024-05-22T16:45:36.512896",
     "exception": false,
     "start_time": "2024-05-22T16:45:36.464410",
     "status": "completed"
    },
    "tags": []
   },
   "outputs": [
    {
     "data": {
      "text/html": [
       "<div><style>\n",
       ".dataframe > thead > tr,\n",
       ".dataframe > tbody > tr {\n",
       "  text-align: right;\n",
       "  white-space: pre-wrap;\n",
       "}\n",
       "</style>\n",
       "<small>shape: (5, 53)</small><table border=\"1\" class=\"dataframe\"><thead><tr><th>case_id</th><th>assignmentdate_238D</th><th>assignmentdate_4527235D</th><th>assignmentdate_4955616D</th><th>birthdate_574D</th><th>contractssum_5085716L</th><th>dateofbirth_337D</th><th>dateofbirth_342D</th><th>days120_123L</th><th>days180_256L</th><th>days30_165L</th><th>days360_512L</th><th>days90_310L</th><th>description_5085714M</th><th>education_1103M</th><th>education_88M</th><th>firstquarter_103L</th><th>for3years_128L</th><th>for3years_504L</th><th>for3years_584L</th><th>formonth_118L</th><th>formonth_206L</th><th>formonth_535L</th><th>forquarter_1017L</th><th>forquarter_462L</th><th>forquarter_634L</th><th>fortoday_1092L</th><th>forweek_1077L</th><th>forweek_528L</th><th>forweek_601L</th><th>foryear_618L</th><th>foryear_818L</th><th>foryear_850L</th><th>fourthquarter_440L</th><th>maritalst_385M</th><th>maritalst_893M</th><th>numberofqueries_373L</th><th>pmtaverage_3A</th><th>pmtaverage_4527227A</th><th>pmtaverage_4955615A</th><th>pmtcount_4527229L</th><th>pmtcount_4955617L</th><th>pmtcount_693L</th><th>pmtscount_423L</th><th>pmtssum_45A</th><th>requesttype_4525192L</th><th>responsedate_1012D</th><th>responsedate_4527233D</th><th>responsedate_4917613D</th><th>riskassesment_302T</th><th>riskassesment_940T</th><th>secondquarter_766L</th><th>thirdquarter_1082L</th></tr><tr><td>i64</td><td>str</td><td>str</td><td>str</td><td>str</td><td>f64</td><td>str</td><td>str</td><td>f64</td><td>f64</td><td>f64</td><td>f64</td><td>f64</td><td>str</td><td>str</td><td>str</td><td>f64</td><td>str</td><td>str</td><td>str</td><td>str</td><td>str</td><td>str</td><td>str</td><td>str</td><td>str</td><td>str</td><td>str</td><td>str</td><td>str</td><td>str</td><td>str</td><td>str</td><td>f64</td><td>str</td><td>str</td><td>f64</td><td>f64</td><td>f64</td><td>f64</td><td>str</td><td>f64</td><td>str</td><td>str</td><td>f64</td><td>str</td><td>str</td><td>str</td><td>str</td><td>str</td><td>str</td><td>f64</td><td>f64</td></tr></thead><tbody><tr><td>57543</td><td>null</td><td>null</td><td>null</td><td>null</td><td>151364.0</td><td>&quot;1980-11-01&quot;</td><td>null</td><td>2.0</td><td>4.0</td><td>1.0</td><td>8.0</td><td>2.0</td><td>&quot;2fc785b2&quot;</td><td>&quot;6b2ae0fa&quot;</td><td>&quot;a55475b1&quot;</td><td>4.0</td><td>null</td><td>null</td><td>null</td><td>null</td><td>null</td><td>null</td><td>null</td><td>null</td><td>null</td><td>null</td><td>null</td><td>null</td><td>null</td><td>null</td><td>null</td><td>null</td><td>9.0</td><td>&quot;38c061ee&quot;</td><td>&quot;a55475b1&quot;</td><td>8.0</td><td>null</td><td>null</td><td>null</td><td>null</td><td>null</td><td>null</td><td>null</td><td>null</td><td>null</td><td>null</td><td>null</td><td>&quot;2021-05-28&quot;</td><td>null</td><td>null</td><td>2.0</td><td>3.0</td></tr><tr><td>57549</td><td>null</td><td>null</td><td>&quot;2018-05-06&quot;</td><td>null</td><td>1.5631e6</td><td>&quot;1959-11-01&quot;</td><td>null</td><td>6.0</td><td>9.0</td><td>3.0</td><td>12.0</td><td>4.0</td><td>&quot;2fc785b2&quot;</td><td>&quot;39a0853f&quot;</td><td>&quot;a55475b1&quot;</td><td>9.0</td><td>null</td><td>null</td><td>null</td><td>null</td><td>null</td><td>null</td><td>null</td><td>null</td><td>null</td><td>null</td><td>null</td><td>null</td><td>null</td><td>null</td><td>null</td><td>null</td><td>5.0</td><td>&quot;a7fcb6e5&quot;</td><td>&quot;a55475b1&quot;</td><td>12.0</td><td>null</td><td>null</td><td>26815.6</td><td>null</td><td>14.0</td><td>null</td><td>null</td><td>null</td><td>null</td><td>null</td><td>null</td><td>&quot;2022-01-31&quot;</td><td>null</td><td>null</td><td>8.0</td><td>2.0</td></tr><tr><td>57551</td><td>null</td><td>null</td><td>null</td><td>null</td><td>2926195.3</td><td>&quot;1982-05-01&quot;</td><td>null</td><td>1.0</td><td>3.0</td><td>1.0</td><td>4.0</td><td>1.0</td><td>&quot;2fc785b2&quot;</td><td>&quot;6b2ae0fa&quot;</td><td>&quot;a55475b1&quot;</td><td>3.0</td><td>null</td><td>null</td><td>null</td><td>null</td><td>null</td><td>null</td><td>null</td><td>null</td><td>null</td><td>null</td><td>null</td><td>null</td><td>null</td><td>null</td><td>null</td><td>null</td><td>2.0</td><td>&quot;3439d993&quot;</td><td>&quot;a55475b1&quot;</td><td>4.0</td><td>null</td><td>null</td><td>null</td><td>null</td><td>null</td><td>null</td><td>null</td><td>null</td><td>null</td><td>null</td><td>null</td><td>&quot;2020-12-11&quot;</td><td>null</td><td>null</td><td>5.0</td><td>5.0</td></tr><tr><td>57552</td><td>null</td><td>null</td><td>&quot;2018-11-18&quot;</td><td>null</td><td>747031.73</td><td>&quot;1955-11-01&quot;</td><td>null</td><td>2.0</td><td>2.0</td><td>0.0</td><td>5.0</td><td>0.0</td><td>&quot;2fc785b2&quot;</td><td>&quot;a55475b1&quot;</td><td>&quot;a55475b1&quot;</td><td>3.0</td><td>null</td><td>null</td><td>null</td><td>null</td><td>null</td><td>null</td><td>null</td><td>null</td><td>null</td><td>null</td><td>null</td><td>null</td><td>null</td><td>null</td><td>null</td><td>null</td><td>2.0</td><td>&quot;a55475b1&quot;</td><td>&quot;a55475b1&quot;</td><td>5.0</td><td>null</td><td>null</td><td>23402.8</td><td>null</td><td>14.0</td><td>null</td><td>null</td><td>null</td><td>null</td><td>null</td><td>null</td><td>&quot;2020-12-11&quot;</td><td>null</td><td>null</td><td>7.0</td><td>1.0</td></tr><tr><td>57569</td><td>null</td><td>null</td><td>&quot;2011-10-14&quot;</td><td>null</td><td>null</td><td>&quot;1949-09-01&quot;</td><td>null</td><td>4.0</td><td>4.0</td><td>1.0</td><td>4.0</td><td>4.0</td><td>&quot;2fc785b2&quot;</td><td>&quot;717ddd49&quot;</td><td>&quot;a55475b1&quot;</td><td>0.0</td><td>null</td><td>null</td><td>null</td><td>null</td><td>null</td><td>null</td><td>null</td><td>null</td><td>null</td><td>null</td><td>null</td><td>null</td><td>null</td><td>null</td><td>null</td><td>null</td><td>0.0</td><td>&quot;3439d993&quot;</td><td>&quot;a55475b1&quot;</td><td>4.0</td><td>null</td><td>null</td><td>17333.6</td><td>null</td><td>14.0</td><td>null</td><td>null</td><td>null</td><td>null</td><td>null</td><td>null</td><td>&quot;2022-01-03&quot;</td><td>null</td><td>null</td><td>1.0</td><td>3.0</td></tr></tbody></table></div>"
      ],
      "text/plain": [
       "shape: (5, 53)\n",
       "┌─────────┬────────────┬───────────┬───────────┬───┬───────────┬───────────┬───────────┬───────────┐\n",
       "│ case_id ┆ assignment ┆ assignmen ┆ assignmen ┆ … ┆ riskasses ┆ riskasses ┆ secondqua ┆ thirdquar │\n",
       "│ ---     ┆ date_238D  ┆ tdate_452 ┆ tdate_495 ┆   ┆ ment_302T ┆ ment_940T ┆ rter_766L ┆ ter_1082L │\n",
       "│ i64     ┆ ---        ┆ 7235D     ┆ 5616D     ┆   ┆ ---       ┆ ---       ┆ ---       ┆ ---       │\n",
       "│         ┆ str        ┆ ---       ┆ ---       ┆   ┆ str       ┆ str       ┆ f64       ┆ f64       │\n",
       "│         ┆            ┆ str       ┆ str       ┆   ┆           ┆           ┆           ┆           │\n",
       "╞═════════╪════════════╪═══════════╪═══════════╪═══╪═══════════╪═══════════╪═══════════╪═══════════╡\n",
       "│ 57543   ┆ null       ┆ null      ┆ null      ┆ … ┆ null      ┆ null      ┆ 2.0       ┆ 3.0       │\n",
       "│ 57549   ┆ null       ┆ null      ┆ 2018-05-0 ┆ … ┆ null      ┆ null      ┆ 8.0       ┆ 2.0       │\n",
       "│         ┆            ┆           ┆ 6         ┆   ┆           ┆           ┆           ┆           │\n",
       "│ 57551   ┆ null       ┆ null      ┆ null      ┆ … ┆ null      ┆ null      ┆ 5.0       ┆ 5.0       │\n",
       "│ 57552   ┆ null       ┆ null      ┆ 2018-11-1 ┆ … ┆ null      ┆ null      ┆ 7.0       ┆ 1.0       │\n",
       "│         ┆            ┆           ┆ 8         ┆   ┆           ┆           ┆           ┆           │\n",
       "│ 57569   ┆ null       ┆ null      ┆ 2011-10-1 ┆ … ┆ null      ┆ null      ┆ 1.0       ┆ 3.0       │\n",
       "│         ┆            ┆           ┆ 4         ┆   ┆           ┆           ┆           ┆           │\n",
       "└─────────┴────────────┴───────────┴───────────┴───┴───────────┴───────────┴───────────┴───────────┘"
      ]
     },
     "execution_count": 34,
     "metadata": {},
     "output_type": "execute_result"
    }
   ],
   "source": [
    "test_static_cb.head()"
   ]
  },
  {
   "cell_type": "code",
   "execution_count": 35,
   "id": "4bc0f4ce",
   "metadata": {
    "execution": {
     "iopub.execute_input": "2024-05-22T16:45:36.574973Z",
     "iopub.status.busy": "2024-05-22T16:45:36.574575Z",
     "iopub.status.idle": "2024-05-22T16:45:36.587272Z",
     "shell.execute_reply": "2024-05-22T16:45:36.586218Z"
    },
    "papermill": {
     "duration": 0.046431,
     "end_time": "2024-05-22T16:45:36.589658",
     "exception": false,
     "start_time": "2024-05-22T16:45:36.543227",
     "status": "completed"
    },
    "tags": []
   },
   "outputs": [
    {
     "data": {
      "text/html": [
       "<div><style>\n",
       ".dataframe > thead > tr,\n",
       ".dataframe > tbody > tr {\n",
       "  text-align: right;\n",
       "  white-space: pre-wrap;\n",
       "}\n",
       "</style>\n",
       "<small>shape: (5, 37)</small><table border=\"1\" class=\"dataframe\"><thead><tr><th>case_id</th><th>birth_259D</th><th>birthdate_87D</th><th>childnum_185L</th><th>contaddr_district_15M</th><th>contaddr_matchlist_1032L</th><th>contaddr_smempladdr_334L</th><th>contaddr_zipcode_807M</th><th>education_927M</th><th>empl_employedfrom_271D</th><th>empl_employedtotal_800L</th><th>empl_industry_691L</th><th>empladdr_district_926M</th><th>empladdr_zipcode_114M</th><th>familystate_447L</th><th>gender_992L</th><th>housetype_905L</th><th>housingtype_772L</th><th>incometype_1044T</th><th>isreference_387L</th><th>language1_981M</th><th>mainoccupationinc_384A</th><th>maritalst_703L</th><th>num_group1</th><th>personindex_1023L</th><th>persontype_1072L</th><th>persontype_792L</th><th>registaddr_district_1083M</th><th>registaddr_zipcode_184M</th><th>relationshiptoclient_415T</th><th>relationshiptoclient_642T</th><th>remitter_829L</th><th>role_1084L</th><th>role_993L</th><th>safeguarantyflag_411L</th><th>sex_738L</th><th>type_25L</th></tr><tr><td>i64</td><td>str</td><td>str</td><td>f64</td><td>str</td><td>bool</td><td>bool</td><td>str</td><td>str</td><td>str</td><td>str</td><td>str</td><td>str</td><td>str</td><td>str</td><td>str</td><td>str</td><td>str</td><td>str</td><td>bool</td><td>str</td><td>f64</td><td>str</td><td>i64</td><td>f64</td><td>f64</td><td>f64</td><td>str</td><td>str</td><td>str</td><td>str</td><td>bool</td><td>str</td><td>str</td><td>bool</td><td>str</td><td>str</td></tr></thead><tbody><tr><td>57543</td><td>&quot;1980-11-01&quot;</td><td>null</td><td>null</td><td>&quot;P107_155_111&quot;</td><td>false</td><td>false</td><td>&quot;P91_47_168&quot;</td><td>&quot;P33_146_175&quot;</td><td>null</td><td>null</td><td>null</td><td>&quot;a55475b1&quot;</td><td>&quot;a55475b1&quot;</td><td>&quot;SINGLE&quot;</td><td>null</td><td>null</td><td>null</td><td>&quot;SALARIED_GOVT&quot;</td><td>null</td><td>&quot;a55475b1&quot;</td><td>34000.0</td><td>null</td><td>0</td><td>0.0</td><td>1.0</td><td>1.0</td><td>&quot;P107_155_111&quot;</td><td>&quot;P91_47_168&quot;</td><td>null</td><td>null</td><td>null</td><td>&quot;CL&quot;</td><td>null</td><td>false</td><td>&quot;F&quot;</td><td>&quot;PRIMARY_MOBILE…</td></tr><tr><td>57543</td><td>null</td><td>null</td><td>null</td><td>&quot;a55475b1&quot;</td><td>null</td><td>null</td><td>&quot;a55475b1&quot;</td><td>&quot;a55475b1&quot;</td><td>null</td><td>null</td><td>null</td><td>&quot;a55475b1&quot;</td><td>&quot;a55475b1&quot;</td><td>null</td><td>null</td><td>null</td><td>null</td><td>null</td><td>null</td><td>&quot;a55475b1&quot;</td><td>null</td><td>null</td><td>1</td><td>1.0</td><td>5.0</td><td>5.0</td><td>&quot;a55475b1&quot;</td><td>&quot;a55475b1&quot;</td><td>&quot;SIBLING&quot;</td><td>&quot;SIBLING&quot;</td><td>false</td><td>&quot;PE&quot;</td><td>null</td><td>null</td><td>null</td><td>&quot;PHONE&quot;</td></tr><tr><td>57549</td><td>&quot;1959-11-01&quot;</td><td>null</td><td>null</td><td>&quot;a55475b1&quot;</td><td>null</td><td>null</td><td>&quot;a55475b1&quot;</td><td>&quot;P106_81_188&quot;</td><td>null</td><td>null</td><td>null</td><td>&quot;a55475b1&quot;</td><td>&quot;a55475b1&quot;</td><td>&quot;SINGLE&quot;</td><td>null</td><td>null</td><td>null</td><td>&quot;RETIRED_PENSIO…</td><td>null</td><td>&quot;a55475b1&quot;</td><td>49800.0</td><td>null</td><td>0</td><td>0.0</td><td>1.0</td><td>1.0</td><td>&quot;P121_131_159&quot;</td><td>&quot;P111_112_180&quot;</td><td>null</td><td>null</td><td>null</td><td>&quot;CL&quot;</td><td>null</td><td>true</td><td>&quot;F&quot;</td><td>&quot;PRIMARY_MOBILE…</td></tr><tr><td>57549</td><td>null</td><td>null</td><td>null</td><td>&quot;a55475b1&quot;</td><td>null</td><td>null</td><td>&quot;a55475b1&quot;</td><td>&quot;a55475b1&quot;</td><td>null</td><td>null</td><td>null</td><td>&quot;a55475b1&quot;</td><td>&quot;a55475b1&quot;</td><td>null</td><td>null</td><td>null</td><td>null</td><td>null</td><td>null</td><td>&quot;a55475b1&quot;</td><td>null</td><td>null</td><td>1</td><td>1.0</td><td>5.0</td><td>5.0</td><td>&quot;a55475b1&quot;</td><td>&quot;a55475b1&quot;</td><td>&quot;COLLEAGUE&quot;</td><td>&quot;COLLEAGUE&quot;</td><td>false</td><td>&quot;PE&quot;</td><td>null</td><td>null</td><td>null</td><td>&quot;PHONE&quot;</td></tr><tr><td>57551</td><td>&quot;1982-05-01&quot;</td><td>null</td><td>null</td><td>&quot;P11_36_178&quot;</td><td>false</td><td>false</td><td>&quot;P97_107_128&quot;</td><td>&quot;a55475b1&quot;</td><td>&quot;2002-01-08&quot;</td><td>null</td><td>null</td><td>&quot;a55475b1&quot;</td><td>&quot;a55475b1&quot;</td><td>null</td><td>null</td><td>null</td><td>null</td><td>&quot;SALARIED_GOVT&quot;</td><td>null</td><td>&quot;P10_39_147&quot;</td><td>59600.0</td><td>null</td><td>0</td><td>0.0</td><td>1.0</td><td>1.0</td><td>&quot;P11_36_178&quot;</td><td>&quot;P97_107_128&quot;</td><td>null</td><td>null</td><td>null</td><td>&quot;CL&quot;</td><td>null</td><td>false</td><td>&quot;F&quot;</td><td>&quot;PRIMARY_MOBILE…</td></tr></tbody></table></div>"
      ],
      "text/plain": [
       "shape: (5, 37)\n",
       "┌─────────┬────────────┬────────────┬───────────┬───┬───────────┬───────────┬──────────┬───────────┐\n",
       "│ case_id ┆ birth_259D ┆ birthdate_ ┆ childnum_ ┆ … ┆ role_993L ┆ safeguara ┆ sex_738L ┆ type_25L  │\n",
       "│ ---     ┆ ---        ┆ 87D        ┆ 185L      ┆   ┆ ---       ┆ ntyflag_4 ┆ ---      ┆ ---       │\n",
       "│ i64     ┆ str        ┆ ---        ┆ ---       ┆   ┆ str       ┆ 11L       ┆ str      ┆ str       │\n",
       "│         ┆            ┆ str        ┆ f64       ┆   ┆           ┆ ---       ┆          ┆           │\n",
       "│         ┆            ┆            ┆           ┆   ┆           ┆ bool      ┆          ┆           │\n",
       "╞═════════╪════════════╪════════════╪═══════════╪═══╪═══════════╪═══════════╪══════════╪═══════════╡\n",
       "│ 57543   ┆ 1980-11-01 ┆ null       ┆ null      ┆ … ┆ null      ┆ false     ┆ F        ┆ PRIMARY_M │\n",
       "│         ┆            ┆            ┆           ┆   ┆           ┆           ┆          ┆ OBILE     │\n",
       "│ 57543   ┆ null       ┆ null       ┆ null      ┆ … ┆ null      ┆ null      ┆ null     ┆ PHONE     │\n",
       "│ 57549   ┆ 1959-11-01 ┆ null       ┆ null      ┆ … ┆ null      ┆ true      ┆ F        ┆ PRIMARY_M │\n",
       "│         ┆            ┆            ┆           ┆   ┆           ┆           ┆          ┆ OBILE     │\n",
       "│ 57549   ┆ null       ┆ null       ┆ null      ┆ … ┆ null      ┆ null      ┆ null     ┆ PHONE     │\n",
       "│ 57551   ┆ 1982-05-01 ┆ null       ┆ null      ┆ … ┆ null      ┆ false     ┆ F        ┆ PRIMARY_M │\n",
       "│         ┆            ┆            ┆           ┆   ┆           ┆           ┆          ┆ OBILE     │\n",
       "└─────────┴────────────┴────────────┴───────────┴───┴───────────┴───────────┴──────────┴───────────┘"
      ]
     },
     "execution_count": 35,
     "metadata": {},
     "output_type": "execute_result"
    }
   ],
   "source": [
    "test_person_1.head()"
   ]
  },
  {
   "cell_type": "code",
   "execution_count": 36,
   "id": "b08cb9e0",
   "metadata": {
    "execution": {
     "iopub.execute_input": "2024-05-22T16:45:36.653231Z",
     "iopub.status.busy": "2024-05-22T16:45:36.652850Z",
     "iopub.status.idle": "2024-05-22T16:45:36.661012Z",
     "shell.execute_reply": "2024-05-22T16:45:36.659979Z"
    },
    "papermill": {
     "duration": 0.043138,
     "end_time": "2024-05-22T16:45:36.663818",
     "exception": false,
     "start_time": "2024-05-22T16:45:36.620680",
     "status": "completed"
    },
    "tags": []
   },
   "outputs": [
    {
     "data": {
      "text/html": [
       "<div><style>\n",
       ".dataframe > thead > tr,\n",
       ".dataframe > tbody > tr {\n",
       "  text-align: right;\n",
       "  white-space: pre-wrap;\n",
       "}\n",
       "</style>\n",
       "<small>shape: (5, 6)</small><table border=\"1\" class=\"dataframe\"><thead><tr><th>case_id</th><th>num_group1</th><th>num_group2</th><th>pmts_date_1107D</th><th>pmts_dpdvalue_108P</th><th>pmts_pmtsoverdue_635A</th></tr><tr><td>i64</td><td>i64</td><td>i64</td><td>str</td><td>f64</td><td>f64</td></tr></thead><tbody><tr><td>57675</td><td>0</td><td>0</td><td>&quot;2020-05-15&quot;</td><td>0.0</td><td>0.0</td></tr><tr><td>57675</td><td>0</td><td>1</td><td>&quot;2020-06-14&quot;</td><td>0.0</td><td>0.0</td></tr><tr><td>57675</td><td>0</td><td>2</td><td>&quot;2020-07-15&quot;</td><td>0.0</td><td>0.0</td></tr><tr><td>57675</td><td>0</td><td>3</td><td>&quot;2020-08-15&quot;</td><td>0.0</td><td>0.0</td></tr><tr><td>57675</td><td>0</td><td>4</td><td>&quot;2020-09-13&quot;</td><td>0.0</td><td>0.0</td></tr></tbody></table></div>"
      ],
      "text/plain": [
       "shape: (5, 6)\n",
       "┌─────────┬────────────┬────────────┬─────────────────┬────────────────────┬───────────────────────┐\n",
       "│ case_id ┆ num_group1 ┆ num_group2 ┆ pmts_date_1107D ┆ pmts_dpdvalue_108P ┆ pmts_pmtsoverdue_635A │\n",
       "│ ---     ┆ ---        ┆ ---        ┆ ---             ┆ ---                ┆ ---                   │\n",
       "│ i64     ┆ i64        ┆ i64        ┆ str             ┆ f64                ┆ f64                   │\n",
       "╞═════════╪════════════╪════════════╪═════════════════╪════════════════════╪═══════════════════════╡\n",
       "│ 57675   ┆ 0          ┆ 0          ┆ 2020-05-15      ┆ 0.0                ┆ 0.0                   │\n",
       "│ 57675   ┆ 0          ┆ 1          ┆ 2020-06-14      ┆ 0.0                ┆ 0.0                   │\n",
       "│ 57675   ┆ 0          ┆ 2          ┆ 2020-07-15      ┆ 0.0                ┆ 0.0                   │\n",
       "│ 57675   ┆ 0          ┆ 3          ┆ 2020-08-15      ┆ 0.0                ┆ 0.0                   │\n",
       "│ 57675   ┆ 0          ┆ 4          ┆ 2020-09-13      ┆ 0.0                ┆ 0.0                   │\n",
       "└─────────┴────────────┴────────────┴─────────────────┴────────────────────┴───────────────────────┘"
      ]
     },
     "execution_count": 36,
     "metadata": {},
     "output_type": "execute_result"
    }
   ],
   "source": [
    "test_credit_bureau_b_2.head()"
   ]
  },
  {
   "cell_type": "code",
   "execution_count": 37,
   "id": "73a104c5",
   "metadata": {
    "execution": {
     "iopub.execute_input": "2024-05-22T16:45:36.727967Z",
     "iopub.status.busy": "2024-05-22T16:45:36.727574Z",
     "iopub.status.idle": "2024-05-22T16:45:36.740397Z",
     "shell.execute_reply": "2024-05-22T16:45:36.739211Z"
    },
    "papermill": {
     "duration": 0.047749,
     "end_time": "2024-05-22T16:45:36.743021",
     "exception": false,
     "start_time": "2024-05-22T16:45:36.695272",
     "status": "completed"
    },
    "tags": []
   },
   "outputs": [
    {
     "data": {
      "text/html": [
       "<div><style>\n",
       ".dataframe > thead > tr,\n",
       ".dataframe > tbody > tr {\n",
       "  text-align: right;\n",
       "  white-space: pre-wrap;\n",
       "}\n",
       "</style>\n",
       "<small>shape: (5, 41)</small><table border=\"1\" class=\"dataframe\"><thead><tr><th>case_id</th><th>actualdpd_943P</th><th>annuity_853A</th><th>approvaldate_319D</th><th>byoccupationinc_3656910L</th><th>cancelreason_3545846M</th><th>childnum_21L</th><th>creationdate_885D</th><th>credacc_actualbalance_314A</th><th>credacc_credlmt_575A</th><th>credacc_maxhisbal_375A</th><th>credacc_minhisbal_90A</th><th>credacc_status_367L</th><th>credacc_transactions_402L</th><th>credamount_590A</th><th>credtype_587L</th><th>currdebt_94A</th><th>dateactivated_425D</th><th>district_544M</th><th>downpmt_134A</th><th>dtlastpmt_581D</th><th>dtlastpmtallstes_3545839D</th><th>education_1138M</th><th>employedfrom_700D</th><th>familystate_726L</th><th>firstnonzeroinstldate_307D</th><th>inittransactioncode_279L</th><th>isbidproduct_390L</th><th>isdebitcard_527L</th><th>mainoccupationinc_437A</th><th>maxdpdtolerance_577P</th><th>num_group1</th><th>outstandingdebt_522A</th><th>pmtnum_8L</th><th>postype_4733339M</th><th>profession_152M</th><th>rejectreason_755M</th><th>rejectreasonclient_4145042M</th><th>revolvingaccount_394A</th><th>status_219L</th><th>tenor_203L</th></tr><tr><td>i64</td><td>f64</td><td>f64</td><td>str</td><td>f64</td><td>str</td><td>f64</td><td>str</td><td>f64</td><td>f64</td><td>f64</td><td>f64</td><td>str</td><td>str</td><td>f64</td><td>str</td><td>f64</td><td>str</td><td>str</td><td>f64</td><td>str</td><td>str</td><td>str</td><td>str</td><td>str</td><td>str</td><td>str</td><td>bool</td><td>str</td><td>f64</td><td>f64</td><td>i64</td><td>f64</td><td>f64</td><td>str</td><td>str</td><td>str</td><td>str</td><td>f64</td><td>str</td><td>f64</td></tr></thead><tbody><tr><td>57543</td><td>0.0</td><td>935.2</td><td>&quot;2018-10-24&quot;</td><td>null</td><td>&quot;a55475b1&quot;</td><td>null</td><td>&quot;2018-10-24&quot;</td><td>null</td><td>0.0</td><td>null</td><td>null</td><td>null</td><td>null</td><td>8398.0</td><td>&quot;COL&quot;</td><td>0.0</td><td>&quot;2018-11-06&quot;</td><td>&quot;P98_137_111&quot;</td><td>0.0</td><td>&quot;2019-07-24&quot;</td><td>&quot;2019-07-24&quot;</td><td>&quot;P33_146_175&quot;</td><td>&quot;2011-01-01&quot;</td><td>&quot;SINGLE&quot;</td><td>&quot;2018-11-24&quot;</td><td>&quot;POS&quot;</td><td>false</td><td>null</td><td>30000.0</td><td>0.0</td><td>3</td><td>0.0</td><td>11.0</td><td>&quot;P177_117_192&quot;</td><td>&quot;a55475b1&quot;</td><td>&quot;a55475b1&quot;</td><td>&quot;a55475b1&quot;</td><td>null</td><td>&quot;K&quot;</td><td>11.0</td></tr><tr><td>57543</td><td>0.0</td><td>1218.2001</td><td>&quot;2021-01-13&quot;</td><td>null</td><td>&quot;a55475b1&quot;</td><td>null</td><td>&quot;2021-01-13&quot;</td><td>null</td><td>0.0</td><td>null</td><td>null</td><td>null</td><td>null</td><td>14960.0</td><td>&quot;COL&quot;</td><td>12154.4</td><td>&quot;2021-01-14&quot;</td><td>&quot;P59_55_87&quot;</td><td>0.0</td><td>null</td><td>&quot;2021-05-15&quot;</td><td>&quot;P106_81_188&quot;</td><td>null</td><td>&quot;SINGLE&quot;</td><td>&quot;2021-02-13&quot;</td><td>&quot;POS&quot;</td><td>false</td><td>null</td><td>34000.0</td><td>1.0</td><td>1</td><td>12154.4</td><td>14.0</td><td>&quot;P60_146_156&quot;</td><td>&quot;a55475b1&quot;</td><td>&quot;a55475b1&quot;</td><td>&quot;a55475b1&quot;</td><td>null</td><td>&quot;A&quot;</td><td>14.0</td></tr><tr><td>57543</td><td>0.0</td><td>1892.0</td><td>&quot;2014-10-13&quot;</td><td>1.0</td><td>&quot;a55475b1&quot;</td><td>1.0</td><td>&quot;2014-10-13&quot;</td><td>null</td><td>0.0</td><td>null</td><td>null</td><td>null</td><td>null</td><td>20000.0</td><td>&quot;CAL&quot;</td><td>0.0</td><td>&quot;2014-10-13&quot;</td><td>&quot;P98_137_111&quot;</td><td>0.0</td><td>&quot;2016-04-13&quot;</td><td>&quot;2016-04-13&quot;</td><td>&quot;P33_146_175&quot;</td><td>&quot;2011-07-01&quot;</td><td>&quot;MARRIED&quot;</td><td>&quot;2014-11-13&quot;</td><td>&quot;CASH&quot;</td><td>false</td><td>null</td><td>30000.0</td><td>1.0</td><td>8</td><td>0.0</td><td>18.0</td><td>&quot;P46_145_78&quot;</td><td>&quot;a55475b1&quot;</td><td>&quot;a55475b1&quot;</td><td>&quot;a55475b1&quot;</td><td>null</td><td>&quot;K&quot;</td><td>18.0</td></tr><tr><td>57543</td><td>0.0</td><td>2570.8</td><td>&quot;2021-04-03&quot;</td><td>null</td><td>&quot;a55475b1&quot;</td><td>null</td><td>&quot;2021-04-03&quot;</td><td>null</td><td>0.0</td><td>null</td><td>null</td><td>null</td><td>null</td><td>14000.0</td><td>&quot;CAL&quot;</td><td>0.0</td><td>&quot;2021-04-26&quot;</td><td>&quot;P107_155_111&quot;</td><td>0.0</td><td>&quot;2021-04-26&quot;</td><td>&quot;2021-04-26&quot;</td><td>&quot;P33_146_175&quot;</td><td>null</td><td>&quot;SINGLE&quot;</td><td>&quot;2021-05-03&quot;</td><td>&quot;CASH&quot;</td><td>false</td><td>null</td><td>34000.0</td><td>0.0</td><td>0</td><td>0.0</td><td>6.0</td><td>&quot;P46_145_78&quot;</td><td>&quot;a55475b1&quot;</td><td>&quot;a55475b1&quot;</td><td>&quot;a55475b1&quot;</td><td>null</td><td>&quot;K&quot;</td><td>6.0</td></tr><tr><td>57543</td><td>0.0</td><td>2743.0</td><td>&quot;2011-12-24&quot;</td><td>15000.0</td><td>&quot;a55475b1&quot;</td><td>1.0</td><td>&quot;2011-12-24&quot;</td><td>null</td><td>0.0</td><td>null</td><td>null</td><td>null</td><td>null</td><td>25998.0</td><td>&quot;COL&quot;</td><td>0.0</td><td>&quot;2011-12-29&quot;</td><td>&quot;a55475b1&quot;</td><td>0.0</td><td>null</td><td>null</td><td>&quot;P33_146_175&quot;</td><td>&quot;2011-07-01&quot;</td><td>&quot;MARRIED&quot;</td><td>&quot;2012-01-24&quot;</td><td>&quot;POS&quot;</td><td>false</td><td>null</td><td>10000.0</td><td>0.0</td><td>9</td><td>0.0</td><td>15.0</td><td>&quot;P217_110_186&quot;</td><td>&quot;a55475b1&quot;</td><td>&quot;a55475b1&quot;</td><td>&quot;a55475b1&quot;</td><td>null</td><td>&quot;K&quot;</td><td>15.0</td></tr></tbody></table></div>"
      ],
      "text/plain": [
       "shape: (5, 41)\n",
       "┌─────────┬────────────┬───────────┬───────────┬───┬───────────┬───────────┬───────────┬───────────┐\n",
       "│ case_id ┆ actualdpd_ ┆ annuity_8 ┆ approvald ┆ … ┆ rejectrea ┆ revolving ┆ status_21 ┆ tenor_203 │\n",
       "│ ---     ┆ 943P       ┆ 53A       ┆ ate_319D  ┆   ┆ sonclient ┆ account_3 ┆ 9L        ┆ L         │\n",
       "│ i64     ┆ ---        ┆ ---       ┆ ---       ┆   ┆ _4145042M ┆ 94A       ┆ ---       ┆ ---       │\n",
       "│         ┆ f64        ┆ f64       ┆ str       ┆   ┆ ---       ┆ ---       ┆ str       ┆ f64       │\n",
       "│         ┆            ┆           ┆           ┆   ┆ str       ┆ f64       ┆           ┆           │\n",
       "╞═════════╪════════════╪═══════════╪═══════════╪═══╪═══════════╪═══════════╪═══════════╪═══════════╡\n",
       "│ 57543   ┆ 0.0        ┆ 935.2     ┆ 2018-10-2 ┆ … ┆ a55475b1  ┆ null      ┆ K         ┆ 11.0      │\n",
       "│         ┆            ┆           ┆ 4         ┆   ┆           ┆           ┆           ┆           │\n",
       "│ 57543   ┆ 0.0        ┆ 1218.2001 ┆ 2021-01-1 ┆ … ┆ a55475b1  ┆ null      ┆ A         ┆ 14.0      │\n",
       "│         ┆            ┆           ┆ 3         ┆   ┆           ┆           ┆           ┆           │\n",
       "│ 57543   ┆ 0.0        ┆ 1892.0    ┆ 2014-10-1 ┆ … ┆ a55475b1  ┆ null      ┆ K         ┆ 18.0      │\n",
       "│         ┆            ┆           ┆ 3         ┆   ┆           ┆           ┆           ┆           │\n",
       "│ 57543   ┆ 0.0        ┆ 2570.8    ┆ 2021-04-0 ┆ … ┆ a55475b1  ┆ null      ┆ K         ┆ 6.0       │\n",
       "│         ┆            ┆           ┆ 3         ┆   ┆           ┆           ┆           ┆           │\n",
       "│ 57543   ┆ 0.0        ┆ 2743.0    ┆ 2011-12-2 ┆ … ┆ a55475b1  ┆ null      ┆ K         ┆ 15.0      │\n",
       "│         ┆            ┆           ┆ 4         ┆   ┆           ┆           ┆           ┆           │\n",
       "└─────────┴────────────┴───────────┴───────────┴───┴───────────┴───────────┴───────────┴───────────┘"
      ]
     },
     "execution_count": 37,
     "metadata": {},
     "output_type": "execute_result"
    }
   ],
   "source": [
    "applprev_1_t.head()"
   ]
  },
  {
   "cell_type": "code",
   "execution_count": 38,
   "id": "f078fd1c",
   "metadata": {
    "execution": {
     "iopub.execute_input": "2024-05-22T16:45:36.808066Z",
     "iopub.status.busy": "2024-05-22T16:45:36.807638Z",
     "iopub.status.idle": "2024-05-22T16:45:36.816329Z",
     "shell.execute_reply": "2024-05-22T16:45:36.815211Z"
    },
    "papermill": {
     "duration": 0.044248,
     "end_time": "2024-05-22T16:45:36.818855",
     "exception": false,
     "start_time": "2024-05-22T16:45:36.774607",
     "status": "completed"
    },
    "tags": []
   },
   "outputs": [
    {
     "data": {
      "text/html": [
       "<div><style>\n",
       ".dataframe > thead > tr,\n",
       ".dataframe > tbody > tr {\n",
       "  text-align: right;\n",
       "  white-space: pre-wrap;\n",
       "}\n",
       "</style>\n",
       "<small>shape: (5, 7)</small><table border=\"1\" class=\"dataframe\"><thead><tr><th>case_id</th><th>amtdebitincoming_4809443A</th><th>amtdebitoutgoing_4809440A</th><th>amtdepositbalance_4809441A</th><th>amtdepositincoming_4809444A</th><th>amtdepositoutgoing_4809442A</th><th>num_group1</th></tr><tr><td>i64</td><td>f64</td><td>f64</td><td>f64</td><td>f64</td><td>f64</td><td>i64</td></tr></thead><tbody><tr><td>57543</td><td>0.0</td><td>0.0</td><td>1579.6</td><td>6900.0</td><td>33.4</td><td>0</td></tr><tr><td>57549</td><td>34933.402</td><td>34820.0</td><td>0.0</td><td>0.0</td><td>0.0</td><td>0</td></tr><tr><td>57644</td><td>0.0</td><td>51.8</td><td>0.0</td><td>0.0</td><td>0.0</td><td>1</td></tr><tr><td>57644</td><td>0.0</td><td>60.4</td><td>0.0</td><td>0.0</td><td>0.0</td><td>0</td></tr><tr><td>57648</td><td>15233.4</td><td>15233.4</td><td>0.0</td><td>0.0</td><td>0.0</td><td>0</td></tr></tbody></table></div>"
      ],
      "text/plain": [
       "shape: (5, 7)\n",
       "┌─────────┬───────────────┬──────────────┬──────────────┬──────────────┬──────────────┬────────────┐\n",
       "│ case_id ┆ amtdebitincom ┆ amtdebitoutg ┆ amtdepositba ┆ amtdepositin ┆ amtdepositou ┆ num_group1 │\n",
       "│ ---     ┆ ing_4809443A  ┆ oing_4809440 ┆ lance_480944 ┆ coming_48094 ┆ tgoing_48094 ┆ ---        │\n",
       "│ i64     ┆ ---           ┆ A            ┆ 1A           ┆ 44A          ┆ 42A          ┆ i64        │\n",
       "│         ┆ f64           ┆ ---          ┆ ---          ┆ ---          ┆ ---          ┆            │\n",
       "│         ┆               ┆ f64          ┆ f64          ┆ f64          ┆ f64          ┆            │\n",
       "╞═════════╪═══════════════╪══════════════╪══════════════╪══════════════╪══════════════╪════════════╡\n",
       "│ 57543   ┆ 0.0           ┆ 0.0          ┆ 1579.6       ┆ 6900.0       ┆ 33.4         ┆ 0          │\n",
       "│ 57549   ┆ 34933.402     ┆ 34820.0      ┆ 0.0          ┆ 0.0          ┆ 0.0          ┆ 0          │\n",
       "│ 57644   ┆ 0.0           ┆ 51.8         ┆ 0.0          ┆ 0.0          ┆ 0.0          ┆ 1          │\n",
       "│ 57644   ┆ 0.0           ┆ 60.4         ┆ 0.0          ┆ 0.0          ┆ 0.0          ┆ 0          │\n",
       "│ 57648   ┆ 15233.4       ┆ 15233.4      ┆ 0.0          ┆ 0.0          ┆ 0.0          ┆ 0          │\n",
       "└─────────┴───────────────┴──────────────┴──────────────┴──────────────┴──────────────┴────────────┘"
      ]
     },
     "execution_count": 38,
     "metadata": {},
     "output_type": "execute_result"
    }
   ],
   "source": [
    "other_1_t.head()"
   ]
  },
  {
   "cell_type": "code",
   "execution_count": 39,
   "id": "9838e4ca",
   "metadata": {
    "execution": {
     "iopub.execute_input": "2024-05-22T16:45:36.883069Z",
     "iopub.status.busy": "2024-05-22T16:45:36.882662Z",
     "iopub.status.idle": "2024-05-22T16:45:36.890433Z",
     "shell.execute_reply": "2024-05-22T16:45:36.889423Z"
    },
    "papermill": {
     "duration": 0.043214,
     "end_time": "2024-05-22T16:45:36.893277",
     "exception": false,
     "start_time": "2024-05-22T16:45:36.850063",
     "status": "completed"
    },
    "tags": []
   },
   "outputs": [
    {
     "data": {
      "text/html": [
       "<div><style>\n",
       ".dataframe > thead > tr,\n",
       ".dataframe > tbody > tr {\n",
       "  text-align: right;\n",
       "  white-space: pre-wrap;\n",
       "}\n",
       "</style>\n",
       "<small>shape: (5, 5)</small><table border=\"1\" class=\"dataframe\"><thead><tr><th>case_id</th><th>amount_4527230A</th><th>name_4527232M</th><th>num_group1</th><th>recorddate_4527225D</th></tr><tr><td>i64</td><td>f64</td><td>str</td><td>i64</td><td>str</td></tr></thead><tbody><tr><td>57675</td><td>2372.2</td><td>&quot;d7cce9e8&quot;</td><td>1</td><td>&quot;2022-01-07&quot;</td></tr><tr><td>57675</td><td>2958.2</td><td>&quot;ff9eb829&quot;</td><td>2</td><td>&quot;2022-01-07&quot;</td></tr><tr><td>57675</td><td>3055.8</td><td>&quot;ff9eb829&quot;</td><td>4</td><td>&quot;2022-01-07&quot;</td></tr><tr><td>57675</td><td>3368.8</td><td>&quot;d7cce9e8&quot;</td><td>0</td><td>&quot;2022-01-07&quot;</td></tr><tr><td>57675</td><td>4299.4</td><td>&quot;ff9eb829&quot;</td><td>3</td><td>&quot;2022-01-07&quot;</td></tr></tbody></table></div>"
      ],
      "text/plain": [
       "shape: (5, 5)\n",
       "┌─────────┬─────────────────┬───────────────┬────────────┬─────────────────────┐\n",
       "│ case_id ┆ amount_4527230A ┆ name_4527232M ┆ num_group1 ┆ recorddate_4527225D │\n",
       "│ ---     ┆ ---             ┆ ---           ┆ ---        ┆ ---                 │\n",
       "│ i64     ┆ f64             ┆ str           ┆ i64        ┆ str                 │\n",
       "╞═════════╪═════════════════╪═══════════════╪════════════╪═════════════════════╡\n",
       "│ 57675   ┆ 2372.2          ┆ d7cce9e8      ┆ 1          ┆ 2022-01-07          │\n",
       "│ 57675   ┆ 2958.2          ┆ ff9eb829      ┆ 2          ┆ 2022-01-07          │\n",
       "│ 57675   ┆ 3055.8          ┆ ff9eb829      ┆ 4          ┆ 2022-01-07          │\n",
       "│ 57675   ┆ 3368.8          ┆ d7cce9e8      ┆ 0          ┆ 2022-01-07          │\n",
       "│ 57675   ┆ 4299.4          ┆ ff9eb829      ┆ 3          ┆ 2022-01-07          │\n",
       "└─────────┴─────────────────┴───────────────┴────────────┴─────────────────────┘"
      ]
     },
     "execution_count": 39,
     "metadata": {},
     "output_type": "execute_result"
    }
   ],
   "source": [
    "tax_registry_a_1_t.head() "
   ]
  },
  {
   "cell_type": "code",
   "execution_count": 40,
   "id": "732ddc91",
   "metadata": {
    "execution": {
     "iopub.execute_input": "2024-05-22T16:45:36.957847Z",
     "iopub.status.busy": "2024-05-22T16:45:36.957462Z",
     "iopub.status.idle": "2024-05-22T16:45:36.965336Z",
     "shell.execute_reply": "2024-05-22T16:45:36.964261Z"
    },
    "papermill": {
     "duration": 0.042755,
     "end_time": "2024-05-22T16:45:36.967619",
     "exception": false,
     "start_time": "2024-05-22T16:45:36.924864",
     "status": "completed"
    },
    "tags": []
   },
   "outputs": [
    {
     "data": {
      "text/html": [
       "<div><style>\n",
       ".dataframe > thead > tr,\n",
       ".dataframe > tbody > tr {\n",
       "  text-align: right;\n",
       "  white-space: pre-wrap;\n",
       "}\n",
       "</style>\n",
       "<small>shape: (5, 5)</small><table border=\"1\" class=\"dataframe\"><thead><tr><th>case_id</th><th>amount_4917619A</th><th>deductiondate_4917603D</th><th>name_4917606M</th><th>num_group1</th></tr><tr><td>i64</td><td>f64</td><td>str</td><td>str</td><td>i64</td></tr></thead><tbody><tr><td>57543</td><td>24867.0</td><td>&quot;2020-12-15&quot;</td><td>&quot;787c689d&quot;</td><td>0</td></tr><tr><td>57543</td><td>24867.0</td><td>&quot;2021-02-03&quot;</td><td>&quot;787c689d&quot;</td><td>1</td></tr><tr><td>57543</td><td>24867.0</td><td>&quot;2021-02-26&quot;</td><td>&quot;787c689d&quot;</td><td>2</td></tr><tr><td>57543</td><td>24867.0</td><td>&quot;2021-05-19&quot;</td><td>&quot;787c689d&quot;</td><td>5</td></tr><tr><td>57543</td><td>25111.6</td><td>&quot;2021-03-29&quot;</td><td>&quot;787c689d&quot;</td><td>3</td></tr></tbody></table></div>"
      ],
      "text/plain": [
       "shape: (5, 5)\n",
       "┌─────────┬─────────────────┬────────────────────────┬───────────────┬────────────┐\n",
       "│ case_id ┆ amount_4917619A ┆ deductiondate_4917603D ┆ name_4917606M ┆ num_group1 │\n",
       "│ ---     ┆ ---             ┆ ---                    ┆ ---           ┆ ---        │\n",
       "│ i64     ┆ f64             ┆ str                    ┆ str           ┆ i64        │\n",
       "╞═════════╪═════════════════╪════════════════════════╪═══════════════╪════════════╡\n",
       "│ 57543   ┆ 24867.0         ┆ 2020-12-15             ┆ 787c689d      ┆ 0          │\n",
       "│ 57543   ┆ 24867.0         ┆ 2021-02-03             ┆ 787c689d      ┆ 1          │\n",
       "│ 57543   ┆ 24867.0         ┆ 2021-02-26             ┆ 787c689d      ┆ 2          │\n",
       "│ 57543   ┆ 24867.0         ┆ 2021-05-19             ┆ 787c689d      ┆ 5          │\n",
       "│ 57543   ┆ 25111.6         ┆ 2021-03-29             ┆ 787c689d      ┆ 3          │\n",
       "└─────────┴─────────────────┴────────────────────────┴───────────────┴────────────┘"
      ]
     },
     "execution_count": 40,
     "metadata": {},
     "output_type": "execute_result"
    }
   ],
   "source": [
    "tax_registry_b_1_t.head()"
   ]
  },
  {
   "cell_type": "code",
   "execution_count": 41,
   "id": "5cae5adc",
   "metadata": {
    "execution": {
     "iopub.execute_input": "2024-05-22T16:45:37.031657Z",
     "iopub.status.busy": "2024-05-22T16:45:37.031293Z",
     "iopub.status.idle": "2024-05-22T16:45:37.038410Z",
     "shell.execute_reply": "2024-05-22T16:45:37.037047Z"
    },
    "papermill": {
     "duration": 0.042587,
     "end_time": "2024-05-22T16:45:37.041164",
     "exception": false,
     "start_time": "2024-05-22T16:45:36.998577",
     "status": "completed"
    },
    "tags": []
   },
   "outputs": [
    {
     "data": {
      "text/html": [
       "<div><style>\n",
       ".dataframe > thead > tr,\n",
       ".dataframe > tbody > tr {\n",
       "  text-align: right;\n",
       "  white-space: pre-wrap;\n",
       "}\n",
       "</style>\n",
       "<small>shape: (0, 5)</small><table border=\"1\" class=\"dataframe\"><thead><tr><th>case_id</th><th>employername_160M</th><th>num_group1</th><th>pmtamount_36A</th><th>processingdate_168D</th></tr><tr><td>str</td><td>str</td><td>str</td><td>f64</td><td>str</td></tr></thead><tbody></tbody></table></div>"
      ],
      "text/plain": [
       "shape: (0, 5)\n",
       "┌─────────┬───────────────────┬────────────┬───────────────┬─────────────────────┐\n",
       "│ case_id ┆ employername_160M ┆ num_group1 ┆ pmtamount_36A ┆ processingdate_168D │\n",
       "│ ---     ┆ ---               ┆ ---        ┆ ---           ┆ ---                 │\n",
       "│ str     ┆ str               ┆ str        ┆ f64           ┆ str                 │\n",
       "╞═════════╪═══════════════════╪════════════╪═══════════════╪═════════════════════╡\n",
       "└─────────┴───────────────────┴────────────┴───────────────┴─────────────────────┘"
      ]
     },
     "execution_count": 41,
     "metadata": {},
     "output_type": "execute_result"
    }
   ],
   "source": [
    "tax_registry_c_1_t.head()"
   ]
  },
  {
   "cell_type": "code",
   "execution_count": 42,
   "id": "82a10290",
   "metadata": {
    "execution": {
     "iopub.execute_input": "2024-05-22T16:45:37.105435Z",
     "iopub.status.busy": "2024-05-22T16:45:37.105065Z",
     "iopub.status.idle": "2024-05-22T16:45:37.118616Z",
     "shell.execute_reply": "2024-05-22T16:45:37.117546Z"
    },
    "papermill": {
     "duration": 0.048817,
     "end_time": "2024-05-22T16:45:37.121233",
     "exception": false,
     "start_time": "2024-05-22T16:45:37.072416",
     "status": "completed"
    },
    "tags": []
   },
   "outputs": [
    {
     "data": {
      "text/html": [
       "<div><style>\n",
       ".dataframe > thead > tr,\n",
       ".dataframe > tbody > tr {\n",
       "  text-align: right;\n",
       "  white-space: pre-wrap;\n",
       "}\n",
       "</style>\n",
       "<small>shape: (5, 45)</small><table border=\"1\" class=\"dataframe\"><thead><tr><th>case_id</th><th>amount_1115A</th><th>classificationofcontr_1114M</th><th>contractdate_551D</th><th>contractmaturitydate_151D</th><th>contractst_516M</th><th>contracttype_653M</th><th>credlmt_1052A</th><th>credlmt_228A</th><th>credlmt_3940954A</th><th>credor_3940957M</th><th>credquantity_1099L</th><th>credquantity_984L</th><th>debtpastduevalue_732A</th><th>debtvalue_227A</th><th>dpd_550P</th><th>dpd_733P</th><th>dpdmax_851P</th><th>dpdmaxdatemonth_804T</th><th>dpdmaxdateyear_742T</th><th>installmentamount_644A</th><th>installmentamount_833A</th><th>instlamount_892A</th><th>interesteffectiverate_369L</th><th>interestrateyearly_538L</th><th>lastupdate_260D</th><th>maxdebtpduevalodued_3940955A</th><th>num_group1</th><th>numberofinstls_810L</th><th>overdueamountmax_950A</th><th>overdueamountmaxdatemonth_494T</th><th>overdueamountmaxdateyear_432T</th><th>periodicityofpmts_997L</th><th>periodicityofpmts_997M</th><th>pmtdaysoverdue_1135P</th><th>pmtmethod_731M</th><th>pmtnumpending_403L</th><th>purposeofcred_722M</th><th>residualamount_1093A</th><th>residualamount_127A</th><th>residualamount_3940956A</th><th>subjectrole_326M</th><th>subjectrole_43M</th><th>totalamount_503A</th><th>totalamount_881A</th></tr><tr><td>i64</td><td>f64</td><td>str</td><td>str</td><td>str</td><td>str</td><td>str</td><td>f64</td><td>f64</td><td>f64</td><td>str</td><td>f64</td><td>f64</td><td>f64</td><td>f64</td><td>f64</td><td>f64</td><td>f64</td><td>f64</td><td>f64</td><td>f64</td><td>f64</td><td>f64</td><td>f64</td><td>f64</td><td>str</td><td>f64</td><td>i64</td><td>f64</td><td>f64</td><td>f64</td><td>f64</td><td>str</td><td>str</td><td>f64</td><td>str</td><td>f64</td><td>str</td><td>f64</td><td>f64</td><td>f64</td><td>str</td><td>str</td><td>f64</td><td>f64</td></tr></thead><tbody><tr><td>57675</td><td>1.488e6</td><td>&quot;01f63ac8&quot;</td><td>&quot;2020-04-22&quot;</td><td>&quot;2035-04-23&quot;</td><td>&quot;04bf6e27&quot;</td><td>&quot;60e784d6&quot;</td><td>null</td><td>null</td><td>null</td><td>&quot;74bd67a8&quot;</td><td>null</td><td>null</td><td>0.0</td><td>1.433179e6</td><td>null</td><td>null</td><td>0.0</td><td>11.0</td><td>2019.0</td><td>null</td><td>null</td><td>17030.264</td><td>null</td><td>null</td><td>&quot;2022-01-02&quot;</td><td>0.0</td><td>2</td><td>181.0</td><td>0.0</td><td>11.0</td><td>2019.0</td><td>null</td><td>&quot;a0b598e4&quot;</td><td>0.0</td><td>&quot;e914c86c&quot;</td><td>160.0</td><td>&quot;60c73645&quot;</td><td>null</td><td>null</td><td>null</td><td>&quot;a55475b1&quot;</td><td>&quot;a55475b1&quot;</td><td>null</td><td>null</td></tr><tr><td>57675</td><td>null</td><td>&quot;ea6782cc&quot;</td><td>&quot;2020-06-01&quot;</td><td>&quot;2022-06-02&quot;</td><td>&quot;7241344e&quot;</td><td>&quot;1c9c5356&quot;</td><td>220598.0</td><td>10000.0</td><td>20000.0</td><td>&quot;b619fa46&quot;</td><td>2.0</td><td>1.0</td><td>0.0</td><td>null</td><td>0.0</td><td>0.0</td><td>0.0</td><td>12.0</td><td>2019.0</td><td>0.0</td><td>182816.69</td><td>null</td><td>null</td><td>null</td><td>&quot;2021-12-27&quot;</td><td>0.0</td><td>0</td><td>null</td><td>0.0</td><td>12.0</td><td>2019.0</td><td>null</td><td>&quot;a55475b1&quot;</td><td>0.0</td><td>&quot;a55475b1&quot;</td><td>null</td><td>&quot;60c73645&quot;</td><td>0.0</td><td>182816.69</td><td>17720.8</td><td>&quot;ab3c25cf&quot;</td><td>&quot;ab3c25cf&quot;</td><td>220598.0</td><td>10000.0</td></tr><tr><td>57675</td><td>null</td><td>&quot;ea6782cc&quot;</td><td>&quot;2012-09-29&quot;</td><td>&quot;2022-09-29&quot;</td><td>&quot;7241344e&quot;</td><td>&quot;1c9c5356&quot;</td><td>null</td><td>null</td><td>200598.0</td><td>&quot;b619fa46&quot;</td><td>1.0</td><td>19.0</td><td>0.0</td><td>null</td><td>0.0</td><td>0.0</td><td>37403.0</td><td>8.0</td><td>2013.0</td><td>0.0</td><td>1.433179e6</td><td>null</td><td>null</td><td>null</td><td>&quot;2021-12-24&quot;</td><td>0.0</td><td>1</td><td>null</td><td>10.6</td><td>4.0</td><td>2015.0</td><td>null</td><td>&quot;a55475b1&quot;</td><td>0.0</td><td>&quot;a55475b1&quot;</td><td>null</td><td>&quot;60c73645&quot;</td><td>null</td><td>null</td><td>165095.89</td><td>&quot;ab3c25cf&quot;</td><td>&quot;ab3c25cf&quot;</td><td>1.488e6</td><td>480262.6</td></tr><tr><td>57754</td><td>1932619.4</td><td>&quot;01f63ac8&quot;</td><td>&quot;2017-06-09&quot;</td><td>&quot;2037-06-09&quot;</td><td>&quot;7241344e&quot;</td><td>&quot;c6678a8f&quot;</td><td>null</td><td>null</td><td>null</td><td>&quot;3169c2b9&quot;</td><td>null</td><td>null</td><td>0.0</td><td>1473622.4</td><td>null</td><td>null</td><td>0.0</td><td>2.0</td><td>2018.0</td><td>null</td><td>null</td><td>8052.5796</td><td>null</td><td>null</td><td>&quot;2022-03-14&quot;</td><td>0.0</td><td>4</td><td>240.0</td><td>0.0</td><td>2.0</td><td>2018.0</td><td>null</td><td>&quot;a0b598e4&quot;</td><td>0.0</td><td>&quot;f6e26148&quot;</td><td>183.0</td><td>&quot;9e302002&quot;</td><td>null</td><td>null</td><td>null</td><td>&quot;a55475b1&quot;</td><td>&quot;a55475b1&quot;</td><td>null</td><td>null</td></tr><tr><td>57754</td><td>null</td><td>&quot;ea6782cc&quot;</td><td>&quot;2018-11-18&quot;</td><td>&quot;2022-11-18&quot;</td><td>&quot;7241344e&quot;</td><td>&quot;1c9c5356&quot;</td><td>132032.0</td><td>38000.0</td><td>35232.0</td><td>&quot;b619fa46&quot;</td><td>4.0</td><td>3.0</td><td>0.0</td><td>null</td><td>0.0</td><td>0.0</td><td>0.0</td><td>11.0</td><td>2017.0</td><td>0.0</td><td>68059.91</td><td>null</td><td>null</td><td>null</td><td>&quot;2022-06-03&quot;</td><td>0.0</td><td>0</td><td>null</td><td>0.0</td><td>11.0</td><td>2017.0</td><td>null</td><td>&quot;a55475b1&quot;</td><td>0.0</td><td>&quot;a55475b1&quot;</td><td>null</td><td>&quot;60c73645&quot;</td><td>0.0</td><td>68059.91</td><td>11287.2</td><td>&quot;ab3c25cf&quot;</td><td>&quot;ab3c25cf&quot;</td><td>132032.0</td><td>38000.0</td></tr></tbody></table></div>"
      ],
      "text/plain": [
       "shape: (5, 45)\n",
       "┌─────────┬────────────┬───────────┬───────────┬───┬───────────┬───────────┬───────────┬───────────┐\n",
       "│ case_id ┆ amount_111 ┆ classific ┆ contractd ┆ … ┆ subjectro ┆ subjectro ┆ totalamou ┆ totalamou │\n",
       "│ ---     ┆ 5A         ┆ ationofco ┆ ate_551D  ┆   ┆ le_326M   ┆ le_43M    ┆ nt_503A   ┆ nt_881A   │\n",
       "│ i64     ┆ ---        ┆ ntr_1114M ┆ ---       ┆   ┆ ---       ┆ ---       ┆ ---       ┆ ---       │\n",
       "│         ┆ f64        ┆ ---       ┆ str       ┆   ┆ str       ┆ str       ┆ f64       ┆ f64       │\n",
       "│         ┆            ┆ str       ┆           ┆   ┆           ┆           ┆           ┆           │\n",
       "╞═════════╪════════════╪═══════════╪═══════════╪═══╪═══════════╪═══════════╪═══════════╪═══════════╡\n",
       "│ 57675   ┆ 1.488e6    ┆ 01f63ac8  ┆ 2020-04-2 ┆ … ┆ a55475b1  ┆ a55475b1  ┆ null      ┆ null      │\n",
       "│         ┆            ┆           ┆ 2         ┆   ┆           ┆           ┆           ┆           │\n",
       "│ 57675   ┆ null       ┆ ea6782cc  ┆ 2020-06-0 ┆ … ┆ ab3c25cf  ┆ ab3c25cf  ┆ 220598.0  ┆ 10000.0   │\n",
       "│         ┆            ┆           ┆ 1         ┆   ┆           ┆           ┆           ┆           │\n",
       "│ 57675   ┆ null       ┆ ea6782cc  ┆ 2012-09-2 ┆ … ┆ ab3c25cf  ┆ ab3c25cf  ┆ 1.488e6   ┆ 480262.6  │\n",
       "│         ┆            ┆           ┆ 9         ┆   ┆           ┆           ┆           ┆           │\n",
       "│ 57754   ┆ 1932619.4  ┆ 01f63ac8  ┆ 2017-06-0 ┆ … ┆ a55475b1  ┆ a55475b1  ┆ null      ┆ null      │\n",
       "│         ┆            ┆           ┆ 9         ┆   ┆           ┆           ┆           ┆           │\n",
       "│ 57754   ┆ null       ┆ ea6782cc  ┆ 2018-11-1 ┆ … ┆ ab3c25cf  ┆ ab3c25cf  ┆ 132032.0  ┆ 38000.0   │\n",
       "│         ┆            ┆           ┆ 8         ┆   ┆           ┆           ┆           ┆           │\n",
       "└─────────┴────────────┴───────────┴───────────┴───┴───────────┴───────────┴───────────┴───────────┘"
      ]
     },
     "execution_count": 42,
     "metadata": {},
     "output_type": "execute_result"
    }
   ],
   "source": [
    "credit_bureau_b_1_t.head()"
   ]
  },
  {
   "cell_type": "code",
   "execution_count": 43,
   "id": "d833777c",
   "metadata": {
    "execution": {
     "iopub.execute_input": "2024-05-22T16:45:37.187134Z",
     "iopub.status.busy": "2024-05-22T16:45:37.186703Z",
     "iopub.status.idle": "2024-05-22T16:45:37.194734Z",
     "shell.execute_reply": "2024-05-22T16:45:37.193608Z"
    },
    "papermill": {
     "duration": 0.043647,
     "end_time": "2024-05-22T16:45:37.197184",
     "exception": false,
     "start_time": "2024-05-22T16:45:37.153537",
     "status": "completed"
    },
    "tags": []
   },
   "outputs": [
    {
     "data": {
      "text/html": [
       "<div><style>\n",
       ".dataframe > thead > tr,\n",
       ".dataframe > tbody > tr {\n",
       "  text-align: right;\n",
       "  white-space: pre-wrap;\n",
       "}\n",
       "</style>\n",
       "<small>shape: (5, 5)</small><table border=\"1\" class=\"dataframe\"><thead><tr><th>case_id</th><th>amount_416A</th><th>contractenddate_991D</th><th>num_group1</th><th>openingdate_313D</th></tr><tr><td>i64</td><td>f64</td><td>str</td><td>i64</td><td>str</td></tr></thead><tbody><tr><td>57644</td><td>0.0</td><td>&quot;2016-11-29&quot;</td><td>0</td><td>&quot;2013-11-29&quot;</td></tr><tr><td>57644</td><td>0.0</td><td>null</td><td>1</td><td>&quot;2012-08-01&quot;</td></tr><tr><td>57644</td><td>0.0</td><td>null</td><td>2</td><td>&quot;2013-08-08&quot;</td></tr><tr><td>57701</td><td>0.0</td><td>&quot;2017-09-05&quot;</td><td>0</td><td>&quot;2014-09-06&quot;</td></tr><tr><td>57708</td><td>262.558</td><td>&quot;2019-04-21&quot;</td><td>0</td><td>&quot;2016-04-21&quot;</td></tr></tbody></table></div>"
      ],
      "text/plain": [
       "shape: (5, 5)\n",
       "┌─────────┬─────────────┬──────────────────────┬────────────┬──────────────────┐\n",
       "│ case_id ┆ amount_416A ┆ contractenddate_991D ┆ num_group1 ┆ openingdate_313D │\n",
       "│ ---     ┆ ---         ┆ ---                  ┆ ---        ┆ ---              │\n",
       "│ i64     ┆ f64         ┆ str                  ┆ i64        ┆ str              │\n",
       "╞═════════╪═════════════╪══════════════════════╪════════════╪══════════════════╡\n",
       "│ 57644   ┆ 0.0         ┆ 2016-11-29           ┆ 0          ┆ 2013-11-29       │\n",
       "│ 57644   ┆ 0.0         ┆ null                 ┆ 1          ┆ 2012-08-01       │\n",
       "│ 57644   ┆ 0.0         ┆ null                 ┆ 2          ┆ 2013-08-08       │\n",
       "│ 57701   ┆ 0.0         ┆ 2017-09-05           ┆ 0          ┆ 2014-09-06       │\n",
       "│ 57708   ┆ 262.558     ┆ 2019-04-21           ┆ 0          ┆ 2016-04-21       │\n",
       "└─────────┴─────────────┴──────────────────────┴────────────┴──────────────────┘"
      ]
     },
     "execution_count": 43,
     "metadata": {},
     "output_type": "execute_result"
    }
   ],
   "source": [
    "deposit_1_t.head()"
   ]
  },
  {
   "cell_type": "code",
   "execution_count": 44,
   "id": "b1e48a7b",
   "metadata": {
    "execution": {
     "iopub.execute_input": "2024-05-22T16:45:37.264093Z",
     "iopub.status.busy": "2024-05-22T16:45:37.263714Z",
     "iopub.status.idle": "2024-05-22T16:45:37.276325Z",
     "shell.execute_reply": "2024-05-22T16:45:37.275250Z"
    },
    "papermill": {
     "duration": 0.049035,
     "end_time": "2024-05-22T16:45:37.278490",
     "exception": false,
     "start_time": "2024-05-22T16:45:37.229455",
     "status": "completed"
    },
    "tags": []
   },
   "outputs": [
    {
     "data": {
      "text/html": [
       "<div><style>\n",
       ".dataframe > thead > tr,\n",
       ".dataframe > tbody > tr {\n",
       "  text-align: right;\n",
       "  white-space: pre-wrap;\n",
       "}\n",
       "</style>\n",
       "<small>shape: (5, 37)</small><table border=\"1\" class=\"dataframe\"><thead><tr><th>case_id</th><th>birth_259D</th><th>birthdate_87D</th><th>childnum_185L</th><th>contaddr_district_15M</th><th>contaddr_matchlist_1032L</th><th>contaddr_smempladdr_334L</th><th>contaddr_zipcode_807M</th><th>education_927M</th><th>empl_employedfrom_271D</th><th>empl_employedtotal_800L</th><th>empl_industry_691L</th><th>empladdr_district_926M</th><th>empladdr_zipcode_114M</th><th>familystate_447L</th><th>gender_992L</th><th>housetype_905L</th><th>housingtype_772L</th><th>incometype_1044T</th><th>isreference_387L</th><th>language1_981M</th><th>mainoccupationinc_384A</th><th>maritalst_703L</th><th>num_group1</th><th>personindex_1023L</th><th>persontype_1072L</th><th>persontype_792L</th><th>registaddr_district_1083M</th><th>registaddr_zipcode_184M</th><th>relationshiptoclient_415T</th><th>relationshiptoclient_642T</th><th>remitter_829L</th><th>role_1084L</th><th>role_993L</th><th>safeguarantyflag_411L</th><th>sex_738L</th><th>type_25L</th></tr><tr><td>i64</td><td>str</td><td>str</td><td>f64</td><td>str</td><td>bool</td><td>bool</td><td>str</td><td>str</td><td>str</td><td>str</td><td>str</td><td>str</td><td>str</td><td>str</td><td>str</td><td>str</td><td>str</td><td>str</td><td>bool</td><td>str</td><td>f64</td><td>str</td><td>i64</td><td>f64</td><td>f64</td><td>f64</td><td>str</td><td>str</td><td>str</td><td>str</td><td>bool</td><td>str</td><td>str</td><td>bool</td><td>str</td><td>str</td></tr></thead><tbody><tr><td>57543</td><td>&quot;1980-11-01&quot;</td><td>null</td><td>null</td><td>&quot;P107_155_111&quot;</td><td>false</td><td>false</td><td>&quot;P91_47_168&quot;</td><td>&quot;P33_146_175&quot;</td><td>null</td><td>null</td><td>null</td><td>&quot;a55475b1&quot;</td><td>&quot;a55475b1&quot;</td><td>&quot;SINGLE&quot;</td><td>null</td><td>null</td><td>null</td><td>&quot;SALARIED_GOVT&quot;</td><td>null</td><td>&quot;a55475b1&quot;</td><td>34000.0</td><td>null</td><td>0</td><td>0.0</td><td>1.0</td><td>1.0</td><td>&quot;P107_155_111&quot;</td><td>&quot;P91_47_168&quot;</td><td>null</td><td>null</td><td>null</td><td>&quot;CL&quot;</td><td>null</td><td>false</td><td>&quot;F&quot;</td><td>&quot;PRIMARY_MOBILE…</td></tr><tr><td>57543</td><td>null</td><td>null</td><td>null</td><td>&quot;a55475b1&quot;</td><td>null</td><td>null</td><td>&quot;a55475b1&quot;</td><td>&quot;a55475b1&quot;</td><td>null</td><td>null</td><td>null</td><td>&quot;a55475b1&quot;</td><td>&quot;a55475b1&quot;</td><td>null</td><td>null</td><td>null</td><td>null</td><td>null</td><td>null</td><td>&quot;a55475b1&quot;</td><td>null</td><td>null</td><td>1</td><td>1.0</td><td>5.0</td><td>5.0</td><td>&quot;a55475b1&quot;</td><td>&quot;a55475b1&quot;</td><td>&quot;SIBLING&quot;</td><td>&quot;SIBLING&quot;</td><td>false</td><td>&quot;PE&quot;</td><td>null</td><td>null</td><td>null</td><td>&quot;PHONE&quot;</td></tr><tr><td>57549</td><td>&quot;1959-11-01&quot;</td><td>null</td><td>null</td><td>&quot;a55475b1&quot;</td><td>null</td><td>null</td><td>&quot;a55475b1&quot;</td><td>&quot;P106_81_188&quot;</td><td>null</td><td>null</td><td>null</td><td>&quot;a55475b1&quot;</td><td>&quot;a55475b1&quot;</td><td>&quot;SINGLE&quot;</td><td>null</td><td>null</td><td>null</td><td>&quot;RETIRED_PENSIO…</td><td>null</td><td>&quot;a55475b1&quot;</td><td>49800.0</td><td>null</td><td>0</td><td>0.0</td><td>1.0</td><td>1.0</td><td>&quot;P121_131_159&quot;</td><td>&quot;P111_112_180&quot;</td><td>null</td><td>null</td><td>null</td><td>&quot;CL&quot;</td><td>null</td><td>true</td><td>&quot;F&quot;</td><td>&quot;PRIMARY_MOBILE…</td></tr><tr><td>57549</td><td>null</td><td>null</td><td>null</td><td>&quot;a55475b1&quot;</td><td>null</td><td>null</td><td>&quot;a55475b1&quot;</td><td>&quot;a55475b1&quot;</td><td>null</td><td>null</td><td>null</td><td>&quot;a55475b1&quot;</td><td>&quot;a55475b1&quot;</td><td>null</td><td>null</td><td>null</td><td>null</td><td>null</td><td>null</td><td>&quot;a55475b1&quot;</td><td>null</td><td>null</td><td>1</td><td>1.0</td><td>5.0</td><td>5.0</td><td>&quot;a55475b1&quot;</td><td>&quot;a55475b1&quot;</td><td>&quot;COLLEAGUE&quot;</td><td>&quot;COLLEAGUE&quot;</td><td>false</td><td>&quot;PE&quot;</td><td>null</td><td>null</td><td>null</td><td>&quot;PHONE&quot;</td></tr><tr><td>57551</td><td>&quot;1982-05-01&quot;</td><td>null</td><td>null</td><td>&quot;P11_36_178&quot;</td><td>false</td><td>false</td><td>&quot;P97_107_128&quot;</td><td>&quot;a55475b1&quot;</td><td>&quot;2002-01-08&quot;</td><td>null</td><td>null</td><td>&quot;a55475b1&quot;</td><td>&quot;a55475b1&quot;</td><td>null</td><td>null</td><td>null</td><td>null</td><td>&quot;SALARIED_GOVT&quot;</td><td>null</td><td>&quot;P10_39_147&quot;</td><td>59600.0</td><td>null</td><td>0</td><td>0.0</td><td>1.0</td><td>1.0</td><td>&quot;P11_36_178&quot;</td><td>&quot;P97_107_128&quot;</td><td>null</td><td>null</td><td>null</td><td>&quot;CL&quot;</td><td>null</td><td>false</td><td>&quot;F&quot;</td><td>&quot;PRIMARY_MOBILE…</td></tr></tbody></table></div>"
      ],
      "text/plain": [
       "shape: (5, 37)\n",
       "┌─────────┬────────────┬────────────┬───────────┬───┬───────────┬───────────┬──────────┬───────────┐\n",
       "│ case_id ┆ birth_259D ┆ birthdate_ ┆ childnum_ ┆ … ┆ role_993L ┆ safeguara ┆ sex_738L ┆ type_25L  │\n",
       "│ ---     ┆ ---        ┆ 87D        ┆ 185L      ┆   ┆ ---       ┆ ntyflag_4 ┆ ---      ┆ ---       │\n",
       "│ i64     ┆ str        ┆ ---        ┆ ---       ┆   ┆ str       ┆ 11L       ┆ str      ┆ str       │\n",
       "│         ┆            ┆ str        ┆ f64       ┆   ┆           ┆ ---       ┆          ┆           │\n",
       "│         ┆            ┆            ┆           ┆   ┆           ┆ bool      ┆          ┆           │\n",
       "╞═════════╪════════════╪════════════╪═══════════╪═══╪═══════════╪═══════════╪══════════╪═══════════╡\n",
       "│ 57543   ┆ 1980-11-01 ┆ null       ┆ null      ┆ … ┆ null      ┆ false     ┆ F        ┆ PRIMARY_M │\n",
       "│         ┆            ┆            ┆           ┆   ┆           ┆           ┆          ┆ OBILE     │\n",
       "│ 57543   ┆ null       ┆ null       ┆ null      ┆ … ┆ null      ┆ null      ┆ null     ┆ PHONE     │\n",
       "│ 57549   ┆ 1959-11-01 ┆ null       ┆ null      ┆ … ┆ null      ┆ true      ┆ F        ┆ PRIMARY_M │\n",
       "│         ┆            ┆            ┆           ┆   ┆           ┆           ┆          ┆ OBILE     │\n",
       "│ 57549   ┆ null       ┆ null       ┆ null      ┆ … ┆ null      ┆ null      ┆ null     ┆ PHONE     │\n",
       "│ 57551   ┆ 1982-05-01 ┆ null       ┆ null      ┆ … ┆ null      ┆ false     ┆ F        ┆ PRIMARY_M │\n",
       "│         ┆            ┆            ┆           ┆   ┆           ┆           ┆          ┆ OBILE     │\n",
       "└─────────┴────────────┴────────────┴───────────┴───┴───────────┴───────────┴──────────┴───────────┘"
      ]
     },
     "execution_count": 44,
     "metadata": {},
     "output_type": "execute_result"
    }
   ],
   "source": [
    "person_1_t.head()"
   ]
  },
  {
   "cell_type": "code",
   "execution_count": 45,
   "id": "61c62990",
   "metadata": {
    "execution": {
     "iopub.execute_input": "2024-05-22T16:45:37.346204Z",
     "iopub.status.busy": "2024-05-22T16:45:37.345810Z",
     "iopub.status.idle": "2024-05-22T16:45:37.353884Z",
     "shell.execute_reply": "2024-05-22T16:45:37.352750Z"
    },
    "papermill": {
     "duration": 0.043449,
     "end_time": "2024-05-22T16:45:37.356232",
     "exception": false,
     "start_time": "2024-05-22T16:45:37.312783",
     "status": "completed"
    },
    "tags": []
   },
   "outputs": [
    {
     "data": {
      "text/html": [
       "<div><style>\n",
       ".dataframe > thead > tr,\n",
       ".dataframe > tbody > tr {\n",
       "  text-align: right;\n",
       "  white-space: pre-wrap;\n",
       "}\n",
       "</style>\n",
       "<small>shape: (5, 6)</small><table border=\"1\" class=\"dataframe\"><thead><tr><th>case_id</th><th>last180dayaveragebalance_704A</th><th>last180dayturnover_1134A</th><th>last30dayturnover_651A</th><th>num_group1</th><th>openingdate_857D</th></tr><tr><td>i64</td><td>f64</td><td>f64</td><td>f64</td><td>i64</td><td>str</td></tr></thead><tbody><tr><td>57644</td><td>null</td><td>null</td><td>null</td><td>0</td><td>&quot;2013-11-29&quot;</td></tr><tr><td>57644</td><td>null</td><td>null</td><td>null</td><td>1</td><td>&quot;2012-08-01&quot;</td></tr><tr><td>57644</td><td>null</td><td>null</td><td>null</td><td>2</td><td>&quot;2013-08-08&quot;</td></tr><tr><td>57701</td><td>null</td><td>null</td><td>null</td><td>0</td><td>&quot;2014-09-06&quot;</td></tr><tr><td>57708</td><td>null</td><td>null</td><td>null</td><td>0</td><td>&quot;2016-04-21&quot;</td></tr></tbody></table></div>"
      ],
      "text/plain": [
       "shape: (5, 6)\n",
       "┌─────────┬──────────────────┬──────────────────┬──────────────────┬────────────┬──────────────────┐\n",
       "│ case_id ┆ last180dayaverag ┆ last180dayturnov ┆ last30dayturnove ┆ num_group1 ┆ openingdate_857D │\n",
       "│ ---     ┆ ebalance_704A    ┆ er_1134A         ┆ r_651A           ┆ ---        ┆ ---              │\n",
       "│ i64     ┆ ---              ┆ ---              ┆ ---              ┆ i64        ┆ str              │\n",
       "│         ┆ f64              ┆ f64              ┆ f64              ┆            ┆                  │\n",
       "╞═════════╪══════════════════╪══════════════════╪══════════════════╪════════════╪══════════════════╡\n",
       "│ 57644   ┆ null             ┆ null             ┆ null             ┆ 0          ┆ 2013-11-29       │\n",
       "│ 57644   ┆ null             ┆ null             ┆ null             ┆ 1          ┆ 2012-08-01       │\n",
       "│ 57644   ┆ null             ┆ null             ┆ null             ┆ 2          ┆ 2013-08-08       │\n",
       "│ 57701   ┆ null             ┆ null             ┆ null             ┆ 0          ┆ 2014-09-06       │\n",
       "│ 57708   ┆ null             ┆ null             ┆ null             ┆ 0          ┆ 2016-04-21       │\n",
       "└─────────┴──────────────────┴──────────────────┴──────────────────┴────────────┴──────────────────┘"
      ]
     },
     "execution_count": 45,
     "metadata": {},
     "output_type": "execute_result"
    }
   ],
   "source": [
    "debitcard_1_t.head()"
   ]
  },
  {
   "cell_type": "code",
   "execution_count": 46,
   "id": "5d86a92a",
   "metadata": {
    "execution": {
     "iopub.execute_input": "2024-05-22T16:45:37.424171Z",
     "iopub.status.busy": "2024-05-22T16:45:37.423767Z",
     "iopub.status.idle": "2024-05-22T16:45:37.431949Z",
     "shell.execute_reply": "2024-05-22T16:45:37.430783Z"
    },
    "papermill": {
     "duration": 0.045079,
     "end_time": "2024-05-22T16:45:37.434329",
     "exception": false,
     "start_time": "2024-05-22T16:45:37.389250",
     "status": "completed"
    },
    "tags": []
   },
   "outputs": [
    {
     "data": {
      "text/html": [
       "<div><style>\n",
       ".dataframe > thead > tr,\n",
       ".dataframe > tbody > tr {\n",
       "  text-align: right;\n",
       "  white-space: pre-wrap;\n",
       "}\n",
       "</style>\n",
       "<small>shape: (5, 6)</small><table border=\"1\" class=\"dataframe\"><thead><tr><th>case_id</th><th>cacccardblochreas_147M</th><th>conts_type_509L</th><th>credacc_cards_status_52L</th><th>num_group1</th><th>num_group2</th></tr><tr><td>i64</td><td>str</td><td>str</td><td>str</td><td>i64</td><td>i64</td></tr></thead><tbody><tr><td>57543</td><td>&quot;a55475b1&quot;</td><td>&quot;PRIMARY_MOBILE…</td><td>null</td><td>0</td><td>0</td></tr><tr><td>57543</td><td>&quot;a55475b1&quot;</td><td>null</td><td>null</td><td>0</td><td>1</td></tr><tr><td>57543</td><td>&quot;a55475b1&quot;</td><td>&quot;PRIMARY_MOBILE…</td><td>null</td><td>1</td><td>0</td></tr><tr><td>57543</td><td>&quot;a55475b1&quot;</td><td>null</td><td>null</td><td>1</td><td>1</td></tr><tr><td>57543</td><td>&quot;a55475b1&quot;</td><td>&quot;PRIMARY_MOBILE…</td><td>null</td><td>2</td><td>0</td></tr></tbody></table></div>"
      ],
      "text/plain": [
       "shape: (5, 6)\n",
       "┌─────────┬──────────────────────┬─────────────────┬─────────────────────┬────────────┬────────────┐\n",
       "│ case_id ┆ cacccardblochreas_14 ┆ conts_type_509L ┆ credacc_cards_statu ┆ num_group1 ┆ num_group2 │\n",
       "│ ---     ┆ 7M                   ┆ ---             ┆ s_52L               ┆ ---        ┆ ---        │\n",
       "│ i64     ┆ ---                  ┆ str             ┆ ---                 ┆ i64        ┆ i64        │\n",
       "│         ┆ str                  ┆                 ┆ str                 ┆            ┆            │\n",
       "╞═════════╪══════════════════════╪═════════════════╪═════════════════════╪════════════╪════════════╡\n",
       "│ 57543   ┆ a55475b1             ┆ PRIMARY_MOBILE  ┆ null                ┆ 0          ┆ 0          │\n",
       "│ 57543   ┆ a55475b1             ┆ null            ┆ null                ┆ 0          ┆ 1          │\n",
       "│ 57543   ┆ a55475b1             ┆ PRIMARY_MOBILE  ┆ null                ┆ 1          ┆ 0          │\n",
       "│ 57543   ┆ a55475b1             ┆ null            ┆ null                ┆ 1          ┆ 1          │\n",
       "│ 57543   ┆ a55475b1             ┆ PRIMARY_MOBILE  ┆ null                ┆ 2          ┆ 0          │\n",
       "└─────────┴──────────────────────┴─────────────────┴─────────────────────┴────────────┴────────────┘"
      ]
     },
     "execution_count": 46,
     "metadata": {},
     "output_type": "execute_result"
    }
   ],
   "source": [
    "applprev_2_t.head()"
   ]
  },
  {
   "cell_type": "code",
   "execution_count": 47,
   "id": "748940fb",
   "metadata": {
    "execution": {
     "iopub.execute_input": "2024-05-22T16:45:37.502136Z",
     "iopub.status.busy": "2024-05-22T16:45:37.501744Z",
     "iopub.status.idle": "2024-05-22T16:45:37.511043Z",
     "shell.execute_reply": "2024-05-22T16:45:37.509898Z"
    },
    "papermill": {
     "duration": 0.045643,
     "end_time": "2024-05-22T16:45:37.513205",
     "exception": false,
     "start_time": "2024-05-22T16:45:37.467562",
     "status": "completed"
    },
    "scrolled": true,
    "tags": []
   },
   "outputs": [
    {
     "data": {
      "text/html": [
       "<div><style>\n",
       ".dataframe > thead > tr,\n",
       ".dataframe > tbody > tr {\n",
       "  text-align: right;\n",
       "  white-space: pre-wrap;\n",
       "}\n",
       "</style>\n",
       "<small>shape: (5, 11)</small><table border=\"1\" class=\"dataframe\"><thead><tr><th>case_id</th><th>addres_district_368M</th><th>addres_role_871L</th><th>addres_zip_823M</th><th>conts_role_79M</th><th>empls_economicalst_849M</th><th>empls_employedfrom_796D</th><th>empls_employer_name_740M</th><th>num_group1</th><th>num_group2</th><th>relatedpersons_role_762T</th></tr><tr><td>i64</td><td>str</td><td>str</td><td>str</td><td>str</td><td>str</td><td>str</td><td>str</td><td>i64</td><td>i64</td><td>str</td></tr></thead><tbody><tr><td>57551</td><td>&quot;a55475b1&quot;</td><td>null</td><td>&quot;a55475b1&quot;</td><td>&quot;a55475b1&quot;</td><td>&quot;a55475b1&quot;</td><td>null</td><td>&quot;a55475b1&quot;</td><td>0</td><td>0</td><td>null</td></tr><tr><td>57552</td><td>&quot;a55475b1&quot;</td><td>null</td><td>&quot;a55475b1&quot;</td><td>&quot;a55475b1&quot;</td><td>&quot;a55475b1&quot;</td><td>null</td><td>&quot;a55475b1&quot;</td><td>0</td><td>0</td><td>null</td></tr><tr><td>57569</td><td>&quot;P121_131_159&quot;</td><td>&quot;CONTACT&quot;</td><td>&quot;P96_113_139&quot;</td><td>&quot;P38_92_157&quot;</td><td>&quot;P148_57_109&quot;</td><td>null</td><td>&quot;a55475b1&quot;</td><td>0</td><td>0</td><td>null</td></tr><tr><td>57569</td><td>&quot;P121_131_159&quot;</td><td>&quot;PERMANENT&quot;</td><td>&quot;P96_113_139&quot;</td><td>&quot;a55475b1&quot;</td><td>&quot;a55475b1&quot;</td><td>null</td><td>&quot;a55475b1&quot;</td><td>0</td><td>1</td><td>null</td></tr><tr><td>57569</td><td>&quot;a55475b1&quot;</td><td>&quot;CONTACT&quot;</td><td>&quot;P47_66_61&quot;</td><td>&quot;P125_105_50&quot;</td><td>&quot;P148_57_109&quot;</td><td>null</td><td>&quot;a55475b1&quot;</td><td>1</td><td>0</td><td>&quot;PARENT&quot;</td></tr></tbody></table></div>"
      ],
      "text/plain": [
       "shape: (5, 11)\n",
       "┌─────────┬────────────┬───────────┬───────────┬───┬───────────┬───────────┬───────────┬───────────┐\n",
       "│ case_id ┆ addres_dis ┆ addres_ro ┆ addres_zi ┆ … ┆ empls_emp ┆ num_group ┆ num_group ┆ relatedpe │\n",
       "│ ---     ┆ trict_368M ┆ le_871L   ┆ p_823M    ┆   ┆ loyer_nam ┆ 1         ┆ 2         ┆ rsons_rol │\n",
       "│ i64     ┆ ---        ┆ ---       ┆ ---       ┆   ┆ e_740M    ┆ ---       ┆ ---       ┆ e_762T    │\n",
       "│         ┆ str        ┆ str       ┆ str       ┆   ┆ ---       ┆ i64       ┆ i64       ┆ ---       │\n",
       "│         ┆            ┆           ┆           ┆   ┆ str       ┆           ┆           ┆ str       │\n",
       "╞═════════╪════════════╪═══════════╪═══════════╪═══╪═══════════╪═══════════╪═══════════╪═══════════╡\n",
       "│ 57551   ┆ a55475b1   ┆ null      ┆ a55475b1  ┆ … ┆ a55475b1  ┆ 0         ┆ 0         ┆ null      │\n",
       "│ 57552   ┆ a55475b1   ┆ null      ┆ a55475b1  ┆ … ┆ a55475b1  ┆ 0         ┆ 0         ┆ null      │\n",
       "│ 57569   ┆ P121_131_1 ┆ CONTACT   ┆ P96_113_1 ┆ … ┆ a55475b1  ┆ 0         ┆ 0         ┆ null      │\n",
       "│         ┆ 59         ┆           ┆ 39        ┆   ┆           ┆           ┆           ┆           │\n",
       "│ 57569   ┆ P121_131_1 ┆ PERMANENT ┆ P96_113_1 ┆ … ┆ a55475b1  ┆ 0         ┆ 1         ┆ null      │\n",
       "│         ┆ 59         ┆           ┆ 39        ┆   ┆           ┆           ┆           ┆           │\n",
       "│ 57569   ┆ a55475b1   ┆ CONTACT   ┆ P47_66_61 ┆ … ┆ a55475b1  ┆ 1         ┆ 0         ┆ PARENT    │\n",
       "└─────────┴────────────┴───────────┴───────────┴───┴───────────┴───────────┴───────────┴───────────┘"
      ]
     },
     "execution_count": 47,
     "metadata": {},
     "output_type": "execute_result"
    }
   ],
   "source": [
    "person_2_t.head()"
   ]
  },
  {
   "cell_type": "markdown",
   "id": "87b40e98",
   "metadata": {
    "papermill": {
     "duration": 0.032819,
     "end_time": "2024-05-22T16:45:37.579423",
     "exception": false,
     "start_time": "2024-05-22T16:45:37.546604",
     "status": "completed"
    },
    "tags": []
   },
   "source": [
    "# Feature engineering"
   ]
  },
  {
   "cell_type": "code",
   "execution_count": 48,
   "id": "5b26d918",
   "metadata": {
    "execution": {
     "iopub.execute_input": "2024-05-22T16:45:37.646817Z",
     "iopub.status.busy": "2024-05-22T16:45:37.645959Z",
     "iopub.status.idle": "2024-05-22T16:45:37.656223Z",
     "shell.execute_reply": "2024-05-22T16:45:37.655229Z"
    },
    "papermill": {
     "duration": 0.046408,
     "end_time": "2024-05-22T16:45:37.658673",
     "exception": false,
     "start_time": "2024-05-22T16:45:37.612265",
     "status": "completed"
    },
    "tags": []
   },
   "outputs": [
    {
     "name": "stdout",
     "output_type": "stream",
     "text": [
      "Table contains num_group1 or num_group2 : \n",
      "\n",
      "train_person_1\n",
      "train_credit_bureau_b_2\n",
      "applprev_1\n",
      "other_1\n",
      "tax_registry_a_1\n",
      "tax_registry_b_1\n",
      "tax_registry_c_1\n",
      "credit_bureau_b_1\n",
      "deposit_1\n",
      "person_1\n",
      "debitcard_1\n",
      "applprev_2\n",
      "person_2\n",
      "credit_bureau_a_1\n",
      "credit_bureau_a_2\n"
     ]
    }
   ],
   "source": [
    "# Dictionary of Polars DataFrames\n",
    "tables = {'train_basetable':train_basetable, 'train_static': train_static,'train_static_cb':train_static_cb,\n",
    "          'train_person_1': train_person_1, 'train_credit_bureau_b_2': train_credit_bureau_b_2, \n",
    "          'applprev_1':applprev_1, 'other_1':other_1, 'tax_registry_a_1':tax_registry_a_1, \n",
    "          'tax_registry_b_1':tax_registry_b_1,'tax_registry_c_1':tax_registry_c_1 ,\n",
    "          'credit_bureau_b_1':credit_bureau_b_1, 'deposit_1':deposit_1,'person_1':person_1, \n",
    "          'debitcard_1':debitcard_1, 'applprev_2':applprev_2, 'person_2':person_2,\n",
    "          'credit_bureau_a_1':credit_bureau_a_1,'credit_bureau_a_2':credit_bureau_a_2}\n",
    "\n",
    "# Specify the target column\n",
    "target_column_1 = \"num_group1\"\n",
    "target_column_2 = \"num_group2\"\n",
    "\n",
    "\n",
    "# Loop through each table\n",
    "print(\"Table contains\", target_column_1, \"or\", target_column_2 ,\":\",\"\\n\")\n",
    "\n",
    "for table_name, table in tables.items():\n",
    "    # Check if the target column exists in the current table\n",
    "    \n",
    "    if target_column_1 in table.columns or target_column_2 in table.columns:\n",
    "              \n",
    "        # If the column exists, print the table name\n",
    "       \n",
    "        print(table_name)"
   ]
  },
  {
   "cell_type": "code",
   "execution_count": 49,
   "id": "f094108f",
   "metadata": {
    "execution": {
     "iopub.execute_input": "2024-05-22T16:45:37.727780Z",
     "iopub.status.busy": "2024-05-22T16:45:37.727403Z",
     "iopub.status.idle": "2024-05-22T16:45:37.736451Z",
     "shell.execute_reply": "2024-05-22T16:45:37.735227Z"
    },
    "papermill": {
     "duration": 0.047184,
     "end_time": "2024-05-22T16:45:37.739828",
     "exception": false,
     "start_time": "2024-05-22T16:45:37.692644",
     "status": "completed"
    },
    "tags": []
   },
   "outputs": [
    {
     "name": "stdout",
     "output_type": "stream",
     "text": [
      "Table contains num_group1 and num_group2 : \n",
      "\n",
      "train_credit_bureau_b_2\n",
      "applprev_2\n",
      "person_2\n",
      "credit_bureau_a_2\n"
     ]
    }
   ],
   "source": [
    "# Dictionary of Polars DataFrames\n",
    "table = {'train_basetable':train_basetable, 'train_static': train_static,'train_static_cb':train_static_cb,\n",
    "          'train_person_1': train_person_1, 'train_credit_bureau_b_2': train_credit_bureau_b_2, \n",
    "          'applprev_1':applprev_1, 'other_1':other_1, 'tax_registry_a_1':tax_registry_a_1, \n",
    "          'tax_registry_b_1':tax_registry_b_1,'tax_registry_c_1':tax_registry_c_1 ,\n",
    "          'credit_bureau_b_1':credit_bureau_b_1, 'deposit_1':deposit_1,'person_1':person_1, \n",
    "          'debitcard_1':debitcard_1, 'applprev_2':applprev_2, 'person_2':person_2,\n",
    "          'credit_bureau_a_1':credit_bureau_a_1,'credit_bureau_a_2':credit_bureau_a_2}\n",
    "\n",
    "# Specify the target column\n",
    "target_column_1 = \"num_group1\"\n",
    "target_column_2 = \"num_group2\"\n",
    "\n",
    "\n",
    "# Loop through each table\n",
    "print(\"Table contains\", target_column_1, \"and\", target_column_2 ,\":\",\"\\n\")\n",
    "\n",
    "for table_name, table in tables.items():\n",
    "    # Check if the target column exists in the current table\n",
    "    \n",
    "    if target_column_1 in table.columns and target_column_2 in table.columns:\n",
    "              \n",
    "        # If the column exists, print the table name\n",
    "       \n",
    "        print(table_name)"
   ]
  },
  {
   "cell_type": "code",
   "execution_count": 50,
   "id": "dbd8ab8d",
   "metadata": {
    "execution": {
     "iopub.execute_input": "2024-05-22T16:45:37.809503Z",
     "iopub.status.busy": "2024-05-22T16:45:37.808562Z",
     "iopub.status.idle": "2024-05-22T16:45:38.727918Z",
     "shell.execute_reply": "2024-05-22T16:45:38.726854Z"
    },
    "papermill": {
     "duration": 0.956552,
     "end_time": "2024-05-22T16:45:38.730346",
     "exception": false,
     "start_time": "2024-05-22T16:45:37.773794",
     "status": "completed"
    },
    "tags": []
   },
   "outputs": [
    {
     "data": {
      "text/html": [
       "<div><style>\n",
       ".dataframe > thead > tr,\n",
       ".dataframe > tbody > tr {\n",
       "  text-align: right;\n",
       "  white-space: pre-wrap;\n",
       "}\n",
       "</style>\n",
       "<small>shape: (1_526_659, 3)</small><table border=\"1\" class=\"dataframe\"><thead><tr><th>case_id</th><th>mainoccupationinc_384A_max</th><th>mainoccupationinc_384A_any_selfemployed</th></tr><tr><td>i64</td><td>f64</td><td>bool</td></tr></thead><tbody><tr><td>2317</td><td>19200.0</td><td>false</td></tr><tr><td>624343</td><td>20000.0</td><td>false</td></tr><tr><td>1357670</td><td>70000.0</td><td>false</td></tr><tr><td>1432989</td><td>118000.0</td><td>false</td></tr><tr><td>1807225</td><td>40000.0</td><td>false</td></tr><tr><td>&hellip;</td><td>&hellip;</td><td>&hellip;</td></tr><tr><td>1646207</td><td>42000.0</td><td>false</td></tr><tr><td>1538316</td><td>40000.0</td><td>false</td></tr><tr><td>1796935</td><td>20000.0</td><td>false</td></tr><tr><td>5826</td><td>80000.0</td><td>false</td></tr><tr><td>640899</td><td>30000.0</td><td>false</td></tr></tbody></table></div>"
      ],
      "text/plain": [
       "shape: (1_526_659, 3)\n",
       "┌─────────┬────────────────────────────┬───────────────────────────────────┐\n",
       "│ case_id ┆ mainoccupationinc_384A_max ┆ mainoccupationinc_384A_any_selfe… │\n",
       "│ ---     ┆ ---                        ┆ ---                               │\n",
       "│ i64     ┆ f64                        ┆ bool                              │\n",
       "╞═════════╪════════════════════════════╪═══════════════════════════════════╡\n",
       "│ 2317    ┆ 19200.0                    ┆ false                             │\n",
       "│ 624343  ┆ 20000.0                    ┆ false                             │\n",
       "│ 1357670 ┆ 70000.0                    ┆ false                             │\n",
       "│ 1432989 ┆ 118000.0                   ┆ false                             │\n",
       "│ 1807225 ┆ 40000.0                    ┆ false                             │\n",
       "│ …       ┆ …                          ┆ …                                 │\n",
       "│ 1646207 ┆ 42000.0                    ┆ false                             │\n",
       "│ 1538316 ┆ 40000.0                    ┆ false                             │\n",
       "│ 1796935 ┆ 20000.0                    ┆ false                             │\n",
       "│ 5826    ┆ 80000.0                    ┆ false                             │\n",
       "│ 640899  ┆ 30000.0                    ┆ false                             │\n",
       "└─────────┴────────────────────────────┴───────────────────────────────────┘"
      ]
     },
     "execution_count": 50,
     "metadata": {},
     "output_type": "execute_result"
    }
   ],
   "source": [
    "# We need to use aggregation functions in tables with depth > 1, so tables that contain num_group1 column or \n",
    "# also num_group2 column.\n",
    "train_person_1_feats_1 = train_person_1.group_by(\"case_id\").agg(\n",
    "    pl.col(\"mainoccupationinc_384A\").max().alias(\"mainoccupationinc_384A_max\"),\n",
    "    (pl.col(\"incometype_1044T\") == \"SELFEMPLOYED\").max().alias(\"mainoccupationinc_384A_any_selfemployed\")\n",
    ")\n",
    "\n",
    "train_person_1_feats_1"
   ]
  },
  {
   "cell_type": "code",
   "execution_count": 51,
   "id": "975aedcd",
   "metadata": {
    "execution": {
     "iopub.execute_input": "2024-05-22T16:45:38.800548Z",
     "iopub.status.busy": "2024-05-22T16:45:38.799624Z",
     "iopub.status.idle": "2024-05-22T16:45:38.834240Z",
     "shell.execute_reply": "2024-05-22T16:45:38.833124Z"
    },
    "papermill": {
     "duration": 0.07208,
     "end_time": "2024-05-22T16:45:38.836884",
     "exception": false,
     "start_time": "2024-05-22T16:45:38.764804",
     "status": "completed"
    },
    "tags": []
   },
   "outputs": [
    {
     "data": {
      "text/html": [
       "<div><style>\n",
       ".dataframe > thead > tr,\n",
       ".dataframe > tbody > tr {\n",
       "  text-align: right;\n",
       "  white-space: pre-wrap;\n",
       "}\n",
       "</style>\n",
       "<small>shape: (1_526_659, 2)</small><table border=\"1\" class=\"dataframe\"><thead><tr><th>case_id</th><th>person_housetype</th></tr><tr><td>i64</td><td>str</td></tr></thead><tbody><tr><td>0</td><td>null</td></tr><tr><td>1</td><td>null</td></tr><tr><td>2</td><td>null</td></tr><tr><td>3</td><td>null</td></tr><tr><td>4</td><td>null</td></tr><tr><td>&hellip;</td><td>&hellip;</td></tr><tr><td>2703450</td><td>&quot;OWNED&quot;</td></tr><tr><td>2703451</td><td>null</td></tr><tr><td>2703452</td><td>null</td></tr><tr><td>2703453</td><td>null</td></tr><tr><td>2703454</td><td>null</td></tr></tbody></table></div>"
      ],
      "text/plain": [
       "shape: (1_526_659, 2)\n",
       "┌─────────┬──────────────────┐\n",
       "│ case_id ┆ person_housetype │\n",
       "│ ---     ┆ ---              │\n",
       "│ i64     ┆ str              │\n",
       "╞═════════╪══════════════════╡\n",
       "│ 0       ┆ null             │\n",
       "│ 1       ┆ null             │\n",
       "│ 2       ┆ null             │\n",
       "│ 3       ┆ null             │\n",
       "│ 4       ┆ null             │\n",
       "│ …       ┆ …                │\n",
       "│ 2703450 ┆ OWNED            │\n",
       "│ 2703451 ┆ null             │\n",
       "│ 2703452 ┆ null             │\n",
       "│ 2703453 ┆ null             │\n",
       "│ 2703454 ┆ null             │\n",
       "└─────────┴──────────────────┘"
      ]
     },
     "execution_count": 51,
     "metadata": {},
     "output_type": "execute_result"
    }
   ],
   "source": [
    "# Here num_group1=0 has special meaning, it is the person who applied for the loan.\n",
    "train_person_1_feats_2 = train_person_1.select([\"case_id\", \"num_group1\", \"housetype_905L\"]).filter(\n",
    "    pl.col(\"num_group1\") == 0\n",
    ").drop(\"num_group1\").rename({\"housetype_905L\": \"person_housetype\"})\n",
    "\n",
    "train_person_1_feats_2"
   ]
  },
  {
   "cell_type": "code",
   "execution_count": 52,
   "id": "14baa29d",
   "metadata": {
    "execution": {
     "iopub.execute_input": "2024-05-22T16:45:38.907905Z",
     "iopub.status.busy": "2024-05-22T16:45:38.907476Z",
     "iopub.status.idle": "2024-05-22T16:45:38.976360Z",
     "shell.execute_reply": "2024-05-22T16:45:38.975302Z"
    },
    "papermill": {
     "duration": 0.107292,
     "end_time": "2024-05-22T16:45:38.978953",
     "exception": false,
     "start_time": "2024-05-22T16:45:38.871661",
     "status": "completed"
    },
    "tags": []
   },
   "outputs": [
    {
     "data": {
      "text/html": [
       "<div><style>\n",
       ".dataframe > thead > tr,\n",
       ".dataframe > tbody > tr {\n",
       "  text-align: right;\n",
       "  white-space: pre-wrap;\n",
       "}\n",
       "</style>\n",
       "<small>shape: (36_447, 3)</small><table border=\"1\" class=\"dataframe\"><thead><tr><th>case_id</th><th>pmts_pmtsoverdue_635A_max</th><th>pmts_dpdvalue_108P_over31</th></tr><tr><td>i64</td><td>f64</td><td>bool</td></tr></thead><tbody><tr><td>742970</td><td>22.0</td><td>true</td></tr><tr><td>997683</td><td>0.0</td><td>false</td></tr><tr><td>19204</td><td>0.0</td><td>false</td></tr><tr><td>131698</td><td>0.0</td><td>false</td></tr><tr><td>917695</td><td>0.0</td><td>false</td></tr><tr><td>&hellip;</td><td>&hellip;</td><td>&hellip;</td></tr><tr><td>1940997</td><td>25.2</td><td>false</td></tr><tr><td>171840</td><td>15.8</td><td>true</td></tr><tr><td>142686</td><td>3.8</td><td>true</td></tr><tr><td>221522</td><td>0.0</td><td>false</td></tr><tr><td>954455</td><td>0.0</td><td>false</td></tr></tbody></table></div>"
      ],
      "text/plain": [
       "shape: (36_447, 3)\n",
       "┌─────────┬───────────────────────────┬───────────────────────────┐\n",
       "│ case_id ┆ pmts_pmtsoverdue_635A_max ┆ pmts_dpdvalue_108P_over31 │\n",
       "│ ---     ┆ ---                       ┆ ---                       │\n",
       "│ i64     ┆ f64                       ┆ bool                      │\n",
       "╞═════════╪═══════════════════════════╪═══════════════════════════╡\n",
       "│ 742970  ┆ 22.0                      ┆ true                      │\n",
       "│ 997683  ┆ 0.0                       ┆ false                     │\n",
       "│ 19204   ┆ 0.0                       ┆ false                     │\n",
       "│ 131698  ┆ 0.0                       ┆ false                     │\n",
       "│ 917695  ┆ 0.0                       ┆ false                     │\n",
       "│ …       ┆ …                         ┆ …                         │\n",
       "│ 1940997 ┆ 25.2                      ┆ false                     │\n",
       "│ 171840  ┆ 15.8                      ┆ true                      │\n",
       "│ 142686  ┆ 3.8                       ┆ true                      │\n",
       "│ 221522  ┆ 0.0                       ┆ false                     │\n",
       "│ 954455  ┆ 0.0                       ┆ false                     │\n",
       "└─────────┴───────────────────────────┴───────────────────────────┘"
      ]
     },
     "execution_count": 52,
     "metadata": {},
     "output_type": "execute_result"
    }
   ],
   "source": [
    "# Here we have num_goup1 and num_group2, so we need to aggregate again.\n",
    "train_credit_bureau_b_2_feats = train_credit_bureau_b_2.group_by(\"case_id\").agg(\n",
    "    pl.col(\"pmts_pmtsoverdue_635A\").max().alias(\"pmts_pmtsoverdue_635A_max\"),\n",
    "    (pl.col(\"pmts_dpdvalue_108P\") > 31).max().alias(\"pmts_dpdvalue_108P_over31\")\n",
    ")\n",
    "\n",
    "train_credit_bureau_b_2_feats"
   ]
  },
  {
   "cell_type": "code",
   "execution_count": 53,
   "id": "fba0bb27",
   "metadata": {
    "execution": {
     "iopub.execute_input": "2024-05-22T16:45:39.049929Z",
     "iopub.status.busy": "2024-05-22T16:45:39.049511Z",
     "iopub.status.idle": "2024-05-22T16:45:39.379738Z",
     "shell.execute_reply": "2024-05-22T16:45:39.378507Z"
    },
    "papermill": {
     "duration": 0.368521,
     "end_time": "2024-05-22T16:45:39.382398",
     "exception": false,
     "start_time": "2024-05-22T16:45:39.013877",
     "status": "completed"
    },
    "tags": []
   },
   "outputs": [
    {
     "data": {
      "text/html": [
       "<div><style>\n",
       ".dataframe > thead > tr,\n",
       ".dataframe > tbody > tr {\n",
       "  text-align: right;\n",
       "  white-space: pre-wrap;\n",
       "}\n",
       "</style>\n",
       "<small>shape: (1_221_522, 3)</small><table border=\"1\" class=\"dataframe\"><thead><tr><th>case_id</th><th>pmts_pmtsoverdue_635A_max</th><th>actualdpd_943P_above31</th></tr><tr><td>i64</td><td>f64</td><td>bool</td></tr></thead><tbody><tr><td>1907893</td><td>10382.8</td><td>false</td></tr><tr><td>2599538</td><td>4356.2</td><td>false</td></tr><tr><td>231630</td><td>3957.2</td><td>false</td></tr><tr><td>1330669</td><td>2448.4001</td><td>false</td></tr><tr><td>2642988</td><td>6046.6</td><td>false</td></tr><tr><td>&hellip;</td><td>&hellip;</td><td>&hellip;</td></tr><tr><td>719059</td><td>1513.4</td><td>false</td></tr><tr><td>2694608</td><td>5835.4</td><td>false</td></tr><tr><td>1477865</td><td>15258.4</td><td>false</td></tr><tr><td>1510755</td><td>5248.0</td><td>false</td></tr><tr><td>1808874</td><td>4877.2</td><td>false</td></tr></tbody></table></div>"
      ],
      "text/plain": [
       "shape: (1_221_522, 3)\n",
       "┌─────────┬───────────────────────────┬────────────────────────┐\n",
       "│ case_id ┆ pmts_pmtsoverdue_635A_max ┆ actualdpd_943P_above31 │\n",
       "│ ---     ┆ ---                       ┆ ---                    │\n",
       "│ i64     ┆ f64                       ┆ bool                   │\n",
       "╞═════════╪═══════════════════════════╪════════════════════════╡\n",
       "│ 1907893 ┆ 10382.8                   ┆ false                  │\n",
       "│ 2599538 ┆ 4356.2                    ┆ false                  │\n",
       "│ 231630  ┆ 3957.2                    ┆ false                  │\n",
       "│ 1330669 ┆ 2448.4001                 ┆ false                  │\n",
       "│ 2642988 ┆ 6046.6                    ┆ false                  │\n",
       "│ …       ┆ …                         ┆ …                      │\n",
       "│ 719059  ┆ 1513.4                    ┆ false                  │\n",
       "│ 2694608 ┆ 5835.4                    ┆ false                  │\n",
       "│ 1477865 ┆ 15258.4                   ┆ false                  │\n",
       "│ 1510755 ┆ 5248.0                    ┆ false                  │\n",
       "│ 1808874 ┆ 4877.2                    ┆ false                  │\n",
       "└─────────┴───────────────────────────┴────────────────────────┘"
      ]
     },
     "execution_count": 53,
     "metadata": {},
     "output_type": "execute_result"
    }
   ],
   "source": [
    "# \n",
    "applprev_1_feats = applprev_1.group_by(\"case_id\").agg(\n",
    "    pl.col(\"annuity_853A\").max().alias(\"pmts_pmtsoverdue_635A_max\"),\n",
    "    (pl.col(\"actualdpd_943P\") > 31).max().alias(\"actualdpd_943P_above31\")\n",
    ")\n",
    "\n",
    "applprev_1_feats"
   ]
  },
  {
   "cell_type": "code",
   "execution_count": 54,
   "id": "f232e1d8",
   "metadata": {
    "execution": {
     "iopub.execute_input": "2024-05-22T16:45:39.461768Z",
     "iopub.status.busy": "2024-05-22T16:45:39.461233Z",
     "iopub.status.idle": "2024-05-22T16:45:39.486452Z",
     "shell.execute_reply": "2024-05-22T16:45:39.485257Z"
    },
    "papermill": {
     "duration": 0.068708,
     "end_time": "2024-05-22T16:45:39.488884",
     "exception": false,
     "start_time": "2024-05-22T16:45:39.420176",
     "status": "completed"
    },
    "tags": []
   },
   "outputs": [
    {
     "data": {
      "text/html": [
       "<div><style>\n",
       ".dataframe > thead > tr,\n",
       ".dataframe > tbody > tr {\n",
       "  text-align: right;\n",
       "  white-space: pre-wrap;\n",
       "}\n",
       "</style>\n",
       "<small>shape: (36_500, 2)</small><table border=\"1\" class=\"dataframe\"><thead><tr><th>case_id</th><th>dpd_for_terminated_loans</th></tr><tr><td>i64</td><td>f64</td></tr></thead><tbody><tr><td>912634</td><td>0.0</td></tr><tr><td>1932715</td><td>0.0</td></tr><tr><td>744804</td><td>null</td></tr><tr><td>259423</td><td>0.0</td></tr><tr><td>36130</td><td>0.0</td></tr><tr><td>&hellip;</td><td>&hellip;</td></tr><tr><td>1350964</td><td>0.0</td></tr><tr><td>1717852</td><td>0.0</td></tr><tr><td>1742290</td><td>0.0</td></tr><tr><td>2574087</td><td>0.0</td></tr><tr><td>977848</td><td>0.0</td></tr></tbody></table></div>"
      ],
      "text/plain": [
       "shape: (36_500, 2)\n",
       "┌─────────┬──────────────────────────┐\n",
       "│ case_id ┆ dpd_for_terminated_loans │\n",
       "│ ---     ┆ ---                      │\n",
       "│ i64     ┆ f64                      │\n",
       "╞═════════╪══════════════════════════╡\n",
       "│ 912634  ┆ 0.0                      │\n",
       "│ 1932715 ┆ 0.0                      │\n",
       "│ 744804  ┆ null                     │\n",
       "│ 259423  ┆ 0.0                      │\n",
       "│ 36130   ┆ 0.0                      │\n",
       "│ …       ┆ …                        │\n",
       "│ 1350964 ┆ 0.0                      │\n",
       "│ 1717852 ┆ 0.0                      │\n",
       "│ 1742290 ┆ 0.0                      │\n",
       "│ 2574087 ┆ 0.0                      │\n",
       "│ 977848  ┆ 0.0                      │\n",
       "└─────────┴──────────────────────────┘"
      ]
     },
     "execution_count": 54,
     "metadata": {},
     "output_type": "execute_result"
    }
   ],
   "source": [
    "# \n",
    "train_credit_bureau_b_1_feat = credit_bureau_b_1.group_by(\"case_id\").agg(\n",
    "    pl.col(\"dpd_733P\").max().alias(\"dpd_for_terminated_loans\")\n",
    ")\n",
    "\n",
    "train_credit_bureau_b_1_feat"
   ]
  },
  {
   "cell_type": "code",
   "execution_count": 55,
   "id": "e0d38f88",
   "metadata": {
    "execution": {
     "iopub.execute_input": "2024-05-22T16:45:39.561412Z",
     "iopub.status.busy": "2024-05-22T16:45:39.560996Z",
     "iopub.status.idle": "2024-05-22T16:45:39.818531Z",
     "shell.execute_reply": "2024-05-22T16:45:39.817427Z"
    },
    "papermill": {
     "duration": 0.297258,
     "end_time": "2024-05-22T16:45:39.821162",
     "exception": false,
     "start_time": "2024-05-22T16:45:39.523904",
     "status": "completed"
    },
    "tags": []
   },
   "outputs": [
    {
     "data": {
      "text/html": [
       "<div><style>\n",
       ".dataframe > thead > tr,\n",
       ".dataframe > tbody > tr {\n",
       "  text-align: right;\n",
       "  white-space: pre-wrap;\n",
       "}\n",
       "</style>\n",
       "<small>shape: (884_538, 2)</small><table border=\"1\" class=\"dataframe\"><thead><tr><th>case_id</th><th>dpdmax_for_active_contracts</th></tr><tr><td>i64</td><td>f64</td></tr></thead><tbody><tr><td>135336</td><td>0.0</td></tr><tr><td>1271573</td><td>20.0</td></tr><tr><td>801248</td><td>0.0</td></tr><tr><td>836576</td><td>0.0</td></tr><tr><td>859561</td><td>0.0</td></tr><tr><td>&hellip;</td><td>&hellip;</td></tr><tr><td>1597266</td><td>79.0</td></tr><tr><td>852206</td><td>48.0</td></tr><tr><td>2616409</td><td>0.0</td></tr><tr><td>881750</td><td>0.0</td></tr><tr><td>1458766</td><td>0.0</td></tr></tbody></table></div>"
      ],
      "text/plain": [
       "shape: (884_538, 2)\n",
       "┌─────────┬─────────────────────────────┐\n",
       "│ case_id ┆ dpdmax_for_active_contracts │\n",
       "│ ---     ┆ ---                         │\n",
       "│ i64     ┆ f64                         │\n",
       "╞═════════╪═════════════════════════════╡\n",
       "│ 135336  ┆ 0.0                         │\n",
       "│ 1271573 ┆ 20.0                        │\n",
       "│ 801248  ┆ 0.0                         │\n",
       "│ 836576  ┆ 0.0                         │\n",
       "│ 859561  ┆ 0.0                         │\n",
       "│ …       ┆ …                           │\n",
       "│ 1597266 ┆ 79.0                        │\n",
       "│ 852206  ┆ 48.0                        │\n",
       "│ 2616409 ┆ 0.0                         │\n",
       "│ 881750  ┆ 0.0                         │\n",
       "│ 1458766 ┆ 0.0                         │\n",
       "└─────────┴─────────────────────────────┘"
      ]
     },
     "execution_count": 55,
     "metadata": {},
     "output_type": "execute_result"
    }
   ],
   "source": [
    "# \n",
    "train_credit_bureau_a_1_feat = credit_bureau_a_1.group_by(\"case_id\").agg(\n",
    "    pl.col(\"dpdmax_139P\").max().alias(\"dpdmax_for_active_contracts\")\n",
    ")\n",
    "\n",
    "train_credit_bureau_a_1_feat"
   ]
  },
  {
   "cell_type": "code",
   "execution_count": 56,
   "id": "84187275",
   "metadata": {
    "execution": {
     "iopub.execute_input": "2024-05-22T16:45:39.894158Z",
     "iopub.status.busy": "2024-05-22T16:45:39.893744Z",
     "iopub.status.idle": "2024-05-22T16:45:39.900282Z",
     "shell.execute_reply": "2024-05-22T16:45:39.899235Z"
    },
    "papermill": {
     "duration": 0.04631,
     "end_time": "2024-05-22T16:45:39.903251",
     "exception": false,
     "start_time": "2024-05-22T16:45:39.856941",
     "status": "completed"
    },
    "tags": []
   },
   "outputs": [
    {
     "name": "stdout",
     "output_type": "stream",
     "text": [
      "['actualdpdtolerance_344P', 'amtinstpaidbefduel24m_4187115A', 'annuity_780A', 'annuitynextmonth_57A', 'avgdbddpdlast24m_3658932P', 'avgdbddpdlast3m_4187120P', 'avgdbdtollast24m_4525197P', 'avgdpdtolclosure24_3658938P', 'avginstallast24m_3658937A', 'avglnamtstart24m_4525187A', 'avgmaxdpdlast9m_3716943P', 'avgoutstandbalancel6m_4187114A', 'avgpmtlast12m_4525200A', 'credamount_770A', 'currdebt_22A', 'currdebtcredtyperange_828A', 'disbursedcredamount_1113A', 'downpmt_116A', 'inittransactionamount_650A', 'lastapprcommoditycat_1041M', 'lastapprcommoditytypec_5251766M', 'lastapprcredamount_781A', 'lastcancelreason_561M', 'lastotherinc_902A', 'lastotherlnsexpense_631A', 'lastrejectcommoditycat_161M', 'lastrejectcommodtypec_5251769M', 'lastrejectcredamount_222A', 'lastrejectreason_759M', 'lastrejectreasonclient_4145040M', 'maininc_215A', 'maxannuity_159A', 'maxannuity_4075009A', 'maxdbddpdlast1m_3658939P', 'maxdbddpdtollast12m_3658940P', 'maxdbddpdtollast6m_4187119P', 'maxdebt4_972A', 'maxdpdfrom6mto36m_3546853P', 'maxdpdinstlnum_3546846P', 'maxdpdlast12m_727P', 'maxdpdlast24m_143P', 'maxdpdlast3m_392P', 'maxdpdlast6m_474P', 'maxdpdlast9m_1059P', 'maxdpdtolerance_374P', 'maxinstallast24m_3658928A', 'maxlnamtstart6m_4525199A', 'maxoutstandbalancel12m_4187113A', 'maxpmtlast3m_4525190A', 'mindbddpdlast24m_3658935P', 'mindbdtollast24m_4525191P', 'posfpd10lastmonth_333P', 'posfpd30lastmonth_3976960P', 'posfstqpd30lastmonth_3976962P', 'previouscontdistrict_112M', 'price_1097A', 'sumoutstandtotal_3546847A', 'sumoutstandtotalest_4493215A', 'totaldebt_9A', 'totalsettled_863A', 'totinstallast1m_4525188A']\n"
     ]
    }
   ],
   "source": [
    "# We will process in this examples only A-type and M-type columns, so we need to select them.\n",
    "selected_static_cols = []\n",
    "for col in train_static.columns:\n",
    "    if col[-1] in (\"A\", \"M\", \"P\"):\n",
    "        selected_static_cols.append(col)\n",
    "print(selected_static_cols)"
   ]
  },
  {
   "cell_type": "code",
   "execution_count": 57,
   "id": "1835a762",
   "metadata": {
    "execution": {
     "iopub.execute_input": "2024-05-22T16:45:39.976039Z",
     "iopub.status.busy": "2024-05-22T16:45:39.975641Z",
     "iopub.status.idle": "2024-05-22T16:45:39.999597Z",
     "shell.execute_reply": "2024-05-22T16:45:39.998554Z"
    },
    "papermill": {
     "duration": 0.063313,
     "end_time": "2024-05-22T16:45:40.002144",
     "exception": false,
     "start_time": "2024-05-22T16:45:39.938831",
     "status": "completed"
    },
    "scrolled": true,
    "tags": []
   },
   "outputs": [
    {
     "data": {
      "text/html": [
       "<div><style>\n",
       ".dataframe > thead > tr,\n",
       ".dataframe > tbody > tr {\n",
       "  text-align: right;\n",
       "  white-space: pre-wrap;\n",
       "}\n",
       "</style>\n",
       "<small>shape: (1_526_659, 61)</small><table border=\"1\" class=\"dataframe\"><thead><tr><th>actualdpdtolerance_344P</th><th>amtinstpaidbefduel24m_4187115A</th><th>annuity_780A</th><th>annuitynextmonth_57A</th><th>avgdbddpdlast24m_3658932P</th><th>avgdbddpdlast3m_4187120P</th><th>avgdbdtollast24m_4525197P</th><th>avgdpdtolclosure24_3658938P</th><th>avginstallast24m_3658937A</th><th>avglnamtstart24m_4525187A</th><th>avgmaxdpdlast9m_3716943P</th><th>avgoutstandbalancel6m_4187114A</th><th>avgpmtlast12m_4525200A</th><th>credamount_770A</th><th>currdebt_22A</th><th>currdebtcredtyperange_828A</th><th>disbursedcredamount_1113A</th><th>downpmt_116A</th><th>inittransactionamount_650A</th><th>lastapprcommoditycat_1041M</th><th>lastapprcommoditytypec_5251766M</th><th>lastapprcredamount_781A</th><th>lastcancelreason_561M</th><th>lastotherinc_902A</th><th>lastotherlnsexpense_631A</th><th>lastrejectcommoditycat_161M</th><th>lastrejectcommodtypec_5251769M</th><th>lastrejectcredamount_222A</th><th>lastrejectreason_759M</th><th>lastrejectreasonclient_4145040M</th><th>maininc_215A</th><th>maxannuity_159A</th><th>maxannuity_4075009A</th><th>maxdbddpdlast1m_3658939P</th><th>maxdbddpdtollast12m_3658940P</th><th>maxdbddpdtollast6m_4187119P</th><th>maxdebt4_972A</th><th>maxdpdfrom6mto36m_3546853P</th><th>maxdpdinstlnum_3546846P</th><th>maxdpdlast12m_727P</th><th>maxdpdlast24m_143P</th><th>maxdpdlast3m_392P</th><th>maxdpdlast6m_474P</th><th>maxdpdlast9m_1059P</th><th>maxdpdtolerance_374P</th><th>maxinstallast24m_3658928A</th><th>maxlnamtstart6m_4525199A</th><th>maxoutstandbalancel12m_4187113A</th><th>maxpmtlast3m_4525190A</th><th>mindbddpdlast24m_3658935P</th><th>mindbdtollast24m_4525191P</th><th>posfpd10lastmonth_333P</th><th>posfpd30lastmonth_3976960P</th><th>posfstqpd30lastmonth_3976962P</th><th>previouscontdistrict_112M</th><th>price_1097A</th><th>sumoutstandtotal_3546847A</th><th>sumoutstandtotalest_4493215A</th><th>totaldebt_9A</th><th>totalsettled_863A</th><th>totinstallast1m_4525188A</th></tr><tr><td>f64</td><td>f64</td><td>f64</td><td>f64</td><td>f64</td><td>f64</td><td>f64</td><td>f64</td><td>f64</td><td>f64</td><td>f64</td><td>f64</td><td>f64</td><td>f64</td><td>f64</td><td>f64</td><td>f64</td><td>f64</td><td>f64</td><td>str</td><td>str</td><td>f64</td><td>str</td><td>f64</td><td>f64</td><td>str</td><td>str</td><td>f64</td><td>str</td><td>str</td><td>f64</td><td>f64</td><td>f64</td><td>f64</td><td>f64</td><td>f64</td><td>f64</td><td>f64</td><td>f64</td><td>f64</td><td>f64</td><td>f64</td><td>f64</td><td>f64</td><td>f64</td><td>f64</td><td>f64</td><td>f64</td><td>f64</td><td>f64</td><td>f64</td><td>f64</td><td>f64</td><td>f64</td><td>str</td><td>f64</td><td>f64</td><td>f64</td><td>f64</td><td>f64</td><td>f64</td></tr></thead><tbody><tr><td>null</td><td>null</td><td>1917.6</td><td>0.0</td><td>null</td><td>null</td><td>null</td><td>null</td><td>null</td><td>null</td><td>null</td><td>null</td><td>null</td><td>30000.0</td><td>0.0</td><td>0.0</td><td>30000.0</td><td>0.0</td><td>null</td><td>&quot;a55475b1&quot;</td><td>&quot;a55475b1&quot;</td><td>null</td><td>&quot;a55475b1&quot;</td><td>null</td><td>null</td><td>&quot;a55475b1&quot;</td><td>&quot;a55475b1&quot;</td><td>null</td><td>&quot;a55475b1&quot;</td><td>&quot;a55475b1&quot;</td><td>null</td><td>0.0</td><td>null</td><td>null</td><td>null</td><td>null</td><td>0.0</td><td>0.0</td><td>null</td><td>0.0</td><td>0.0</td><td>0.0</td><td>0.0</td><td>0.0</td><td>0.0</td><td>null</td><td>null</td><td>null</td><td>null</td><td>null</td><td>null</td><td>0.0</td><td>0.0</td><td>null</td><td>&quot;a55475b1&quot;</td><td>null</td><td>null</td><td>null</td><td>0.0</td><td>0.0</td><td>null</td></tr><tr><td>null</td><td>null</td><td>3134.0</td><td>0.0</td><td>null</td><td>null</td><td>null</td><td>null</td><td>null</td><td>null</td><td>null</td><td>null</td><td>null</td><td>19999.8</td><td>0.0</td><td>0.0</td><td>19999.8</td><td>0.0</td><td>null</td><td>&quot;a55475b1&quot;</td><td>&quot;a55475b1&quot;</td><td>null</td><td>&quot;a55475b1&quot;</td><td>null</td><td>null</td><td>&quot;a55475b1&quot;</td><td>&quot;a55475b1&quot;</td><td>null</td><td>&quot;a55475b1&quot;</td><td>&quot;a55475b1&quot;</td><td>null</td><td>0.0</td><td>null</td><td>null</td><td>null</td><td>null</td><td>0.0</td><td>0.0</td><td>null</td><td>0.0</td><td>0.0</td><td>0.0</td><td>0.0</td><td>0.0</td><td>0.0</td><td>null</td><td>null</td><td>null</td><td>null</td><td>null</td><td>null</td><td>0.0</td><td>0.0</td><td>null</td><td>&quot;a55475b1&quot;</td><td>null</td><td>null</td><td>null</td><td>0.0</td><td>0.0</td><td>null</td></tr><tr><td>null</td><td>null</td><td>4937.0</td><td>0.0</td><td>null</td><td>null</td><td>null</td><td>null</td><td>null</td><td>null</td><td>null</td><td>null</td><td>null</td><td>78000.0</td><td>0.0</td><td>0.0</td><td>78000.0</td><td>0.0</td><td>null</td><td>&quot;a55475b1&quot;</td><td>&quot;a55475b1&quot;</td><td>null</td><td>&quot;a55475b1&quot;</td><td>null</td><td>null</td><td>&quot;a55475b1&quot;</td><td>&quot;a55475b1&quot;</td><td>10000.0</td><td>&quot;a55475b1&quot;</td><td>&quot;a55475b1&quot;</td><td>null</td><td>0.0</td><td>null</td><td>null</td><td>null</td><td>null</td><td>0.0</td><td>null</td><td>null</td><td>0.0</td><td>0.0</td><td>0.0</td><td>0.0</td><td>0.0</td><td>0.0</td><td>null</td><td>null</td><td>null</td><td>null</td><td>null</td><td>null</td><td>0.0</td><td>0.0</td><td>null</td><td>&quot;a55475b1&quot;</td><td>null</td><td>null</td><td>null</td><td>0.0</td><td>0.0</td><td>null</td></tr><tr><td>null</td><td>null</td><td>4643.6</td><td>0.0</td><td>null</td><td>null</td><td>null</td><td>null</td><td>null</td><td>null</td><td>null</td><td>null</td><td>null</td><td>40000.0</td><td>0.0</td><td>0.0</td><td>40000.0</td><td>0.0</td><td>null</td><td>&quot;a55475b1&quot;</td><td>&quot;a55475b1&quot;</td><td>null</td><td>&quot;P94_109_143&quot;</td><td>null</td><td>null</td><td>&quot;a55475b1&quot;</td><td>&quot;a55475b1&quot;</td><td>59999.8</td><td>&quot;P94_109_143&quot;</td><td>&quot;a55475b1&quot;</td><td>null</td><td>0.0</td><td>null</td><td>null</td><td>null</td><td>null</td><td>0.0</td><td>0.0</td><td>null</td><td>0.0</td><td>0.0</td><td>0.0</td><td>0.0</td><td>0.0</td><td>0.0</td><td>null</td><td>null</td><td>null</td><td>null</td><td>null</td><td>null</td><td>0.0</td><td>0.0</td><td>null</td><td>&quot;a55475b1&quot;</td><td>null</td><td>null</td><td>null</td><td>0.0</td><td>0.0</td><td>null</td></tr><tr><td>null</td><td>null</td><td>3390.2</td><td>0.0</td><td>null</td><td>null</td><td>null</td><td>null</td><td>null</td><td>null</td><td>null</td><td>null</td><td>null</td><td>44000.0</td><td>0.0</td><td>0.0</td><td>44000.0</td><td>0.0</td><td>null</td><td>&quot;a55475b1&quot;</td><td>&quot;a55475b1&quot;</td><td>null</td><td>&quot;P24_27_36&quot;</td><td>null</td><td>null</td><td>&quot;a55475b1&quot;</td><td>&quot;a55475b1&quot;</td><td>null</td><td>&quot;a55475b1&quot;</td><td>&quot;a55475b1&quot;</td><td>null</td><td>0.0</td><td>null</td><td>null</td><td>null</td><td>null</td><td>0.0</td><td>0.0</td><td>null</td><td>0.0</td><td>0.0</td><td>0.0</td><td>0.0</td><td>0.0</td><td>0.0</td><td>null</td><td>null</td><td>null</td><td>null</td><td>null</td><td>null</td><td>0.0</td><td>0.0</td><td>null</td><td>&quot;a55475b1&quot;</td><td>null</td><td>null</td><td>null</td><td>0.0</td><td>0.0</td><td>null</td></tr><tr><td>&hellip;</td><td>&hellip;</td><td>&hellip;</td><td>&hellip;</td><td>&hellip;</td><td>&hellip;</td><td>&hellip;</td><td>&hellip;</td><td>&hellip;</td><td>&hellip;</td><td>&hellip;</td><td>&hellip;</td><td>&hellip;</td><td>&hellip;</td><td>&hellip;</td><td>&hellip;</td><td>&hellip;</td><td>&hellip;</td><td>&hellip;</td><td>&hellip;</td><td>&hellip;</td><td>&hellip;</td><td>&hellip;</td><td>&hellip;</td><td>&hellip;</td><td>&hellip;</td><td>&hellip;</td><td>&hellip;</td><td>&hellip;</td><td>&hellip;</td><td>&hellip;</td><td>&hellip;</td><td>&hellip;</td><td>&hellip;</td><td>&hellip;</td><td>&hellip;</td><td>&hellip;</td><td>&hellip;</td><td>&hellip;</td><td>&hellip;</td><td>&hellip;</td><td>&hellip;</td><td>&hellip;</td><td>&hellip;</td><td>&hellip;</td><td>&hellip;</td><td>&hellip;</td><td>&hellip;</td><td>&hellip;</td><td>&hellip;</td><td>&hellip;</td><td>&hellip;</td><td>&hellip;</td><td>&hellip;</td><td>&hellip;</td><td>&hellip;</td><td>&hellip;</td><td>&hellip;</td><td>&hellip;</td><td>&hellip;</td><td>&hellip;</td></tr><tr><td>0.0</td><td>176561.36</td><td>3675.4001</td><td>0.0</td><td>-23.0</td><td>-43.0</td><td>-23.0</td><td>0.0</td><td>7356.8003</td><td>null</td><td>0.0</td><td>16392.496</td><td>6750.2</td><td>30000.0</td><td>0.0</td><td>0.0</td><td>30000.0</td><td>0.0</td><td>null</td><td>&quot;P12_6_178&quot;</td><td>&quot;P142_50_170&quot;</td><td>20020.0</td><td>&quot;a55475b1&quot;</td><td>null</td><td>null</td><td>&quot;a55475b1&quot;</td><td>&quot;a55475b1&quot;</td><td>150000.0</td><td>&quot;P94_109_143&quot;</td><td>&quot;P94_109_143&quot;</td><td>36000.0</td><td>75521.91</td><td>null</td><td>0.0</td><td>0.0</td><td>0.0</td><td>105019.79</td><td>0.0</td><td>6.0</td><td>0.0</td><td>0.0</td><td>0.0</td><td>0.0</td><td>0.0</td><td>8.0</td><td>46718.2</td><td>49651.402</td><td>77533.76</td><td>14346.319</td><td>-144.0</td><td>-144.0</td><td>0.0</td><td>0.0</td><td>0.0</td><td>&quot;P123_39_170&quot;</td><td>0.0</td><td>0.0</td><td>0.0</td><td>0.0</td><td>428159.66</td><td>14346.319</td></tr><tr><td>0.0</td><td>301276.47</td><td>7088.6</td><td>6191.6</td><td>-18.0</td><td>-12.0</td><td>-18.0</td><td>0.0</td><td>12553.2</td><td>null</td><td>0.0</td><td>105129.31</td><td>15780.4</td><td>100000.0</td><td>68098.4</td><td>68098.4</td><td>40739.54</td><td>0.0</td><td>null</td><td>&quot;a55475b1&quot;</td><td>&quot;a55475b1&quot;</td><td>0.0</td><td>&quot;a55475b1&quot;</td><td>null</td><td>null</td><td>&quot;a55475b1&quot;</td><td>&quot;a55475b1&quot;</td><td>null</td><td>&quot;a55475b1&quot;</td><td>&quot;a55475b1&quot;</td><td>null</td><td>117251.6</td><td>null</td><td>0.0</td><td>2.0</td><td>2.0</td><td>202775.55</td><td>0.0</td><td>7.0</td><td>2.0</td><td>2.0</td><td>0.0</td><td>2.0</td><td>2.0</td><td>2.0</td><td>40499.8</td><td>116813.4</td><td>250031.2</td><td>40499.805</td><td>-92.0</td><td>-92.0</td><td>0.0</td><td>0.0</td><td>0.0</td><td>&quot;P162_18_172&quot;</td><td>null</td><td>68098.4</td><td>68098.4</td><td>68098.4</td><td>701247.3</td><td>40499.805</td></tr><tr><td>0.0</td><td>14232.4</td><td>7788.8003</td><td>0.0</td><td>-12.0</td><td>null</td><td>-16.0</td><td>1.0</td><td>2662.4001</td><td>null</td><td>null</td><td>null</td><td>1500.6</td><td>60000.0</td><td>0.0</td><td>0.0</td><td>60000.0</td><td>0.0</td><td>null</td><td>&quot;P159_130_59&quot;</td><td>&quot;P75_90_70&quot;</td><td>3998.0</td><td>&quot;P180_60_137&quot;</td><td>null</td><td>null</td><td>&quot;a55475b1&quot;</td><td>&quot;a55475b1&quot;</td><td>null</td><td>&quot;a55475b1&quot;</td><td>&quot;a55475b1&quot;</td><td>24000.0</td><td>6600.0</td><td>null</td><td>null</td><td>-27.0</td><td>null</td><td>17143.4</td><td>4.0</td><td>5.0</td><td>0.0</td><td>4.0</td><td>0.0</td><td>0.0</td><td>0.0</td><td>4.0</td><td>3243.4001</td><td>4182.0</td><td>0.0</td><td>null</td><td>-27.0</td><td>-55.0</td><td>0.0</td><td>0.0</td><td>0.0</td><td>&quot;P133_44_167&quot;</td><td>0.0</td><td>0.0</td><td>0.0</td><td>0.0</td><td>24002.0</td><td>null</td></tr><tr><td>0.0</td><td>197371.58</td><td>1195.4</td><td>2827.2</td><td>-33.0</td><td>-64.0</td><td>-34.0</td><td>0.0</td><td>8212.601</td><td>null</td><td>0.0</td><td>47943.062</td><td>9921.2</td><td>6000.0</td><td>46806.6</td><td>46806.6</td><td>6000.0</td><td>0.0</td><td>null</td><td>&quot;a55475b1&quot;</td><td>&quot;a55475b1&quot;</td><td>0.0</td><td>&quot;a55475b1&quot;</td><td>null</td><td>null</td><td>&quot;P159_130_59&quot;</td><td>&quot;P174_113_42&quot;</td><td>2198.0</td><td>&quot;a55475b1&quot;</td><td>&quot;a55475b1&quot;</td><td>null</td><td>163202.0</td><td>null</td><td>-66.0</td><td>0.0</td><td>-33.0</td><td>126780.0</td><td>2.0</td><td>13.0</td><td>0.0</td><td>0.0</td><td>0.0</td><td>0.0</td><td>0.0</td><td>34.0</td><td>88740.805</td><td>94265.2</td><td>81604.6</td><td>2827.2</td><td>-68.0</td><td>-68.0</td><td>0.0</td><td>0.0</td><td>0.0</td><td>&quot;P123_6_84&quot;</td><td>0.0</td><td>46806.6</td><td>46806.6</td><td>46806.6</td><td>440145.3</td><td>5654.4</td></tr><tr><td>0.0</td><td>82949.6</td><td>4533.8003</td><td>2986.8</td><td>-6.0</td><td>-5.0</td><td>-6.0</td><td>0.0</td><td>6405.4</td><td>15998.0</td><td>0.0</td><td>15651.796</td><td>6352.0</td><td>39414.0</td><td>5919.2</td><td>0.0</td><td>33800.492</td><td>0.0</td><td>null</td><td>&quot;a55475b1&quot;</td><td>&quot;a55475b1&quot;</td><td>15998.0</td><td>&quot;a55475b1&quot;</td><td>null</td><td>null</td><td>&quot;a55475b1&quot;</td><td>&quot;a55475b1&quot;</td><td>null</td><td>&quot;a55475b1&quot;</td><td>&quot;a55475b1&quot;</td><td>24000.0</td><td>16148.929</td><td>null</td><td>-5.0</td><td>-2.0</td><td>-2.0</td><td>63980.0</td><td>1.0</td><td>1.0</td><td>0.0</td><td>1.0</td><td>0.0</td><td>0.0</td><td>0.0</td><td>1.0</td><td>9710.0</td><td>55411.8</td><td>60461.438</td><td>9710.0</td><td>-12.0</td><td>-12.0</td><td>0.0</td><td>0.0</td><td>0.0</td><td>&quot;P48_127_19&quot;</td><td>null</td><td>8919.2</td><td>8919.2</td><td>5919.2</td><td>92999.57</td><td>2986.8</td></tr></tbody></table></div>"
      ],
      "text/plain": [
       "shape: (1_526_659, 61)\n",
       "┌───────────┬───────────┬───────────┬───────────┬───┬───────────┬───────────┬───────────┬──────────┐\n",
       "│ actualdpd ┆ amtinstpa ┆ annuity_7 ┆ annuityne ┆ … ┆ sumoutsta ┆ totaldebt ┆ totalsett ┆ totinsta │\n",
       "│ tolerance ┆ idbefduel ┆ 80A       ┆ xtmonth_5 ┆   ┆ ndtotales ┆ _9A       ┆ led_863A  ┆ llast1m_ │\n",
       "│ _344P     ┆ 24m_41871 ┆ ---       ┆ 7A        ┆   ┆ t_4493215 ┆ ---       ┆ ---       ┆ 4525188A │\n",
       "│ ---       ┆ 15A       ┆ f64       ┆ ---       ┆   ┆ A         ┆ f64       ┆ f64       ┆ ---      │\n",
       "│ f64       ┆ ---       ┆           ┆ f64       ┆   ┆ ---       ┆           ┆           ┆ f64      │\n",
       "│           ┆ f64       ┆           ┆           ┆   ┆ f64       ┆           ┆           ┆          │\n",
       "╞═══════════╪═══════════╪═══════════╪═══════════╪═══╪═══════════╪═══════════╪═══════════╪══════════╡\n",
       "│ null      ┆ null      ┆ 1917.6    ┆ 0.0       ┆ … ┆ null      ┆ 0.0       ┆ 0.0       ┆ null     │\n",
       "│ null      ┆ null      ┆ 3134.0    ┆ 0.0       ┆ … ┆ null      ┆ 0.0       ┆ 0.0       ┆ null     │\n",
       "│ null      ┆ null      ┆ 4937.0    ┆ 0.0       ┆ … ┆ null      ┆ 0.0       ┆ 0.0       ┆ null     │\n",
       "│ null      ┆ null      ┆ 4643.6    ┆ 0.0       ┆ … ┆ null      ┆ 0.0       ┆ 0.0       ┆ null     │\n",
       "│ null      ┆ null      ┆ 3390.2    ┆ 0.0       ┆ … ┆ null      ┆ 0.0       ┆ 0.0       ┆ null     │\n",
       "│ …         ┆ …         ┆ …         ┆ …         ┆ … ┆ …         ┆ …         ┆ …         ┆ …        │\n",
       "│ 0.0       ┆ 176561.36 ┆ 3675.4001 ┆ 0.0       ┆ … ┆ 0.0       ┆ 0.0       ┆ 428159.66 ┆ 14346.31 │\n",
       "│           ┆           ┆           ┆           ┆   ┆           ┆           ┆           ┆ 9        │\n",
       "│ 0.0       ┆ 301276.47 ┆ 7088.6    ┆ 6191.6    ┆ … ┆ 68098.4   ┆ 68098.4   ┆ 701247.3  ┆ 40499.80 │\n",
       "│           ┆           ┆           ┆           ┆   ┆           ┆           ┆           ┆ 5        │\n",
       "│ 0.0       ┆ 14232.4   ┆ 7788.8003 ┆ 0.0       ┆ … ┆ 0.0       ┆ 0.0       ┆ 24002.0   ┆ null     │\n",
       "│ 0.0       ┆ 197371.58 ┆ 1195.4    ┆ 2827.2    ┆ … ┆ 46806.6   ┆ 46806.6   ┆ 440145.3  ┆ 5654.4   │\n",
       "│ 0.0       ┆ 82949.6   ┆ 4533.8003 ┆ 2986.8    ┆ … ┆ 8919.2    ┆ 5919.2    ┆ 92999.57  ┆ 2986.8   │\n",
       "└───────────┴───────────┴───────────┴───────────┴───┴───────────┴───────────┴───────────┴──────────┘"
      ]
     },
     "execution_count": 57,
     "metadata": {},
     "output_type": "execute_result"
    }
   ],
   "source": [
    "train_static.select(selected_static_cols)"
   ]
  },
  {
   "cell_type": "code",
   "execution_count": 58,
   "id": "2020ebc5",
   "metadata": {
    "execution": {
     "iopub.execute_input": "2024-05-22T16:45:40.075464Z",
     "iopub.status.busy": "2024-05-22T16:45:40.075117Z",
     "iopub.status.idle": "2024-05-22T16:45:40.081228Z",
     "shell.execute_reply": "2024-05-22T16:45:40.080206Z"
    },
    "papermill": {
     "duration": 0.046427,
     "end_time": "2024-05-22T16:45:40.084323",
     "exception": false,
     "start_time": "2024-05-22T16:45:40.037896",
     "status": "completed"
    },
    "tags": []
   },
   "outputs": [
    {
     "name": "stdout",
     "output_type": "stream",
     "text": [
      "['description_5085714M', 'education_1103M', 'education_88M', 'maritalst_385M', 'maritalst_893M', 'pmtaverage_3A', 'pmtaverage_4527227A', 'pmtaverage_4955615A', 'pmtssum_45A']\n"
     ]
    }
   ],
   "source": [
    "selected_static_cb_cols = []\n",
    "for col in train_static_cb.columns:\n",
    "    if col[-1] in (\"A\", \"M\", \"P\"):\n",
    "        selected_static_cb_cols.append(col)\n",
    "print(selected_static_cb_cols)"
   ]
  },
  {
   "cell_type": "code",
   "execution_count": 59,
   "id": "180b249e",
   "metadata": {
    "execution": {
     "iopub.execute_input": "2024-05-22T16:45:40.159012Z",
     "iopub.status.busy": "2024-05-22T16:45:40.158605Z",
     "iopub.status.idle": "2024-05-22T16:45:40.169657Z",
     "shell.execute_reply": "2024-05-22T16:45:40.168614Z"
    },
    "papermill": {
     "duration": 0.051343,
     "end_time": "2024-05-22T16:45:40.171942",
     "exception": false,
     "start_time": "2024-05-22T16:45:40.120599",
     "status": "completed"
    },
    "tags": []
   },
   "outputs": [
    {
     "data": {
      "text/html": [
       "<div><style>\n",
       ".dataframe > thead > tr,\n",
       ".dataframe > tbody > tr {\n",
       "  text-align: right;\n",
       "  white-space: pre-wrap;\n",
       "}\n",
       "</style>\n",
       "<small>shape: (1_500_476, 9)</small><table border=\"1\" class=\"dataframe\"><thead><tr><th>description_5085714M</th><th>education_1103M</th><th>education_88M</th><th>maritalst_385M</th><th>maritalst_893M</th><th>pmtaverage_3A</th><th>pmtaverage_4527227A</th><th>pmtaverage_4955615A</th><th>pmtssum_45A</th></tr><tr><td>str</td><td>str</td><td>str</td><td>str</td><td>str</td><td>f64</td><td>f64</td><td>f64</td><td>f64</td></tr></thead><tbody><tr><td>&quot;a55475b1&quot;</td><td>&quot;a55475b1&quot;</td><td>&quot;a55475b1&quot;</td><td>&quot;a55475b1&quot;</td><td>&quot;a55475b1&quot;</td><td>null</td><td>null</td><td>null</td><td>6301.4</td></tr><tr><td>&quot;a55475b1&quot;</td><td>&quot;a55475b1&quot;</td><td>&quot;a55475b1&quot;</td><td>&quot;a55475b1&quot;</td><td>&quot;a55475b1&quot;</td><td>null</td><td>null</td><td>null</td><td>4019.6</td></tr><tr><td>&quot;a55475b1&quot;</td><td>&quot;a55475b1&quot;</td><td>&quot;a55475b1&quot;</td><td>&quot;a55475b1&quot;</td><td>&quot;a55475b1&quot;</td><td>null</td><td>null</td><td>null</td><td>14548.0</td></tr><tr><td>&quot;a55475b1&quot;</td><td>&quot;a55475b1&quot;</td><td>&quot;a55475b1&quot;</td><td>&quot;a55475b1&quot;</td><td>&quot;a55475b1&quot;</td><td>null</td><td>null</td><td>null</td><td>10498.24</td></tr><tr><td>&quot;a55475b1&quot;</td><td>&quot;717ddd49&quot;</td><td>&quot;a55475b1&quot;</td><td>&quot;a7fcb6e5&quot;</td><td>&quot;a55475b1&quot;</td><td>null</td><td>null</td><td>null</td><td>6344.8804</td></tr><tr><td>&hellip;</td><td>&hellip;</td><td>&hellip;</td><td>&hellip;</td><td>&hellip;</td><td>&hellip;</td><td>&hellip;</td><td>&hellip;</td><td>&hellip;</td></tr><tr><td>&quot;2fc785b2&quot;</td><td>&quot;a55475b1&quot;</td><td>&quot;a55475b1&quot;</td><td>&quot;a55475b1&quot;</td><td>&quot;a55475b1&quot;</td><td>null</td><td>null</td><td>12155.0</td><td>null</td></tr><tr><td>&quot;2fc785b2&quot;</td><td>&quot;a55475b1&quot;</td><td>&quot;a55475b1&quot;</td><td>&quot;a55475b1&quot;</td><td>&quot;a55475b1&quot;</td><td>null</td><td>null</td><td>22904.6</td><td>null</td></tr><tr><td>&quot;2fc785b2&quot;</td><td>&quot;a55475b1&quot;</td><td>&quot;a55475b1&quot;</td><td>&quot;a55475b1&quot;</td><td>&quot;a55475b1&quot;</td><td>null</td><td>null</td><td>null</td><td>null</td></tr><tr><td>&quot;2fc785b2&quot;</td><td>&quot;6b2ae0fa&quot;</td><td>&quot;a55475b1&quot;</td><td>&quot;3439d993&quot;</td><td>&quot;a55475b1&quot;</td><td>null</td><td>null</td><td>15792.4</td><td>null</td></tr><tr><td>&quot;2fc785b2&quot;</td><td>&quot;a55475b1&quot;</td><td>&quot;a55475b1&quot;</td><td>&quot;b6cabe76&quot;</td><td>&quot;a55475b1&quot;</td><td>null</td><td>null</td><td>21530.4</td><td>null</td></tr></tbody></table></div>"
      ],
      "text/plain": [
       "shape: (1_500_476, 9)\n",
       "┌───────────┬───────────┬───────────┬───────────┬───┬───────────┬───────────┬───────────┬──────────┐\n",
       "│ descripti ┆ education ┆ education ┆ maritalst ┆ … ┆ pmtaverag ┆ pmtaverag ┆ pmtaverag ┆ pmtssum_ │\n",
       "│ on_508571 ┆ _1103M    ┆ _88M      ┆ _385M     ┆   ┆ e_3A      ┆ e_4527227 ┆ e_4955615 ┆ 45A      │\n",
       "│ 4M        ┆ ---       ┆ ---       ┆ ---       ┆   ┆ ---       ┆ A         ┆ A         ┆ ---      │\n",
       "│ ---       ┆ str       ┆ str       ┆ str       ┆   ┆ f64       ┆ ---       ┆ ---       ┆ f64      │\n",
       "│ str       ┆           ┆           ┆           ┆   ┆           ┆ f64       ┆ f64       ┆          │\n",
       "╞═══════════╪═══════════╪═══════════╪═══════════╪═══╪═══════════╪═══════════╪═══════════╪══════════╡\n",
       "│ a55475b1  ┆ a55475b1  ┆ a55475b1  ┆ a55475b1  ┆ … ┆ null      ┆ null      ┆ null      ┆ 6301.4   │\n",
       "│ a55475b1  ┆ a55475b1  ┆ a55475b1  ┆ a55475b1  ┆ … ┆ null      ┆ null      ┆ null      ┆ 4019.6   │\n",
       "│ a55475b1  ┆ a55475b1  ┆ a55475b1  ┆ a55475b1  ┆ … ┆ null      ┆ null      ┆ null      ┆ 14548.0  │\n",
       "│ a55475b1  ┆ a55475b1  ┆ a55475b1  ┆ a55475b1  ┆ … ┆ null      ┆ null      ┆ null      ┆ 10498.24 │\n",
       "│ a55475b1  ┆ 717ddd49  ┆ a55475b1  ┆ a7fcb6e5  ┆ … ┆ null      ┆ null      ┆ null      ┆ 6344.880 │\n",
       "│           ┆           ┆           ┆           ┆   ┆           ┆           ┆           ┆ 4        │\n",
       "│ …         ┆ …         ┆ …         ┆ …         ┆ … ┆ …         ┆ …         ┆ …         ┆ …        │\n",
       "│ 2fc785b2  ┆ a55475b1  ┆ a55475b1  ┆ a55475b1  ┆ … ┆ null      ┆ null      ┆ 12155.0   ┆ null     │\n",
       "│ 2fc785b2  ┆ a55475b1  ┆ a55475b1  ┆ a55475b1  ┆ … ┆ null      ┆ null      ┆ 22904.6   ┆ null     │\n",
       "│ 2fc785b2  ┆ a55475b1  ┆ a55475b1  ┆ a55475b1  ┆ … ┆ null      ┆ null      ┆ null      ┆ null     │\n",
       "│ 2fc785b2  ┆ 6b2ae0fa  ┆ a55475b1  ┆ 3439d993  ┆ … ┆ null      ┆ null      ┆ 15792.4   ┆ null     │\n",
       "│ 2fc785b2  ┆ a55475b1  ┆ a55475b1  ┆ b6cabe76  ┆ … ┆ null      ┆ null      ┆ 21530.4   ┆ null     │\n",
       "└───────────┴───────────┴───────────┴───────────┴───┴───────────┴───────────┴───────────┴──────────┘"
      ]
     },
     "execution_count": 59,
     "metadata": {},
     "output_type": "execute_result"
    }
   ],
   "source": [
    "train_static_cb.select(selected_static_cb_cols)"
   ]
  },
  {
   "cell_type": "code",
   "execution_count": 60,
   "id": "0110be11",
   "metadata": {
    "execution": {
     "iopub.execute_input": "2024-05-22T16:45:40.245991Z",
     "iopub.status.busy": "2024-05-22T16:45:40.245569Z",
     "iopub.status.idle": "2024-05-22T16:45:41.908327Z",
     "shell.execute_reply": "2024-05-22T16:45:41.906823Z"
    },
    "papermill": {
     "duration": 1.702579,
     "end_time": "2024-05-22T16:45:41.910875",
     "exception": false,
     "start_time": "2024-05-22T16:45:40.208296",
     "status": "completed"
    },
    "tags": []
   },
   "outputs": [
    {
     "data": {
      "text/html": [
       "<div><style>\n",
       ".dataframe > thead > tr,\n",
       ".dataframe > tbody > tr {\n",
       "  text-align: right;\n",
       "  white-space: pre-wrap;\n",
       "}\n",
       "</style>\n",
       "<small>shape: (1_526_659, 84)</small><table border=\"1\" class=\"dataframe\"><thead><tr><th>case_id</th><th>date_decision</th><th>MONTH</th><th>WEEK_NUM</th><th>target</th><th>actualdpdtolerance_344P</th><th>amtinstpaidbefduel24m_4187115A</th><th>annuity_780A</th><th>annuitynextmonth_57A</th><th>avgdbddpdlast24m_3658932P</th><th>avgdbddpdlast3m_4187120P</th><th>avgdbdtollast24m_4525197P</th><th>avgdpdtolclosure24_3658938P</th><th>avginstallast24m_3658937A</th><th>avglnamtstart24m_4525187A</th><th>avgmaxdpdlast9m_3716943P</th><th>avgoutstandbalancel6m_4187114A</th><th>avgpmtlast12m_4525200A</th><th>credamount_770A</th><th>currdebt_22A</th><th>currdebtcredtyperange_828A</th><th>disbursedcredamount_1113A</th><th>downpmt_116A</th><th>inittransactionamount_650A</th><th>lastapprcommoditycat_1041M</th><th>lastapprcommoditytypec_5251766M</th><th>lastapprcredamount_781A</th><th>lastcancelreason_561M</th><th>lastotherinc_902A</th><th>lastotherlnsexpense_631A</th><th>lastrejectcommoditycat_161M</th><th>lastrejectcommodtypec_5251769M</th><th>lastrejectcredamount_222A</th><th>lastrejectreason_759M</th><th>lastrejectreasonclient_4145040M</th><th>maininc_215A</th><th>maxannuity_159A</th><th>&hellip;</th><th>maxdpdlast6m_474P</th><th>maxdpdlast9m_1059P</th><th>maxdpdtolerance_374P</th><th>maxinstallast24m_3658928A</th><th>maxlnamtstart6m_4525199A</th><th>maxoutstandbalancel12m_4187113A</th><th>maxpmtlast3m_4525190A</th><th>mindbddpdlast24m_3658935P</th><th>mindbdtollast24m_4525191P</th><th>posfpd10lastmonth_333P</th><th>posfpd30lastmonth_3976960P</th><th>posfstqpd30lastmonth_3976962P</th><th>previouscontdistrict_112M</th><th>price_1097A</th><th>sumoutstandtotal_3546847A</th><th>sumoutstandtotalest_4493215A</th><th>totaldebt_9A</th><th>totalsettled_863A</th><th>totinstallast1m_4525188A</th><th>description_5085714M</th><th>education_1103M</th><th>education_88M</th><th>maritalst_385M</th><th>maritalst_893M</th><th>pmtaverage_3A</th><th>pmtaverage_4527227A</th><th>pmtaverage_4955615A</th><th>pmtssum_45A</th><th>mainoccupationinc_384A_max</th><th>mainoccupationinc_384A_any_selfemployed</th><th>person_housetype</th><th>pmts_pmtsoverdue_635A_max</th><th>pmts_dpdvalue_108P_over31</th><th>dpd_for_terminated_loans</th><th>dpdmax_for_active_contracts</th><th>pmts_pmtsoverdue_635A_max_right</th><th>actualdpd_943P_above31</th></tr><tr><td>i64</td><td>str</td><td>i64</td><td>i64</td><td>i64</td><td>f64</td><td>f64</td><td>f64</td><td>f64</td><td>f64</td><td>f64</td><td>f64</td><td>f64</td><td>f64</td><td>f64</td><td>f64</td><td>f64</td><td>f64</td><td>f64</td><td>f64</td><td>f64</td><td>f64</td><td>f64</td><td>f64</td><td>str</td><td>str</td><td>f64</td><td>str</td><td>f64</td><td>f64</td><td>str</td><td>str</td><td>f64</td><td>str</td><td>str</td><td>f64</td><td>f64</td><td>&hellip;</td><td>f64</td><td>f64</td><td>f64</td><td>f64</td><td>f64</td><td>f64</td><td>f64</td><td>f64</td><td>f64</td><td>f64</td><td>f64</td><td>f64</td><td>str</td><td>f64</td><td>f64</td><td>f64</td><td>f64</td><td>f64</td><td>f64</td><td>str</td><td>str</td><td>str</td><td>str</td><td>str</td><td>f64</td><td>f64</td><td>f64</td><td>f64</td><td>f64</td><td>bool</td><td>str</td><td>f64</td><td>bool</td><td>f64</td><td>f64</td><td>f64</td><td>bool</td></tr></thead><tbody><tr><td>0</td><td>&quot;2019-01-03&quot;</td><td>201901</td><td>0</td><td>0</td><td>null</td><td>null</td><td>1917.6</td><td>0.0</td><td>null</td><td>null</td><td>null</td><td>null</td><td>null</td><td>null</td><td>null</td><td>null</td><td>null</td><td>30000.0</td><td>0.0</td><td>0.0</td><td>30000.0</td><td>0.0</td><td>null</td><td>&quot;a55475b1&quot;</td><td>&quot;a55475b1&quot;</td><td>null</td><td>&quot;a55475b1&quot;</td><td>null</td><td>null</td><td>&quot;a55475b1&quot;</td><td>&quot;a55475b1&quot;</td><td>null</td><td>&quot;a55475b1&quot;</td><td>&quot;a55475b1&quot;</td><td>null</td><td>0.0</td><td>&hellip;</td><td>0.0</td><td>0.0</td><td>0.0</td><td>null</td><td>null</td><td>null</td><td>null</td><td>null</td><td>null</td><td>0.0</td><td>0.0</td><td>null</td><td>&quot;a55475b1&quot;</td><td>null</td><td>null</td><td>null</td><td>0.0</td><td>0.0</td><td>null</td><td>null</td><td>null</td><td>null</td><td>null</td><td>null</td><td>null</td><td>null</td><td>null</td><td>null</td><td>10800.0</td><td>false</td><td>null</td><td>null</td><td>null</td><td>null</td><td>null</td><td>null</td><td>null</td></tr><tr><td>1</td><td>&quot;2019-01-03&quot;</td><td>201901</td><td>0</td><td>0</td><td>null</td><td>null</td><td>3134.0</td><td>0.0</td><td>null</td><td>null</td><td>null</td><td>null</td><td>null</td><td>null</td><td>null</td><td>null</td><td>null</td><td>19999.8</td><td>0.0</td><td>0.0</td><td>19999.8</td><td>0.0</td><td>null</td><td>&quot;a55475b1&quot;</td><td>&quot;a55475b1&quot;</td><td>null</td><td>&quot;a55475b1&quot;</td><td>null</td><td>null</td><td>&quot;a55475b1&quot;</td><td>&quot;a55475b1&quot;</td><td>null</td><td>&quot;a55475b1&quot;</td><td>&quot;a55475b1&quot;</td><td>null</td><td>0.0</td><td>&hellip;</td><td>0.0</td><td>0.0</td><td>0.0</td><td>null</td><td>null</td><td>null</td><td>null</td><td>null</td><td>null</td><td>0.0</td><td>0.0</td><td>null</td><td>&quot;a55475b1&quot;</td><td>null</td><td>null</td><td>null</td><td>0.0</td><td>0.0</td><td>null</td><td>null</td><td>null</td><td>null</td><td>null</td><td>null</td><td>null</td><td>null</td><td>null</td><td>null</td><td>10000.0</td><td>false</td><td>null</td><td>null</td><td>null</td><td>null</td><td>null</td><td>null</td><td>null</td></tr><tr><td>2</td><td>&quot;2019-01-04&quot;</td><td>201901</td><td>0</td><td>0</td><td>null</td><td>null</td><td>4937.0</td><td>0.0</td><td>null</td><td>null</td><td>null</td><td>null</td><td>null</td><td>null</td><td>null</td><td>null</td><td>null</td><td>78000.0</td><td>0.0</td><td>0.0</td><td>78000.0</td><td>0.0</td><td>null</td><td>&quot;a55475b1&quot;</td><td>&quot;a55475b1&quot;</td><td>null</td><td>&quot;a55475b1&quot;</td><td>null</td><td>null</td><td>&quot;a55475b1&quot;</td><td>&quot;a55475b1&quot;</td><td>10000.0</td><td>&quot;a55475b1&quot;</td><td>&quot;a55475b1&quot;</td><td>null</td><td>0.0</td><td>&hellip;</td><td>0.0</td><td>0.0</td><td>0.0</td><td>null</td><td>null</td><td>null</td><td>null</td><td>null</td><td>null</td><td>0.0</td><td>0.0</td><td>null</td><td>&quot;a55475b1&quot;</td><td>null</td><td>null</td><td>null</td><td>0.0</td><td>0.0</td><td>null</td><td>null</td><td>null</td><td>null</td><td>null</td><td>null</td><td>null</td><td>null</td><td>null</td><td>null</td><td>14000.0</td><td>false</td><td>null</td><td>null</td><td>null</td><td>null</td><td>null</td><td>1682.4</td><td>false</td></tr><tr><td>3</td><td>&quot;2019-01-03&quot;</td><td>201901</td><td>0</td><td>0</td><td>null</td><td>null</td><td>4643.6</td><td>0.0</td><td>null</td><td>null</td><td>null</td><td>null</td><td>null</td><td>null</td><td>null</td><td>null</td><td>null</td><td>40000.0</td><td>0.0</td><td>0.0</td><td>40000.0</td><td>0.0</td><td>null</td><td>&quot;a55475b1&quot;</td><td>&quot;a55475b1&quot;</td><td>null</td><td>&quot;P94_109_143&quot;</td><td>null</td><td>null</td><td>&quot;a55475b1&quot;</td><td>&quot;a55475b1&quot;</td><td>59999.8</td><td>&quot;P94_109_143&quot;</td><td>&quot;a55475b1&quot;</td><td>null</td><td>0.0</td><td>&hellip;</td><td>0.0</td><td>0.0</td><td>0.0</td><td>null</td><td>null</td><td>null</td><td>null</td><td>null</td><td>null</td><td>0.0</td><td>0.0</td><td>null</td><td>&quot;a55475b1&quot;</td><td>null</td><td>null</td><td>null</td><td>0.0</td><td>0.0</td><td>null</td><td>null</td><td>null</td><td>null</td><td>null</td><td>null</td><td>null</td><td>null</td><td>null</td><td>null</td><td>10000.0</td><td>false</td><td>null</td><td>null</td><td>null</td><td>null</td><td>null</td><td>6140.0</td><td>false</td></tr><tr><td>4</td><td>&quot;2019-01-04&quot;</td><td>201901</td><td>0</td><td>1</td><td>null</td><td>null</td><td>3390.2</td><td>0.0</td><td>null</td><td>null</td><td>null</td><td>null</td><td>null</td><td>null</td><td>null</td><td>null</td><td>null</td><td>44000.0</td><td>0.0</td><td>0.0</td><td>44000.0</td><td>0.0</td><td>null</td><td>&quot;a55475b1&quot;</td><td>&quot;a55475b1&quot;</td><td>null</td><td>&quot;P24_27_36&quot;</td><td>null</td><td>null</td><td>&quot;a55475b1&quot;</td><td>&quot;a55475b1&quot;</td><td>null</td><td>&quot;a55475b1&quot;</td><td>&quot;a55475b1&quot;</td><td>null</td><td>0.0</td><td>&hellip;</td><td>0.0</td><td>0.0</td><td>0.0</td><td>null</td><td>null</td><td>null</td><td>null</td><td>null</td><td>null</td><td>0.0</td><td>0.0</td><td>null</td><td>&quot;a55475b1&quot;</td><td>null</td><td>null</td><td>null</td><td>0.0</td><td>0.0</td><td>null</td><td>null</td><td>null</td><td>null</td><td>null</td><td>null</td><td>null</td><td>null</td><td>null</td><td>null</td><td>24000.0</td><td>false</td><td>null</td><td>null</td><td>null</td><td>null</td><td>null</td><td>2556.6</td><td>false</td></tr><tr><td>&hellip;</td><td>&hellip;</td><td>&hellip;</td><td>&hellip;</td><td>&hellip;</td><td>&hellip;</td><td>&hellip;</td><td>&hellip;</td><td>&hellip;</td><td>&hellip;</td><td>&hellip;</td><td>&hellip;</td><td>&hellip;</td><td>&hellip;</td><td>&hellip;</td><td>&hellip;</td><td>&hellip;</td><td>&hellip;</td><td>&hellip;</td><td>&hellip;</td><td>&hellip;</td><td>&hellip;</td><td>&hellip;</td><td>&hellip;</td><td>&hellip;</td><td>&hellip;</td><td>&hellip;</td><td>&hellip;</td><td>&hellip;</td><td>&hellip;</td><td>&hellip;</td><td>&hellip;</td><td>&hellip;</td><td>&hellip;</td><td>&hellip;</td><td>&hellip;</td><td>&hellip;</td><td>&hellip;</td><td>&hellip;</td><td>&hellip;</td><td>&hellip;</td><td>&hellip;</td><td>&hellip;</td><td>&hellip;</td><td>&hellip;</td><td>&hellip;</td><td>&hellip;</td><td>&hellip;</td><td>&hellip;</td><td>&hellip;</td><td>&hellip;</td><td>&hellip;</td><td>&hellip;</td><td>&hellip;</td><td>&hellip;</td><td>&hellip;</td><td>&hellip;</td><td>&hellip;</td><td>&hellip;</td><td>&hellip;</td><td>&hellip;</td><td>&hellip;</td><td>&hellip;</td><td>&hellip;</td><td>&hellip;</td><td>&hellip;</td><td>&hellip;</td><td>&hellip;</td><td>&hellip;</td><td>&hellip;</td><td>&hellip;</td><td>&hellip;</td><td>&hellip;</td><td>&hellip;</td><td>&hellip;</td></tr><tr><td>2703450</td><td>&quot;2020-10-05&quot;</td><td>202010</td><td>91</td><td>0</td><td>0.0</td><td>176561.36</td><td>3675.4001</td><td>0.0</td><td>-23.0</td><td>-43.0</td><td>-23.0</td><td>0.0</td><td>7356.8003</td><td>null</td><td>0.0</td><td>16392.496</td><td>6750.2</td><td>30000.0</td><td>0.0</td><td>0.0</td><td>30000.0</td><td>0.0</td><td>null</td><td>&quot;P12_6_178&quot;</td><td>&quot;P142_50_170&quot;</td><td>20020.0</td><td>&quot;a55475b1&quot;</td><td>null</td><td>null</td><td>&quot;a55475b1&quot;</td><td>&quot;a55475b1&quot;</td><td>150000.0</td><td>&quot;P94_109_143&quot;</td><td>&quot;P94_109_143&quot;</td><td>36000.0</td><td>75521.91</td><td>&hellip;</td><td>0.0</td><td>0.0</td><td>8.0</td><td>46718.2</td><td>49651.402</td><td>77533.76</td><td>14346.319</td><td>-144.0</td><td>-144.0</td><td>0.0</td><td>0.0</td><td>0.0</td><td>&quot;P123_39_170&quot;</td><td>0.0</td><td>0.0</td><td>0.0</td><td>0.0</td><td>428159.66</td><td>14346.319</td><td>&quot;2fc785b2&quot;</td><td>&quot;a55475b1&quot;</td><td>&quot;a55475b1&quot;</td><td>&quot;a55475b1&quot;</td><td>&quot;a55475b1&quot;</td><td>null</td><td>null</td><td>12155.0</td><td>null</td><td>40000.0</td><td>false</td><td>&quot;OWNED&quot;</td><td>null</td><td>null</td><td>null</td><td>null</td><td>30875.0</td><td>false</td></tr><tr><td>2703451</td><td>&quot;2020-10-05&quot;</td><td>202010</td><td>91</td><td>0</td><td>0.0</td><td>301276.47</td><td>7088.6</td><td>6191.6</td><td>-18.0</td><td>-12.0</td><td>-18.0</td><td>0.0</td><td>12553.2</td><td>null</td><td>0.0</td><td>105129.31</td><td>15780.4</td><td>100000.0</td><td>68098.4</td><td>68098.4</td><td>40739.54</td><td>0.0</td><td>null</td><td>&quot;a55475b1&quot;</td><td>&quot;a55475b1&quot;</td><td>0.0</td><td>&quot;a55475b1&quot;</td><td>null</td><td>null</td><td>&quot;a55475b1&quot;</td><td>&quot;a55475b1&quot;</td><td>null</td><td>&quot;a55475b1&quot;</td><td>&quot;a55475b1&quot;</td><td>null</td><td>117251.6</td><td>&hellip;</td><td>2.0</td><td>2.0</td><td>2.0</td><td>40499.8</td><td>116813.4</td><td>250031.2</td><td>40499.805</td><td>-92.0</td><td>-92.0</td><td>0.0</td><td>0.0</td><td>0.0</td><td>&quot;P162_18_172&quot;</td><td>null</td><td>68098.4</td><td>68098.4</td><td>68098.4</td><td>701247.3</td><td>40499.805</td><td>&quot;2fc785b2&quot;</td><td>&quot;a55475b1&quot;</td><td>&quot;a55475b1&quot;</td><td>&quot;a55475b1&quot;</td><td>&quot;a55475b1&quot;</td><td>null</td><td>null</td><td>22904.6</td><td>null</td><td>36800.0</td><td>false</td><td>null</td><td>null</td><td>null</td><td>null</td><td>null</td><td>12809.2</td><td>false</td></tr><tr><td>2703452</td><td>&quot;2020-10-05&quot;</td><td>202010</td><td>91</td><td>0</td><td>0.0</td><td>14232.4</td><td>7788.8003</td><td>0.0</td><td>-12.0</td><td>null</td><td>-16.0</td><td>1.0</td><td>2662.4001</td><td>null</td><td>null</td><td>null</td><td>1500.6</td><td>60000.0</td><td>0.0</td><td>0.0</td><td>60000.0</td><td>0.0</td><td>null</td><td>&quot;P159_130_59&quot;</td><td>&quot;P75_90_70&quot;</td><td>3998.0</td><td>&quot;P180_60_137&quot;</td><td>null</td><td>null</td><td>&quot;a55475b1&quot;</td><td>&quot;a55475b1&quot;</td><td>null</td><td>&quot;a55475b1&quot;</td><td>&quot;a55475b1&quot;</td><td>24000.0</td><td>6600.0</td><td>&hellip;</td><td>0.0</td><td>0.0</td><td>4.0</td><td>3243.4001</td><td>4182.0</td><td>0.0</td><td>null</td><td>-27.0</td><td>-55.0</td><td>0.0</td><td>0.0</td><td>0.0</td><td>&quot;P133_44_167&quot;</td><td>0.0</td><td>0.0</td><td>0.0</td><td>0.0</td><td>24002.0</td><td>null</td><td>&quot;2fc785b2&quot;</td><td>&quot;a55475b1&quot;</td><td>&quot;a55475b1&quot;</td><td>&quot;a55475b1&quot;</td><td>&quot;a55475b1&quot;</td><td>null</td><td>null</td><td>null</td><td>null</td><td>30000.0</td><td>false</td><td>null</td><td>null</td><td>null</td><td>null</td><td>null</td><td>9048.0</td><td>false</td></tr><tr><td>2703453</td><td>&quot;2020-10-05&quot;</td><td>202010</td><td>91</td><td>0</td><td>0.0</td><td>197371.58</td><td>1195.4</td><td>2827.2</td><td>-33.0</td><td>-64.0</td><td>-34.0</td><td>0.0</td><td>8212.601</td><td>null</td><td>0.0</td><td>47943.062</td><td>9921.2</td><td>6000.0</td><td>46806.6</td><td>46806.6</td><td>6000.0</td><td>0.0</td><td>null</td><td>&quot;a55475b1&quot;</td><td>&quot;a55475b1&quot;</td><td>0.0</td><td>&quot;a55475b1&quot;</td><td>null</td><td>null</td><td>&quot;P159_130_59&quot;</td><td>&quot;P174_113_42&quot;</td><td>2198.0</td><td>&quot;a55475b1&quot;</td><td>&quot;a55475b1&quot;</td><td>null</td><td>163202.0</td><td>&hellip;</td><td>0.0</td><td>0.0</td><td>34.0</td><td>88740.805</td><td>94265.2</td><td>81604.6</td><td>2827.2</td><td>-68.0</td><td>-68.0</td><td>0.0</td><td>0.0</td><td>0.0</td><td>&quot;P123_6_84&quot;</td><td>0.0</td><td>46806.6</td><td>46806.6</td><td>46806.6</td><td>440145.3</td><td>5654.4</td><td>&quot;2fc785b2&quot;</td><td>&quot;6b2ae0fa&quot;</td><td>&quot;a55475b1&quot;</td><td>&quot;3439d993&quot;</td><td>&quot;a55475b1&quot;</td><td>null</td><td>null</td><td>15792.4</td><td>null</td><td>30000.0</td><td>false</td><td>null</td><td>null</td><td>null</td><td>null</td><td>null</td><td>5981.4</td><td>false</td></tr><tr><td>2703454</td><td>&quot;2020-10-05&quot;</td><td>202010</td><td>91</td><td>0</td><td>0.0</td><td>82949.6</td><td>4533.8003</td><td>2986.8</td><td>-6.0</td><td>-5.0</td><td>-6.0</td><td>0.0</td><td>6405.4</td><td>15998.0</td><td>0.0</td><td>15651.796</td><td>6352.0</td><td>39414.0</td><td>5919.2</td><td>0.0</td><td>33800.492</td><td>0.0</td><td>null</td><td>&quot;a55475b1&quot;</td><td>&quot;a55475b1&quot;</td><td>15998.0</td><td>&quot;a55475b1&quot;</td><td>null</td><td>null</td><td>&quot;a55475b1&quot;</td><td>&quot;a55475b1&quot;</td><td>null</td><td>&quot;a55475b1&quot;</td><td>&quot;a55475b1&quot;</td><td>24000.0</td><td>16148.929</td><td>&hellip;</td><td>0.0</td><td>0.0</td><td>1.0</td><td>9710.0</td><td>55411.8</td><td>60461.438</td><td>9710.0</td><td>-12.0</td><td>-12.0</td><td>0.0</td><td>0.0</td><td>0.0</td><td>&quot;P48_127_19&quot;</td><td>null</td><td>8919.2</td><td>8919.2</td><td>5919.2</td><td>92999.57</td><td>2986.8</td><td>&quot;2fc785b2&quot;</td><td>&quot;a55475b1&quot;</td><td>&quot;a55475b1&quot;</td><td>&quot;b6cabe76&quot;</td><td>&quot;a55475b1&quot;</td><td>null</td><td>null</td><td>21530.4</td><td>null</td><td>39400.0</td><td>false</td><td>null</td><td>null</td><td>null</td><td>null</td><td>null</td><td>6726.6</td><td>false</td></tr></tbody></table></div>"
      ],
      "text/plain": [
       "shape: (1_526_659, 84)\n",
       "┌─────────┬────────────┬────────┬──────────┬───┬────────────┬────────────┬────────────┬────────────┐\n",
       "│ case_id ┆ date_decis ┆ MONTH  ┆ WEEK_NUM ┆ … ┆ dpd_for_te ┆ dpdmax_for ┆ pmts_pmtso ┆ actualdpd_ │\n",
       "│ ---     ┆ ion        ┆ ---    ┆ ---      ┆   ┆ rminated_l ┆ _active_co ┆ verdue_635 ┆ 943P_above │\n",
       "│ i64     ┆ ---        ┆ i64    ┆ i64      ┆   ┆ oans       ┆ ntracts    ┆ A_max_righ ┆ 31         │\n",
       "│         ┆ str        ┆        ┆          ┆   ┆ ---        ┆ ---        ┆ t          ┆ ---        │\n",
       "│         ┆            ┆        ┆          ┆   ┆ f64        ┆ f64        ┆ ---        ┆ bool       │\n",
       "│         ┆            ┆        ┆          ┆   ┆            ┆            ┆ f64        ┆            │\n",
       "╞═════════╪════════════╪════════╪══════════╪═══╪════════════╪════════════╪════════════╪════════════╡\n",
       "│ 0       ┆ 2019-01-03 ┆ 201901 ┆ 0        ┆ … ┆ null       ┆ null       ┆ null       ┆ null       │\n",
       "│ 1       ┆ 2019-01-03 ┆ 201901 ┆ 0        ┆ … ┆ null       ┆ null       ┆ null       ┆ null       │\n",
       "│ 2       ┆ 2019-01-04 ┆ 201901 ┆ 0        ┆ … ┆ null       ┆ null       ┆ 1682.4     ┆ false      │\n",
       "│ 3       ┆ 2019-01-03 ┆ 201901 ┆ 0        ┆ … ┆ null       ┆ null       ┆ 6140.0     ┆ false      │\n",
       "│ 4       ┆ 2019-01-04 ┆ 201901 ┆ 0        ┆ … ┆ null       ┆ null       ┆ 2556.6     ┆ false      │\n",
       "│ …       ┆ …          ┆ …      ┆ …        ┆ … ┆ …          ┆ …          ┆ …          ┆ …          │\n",
       "│ 2703450 ┆ 2020-10-05 ┆ 202010 ┆ 91       ┆ … ┆ null       ┆ null       ┆ 30875.0    ┆ false      │\n",
       "│ 2703451 ┆ 2020-10-05 ┆ 202010 ┆ 91       ┆ … ┆ null       ┆ null       ┆ 12809.2    ┆ false      │\n",
       "│ 2703452 ┆ 2020-10-05 ┆ 202010 ┆ 91       ┆ … ┆ null       ┆ null       ┆ 9048.0     ┆ false      │\n",
       "│ 2703453 ┆ 2020-10-05 ┆ 202010 ┆ 91       ┆ … ┆ null       ┆ null       ┆ 5981.4     ┆ false      │\n",
       "│ 2703454 ┆ 2020-10-05 ┆ 202010 ┆ 91       ┆ … ┆ null       ┆ null       ┆ 6726.6     ┆ false      │\n",
       "└─────────┴────────────┴────────┴──────────┴───┴────────────┴────────────┴────────────┴────────────┘"
      ]
     },
     "execution_count": 60,
     "metadata": {},
     "output_type": "execute_result"
    }
   ],
   "source": [
    "# Join all tables together.\n",
    "data = train_basetable.join(\n",
    "    train_static.select([\"case_id\"]+selected_static_cols), how=\"left\", on=\"case_id\"\n",
    ").join(\n",
    "    train_static_cb.select([\"case_id\"]+selected_static_cb_cols), how=\"left\", on=\"case_id\"\n",
    ").join(\n",
    "    train_person_1_feats_1, how=\"left\", on=\"case_id\"\n",
    ").join(\n",
    "    train_person_1_feats_2, how=\"left\", on=\"case_id\"\n",
    ").join(\n",
    "    train_credit_bureau_b_2_feats, how=\"left\", on=\"case_id\"\n",
    ").join(\n",
    "    train_credit_bureau_b_1_feat, how=\"left\", on=\"case_id\"\n",
    ").join(\n",
    "    train_credit_bureau_a_1_feat, how=\"left\", on=\"case_id\"\n",
    ").join(\n",
    "    applprev_1_feats, how=\"left\", on=\"case_id\"\n",
    ")\n",
    "\n",
    "data"
   ]
  },
  {
   "cell_type": "code",
   "execution_count": 61,
   "id": "de23d760",
   "metadata": {
    "execution": {
     "iopub.execute_input": "2024-05-22T16:45:41.985224Z",
     "iopub.status.busy": "2024-05-22T16:45:41.984846Z",
     "iopub.status.idle": "2024-05-22T16:45:41.994252Z",
     "shell.execute_reply": "2024-05-22T16:45:41.993258Z"
    },
    "papermill": {
     "duration": 0.048869,
     "end_time": "2024-05-22T16:45:41.996427",
     "exception": false,
     "start_time": "2024-05-22T16:45:41.947558",
     "status": "completed"
    },
    "tags": []
   },
   "outputs": [
    {
     "data": {
      "text/html": [
       "<div><style>\n",
       ".dataframe > thead > tr,\n",
       ".dataframe > tbody > tr {\n",
       "  text-align: right;\n",
       "  white-space: pre-wrap;\n",
       "}\n",
       "</style>\n",
       "<small>shape: (6, 3)</small><table border=\"1\" class=\"dataframe\"><thead><tr><th>case_id</th><th>mainoccupationinc_384A_max</th><th>mainoccupationinc_384A_any_selfemployed</th></tr><tr><td>i64</td><td>f64</td><td>bool</td></tr></thead><tbody><tr><td>57569</td><td>58000.0</td><td>false</td></tr><tr><td>57549</td><td>49800.0</td><td>false</td></tr><tr><td>57551</td><td>59600.0</td><td>false</td></tr><tr><td>57543</td><td>34000.0</td><td>false</td></tr><tr><td>57552</td><td>112000.0</td><td>false</td></tr><tr><td>57630</td><td>60000.0</td><td>false</td></tr></tbody></table></div>"
      ],
      "text/plain": [
       "shape: (6, 3)\n",
       "┌─────────┬────────────────────────────┬───────────────────────────────────┐\n",
       "│ case_id ┆ mainoccupationinc_384A_max ┆ mainoccupationinc_384A_any_selfe… │\n",
       "│ ---     ┆ ---                        ┆ ---                               │\n",
       "│ i64     ┆ f64                        ┆ bool                              │\n",
       "╞═════════╪════════════════════════════╪═══════════════════════════════════╡\n",
       "│ 57569   ┆ 58000.0                    ┆ false                             │\n",
       "│ 57549   ┆ 49800.0                    ┆ false                             │\n",
       "│ 57551   ┆ 59600.0                    ┆ false                             │\n",
       "│ 57543   ┆ 34000.0                    ┆ false                             │\n",
       "│ 57552   ┆ 112000.0                   ┆ false                             │\n",
       "│ 57630   ┆ 60000.0                    ┆ false                             │\n",
       "└─────────┴────────────────────────────┴───────────────────────────────────┘"
      ]
     },
     "execution_count": 61,
     "metadata": {},
     "output_type": "execute_result"
    }
   ],
   "source": [
    "test_person_1_feats_1 = test_person_1.group_by(\"case_id\").agg(\n",
    "    pl.col(\"mainoccupationinc_384A\").max().alias(\"mainoccupationinc_384A_max\"),\n",
    "    (pl.col(\"incometype_1044T\") == \"SELFEMPLOYED\").max().alias(\"mainoccupationinc_384A_any_selfemployed\")\n",
    ")\n",
    "\n",
    "test_person_1_feats_1"
   ]
  },
  {
   "cell_type": "code",
   "execution_count": 62,
   "id": "7d37942c",
   "metadata": {
    "execution": {
     "iopub.execute_input": "2024-05-22T16:45:42.069875Z",
     "iopub.status.busy": "2024-05-22T16:45:42.069469Z",
     "iopub.status.idle": "2024-05-22T16:45:42.078947Z",
     "shell.execute_reply": "2024-05-22T16:45:42.078008Z"
    },
    "papermill": {
     "duration": 0.0492,
     "end_time": "2024-05-22T16:45:42.081254",
     "exception": false,
     "start_time": "2024-05-22T16:45:42.032054",
     "status": "completed"
    },
    "tags": []
   },
   "outputs": [
    {
     "data": {
      "text/html": [
       "<div><style>\n",
       ".dataframe > thead > tr,\n",
       ".dataframe > tbody > tr {\n",
       "  text-align: right;\n",
       "  white-space: pre-wrap;\n",
       "}\n",
       "</style>\n",
       "<small>shape: (6, 2)</small><table border=\"1\" class=\"dataframe\"><thead><tr><th>case_id</th><th>person_housetype</th></tr><tr><td>i64</td><td>str</td></tr></thead><tbody><tr><td>57543</td><td>null</td></tr><tr><td>57549</td><td>null</td></tr><tr><td>57551</td><td>null</td></tr><tr><td>57552</td><td>&quot;OWNED&quot;</td></tr><tr><td>57569</td><td>&quot;OWNED&quot;</td></tr><tr><td>57630</td><td>&quot;OWNED&quot;</td></tr></tbody></table></div>"
      ],
      "text/plain": [
       "shape: (6, 2)\n",
       "┌─────────┬──────────────────┐\n",
       "│ case_id ┆ person_housetype │\n",
       "│ ---     ┆ ---              │\n",
       "│ i64     ┆ str              │\n",
       "╞═════════╪══════════════════╡\n",
       "│ 57543   ┆ null             │\n",
       "│ 57549   ┆ null             │\n",
       "│ 57551   ┆ null             │\n",
       "│ 57552   ┆ OWNED            │\n",
       "│ 57569   ┆ OWNED            │\n",
       "│ 57630   ┆ OWNED            │\n",
       "└─────────┴──────────────────┘"
      ]
     },
     "execution_count": 62,
     "metadata": {},
     "output_type": "execute_result"
    }
   ],
   "source": [
    "test_person_1_feats_2 = test_person_1.select([\"case_id\", \"num_group1\", \"housetype_905L\"]).filter(\n",
    "    pl.col(\"num_group1\") == 0\n",
    ").drop(\"num_group1\").rename({\"housetype_905L\": \"person_housetype\"})\n",
    "\n",
    "test_person_1_feats_2"
   ]
  },
  {
   "cell_type": "code",
   "execution_count": 63,
   "id": "71366c7b",
   "metadata": {
    "execution": {
     "iopub.execute_input": "2024-05-22T16:45:42.160307Z",
     "iopub.status.busy": "2024-05-22T16:45:42.159935Z",
     "iopub.status.idle": "2024-05-22T16:45:42.168892Z",
     "shell.execute_reply": "2024-05-22T16:45:42.167819Z"
    },
    "papermill": {
     "duration": 0.052397,
     "end_time": "2024-05-22T16:45:42.171232",
     "exception": false,
     "start_time": "2024-05-22T16:45:42.118835",
     "status": "completed"
    },
    "tags": []
   },
   "outputs": [
    {
     "data": {
      "text/html": [
       "<div><style>\n",
       ".dataframe > thead > tr,\n",
       ".dataframe > tbody > tr {\n",
       "  text-align: right;\n",
       "  white-space: pre-wrap;\n",
       "}\n",
       "</style>\n",
       "<small>shape: (1, 3)</small><table border=\"1\" class=\"dataframe\"><thead><tr><th>case_id</th><th>pmts_pmtsoverdue_635A_max</th><th>pmts_dpdvalue_108P_over31</th></tr><tr><td>i64</td><td>f64</td><td>bool</td></tr></thead><tbody><tr><td>57675</td><td>0.0</td><td>false</td></tr></tbody></table></div>"
      ],
      "text/plain": [
       "shape: (1, 3)\n",
       "┌─────────┬───────────────────────────┬───────────────────────────┐\n",
       "│ case_id ┆ pmts_pmtsoverdue_635A_max ┆ pmts_dpdvalue_108P_over31 │\n",
       "│ ---     ┆ ---                       ┆ ---                       │\n",
       "│ i64     ┆ f64                       ┆ bool                      │\n",
       "╞═════════╪═══════════════════════════╪═══════════════════════════╡\n",
       "│ 57675   ┆ 0.0                       ┆ false                     │\n",
       "└─────────┴───────────────────────────┴───────────────────────────┘"
      ]
     },
     "execution_count": 63,
     "metadata": {},
     "output_type": "execute_result"
    }
   ],
   "source": [
    "test_credit_bureau_b_2_feats = test_credit_bureau_b_2.group_by(\"case_id\").agg(\n",
    "    pl.col(\"pmts_pmtsoverdue_635A\").max().alias(\"pmts_pmtsoverdue_635A_max\"),\n",
    "    (pl.col(\"pmts_dpdvalue_108P\") > 31).max().alias(\"pmts_dpdvalue_108P_over31\")\n",
    ")\n",
    "\n",
    "test_credit_bureau_b_2_feats"
   ]
  },
  {
   "cell_type": "code",
   "execution_count": 64,
   "id": "da74a966",
   "metadata": {
    "execution": {
     "iopub.execute_input": "2024-05-22T16:45:42.247816Z",
     "iopub.status.busy": "2024-05-22T16:45:42.247372Z",
     "iopub.status.idle": "2024-05-22T16:45:42.258617Z",
     "shell.execute_reply": "2024-05-22T16:45:42.257295Z"
    },
    "papermill": {
     "duration": 0.053025,
     "end_time": "2024-05-22T16:45:42.260990",
     "exception": false,
     "start_time": "2024-05-22T16:45:42.207965",
     "status": "completed"
    },
    "tags": []
   },
   "outputs": [
    {
     "data": {
      "text/html": [
       "<div><style>\n",
       ".dataframe > thead > tr,\n",
       ".dataframe > tbody > tr {\n",
       "  text-align: right;\n",
       "  white-space: pre-wrap;\n",
       "}\n",
       "</style>\n",
       "<small>shape: (2, 3)</small><table border=\"1\" class=\"dataframe\"><thead><tr><th>case_id</th><th>pmts_pmtsoverdue_635A_max</th><th>actualdpd_943P_above31</th></tr><tr><td>i64</td><td>f64</td><td>bool</td></tr></thead><tbody><tr><td>57543</td><td>5172.0</td><td>false</td></tr><tr><td>57549</td><td>3819.8</td><td>false</td></tr></tbody></table></div>"
      ],
      "text/plain": [
       "shape: (2, 3)\n",
       "┌─────────┬───────────────────────────┬────────────────────────┐\n",
       "│ case_id ┆ pmts_pmtsoverdue_635A_max ┆ actualdpd_943P_above31 │\n",
       "│ ---     ┆ ---                       ┆ ---                    │\n",
       "│ i64     ┆ f64                       ┆ bool                   │\n",
       "╞═════════╪═══════════════════════════╪════════════════════════╡\n",
       "│ 57543   ┆ 5172.0                    ┆ false                  │\n",
       "│ 57549   ┆ 3819.8                    ┆ false                  │\n",
       "└─────────┴───────────────────────────┴────────────────────────┘"
      ]
     },
     "execution_count": 64,
     "metadata": {},
     "output_type": "execute_result"
    }
   ],
   "source": [
    "# \n",
    "test_applprev_1_feats = applprev_1_t.group_by(\"case_id\").agg(\n",
    "    pl.col(\"annuity_853A\").max().alias(\"pmts_pmtsoverdue_635A_max\"),\n",
    "    (pl.col(\"actualdpd_943P\") > 31).max().alias(\"actualdpd_943P_above31\")\n",
    ")\n",
    "\n",
    "test_applprev_1_feats"
   ]
  },
  {
   "cell_type": "code",
   "execution_count": 65,
   "id": "d1b81844",
   "metadata": {
    "execution": {
     "iopub.execute_input": "2024-05-22T16:45:42.339021Z",
     "iopub.status.busy": "2024-05-22T16:45:42.337964Z",
     "iopub.status.idle": "2024-05-22T16:45:42.346711Z",
     "shell.execute_reply": "2024-05-22T16:45:42.345735Z"
    },
    "papermill": {
     "duration": 0.050881,
     "end_time": "2024-05-22T16:45:42.349209",
     "exception": false,
     "start_time": "2024-05-22T16:45:42.298328",
     "status": "completed"
    },
    "tags": []
   },
   "outputs": [
    {
     "data": {
      "text/html": [
       "<div><style>\n",
       ".dataframe > thead > tr,\n",
       ".dataframe > tbody > tr {\n",
       "  text-align: right;\n",
       "  white-space: pre-wrap;\n",
       "}\n",
       "</style>\n",
       "<small>shape: (3, 2)</small><table border=\"1\" class=\"dataframe\"><thead><tr><th>case_id</th><th>dpd_for_terminated_loans</th></tr><tr><td>i64</td><td>f64</td></tr></thead><tbody><tr><td>57754</td><td>0.0</td></tr><tr><td>57675</td><td>0.0</td></tr><tr><td>57775</td><td>0.0</td></tr></tbody></table></div>"
      ],
      "text/plain": [
       "shape: (3, 2)\n",
       "┌─────────┬──────────────────────────┐\n",
       "│ case_id ┆ dpd_for_terminated_loans │\n",
       "│ ---     ┆ ---                      │\n",
       "│ i64     ┆ f64                      │\n",
       "╞═════════╪══════════════════════════╡\n",
       "│ 57754   ┆ 0.0                      │\n",
       "│ 57675   ┆ 0.0                      │\n",
       "│ 57775   ┆ 0.0                      │\n",
       "└─────────┴──────────────────────────┘"
      ]
     },
     "execution_count": 65,
     "metadata": {},
     "output_type": "execute_result"
    }
   ],
   "source": [
    "# \n",
    "train_credit_bureau_b_1_test_feat = credit_bureau_b_1_t.group_by(\"case_id\").agg(\n",
    "    pl.col(\"dpd_733P\").max().alias(\"dpd_for_terminated_loans\")\n",
    ")\n",
    "\n",
    "train_credit_bureau_b_1_test_feat"
   ]
  },
  {
   "cell_type": "code",
   "execution_count": 66,
   "id": "40ab7386",
   "metadata": {
    "execution": {
     "iopub.execute_input": "2024-05-22T16:45:42.425567Z",
     "iopub.status.busy": "2024-05-22T16:45:42.425208Z",
     "iopub.status.idle": "2024-05-22T16:45:42.434121Z",
     "shell.execute_reply": "2024-05-22T16:45:42.433080Z"
    },
    "papermill": {
     "duration": 0.050117,
     "end_time": "2024-05-22T16:45:42.436461",
     "exception": false,
     "start_time": "2024-05-22T16:45:42.386344",
     "status": "completed"
    },
    "tags": []
   },
   "outputs": [
    {
     "data": {
      "text/html": [
       "<div><style>\n",
       ".dataframe > thead > tr,\n",
       ".dataframe > tbody > tr {\n",
       "  text-align: right;\n",
       "  white-space: pre-wrap;\n",
       "}\n",
       "</style>\n",
       "<small>shape: (5, 2)</small><table border=\"1\" class=\"dataframe\"><thead><tr><th>case_id</th><th>dpdmax_for_active_contracts</th></tr><tr><td>i64</td><td>f64</td></tr></thead><tbody><tr><td>57543</td><td>0.0</td></tr><tr><td>57549</td><td>0.0</td></tr><tr><td>57633</td><td>0.0</td></tr><tr><td>57760</td><td>0.0</td></tr><tr><td>57551</td><td>0.0</td></tr></tbody></table></div>"
      ],
      "text/plain": [
       "shape: (5, 2)\n",
       "┌─────────┬─────────────────────────────┐\n",
       "│ case_id ┆ dpdmax_for_active_contracts │\n",
       "│ ---     ┆ ---                         │\n",
       "│ i64     ┆ f64                         │\n",
       "╞═════════╪═════════════════════════════╡\n",
       "│ 57543   ┆ 0.0                         │\n",
       "│ 57549   ┆ 0.0                         │\n",
       "│ 57633   ┆ 0.0                         │\n",
       "│ 57760   ┆ 0.0                         │\n",
       "│ 57551   ┆ 0.0                         │\n",
       "└─────────┴─────────────────────────────┘"
      ]
     },
     "execution_count": 66,
     "metadata": {},
     "output_type": "execute_result"
    }
   ],
   "source": [
    "# \n",
    "train_credit_bureau_a_1_test_feat = credit_bureau_a_1_t.group_by(\"case_id\").agg(\n",
    "    pl.col(\"dpdmax_139P\").max().alias(\"dpdmax_for_active_contracts\")\n",
    ")\n",
    "\n",
    "train_credit_bureau_a_1_test_feat"
   ]
  },
  {
   "cell_type": "code",
   "execution_count": 67,
   "id": "0d28afb2",
   "metadata": {
    "execution": {
     "iopub.execute_input": "2024-05-22T16:45:42.521684Z",
     "iopub.status.busy": "2024-05-22T16:45:42.521354Z",
     "iopub.status.idle": "2024-05-22T16:45:42.563903Z",
     "shell.execute_reply": "2024-05-22T16:45:42.562779Z"
    },
    "papermill": {
     "duration": 0.088005,
     "end_time": "2024-05-22T16:45:42.566450",
     "exception": false,
     "start_time": "2024-05-22T16:45:42.478445",
     "status": "completed"
    },
    "tags": []
   },
   "outputs": [
    {
     "data": {
      "text/html": [
       "<div><style>\n",
       ".dataframe > thead > tr,\n",
       ".dataframe > tbody > tr {\n",
       "  text-align: right;\n",
       "  white-space: pre-wrap;\n",
       "}\n",
       "</style>\n",
       "<small>shape: (10, 83)</small><table border=\"1\" class=\"dataframe\"><thead><tr><th>case_id</th><th>date_decision</th><th>MONTH</th><th>WEEK_NUM</th><th>actualdpdtolerance_344P</th><th>amtinstpaidbefduel24m_4187115A</th><th>annuity_780A</th><th>annuitynextmonth_57A</th><th>avgdbddpdlast24m_3658932P</th><th>avgdbddpdlast3m_4187120P</th><th>avgdbdtollast24m_4525197P</th><th>avgdpdtolclosure24_3658938P</th><th>avginstallast24m_3658937A</th><th>avglnamtstart24m_4525187A</th><th>avgmaxdpdlast9m_3716943P</th><th>avgoutstandbalancel6m_4187114A</th><th>avgpmtlast12m_4525200A</th><th>credamount_770A</th><th>currdebt_22A</th><th>currdebtcredtyperange_828A</th><th>disbursedcredamount_1113A</th><th>downpmt_116A</th><th>inittransactionamount_650A</th><th>lastapprcommoditycat_1041M</th><th>lastapprcommoditytypec_5251766M</th><th>lastapprcredamount_781A</th><th>lastcancelreason_561M</th><th>lastotherinc_902A</th><th>lastotherlnsexpense_631A</th><th>lastrejectcommoditycat_161M</th><th>lastrejectcommodtypec_5251769M</th><th>lastrejectcredamount_222A</th><th>lastrejectreason_759M</th><th>lastrejectreasonclient_4145040M</th><th>maininc_215A</th><th>maxannuity_159A</th><th>maxannuity_4075009A</th><th>&hellip;</th><th>maxdpdlast6m_474P</th><th>maxdpdlast9m_1059P</th><th>maxdpdtolerance_374P</th><th>maxinstallast24m_3658928A</th><th>maxlnamtstart6m_4525199A</th><th>maxoutstandbalancel12m_4187113A</th><th>maxpmtlast3m_4525190A</th><th>mindbddpdlast24m_3658935P</th><th>mindbdtollast24m_4525191P</th><th>posfpd10lastmonth_333P</th><th>posfpd30lastmonth_3976960P</th><th>posfstqpd30lastmonth_3976962P</th><th>previouscontdistrict_112M</th><th>price_1097A</th><th>sumoutstandtotal_3546847A</th><th>sumoutstandtotalest_4493215A</th><th>totaldebt_9A</th><th>totalsettled_863A</th><th>totinstallast1m_4525188A</th><th>description_5085714M</th><th>education_1103M</th><th>education_88M</th><th>maritalst_385M</th><th>maritalst_893M</th><th>pmtaverage_3A</th><th>pmtaverage_4527227A</th><th>pmtaverage_4955615A</th><th>pmtssum_45A</th><th>mainoccupationinc_384A_max</th><th>mainoccupationinc_384A_any_selfemployed</th><th>person_housetype</th><th>pmts_pmtsoverdue_635A_max</th><th>pmts_dpdvalue_108P_over31</th><th>dpd_for_terminated_loans</th><th>dpdmax_for_active_contracts</th><th>pmts_pmtsoverdue_635A_max_right</th><th>actualdpd_943P_above31</th></tr><tr><td>i64</td><td>str</td><td>i64</td><td>i64</td><td>f64</td><td>f64</td><td>f64</td><td>f64</td><td>f64</td><td>f64</td><td>f64</td><td>f64</td><td>f64</td><td>f64</td><td>f64</td><td>f64</td><td>f64</td><td>f64</td><td>f64</td><td>f64</td><td>f64</td><td>f64</td><td>f64</td><td>str</td><td>str</td><td>f64</td><td>str</td><td>f64</td><td>f64</td><td>str</td><td>str</td><td>f64</td><td>str</td><td>str</td><td>f64</td><td>f64</td><td>f64</td><td>&hellip;</td><td>f64</td><td>f64</td><td>f64</td><td>f64</td><td>f64</td><td>f64</td><td>f64</td><td>f64</td><td>f64</td><td>f64</td><td>f64</td><td>f64</td><td>str</td><td>f64</td><td>f64</td><td>f64</td><td>f64</td><td>f64</td><td>f64</td><td>str</td><td>str</td><td>str</td><td>str</td><td>str</td><td>f64</td><td>f64</td><td>f64</td><td>f64</td><td>f64</td><td>bool</td><td>str</td><td>f64</td><td>bool</td><td>f64</td><td>f64</td><td>f64</td><td>bool</td></tr></thead><tbody><tr><td>57543</td><td>&quot;2021-05-14&quot;</td><td>202201</td><td>100</td><td>0.0</td><td>191767.36</td><td>3674.6</td><td>1218.2001</td><td>1.0</td><td>2.0</td><td>1.0</td><td>1.0</td><td>16049.4</td><td>17054.4</td><td>2.0</td><td>14554.4</td><td>24482.0</td><td>20000.0</td><td>12154.4</td><td>0.0</td><td>20000.0</td><td>0.0</td><td>null</td><td>&quot;a55475b1&quot;</td><td>&quot;a55475b1&quot;</td><td>14000.0</td><td>&quot;a55475b1&quot;</td><td>null</td><td>null</td><td>&quot;P109_133_183&quot;</td><td>&quot;P49_111_165&quot;</td><td>24000.0</td><td>&quot;a55475b1&quot;</td><td>&quot;a55475b1&quot;</td><td>34000.0</td><td>280983.56</td><td>null</td><td>&hellip;</td><td>3.0</td><td>3.0</td><td>7.0</td><td>131700.8</td><td>16672.6</td><td>157731.78</td><td>16641.4</td><td>-7.0</td><td>-7.0</td><td>0.0</td><td>0.0</td><td>0.0</td><td>&quot;a55475b1&quot;</td><td>0.0</td><td>12154.4</td><td>12154.4</td><td>12154.4</td><td>456031.1</td><td>17859.6</td><td>&quot;2fc785b2&quot;</td><td>&quot;6b2ae0fa&quot;</td><td>&quot;a55475b1&quot;</td><td>&quot;38c061ee&quot;</td><td>&quot;a55475b1&quot;</td><td>null</td><td>null</td><td>null</td><td>null</td><td>34000.0</td><td>false</td><td>null</td><td>null</td><td>null</td><td>null</td><td>0.0</td><td>5172.0</td><td>false</td></tr><tr><td>57549</td><td>&quot;2022-01-17&quot;</td><td>202201</td><td>100</td><td>0.0</td><td>129704.4</td><td>5742.6</td><td>3546.6</td><td>0.0</td><td>0.0</td><td>-1.0</td><td>0.0</td><td>32426.201</td><td>118964.805</td><td>0.0</td><td>13681.714</td><td>32426.201</td><td>75000.0</td><td>10638.2</td><td>10638.2</td><td>75000.0</td><td>0.0</td><td>null</td><td>&quot;a55475b1&quot;</td><td>&quot;a55475b1&quot;</td><td>94000.0</td><td>&quot;a55475b1&quot;</td><td>null</td><td>null</td><td>&quot;a55475b1&quot;</td><td>&quot;a55475b1&quot;</td><td>160000.0</td><td>&quot;a55475b1&quot;</td><td>&quot;P30_86_84&quot;</td><td>44000.0</td><td>337659.8</td><td>null</td><td>&hellip;</td><td>0.0</td><td>0.0</td><td>54.0</td><td>122511.4</td><td>31820.6</td><td>21278.0</td><td>122511.4</td><td>-2.0</td><td>-2.0</td><td>0.0</td><td>0.0</td><td>0.0</td><td>&quot;a55475b1&quot;</td><td>null</td><td>10638.2</td><td>10638.2</td><td>10638.2</td><td>373720.84</td><td>126058.0</td><td>&quot;2fc785b2&quot;</td><td>&quot;39a0853f&quot;</td><td>&quot;a55475b1&quot;</td><td>&quot;a7fcb6e5&quot;</td><td>&quot;a55475b1&quot;</td><td>null</td><td>null</td><td>26815.6</td><td>null</td><td>49800.0</td><td>false</td><td>null</td><td>null</td><td>null</td><td>null</td><td>0.0</td><td>3819.8</td><td>false</td></tr><tr><td>57551</td><td>&quot;2020-11-27&quot;</td><td>202201</td><td>100</td><td>0.0</td><td>71036.4</td><td>2844.6</td><td>0.0</td><td>-1.0</td><td>null</td><td>-1.0</td><td>1.0</td><td>8357.2</td><td>null</td><td>1.0</td><td>0.0</td><td>9551.0</td><td>27095.201</td><td>0.0</td><td>0.0</td><td>27095.201</td><td>0.0</td><td>null</td><td>&quot;a55475b1&quot;</td><td>&quot;a55475b1&quot;</td><td>200000.0</td><td>&quot;P85_114_140&quot;</td><td>null</td><td>null</td><td>&quot;a55475b1&quot;</td><td>&quot;a55475b1&quot;</td><td>null</td><td>&quot;a55475b1&quot;</td><td>&quot;a55475b1&quot;</td><td>70000.0</td><td>83400.0</td><td>null</td><td>&hellip;</td><td>0.0</td><td>4.0</td><td>4.0</td><td>41783.402</td><td>54000.0</td><td>62619.0</td><td>null</td><td>-4.0</td><td>-4.0</td><td>null</td><td>null</td><td>null</td><td>&quot;P11_36_178&quot;</td><td>27095.201</td><td>0.0</td><td>0.0</td><td>0.0</td><td>75219.0</td><td>null</td><td>&quot;2fc785b2&quot;</td><td>&quot;6b2ae0fa&quot;</td><td>&quot;a55475b1&quot;</td><td>&quot;3439d993&quot;</td><td>&quot;a55475b1&quot;</td><td>null</td><td>null</td><td>null</td><td>null</td><td>59600.0</td><td>false</td><td>null</td><td>null</td><td>null</td><td>null</td><td>0.0</td><td>null</td><td>null</td></tr><tr><td>57552</td><td>&quot;2020-11-27&quot;</td><td>202201</td><td>100</td><td>0.0</td><td>183992.0</td><td>6298.8003</td><td>12155.4</td><td>-9.0</td><td>-7.0</td><td>-9.0</td><td>0.0</td><td>7440.4</td><td>null</td><td>0.0</td><td>199322.4</td><td>9148.4</td><td>100000.0</td><td>191269.61</td><td>191269.61</td><td>100000.0</td><td>0.0</td><td>null</td><td>&quot;a55475b1&quot;</td><td>&quot;a55475b1&quot;</td><td>0.0</td><td>&quot;P94_109_143&quot;</td><td>null</td><td>null</td><td>&quot;a55475b1&quot;</td><td>&quot;a55475b1&quot;</td><td>150000.0</td><td>&quot;a55475b1&quot;</td><td>&quot;P94_109_143&quot;</td><td>null</td><td>110500.0</td><td>null</td><td>&hellip;</td><td>0.0</td><td>0.0</td><td>0.0</td><td>12155.4</td><td>104473.6</td><td>288642.6</td><td>12155.4</td><td>-13.0</td><td>-13.0</td><td>0.0</td><td>0.0</td><td>0.0</td><td>&quot;P21_87_50&quot;</td><td>null</td><td>191269.61</td><td>191269.61</td><td>191269.61</td><td>284213.0</td><td>18889.0</td><td>&quot;2fc785b2&quot;</td><td>&quot;a55475b1&quot;</td><td>&quot;a55475b1&quot;</td><td>&quot;a55475b1&quot;</td><td>&quot;a55475b1&quot;</td><td>null</td><td>null</td><td>23402.8</td><td>null</td><td>112000.0</td><td>false</td><td>&quot;OWNED&quot;</td><td>null</td><td>null</td><td>null</td><td>null</td><td>null</td><td>null</td></tr><tr><td>57569</td><td>&quot;2021-12-20&quot;</td><td>202201</td><td>100</td><td>0.0</td><td>0.0</td><td>4682.6</td><td>0.0</td><td>2824.0</td><td>null</td><td>2824.0</td><td>2517.0</td><td>null</td><td>null</td><td>null</td><td>null</td><td>10796.4</td><td>60000.0</td><td>0.0</td><td>0.0</td><td>60000.0</td><td>0.0</td><td>null</td><td>&quot;a55475b1&quot;</td><td>&quot;a55475b1&quot;</td><td>20000.0</td><td>&quot;P94_109_143&quot;</td><td>null</td><td>null</td><td>&quot;a55475b1&quot;</td><td>&quot;a55475b1&quot;</td><td>40000.0</td><td>&quot;a55475b1&quot;</td><td>&quot;P94_109_143&quot;</td><td>6000.0</td><td>37704.0</td><td>null</td><td>&hellip;</td><td>0.0</td><td>2865.0</td><td>2865.0</td><td>null</td><td>null</td><td>0.0</td><td>null</td><td>2783.0</td><td>2783.0</td><td>0.0</td><td>null</td><td>null</td><td>&quot;a55475b1&quot;</td><td>null</td><td>0.0</td><td>0.0</td><td>0.0</td><td>95348.42</td><td>null</td><td>&quot;2fc785b2&quot;</td><td>&quot;717ddd49&quot;</td><td>&quot;a55475b1&quot;</td><td>&quot;3439d993&quot;</td><td>&quot;a55475b1&quot;</td><td>null</td><td>null</td><td>17333.6</td><td>null</td><td>58000.0</td><td>false</td><td>&quot;OWNED&quot;</td><td>null</td><td>null</td><td>null</td><td>null</td><td>null</td><td>null</td></tr><tr><td>57630</td><td>&quot;2021-03-16&quot;</td><td>202201</td><td>100</td><td>0.0</td><td>0.0</td><td>8905.0</td><td>0.0</td><td>null</td><td>null</td><td>null</td><td>0.0</td><td>null</td><td>null</td><td>null</td><td>null</td><td>null</td><td>96174.0</td><td>0.0</td><td>0.0</td><td>96174.0</td><td>0.0</td><td>null</td><td>&quot;P148_110_5&quot;</td><td>&quot;P161_88_182&quot;</td><td>8876.0</td><td>&quot;P198_89_166&quot;</td><td>null</td><td>null</td><td>&quot;a55475b1&quot;</td><td>&quot;a55475b1&quot;</td><td>null</td><td>&quot;a55475b1&quot;</td><td>&quot;a55475b1&quot;</td><td>12000.0</td><td>1382.8</td><td>null</td><td>&hellip;</td><td>0.0</td><td>0.0</td><td>2.0</td><td>null</td><td>null</td><td>null</td><td>null</td><td>null</td><td>null</td><td>0.0</td><td>0.0</td><td>0.0</td><td>&quot;a55475b1&quot;</td><td>96174.0</td><td>0.0</td><td>0.0</td><td>0.0</td><td>9677.601</td><td>null</td><td>&quot;2fc785b2&quot;</td><td>&quot;6b2ae0fa&quot;</td><td>&quot;a55475b1&quot;</td><td>&quot;3439d993&quot;</td><td>&quot;a55475b1&quot;</td><td>null</td><td>null</td><td>null</td><td>null</td><td>60000.0</td><td>false</td><td>&quot;OWNED&quot;</td><td>null</td><td>null</td><td>null</td><td>null</td><td>null</td><td>null</td></tr><tr><td>57631</td><td>&quot;2022-06-04&quot;</td><td>202201</td><td>100</td><td>0.0</td><td>null</td><td>2540.6</td><td>0.0</td><td>null</td><td>null</td><td>null</td><td>null</td><td>null</td><td>null</td><td>null</td><td>null</td><td>null</td><td>24920.0</td><td>0.0</td><td>0.0</td><td>24920.0</td><td>0.0</td><td>null</td><td>&quot;a55475b1&quot;</td><td>&quot;a55475b1&quot;</td><td>null</td><td>&quot;P94_109_143&quot;</td><td>null</td><td>null</td><td>&quot;P100_96_175&quot;</td><td>&quot;P165_57_169&quot;</td><td>46279.8</td><td>&quot;P45_84_106&quot;</td><td>&quot;P94_109_143&quot;</td><td>null</td><td>0.0</td><td>null</td><td>&hellip;</td><td>0.0</td><td>0.0</td><td>0.0</td><td>null</td><td>null</td><td>null</td><td>null</td><td>null</td><td>null</td><td>0.0</td><td>0.0</td><td>0.0</td><td>&quot;a55475b1&quot;</td><td>24920.0</td><td>null</td><td>null</td><td>0.0</td><td>0.0</td><td>null</td><td>&quot;2fc785b2&quot;</td><td>&quot;a55475b1&quot;</td><td>&quot;a55475b1&quot;</td><td>&quot;a55475b1&quot;</td><td>&quot;a55475b1&quot;</td><td>null</td><td>null</td><td>null</td><td>null</td><td>null</td><td>null</td><td>null</td><td>null</td><td>null</td><td>null</td><td>null</td><td>null</td><td>null</td></tr><tr><td>57632</td><td>&quot;2022-02-05&quot;</td><td>202201</td><td>100</td><td>0.0</td><td>63647.402</td><td>4732.0</td><td>0.0</td><td>-7.0</td><td>-6.0</td><td>-7.0</td><td>0.0</td><td>3536.0</td><td>null</td><td>0.0</td><td>10581.714</td><td>3536.0</td><td>25998.0</td><td>0.0</td><td>0.0</td><td>25998.0</td><td>0.0</td><td>null</td><td>&quot;P53_45_92&quot;</td><td>&quot;P200_75_140&quot;</td><td>50116.0</td><td>&quot;a55475b1&quot;</td><td>null</td><td>null</td><td>&quot;a55475b1&quot;</td><td>&quot;a55475b1&quot;</td><td>null</td><td>&quot;a55475b1&quot;</td><td>&quot;a55475b1&quot;</td><td>56000.0</td><td>7000.0</td><td>null</td><td>&hellip;</td><td>0.0</td><td>0.0</td><td>0.0</td><td>3536.0</td><td>63647.402</td><td>42412.0</td><td>3536.0</td><td>-9.0</td><td>-9.0</td><td>0.0</td><td>0.0</td><td>0.0</td><td>&quot;P159_143_123&quot;</td><td>25998.0</td><td>0.0</td><td>0.0</td><td>0.0</td><td>63652.0</td><td>7071.4</td><td>&quot;2fc785b2&quot;</td><td>&quot;a55475b1&quot;</td><td>&quot;a55475b1&quot;</td><td>&quot;a55475b1&quot;</td><td>&quot;a55475b1&quot;</td><td>null</td><td>null</td><td>15841.2</td><td>null</td><td>null</td><td>null</td><td>null</td><td>null</td><td>null</td><td>null</td><td>null</td><td>null</td><td>null</td></tr><tr><td>57633</td><td>&quot;2022-01-25&quot;</td><td>202201</td><td>100</td><td>0.0</td><td>null</td><td>8273.0</td><td>0.0</td><td>null</td><td>null</td><td>null</td><td>null</td><td>null</td><td>null</td><td>null</td><td>null</td><td>null</td><td>200000.0</td><td>0.0</td><td>0.0</td><td>200000.0</td><td>0.0</td><td>null</td><td>&quot;a55475b1&quot;</td><td>&quot;a55475b1&quot;</td><td>null</td><td>&quot;P85_114_140&quot;</td><td>null</td><td>null</td><td>&quot;P159_130_59&quot;</td><td>&quot;P75_90_70&quot;</td><td>64996.0</td><td>&quot;P45_84_106&quot;</td><td>&quot;P94_109_143&quot;</td><td>null</td><td>0.0</td><td>null</td><td>&hellip;</td><td>0.0</td><td>0.0</td><td>0.0</td><td>null</td><td>null</td><td>null</td><td>null</td><td>null</td><td>null</td><td>0.0</td><td>0.0</td><td>0.0</td><td>&quot;a55475b1&quot;</td><td>0.0</td><td>null</td><td>null</td><td>0.0</td><td>0.0</td><td>null</td><td>&quot;2fc785b2&quot;</td><td>&quot;a55475b1&quot;</td><td>&quot;a55475b1&quot;</td><td>&quot;3439d993&quot;</td><td>&quot;a55475b1&quot;</td><td>null</td><td>null</td><td>null</td><td>null</td><td>null</td><td>null</td><td>null</td><td>null</td><td>null</td><td>null</td><td>0.0</td><td>null</td><td>null</td></tr><tr><td>57634</td><td>&quot;2021-01-27&quot;</td><td>202201</td><td>100</td><td>0.0</td><td>39948.8</td><td>1165.8</td><td>0.0</td><td>-4.0</td><td>null</td><td>-4.0</td><td>0.0</td><td>3994.8</td><td>null</td><td>0.0</td><td>1675.4</td><td>3358.4001</td><td>12108.2</td><td>0.0</td><td>0.0</td><td>12108.2</td><td>0.0</td><td>null</td><td>&quot;P159_130_59&quot;</td><td>&quot;P174_113_42&quot;</td><td>16494.201</td><td>&quot;a55475b1&quot;</td><td>null</td><td>null</td><td>&quot;a55475b1&quot;</td><td>&quot;a55475b1&quot;</td><td>null</td><td>&quot;a55475b1&quot;</td><td>&quot;a55475b1&quot;</td><td>50000.0</td><td>5000.0</td><td>null</td><td>&hellip;</td><td>0.0</td><td>0.0</td><td>0.0</td><td>4949.6</td><td>20887.201</td><td>20150.8</td><td>null</td><td>-26.0</td><td>-26.0</td><td>0.0</td><td>0.0</td><td>0.0</td><td>&quot;a55475b1&quot;</td><td>13998.0</td><td>0.0</td><td>0.0</td><td>0.0</td><td>39950.8</td><td>null</td><td>&quot;2fc785b2&quot;</td><td>&quot;a55475b1&quot;</td><td>&quot;a55475b1&quot;</td><td>&quot;a55475b1&quot;</td><td>&quot;a55475b1&quot;</td><td>null</td><td>null</td><td>null</td><td>null</td><td>null</td><td>null</td><td>null</td><td>null</td><td>null</td><td>null</td><td>null</td><td>null</td><td>null</td></tr></tbody></table></div>"
      ],
      "text/plain": [
       "shape: (10, 83)\n",
       "┌─────────┬────────────┬────────┬──────────┬───┬────────────┬────────────┬────────────┬────────────┐\n",
       "│ case_id ┆ date_decis ┆ MONTH  ┆ WEEK_NUM ┆ … ┆ dpd_for_te ┆ dpdmax_for ┆ pmts_pmtso ┆ actualdpd_ │\n",
       "│ ---     ┆ ion        ┆ ---    ┆ ---      ┆   ┆ rminated_l ┆ _active_co ┆ verdue_635 ┆ 943P_above │\n",
       "│ i64     ┆ ---        ┆ i64    ┆ i64      ┆   ┆ oans       ┆ ntracts    ┆ A_max_righ ┆ 31         │\n",
       "│         ┆ str        ┆        ┆          ┆   ┆ ---        ┆ ---        ┆ t          ┆ ---        │\n",
       "│         ┆            ┆        ┆          ┆   ┆ f64        ┆ f64        ┆ ---        ┆ bool       │\n",
       "│         ┆            ┆        ┆          ┆   ┆            ┆            ┆ f64        ┆            │\n",
       "╞═════════╪════════════╪════════╪══════════╪═══╪════════════╪════════════╪════════════╪════════════╡\n",
       "│ 57543   ┆ 2021-05-14 ┆ 202201 ┆ 100      ┆ … ┆ null       ┆ 0.0        ┆ 5172.0     ┆ false      │\n",
       "│ 57549   ┆ 2022-01-17 ┆ 202201 ┆ 100      ┆ … ┆ null       ┆ 0.0        ┆ 3819.8     ┆ false      │\n",
       "│ 57551   ┆ 2020-11-27 ┆ 202201 ┆ 100      ┆ … ┆ null       ┆ 0.0        ┆ null       ┆ null       │\n",
       "│ 57552   ┆ 2020-11-27 ┆ 202201 ┆ 100      ┆ … ┆ null       ┆ null       ┆ null       ┆ null       │\n",
       "│ 57569   ┆ 2021-12-20 ┆ 202201 ┆ 100      ┆ … ┆ null       ┆ null       ┆ null       ┆ null       │\n",
       "│ 57630   ┆ 2021-03-16 ┆ 202201 ┆ 100      ┆ … ┆ null       ┆ null       ┆ null       ┆ null       │\n",
       "│ 57631   ┆ 2022-06-04 ┆ 202201 ┆ 100      ┆ … ┆ null       ┆ null       ┆ null       ┆ null       │\n",
       "│ 57632   ┆ 2022-02-05 ┆ 202201 ┆ 100      ┆ … ┆ null       ┆ null       ┆ null       ┆ null       │\n",
       "│ 57633   ┆ 2022-01-25 ┆ 202201 ┆ 100      ┆ … ┆ null       ┆ 0.0        ┆ null       ┆ null       │\n",
       "│ 57634   ┆ 2021-01-27 ┆ 202201 ┆ 100      ┆ … ┆ null       ┆ null       ┆ null       ┆ null       │\n",
       "└─────────┴────────────┴────────┴──────────┴───┴────────────┴────────────┴────────────┴────────────┘"
      ]
     },
     "execution_count": 67,
     "metadata": {},
     "output_type": "execute_result"
    }
   ],
   "source": [
    "data_submission = test_basetable.join(\n",
    "    test_static.select([\"case_id\"]+selected_static_cols), how=\"left\", on=\"case_id\"\n",
    ").join(\n",
    "    test_static_cb.select([\"case_id\"]+selected_static_cb_cols), how=\"left\", on=\"case_id\"\n",
    ").join(\n",
    "    test_person_1_feats_1, how=\"left\", on=\"case_id\"\n",
    ").join(\n",
    "    test_person_1_feats_2, how=\"left\", on=\"case_id\"\n",
    ").join(\n",
    "    test_credit_bureau_b_2_feats, how=\"left\", on=\"case_id\"\n",
    ").join(\n",
    "    train_credit_bureau_b_1_test_feat, how=\"left\", on=\"case_id\"\n",
    ").join(\n",
    "    train_credit_bureau_a_1_test_feat, how=\"left\", on=\"case_id\"\n",
    ").join(\n",
    "    test_applprev_1_feats, how=\"left\", on=\"case_id\"\n",
    ")\n",
    "\n",
    "\n",
    "data_submission"
   ]
  },
  {
   "cell_type": "code",
   "execution_count": 68,
   "id": "ef2702e3",
   "metadata": {
    "execution": {
     "iopub.execute_input": "2024-05-22T16:45:42.647308Z",
     "iopub.status.busy": "2024-05-22T16:45:42.646906Z",
     "iopub.status.idle": "2024-05-22T16:45:42.736105Z",
     "shell.execute_reply": "2024-05-22T16:45:42.735060Z"
    },
    "papermill": {
     "duration": 0.12969,
     "end_time": "2024-05-22T16:45:42.738652",
     "exception": false,
     "start_time": "2024-05-22T16:45:42.608962",
     "status": "completed"
    },
    "scrolled": true,
    "tags": []
   },
   "outputs": [
    {
     "data": {
      "text/html": [
       "<div><style>\n",
       ".dataframe > thead > tr,\n",
       ".dataframe > tbody > tr {\n",
       "  text-align: right;\n",
       "  white-space: pre-wrap;\n",
       "}\n",
       "</style>\n",
       "<small>shape: (1_526_659,)</small><table border=\"1\" class=\"dataframe\"><thead><tr><th>case_id</th></tr><tr><td>i64</td></tr></thead><tbody><tr><td>106054</td></tr><tr><td>1875612</td></tr><tr><td>1523012</td></tr><tr><td>628698</td></tr><tr><td>861635</td></tr><tr><td>&hellip;</td></tr><tr><td>1012214</td></tr><tr><td>1320603</td></tr><tr><td>908701</td></tr><tr><td>662158</td></tr><tr><td>104353</td></tr></tbody></table></div>"
      ],
      "text/plain": [
       "shape: (1_526_659,)\n",
       "Series: 'case_id' [i64]\n",
       "[\n",
       "\t106054\n",
       "\t1875612\n",
       "\t1523012\n",
       "\t628698\n",
       "\t861635\n",
       "\t…\n",
       "\t1012214\n",
       "\t1320603\n",
       "\t908701\n",
       "\t662158\n",
       "\t104353\n",
       "]"
      ]
     },
     "execution_count": 68,
     "metadata": {},
     "output_type": "execute_result"
    }
   ],
   "source": [
    "case_ids = data[\"case_id\"].unique().shuffle(seed=1)\n",
    "case_ids"
   ]
  },
  {
   "cell_type": "code",
   "execution_count": 69,
   "id": "147834f3",
   "metadata": {
    "execution": {
     "iopub.execute_input": "2024-05-22T16:45:42.816854Z",
     "iopub.status.busy": "2024-05-22T16:45:42.816432Z",
     "iopub.status.idle": "2024-05-22T16:45:42.971207Z",
     "shell.execute_reply": "2024-05-22T16:45:42.970094Z"
    },
    "papermill": {
     "duration": 0.197049,
     "end_time": "2024-05-22T16:45:42.974131",
     "exception": false,
     "start_time": "2024-05-22T16:45:42.777082",
     "status": "completed"
    },
    "tags": []
   },
   "outputs": [],
   "source": [
    "case_ids_train, case_ids_test = train_test_split(case_ids, train_size=0.6, random_state=1)\n",
    "case_ids_valid, case_ids_test = train_test_split(case_ids_test, train_size=0.5, random_state=1)"
   ]
  },
  {
   "cell_type": "code",
   "execution_count": 70,
   "id": "005e135f",
   "metadata": {
    "execution": {
     "iopub.execute_input": "2024-05-22T16:45:43.057508Z",
     "iopub.status.busy": "2024-05-22T16:45:43.057105Z",
     "iopub.status.idle": "2024-05-22T16:45:43.064154Z",
     "shell.execute_reply": "2024-05-22T16:45:43.062933Z"
    },
    "papermill": {
     "duration": 0.050026,
     "end_time": "2024-05-22T16:45:43.067361",
     "exception": false,
     "start_time": "2024-05-22T16:45:43.017335",
     "status": "completed"
    },
    "tags": []
   },
   "outputs": [
    {
     "name": "stdout",
     "output_type": "stream",
     "text": [
      "['actualdpdtolerance_344P', 'amtinstpaidbefduel24m_4187115A', 'annuity_780A', 'annuitynextmonth_57A', 'avgdbddpdlast24m_3658932P', 'avgdbddpdlast3m_4187120P', 'avgdbdtollast24m_4525197P', 'avgdpdtolclosure24_3658938P', 'avginstallast24m_3658937A', 'avglnamtstart24m_4525187A', 'avgmaxdpdlast9m_3716943P', 'avgoutstandbalancel6m_4187114A', 'avgpmtlast12m_4525200A', 'credamount_770A', 'currdebt_22A', 'currdebtcredtyperange_828A', 'disbursedcredamount_1113A', 'downpmt_116A', 'inittransactionamount_650A', 'lastapprcommoditycat_1041M', 'lastapprcommoditytypec_5251766M', 'lastapprcredamount_781A', 'lastcancelreason_561M', 'lastotherinc_902A', 'lastotherlnsexpense_631A', 'lastrejectcommoditycat_161M', 'lastrejectcommodtypec_5251769M', 'lastrejectcredamount_222A', 'lastrejectreason_759M', 'lastrejectreasonclient_4145040M', 'maininc_215A', 'maxannuity_159A', 'maxannuity_4075009A', 'maxdbddpdlast1m_3658939P', 'maxdbddpdtollast12m_3658940P', 'maxdbddpdtollast6m_4187119P', 'maxdebt4_972A', 'maxdpdfrom6mto36m_3546853P', 'maxdpdinstlnum_3546846P', 'maxdpdlast12m_727P', 'maxdpdlast24m_143P', 'maxdpdlast3m_392P', 'maxdpdlast6m_474P', 'maxdpdlast9m_1059P', 'maxdpdtolerance_374P', 'maxinstallast24m_3658928A', 'maxlnamtstart6m_4525199A', 'maxoutstandbalancel12m_4187113A', 'maxpmtlast3m_4525190A', 'mindbddpdlast24m_3658935P', 'mindbdtollast24m_4525191P', 'posfpd10lastmonth_333P', 'posfpd30lastmonth_3976960P', 'posfstqpd30lastmonth_3976962P', 'previouscontdistrict_112M', 'price_1097A', 'sumoutstandtotal_3546847A', 'sumoutstandtotalest_4493215A', 'totaldebt_9A', 'totalsettled_863A', 'totinstallast1m_4525188A', 'description_5085714M', 'education_1103M', 'education_88M', 'maritalst_385M', 'maritalst_893M', 'pmtaverage_3A', 'pmtaverage_4527227A', 'pmtaverage_4955615A', 'pmtssum_45A']\n"
     ]
    }
   ],
   "source": [
    "cols_pred = []\n",
    "for col in data.columns:\n",
    "    if col[-1].isupper() and col[:-1].islower():\n",
    "        cols_pred.append(col)\n",
    "\n",
    "print(cols_pred)"
   ]
  },
  {
   "cell_type": "code",
   "execution_count": 71,
   "id": "c4443c6f",
   "metadata": {
    "execution": {
     "iopub.execute_input": "2024-05-22T16:45:43.151094Z",
     "iopub.status.busy": "2024-05-22T16:45:43.150643Z",
     "iopub.status.idle": "2024-05-22T16:45:43.186818Z",
     "shell.execute_reply": "2024-05-22T16:45:43.185270Z"
    },
    "papermill": {
     "duration": 0.082971,
     "end_time": "2024-05-22T16:45:43.191305",
     "exception": false,
     "start_time": "2024-05-22T16:45:43.108334",
     "status": "completed"
    },
    "scrolled": true,
    "tags": []
   },
   "outputs": [
    {
     "data": {
      "text/html": [
       "<div><style>\n",
       ".dataframe > thead > tr,\n",
       ".dataframe > tbody > tr {\n",
       "  text-align: right;\n",
       "  white-space: pre-wrap;\n",
       "}\n",
       "</style>\n",
       "<small>shape: (1_526_659, 70)</small><table border=\"1\" class=\"dataframe\"><thead><tr><th>actualdpdtolerance_344P</th><th>amtinstpaidbefduel24m_4187115A</th><th>annuity_780A</th><th>annuitynextmonth_57A</th><th>avgdbddpdlast24m_3658932P</th><th>avgdbddpdlast3m_4187120P</th><th>avgdbdtollast24m_4525197P</th><th>avgdpdtolclosure24_3658938P</th><th>avginstallast24m_3658937A</th><th>avglnamtstart24m_4525187A</th><th>avgmaxdpdlast9m_3716943P</th><th>avgoutstandbalancel6m_4187114A</th><th>avgpmtlast12m_4525200A</th><th>credamount_770A</th><th>currdebt_22A</th><th>currdebtcredtyperange_828A</th><th>disbursedcredamount_1113A</th><th>downpmt_116A</th><th>inittransactionamount_650A</th><th>lastapprcommoditycat_1041M</th><th>lastapprcommoditytypec_5251766M</th><th>lastapprcredamount_781A</th><th>lastcancelreason_561M</th><th>lastotherinc_902A</th><th>lastotherlnsexpense_631A</th><th>lastrejectcommoditycat_161M</th><th>lastrejectcommodtypec_5251769M</th><th>lastrejectcredamount_222A</th><th>lastrejectreason_759M</th><th>lastrejectreasonclient_4145040M</th><th>maininc_215A</th><th>maxannuity_159A</th><th>maxannuity_4075009A</th><th>maxdbddpdlast1m_3658939P</th><th>maxdbddpdtollast12m_3658940P</th><th>maxdbddpdtollast6m_4187119P</th><th>maxdebt4_972A</th><th>maxdpdfrom6mto36m_3546853P</th><th>maxdpdinstlnum_3546846P</th><th>maxdpdlast12m_727P</th><th>maxdpdlast24m_143P</th><th>maxdpdlast3m_392P</th><th>maxdpdlast6m_474P</th><th>maxdpdlast9m_1059P</th><th>maxdpdtolerance_374P</th><th>maxinstallast24m_3658928A</th><th>maxlnamtstart6m_4525199A</th><th>maxoutstandbalancel12m_4187113A</th><th>maxpmtlast3m_4525190A</th><th>mindbddpdlast24m_3658935P</th><th>mindbdtollast24m_4525191P</th><th>posfpd10lastmonth_333P</th><th>posfpd30lastmonth_3976960P</th><th>posfstqpd30lastmonth_3976962P</th><th>previouscontdistrict_112M</th><th>price_1097A</th><th>sumoutstandtotal_3546847A</th><th>sumoutstandtotalest_4493215A</th><th>totaldebt_9A</th><th>totalsettled_863A</th><th>totinstallast1m_4525188A</th><th>description_5085714M</th><th>education_1103M</th><th>education_88M</th><th>maritalst_385M</th><th>maritalst_893M</th><th>pmtaverage_3A</th><th>pmtaverage_4527227A</th><th>pmtaverage_4955615A</th><th>pmtssum_45A</th></tr><tr><td>f64</td><td>f64</td><td>f64</td><td>f64</td><td>f64</td><td>f64</td><td>f64</td><td>f64</td><td>f64</td><td>f64</td><td>f64</td><td>f64</td><td>f64</td><td>f64</td><td>f64</td><td>f64</td><td>f64</td><td>f64</td><td>f64</td><td>str</td><td>str</td><td>f64</td><td>str</td><td>f64</td><td>f64</td><td>str</td><td>str</td><td>f64</td><td>str</td><td>str</td><td>f64</td><td>f64</td><td>f64</td><td>f64</td><td>f64</td><td>f64</td><td>f64</td><td>f64</td><td>f64</td><td>f64</td><td>f64</td><td>f64</td><td>f64</td><td>f64</td><td>f64</td><td>f64</td><td>f64</td><td>f64</td><td>f64</td><td>f64</td><td>f64</td><td>f64</td><td>f64</td><td>f64</td><td>str</td><td>f64</td><td>f64</td><td>f64</td><td>f64</td><td>f64</td><td>f64</td><td>str</td><td>str</td><td>str</td><td>str</td><td>str</td><td>f64</td><td>f64</td><td>f64</td><td>f64</td></tr></thead><tbody><tr><td>null</td><td>null</td><td>1917.6</td><td>0.0</td><td>null</td><td>null</td><td>null</td><td>null</td><td>null</td><td>null</td><td>null</td><td>null</td><td>null</td><td>30000.0</td><td>0.0</td><td>0.0</td><td>30000.0</td><td>0.0</td><td>null</td><td>&quot;a55475b1&quot;</td><td>&quot;a55475b1&quot;</td><td>null</td><td>&quot;a55475b1&quot;</td><td>null</td><td>null</td><td>&quot;a55475b1&quot;</td><td>&quot;a55475b1&quot;</td><td>null</td><td>&quot;a55475b1&quot;</td><td>&quot;a55475b1&quot;</td><td>null</td><td>0.0</td><td>null</td><td>null</td><td>null</td><td>null</td><td>0.0</td><td>0.0</td><td>null</td><td>0.0</td><td>0.0</td><td>0.0</td><td>0.0</td><td>0.0</td><td>0.0</td><td>null</td><td>null</td><td>null</td><td>null</td><td>null</td><td>null</td><td>0.0</td><td>0.0</td><td>null</td><td>&quot;a55475b1&quot;</td><td>null</td><td>null</td><td>null</td><td>0.0</td><td>0.0</td><td>null</td><td>null</td><td>null</td><td>null</td><td>null</td><td>null</td><td>null</td><td>null</td><td>null</td><td>null</td></tr><tr><td>null</td><td>null</td><td>3134.0</td><td>0.0</td><td>null</td><td>null</td><td>null</td><td>null</td><td>null</td><td>null</td><td>null</td><td>null</td><td>null</td><td>19999.8</td><td>0.0</td><td>0.0</td><td>19999.8</td><td>0.0</td><td>null</td><td>&quot;a55475b1&quot;</td><td>&quot;a55475b1&quot;</td><td>null</td><td>&quot;a55475b1&quot;</td><td>null</td><td>null</td><td>&quot;a55475b1&quot;</td><td>&quot;a55475b1&quot;</td><td>null</td><td>&quot;a55475b1&quot;</td><td>&quot;a55475b1&quot;</td><td>null</td><td>0.0</td><td>null</td><td>null</td><td>null</td><td>null</td><td>0.0</td><td>0.0</td><td>null</td><td>0.0</td><td>0.0</td><td>0.0</td><td>0.0</td><td>0.0</td><td>0.0</td><td>null</td><td>null</td><td>null</td><td>null</td><td>null</td><td>null</td><td>0.0</td><td>0.0</td><td>null</td><td>&quot;a55475b1&quot;</td><td>null</td><td>null</td><td>null</td><td>0.0</td><td>0.0</td><td>null</td><td>null</td><td>null</td><td>null</td><td>null</td><td>null</td><td>null</td><td>null</td><td>null</td><td>null</td></tr><tr><td>null</td><td>null</td><td>4937.0</td><td>0.0</td><td>null</td><td>null</td><td>null</td><td>null</td><td>null</td><td>null</td><td>null</td><td>null</td><td>null</td><td>78000.0</td><td>0.0</td><td>0.0</td><td>78000.0</td><td>0.0</td><td>null</td><td>&quot;a55475b1&quot;</td><td>&quot;a55475b1&quot;</td><td>null</td><td>&quot;a55475b1&quot;</td><td>null</td><td>null</td><td>&quot;a55475b1&quot;</td><td>&quot;a55475b1&quot;</td><td>10000.0</td><td>&quot;a55475b1&quot;</td><td>&quot;a55475b1&quot;</td><td>null</td><td>0.0</td><td>null</td><td>null</td><td>null</td><td>null</td><td>0.0</td><td>null</td><td>null</td><td>0.0</td><td>0.0</td><td>0.0</td><td>0.0</td><td>0.0</td><td>0.0</td><td>null</td><td>null</td><td>null</td><td>null</td><td>null</td><td>null</td><td>0.0</td><td>0.0</td><td>null</td><td>&quot;a55475b1&quot;</td><td>null</td><td>null</td><td>null</td><td>0.0</td><td>0.0</td><td>null</td><td>null</td><td>null</td><td>null</td><td>null</td><td>null</td><td>null</td><td>null</td><td>null</td><td>null</td></tr><tr><td>null</td><td>null</td><td>4643.6</td><td>0.0</td><td>null</td><td>null</td><td>null</td><td>null</td><td>null</td><td>null</td><td>null</td><td>null</td><td>null</td><td>40000.0</td><td>0.0</td><td>0.0</td><td>40000.0</td><td>0.0</td><td>null</td><td>&quot;a55475b1&quot;</td><td>&quot;a55475b1&quot;</td><td>null</td><td>&quot;P94_109_143&quot;</td><td>null</td><td>null</td><td>&quot;a55475b1&quot;</td><td>&quot;a55475b1&quot;</td><td>59999.8</td><td>&quot;P94_109_143&quot;</td><td>&quot;a55475b1&quot;</td><td>null</td><td>0.0</td><td>null</td><td>null</td><td>null</td><td>null</td><td>0.0</td><td>0.0</td><td>null</td><td>0.0</td><td>0.0</td><td>0.0</td><td>0.0</td><td>0.0</td><td>0.0</td><td>null</td><td>null</td><td>null</td><td>null</td><td>null</td><td>null</td><td>0.0</td><td>0.0</td><td>null</td><td>&quot;a55475b1&quot;</td><td>null</td><td>null</td><td>null</td><td>0.0</td><td>0.0</td><td>null</td><td>null</td><td>null</td><td>null</td><td>null</td><td>null</td><td>null</td><td>null</td><td>null</td><td>null</td></tr><tr><td>null</td><td>null</td><td>3390.2</td><td>0.0</td><td>null</td><td>null</td><td>null</td><td>null</td><td>null</td><td>null</td><td>null</td><td>null</td><td>null</td><td>44000.0</td><td>0.0</td><td>0.0</td><td>44000.0</td><td>0.0</td><td>null</td><td>&quot;a55475b1&quot;</td><td>&quot;a55475b1&quot;</td><td>null</td><td>&quot;P24_27_36&quot;</td><td>null</td><td>null</td><td>&quot;a55475b1&quot;</td><td>&quot;a55475b1&quot;</td><td>null</td><td>&quot;a55475b1&quot;</td><td>&quot;a55475b1&quot;</td><td>null</td><td>0.0</td><td>null</td><td>null</td><td>null</td><td>null</td><td>0.0</td><td>0.0</td><td>null</td><td>0.0</td><td>0.0</td><td>0.0</td><td>0.0</td><td>0.0</td><td>0.0</td><td>null</td><td>null</td><td>null</td><td>null</td><td>null</td><td>null</td><td>0.0</td><td>0.0</td><td>null</td><td>&quot;a55475b1&quot;</td><td>null</td><td>null</td><td>null</td><td>0.0</td><td>0.0</td><td>null</td><td>null</td><td>null</td><td>null</td><td>null</td><td>null</td><td>null</td><td>null</td><td>null</td><td>null</td></tr><tr><td>&hellip;</td><td>&hellip;</td><td>&hellip;</td><td>&hellip;</td><td>&hellip;</td><td>&hellip;</td><td>&hellip;</td><td>&hellip;</td><td>&hellip;</td><td>&hellip;</td><td>&hellip;</td><td>&hellip;</td><td>&hellip;</td><td>&hellip;</td><td>&hellip;</td><td>&hellip;</td><td>&hellip;</td><td>&hellip;</td><td>&hellip;</td><td>&hellip;</td><td>&hellip;</td><td>&hellip;</td><td>&hellip;</td><td>&hellip;</td><td>&hellip;</td><td>&hellip;</td><td>&hellip;</td><td>&hellip;</td><td>&hellip;</td><td>&hellip;</td><td>&hellip;</td><td>&hellip;</td><td>&hellip;</td><td>&hellip;</td><td>&hellip;</td><td>&hellip;</td><td>&hellip;</td><td>&hellip;</td><td>&hellip;</td><td>&hellip;</td><td>&hellip;</td><td>&hellip;</td><td>&hellip;</td><td>&hellip;</td><td>&hellip;</td><td>&hellip;</td><td>&hellip;</td><td>&hellip;</td><td>&hellip;</td><td>&hellip;</td><td>&hellip;</td><td>&hellip;</td><td>&hellip;</td><td>&hellip;</td><td>&hellip;</td><td>&hellip;</td><td>&hellip;</td><td>&hellip;</td><td>&hellip;</td><td>&hellip;</td><td>&hellip;</td><td>&hellip;</td><td>&hellip;</td><td>&hellip;</td><td>&hellip;</td><td>&hellip;</td><td>&hellip;</td><td>&hellip;</td><td>&hellip;</td><td>&hellip;</td></tr><tr><td>0.0</td><td>176561.36</td><td>3675.4001</td><td>0.0</td><td>-23.0</td><td>-43.0</td><td>-23.0</td><td>0.0</td><td>7356.8003</td><td>null</td><td>0.0</td><td>16392.496</td><td>6750.2</td><td>30000.0</td><td>0.0</td><td>0.0</td><td>30000.0</td><td>0.0</td><td>null</td><td>&quot;P12_6_178&quot;</td><td>&quot;P142_50_170&quot;</td><td>20020.0</td><td>&quot;a55475b1&quot;</td><td>null</td><td>null</td><td>&quot;a55475b1&quot;</td><td>&quot;a55475b1&quot;</td><td>150000.0</td><td>&quot;P94_109_143&quot;</td><td>&quot;P94_109_143&quot;</td><td>36000.0</td><td>75521.91</td><td>null</td><td>0.0</td><td>0.0</td><td>0.0</td><td>105019.79</td><td>0.0</td><td>6.0</td><td>0.0</td><td>0.0</td><td>0.0</td><td>0.0</td><td>0.0</td><td>8.0</td><td>46718.2</td><td>49651.402</td><td>77533.76</td><td>14346.319</td><td>-144.0</td><td>-144.0</td><td>0.0</td><td>0.0</td><td>0.0</td><td>&quot;P123_39_170&quot;</td><td>0.0</td><td>0.0</td><td>0.0</td><td>0.0</td><td>428159.66</td><td>14346.319</td><td>&quot;2fc785b2&quot;</td><td>&quot;a55475b1&quot;</td><td>&quot;a55475b1&quot;</td><td>&quot;a55475b1&quot;</td><td>&quot;a55475b1&quot;</td><td>null</td><td>null</td><td>12155.0</td><td>null</td></tr><tr><td>0.0</td><td>301276.47</td><td>7088.6</td><td>6191.6</td><td>-18.0</td><td>-12.0</td><td>-18.0</td><td>0.0</td><td>12553.2</td><td>null</td><td>0.0</td><td>105129.31</td><td>15780.4</td><td>100000.0</td><td>68098.4</td><td>68098.4</td><td>40739.54</td><td>0.0</td><td>null</td><td>&quot;a55475b1&quot;</td><td>&quot;a55475b1&quot;</td><td>0.0</td><td>&quot;a55475b1&quot;</td><td>null</td><td>null</td><td>&quot;a55475b1&quot;</td><td>&quot;a55475b1&quot;</td><td>null</td><td>&quot;a55475b1&quot;</td><td>&quot;a55475b1&quot;</td><td>null</td><td>117251.6</td><td>null</td><td>0.0</td><td>2.0</td><td>2.0</td><td>202775.55</td><td>0.0</td><td>7.0</td><td>2.0</td><td>2.0</td><td>0.0</td><td>2.0</td><td>2.0</td><td>2.0</td><td>40499.8</td><td>116813.4</td><td>250031.2</td><td>40499.805</td><td>-92.0</td><td>-92.0</td><td>0.0</td><td>0.0</td><td>0.0</td><td>&quot;P162_18_172&quot;</td><td>null</td><td>68098.4</td><td>68098.4</td><td>68098.4</td><td>701247.3</td><td>40499.805</td><td>&quot;2fc785b2&quot;</td><td>&quot;a55475b1&quot;</td><td>&quot;a55475b1&quot;</td><td>&quot;a55475b1&quot;</td><td>&quot;a55475b1&quot;</td><td>null</td><td>null</td><td>22904.6</td><td>null</td></tr><tr><td>0.0</td><td>14232.4</td><td>7788.8003</td><td>0.0</td><td>-12.0</td><td>null</td><td>-16.0</td><td>1.0</td><td>2662.4001</td><td>null</td><td>null</td><td>null</td><td>1500.6</td><td>60000.0</td><td>0.0</td><td>0.0</td><td>60000.0</td><td>0.0</td><td>null</td><td>&quot;P159_130_59&quot;</td><td>&quot;P75_90_70&quot;</td><td>3998.0</td><td>&quot;P180_60_137&quot;</td><td>null</td><td>null</td><td>&quot;a55475b1&quot;</td><td>&quot;a55475b1&quot;</td><td>null</td><td>&quot;a55475b1&quot;</td><td>&quot;a55475b1&quot;</td><td>24000.0</td><td>6600.0</td><td>null</td><td>null</td><td>-27.0</td><td>null</td><td>17143.4</td><td>4.0</td><td>5.0</td><td>0.0</td><td>4.0</td><td>0.0</td><td>0.0</td><td>0.0</td><td>4.0</td><td>3243.4001</td><td>4182.0</td><td>0.0</td><td>null</td><td>-27.0</td><td>-55.0</td><td>0.0</td><td>0.0</td><td>0.0</td><td>&quot;P133_44_167&quot;</td><td>0.0</td><td>0.0</td><td>0.0</td><td>0.0</td><td>24002.0</td><td>null</td><td>&quot;2fc785b2&quot;</td><td>&quot;a55475b1&quot;</td><td>&quot;a55475b1&quot;</td><td>&quot;a55475b1&quot;</td><td>&quot;a55475b1&quot;</td><td>null</td><td>null</td><td>null</td><td>null</td></tr><tr><td>0.0</td><td>197371.58</td><td>1195.4</td><td>2827.2</td><td>-33.0</td><td>-64.0</td><td>-34.0</td><td>0.0</td><td>8212.601</td><td>null</td><td>0.0</td><td>47943.062</td><td>9921.2</td><td>6000.0</td><td>46806.6</td><td>46806.6</td><td>6000.0</td><td>0.0</td><td>null</td><td>&quot;a55475b1&quot;</td><td>&quot;a55475b1&quot;</td><td>0.0</td><td>&quot;a55475b1&quot;</td><td>null</td><td>null</td><td>&quot;P159_130_59&quot;</td><td>&quot;P174_113_42&quot;</td><td>2198.0</td><td>&quot;a55475b1&quot;</td><td>&quot;a55475b1&quot;</td><td>null</td><td>163202.0</td><td>null</td><td>-66.0</td><td>0.0</td><td>-33.0</td><td>126780.0</td><td>2.0</td><td>13.0</td><td>0.0</td><td>0.0</td><td>0.0</td><td>0.0</td><td>0.0</td><td>34.0</td><td>88740.805</td><td>94265.2</td><td>81604.6</td><td>2827.2</td><td>-68.0</td><td>-68.0</td><td>0.0</td><td>0.0</td><td>0.0</td><td>&quot;P123_6_84&quot;</td><td>0.0</td><td>46806.6</td><td>46806.6</td><td>46806.6</td><td>440145.3</td><td>5654.4</td><td>&quot;2fc785b2&quot;</td><td>&quot;6b2ae0fa&quot;</td><td>&quot;a55475b1&quot;</td><td>&quot;3439d993&quot;</td><td>&quot;a55475b1&quot;</td><td>null</td><td>null</td><td>15792.4</td><td>null</td></tr><tr><td>0.0</td><td>82949.6</td><td>4533.8003</td><td>2986.8</td><td>-6.0</td><td>-5.0</td><td>-6.0</td><td>0.0</td><td>6405.4</td><td>15998.0</td><td>0.0</td><td>15651.796</td><td>6352.0</td><td>39414.0</td><td>5919.2</td><td>0.0</td><td>33800.492</td><td>0.0</td><td>null</td><td>&quot;a55475b1&quot;</td><td>&quot;a55475b1&quot;</td><td>15998.0</td><td>&quot;a55475b1&quot;</td><td>null</td><td>null</td><td>&quot;a55475b1&quot;</td><td>&quot;a55475b1&quot;</td><td>null</td><td>&quot;a55475b1&quot;</td><td>&quot;a55475b1&quot;</td><td>24000.0</td><td>16148.929</td><td>null</td><td>-5.0</td><td>-2.0</td><td>-2.0</td><td>63980.0</td><td>1.0</td><td>1.0</td><td>0.0</td><td>1.0</td><td>0.0</td><td>0.0</td><td>0.0</td><td>1.0</td><td>9710.0</td><td>55411.8</td><td>60461.438</td><td>9710.0</td><td>-12.0</td><td>-12.0</td><td>0.0</td><td>0.0</td><td>0.0</td><td>&quot;P48_127_19&quot;</td><td>null</td><td>8919.2</td><td>8919.2</td><td>5919.2</td><td>92999.57</td><td>2986.8</td><td>&quot;2fc785b2&quot;</td><td>&quot;a55475b1&quot;</td><td>&quot;a55475b1&quot;</td><td>&quot;b6cabe76&quot;</td><td>&quot;a55475b1&quot;</td><td>null</td><td>null</td><td>21530.4</td><td>null</td></tr></tbody></table></div>"
      ],
      "text/plain": [
       "shape: (1_526_659, 70)\n",
       "┌───────────┬───────────┬───────────┬───────────┬───┬───────────┬───────────┬───────────┬──────────┐\n",
       "│ actualdpd ┆ amtinstpa ┆ annuity_7 ┆ annuityne ┆ … ┆ pmtaverag ┆ pmtaverag ┆ pmtaverag ┆ pmtssum_ │\n",
       "│ tolerance ┆ idbefduel ┆ 80A       ┆ xtmonth_5 ┆   ┆ e_3A      ┆ e_4527227 ┆ e_4955615 ┆ 45A      │\n",
       "│ _344P     ┆ 24m_41871 ┆ ---       ┆ 7A        ┆   ┆ ---       ┆ A         ┆ A         ┆ ---      │\n",
       "│ ---       ┆ 15A       ┆ f64       ┆ ---       ┆   ┆ f64       ┆ ---       ┆ ---       ┆ f64      │\n",
       "│ f64       ┆ ---       ┆           ┆ f64       ┆   ┆           ┆ f64       ┆ f64       ┆          │\n",
       "│           ┆ f64       ┆           ┆           ┆   ┆           ┆           ┆           ┆          │\n",
       "╞═══════════╪═══════════╪═══════════╪═══════════╪═══╪═══════════╪═══════════╪═══════════╪══════════╡\n",
       "│ null      ┆ null      ┆ 1917.6    ┆ 0.0       ┆ … ┆ null      ┆ null      ┆ null      ┆ null     │\n",
       "│ null      ┆ null      ┆ 3134.0    ┆ 0.0       ┆ … ┆ null      ┆ null      ┆ null      ┆ null     │\n",
       "│ null      ┆ null      ┆ 4937.0    ┆ 0.0       ┆ … ┆ null      ┆ null      ┆ null      ┆ null     │\n",
       "│ null      ┆ null      ┆ 4643.6    ┆ 0.0       ┆ … ┆ null      ┆ null      ┆ null      ┆ null     │\n",
       "│ null      ┆ null      ┆ 3390.2    ┆ 0.0       ┆ … ┆ null      ┆ null      ┆ null      ┆ null     │\n",
       "│ …         ┆ …         ┆ …         ┆ …         ┆ … ┆ …         ┆ …         ┆ …         ┆ …        │\n",
       "│ 0.0       ┆ 176561.36 ┆ 3675.4001 ┆ 0.0       ┆ … ┆ null      ┆ null      ┆ 12155.0   ┆ null     │\n",
       "│ 0.0       ┆ 301276.47 ┆ 7088.6    ┆ 6191.6    ┆ … ┆ null      ┆ null      ┆ 22904.6   ┆ null     │\n",
       "│ 0.0       ┆ 14232.4   ┆ 7788.8003 ┆ 0.0       ┆ … ┆ null      ┆ null      ┆ null      ┆ null     │\n",
       "│ 0.0       ┆ 197371.58 ┆ 1195.4    ┆ 2827.2    ┆ … ┆ null      ┆ null      ┆ 15792.4   ┆ null     │\n",
       "│ 0.0       ┆ 82949.6   ┆ 4533.8003 ┆ 2986.8    ┆ … ┆ null      ┆ null      ┆ 21530.4   ┆ null     │\n",
       "└───────────┴───────────┴───────────┴───────────┴───┴───────────┴───────────┴───────────┴──────────┘"
      ]
     },
     "execution_count": 71,
     "metadata": {},
     "output_type": "execute_result"
    }
   ],
   "source": [
    "data.select(cols_pred)"
   ]
  },
  {
   "cell_type": "code",
   "execution_count": 72,
   "id": "0d77f541",
   "metadata": {
    "execution": {
     "iopub.execute_input": "2024-05-22T16:45:43.307266Z",
     "iopub.status.busy": "2024-05-22T16:45:43.303709Z",
     "iopub.status.idle": "2024-05-22T16:45:43.315171Z",
     "shell.execute_reply": "2024-05-22T16:45:43.313955Z"
    },
    "papermill": {
     "duration": 0.071269,
     "end_time": "2024-05-22T16:45:43.318041",
     "exception": false,
     "start_time": "2024-05-22T16:45:43.246772",
     "status": "completed"
    },
    "tags": []
   },
   "outputs": [],
   "source": [
    "def from_polars_to_pandas(case_ids: pl.DataFrame) -> pl.DataFrame:\n",
    "    return (\n",
    "        data.filter(pl.col(\"case_id\").is_in(case_ids))[[\"case_id\", \"WEEK_NUM\", \"target\"]].to_pandas(),\n",
    "        data.filter(pl.col(\"case_id\").is_in(case_ids))[cols_pred].to_pandas(),\n",
    "        data.filter(pl.col(\"case_id\").is_in(case_ids))[\"target\"].to_pandas()\n",
    "    )"
   ]
  },
  {
   "cell_type": "code",
   "execution_count": 73,
   "id": "881e2492",
   "metadata": {
    "execution": {
     "iopub.execute_input": "2024-05-22T16:45:43.400847Z",
     "iopub.status.busy": "2024-05-22T16:45:43.400427Z",
     "iopub.status.idle": "2024-05-22T16:45:52.077738Z",
     "shell.execute_reply": "2024-05-22T16:45:52.076604Z"
    },
    "papermill": {
     "duration": 8.721049,
     "end_time": "2024-05-22T16:45:52.080158",
     "exception": false,
     "start_time": "2024-05-22T16:45:43.359109",
     "status": "completed"
    },
    "tags": []
   },
   "outputs": [
    {
     "data": {
      "text/html": [
       "<div>\n",
       "<style scoped>\n",
       "    .dataframe tbody tr th:only-of-type {\n",
       "        vertical-align: middle;\n",
       "    }\n",
       "\n",
       "    .dataframe tbody tr th {\n",
       "        vertical-align: top;\n",
       "    }\n",
       "\n",
       "    .dataframe thead th {\n",
       "        text-align: right;\n",
       "    }\n",
       "</style>\n",
       "<table border=\"1\" class=\"dataframe\">\n",
       "  <thead>\n",
       "    <tr style=\"text-align: right;\">\n",
       "      <th></th>\n",
       "      <th>actualdpdtolerance_344P</th>\n",
       "      <th>amtinstpaidbefduel24m_4187115A</th>\n",
       "      <th>annuity_780A</th>\n",
       "      <th>annuitynextmonth_57A</th>\n",
       "      <th>avgdbddpdlast24m_3658932P</th>\n",
       "      <th>avgdbddpdlast3m_4187120P</th>\n",
       "      <th>avgdbdtollast24m_4525197P</th>\n",
       "      <th>avgdpdtolclosure24_3658938P</th>\n",
       "      <th>avginstallast24m_3658937A</th>\n",
       "      <th>avglnamtstart24m_4525187A</th>\n",
       "      <th>...</th>\n",
       "      <th>totinstallast1m_4525188A</th>\n",
       "      <th>description_5085714M</th>\n",
       "      <th>education_1103M</th>\n",
       "      <th>education_88M</th>\n",
       "      <th>maritalst_385M</th>\n",
       "      <th>maritalst_893M</th>\n",
       "      <th>pmtaverage_3A</th>\n",
       "      <th>pmtaverage_4527227A</th>\n",
       "      <th>pmtaverage_4955615A</th>\n",
       "      <th>pmtssum_45A</th>\n",
       "    </tr>\n",
       "  </thead>\n",
       "  <tbody>\n",
       "    <tr>\n",
       "      <th>0</th>\n",
       "      <td>NaN</td>\n",
       "      <td>NaN</td>\n",
       "      <td>3390.2000</td>\n",
       "      <td>0.0</td>\n",
       "      <td>NaN</td>\n",
       "      <td>NaN</td>\n",
       "      <td>NaN</td>\n",
       "      <td>NaN</td>\n",
       "      <td>NaN</td>\n",
       "      <td>NaN</td>\n",
       "      <td>...</td>\n",
       "      <td>NaN</td>\n",
       "      <td>NaN</td>\n",
       "      <td>NaN</td>\n",
       "      <td>NaN</td>\n",
       "      <td>NaN</td>\n",
       "      <td>NaN</td>\n",
       "      <td>NaN</td>\n",
       "      <td>NaN</td>\n",
       "      <td>NaN</td>\n",
       "      <td>NaN</td>\n",
       "    </tr>\n",
       "    <tr>\n",
       "      <th>1</th>\n",
       "      <td>NaN</td>\n",
       "      <td>NaN</td>\n",
       "      <td>9568.6010</td>\n",
       "      <td>0.0</td>\n",
       "      <td>NaN</td>\n",
       "      <td>NaN</td>\n",
       "      <td>NaN</td>\n",
       "      <td>NaN</td>\n",
       "      <td>NaN</td>\n",
       "      <td>NaN</td>\n",
       "      <td>...</td>\n",
       "      <td>NaN</td>\n",
       "      <td>NaN</td>\n",
       "      <td>NaN</td>\n",
       "      <td>NaN</td>\n",
       "      <td>NaN</td>\n",
       "      <td>NaN</td>\n",
       "      <td>NaN</td>\n",
       "      <td>NaN</td>\n",
       "      <td>NaN</td>\n",
       "      <td>NaN</td>\n",
       "    </tr>\n",
       "    <tr>\n",
       "      <th>2</th>\n",
       "      <td>NaN</td>\n",
       "      <td>NaN</td>\n",
       "      <td>5109.6000</td>\n",
       "      <td>0.0</td>\n",
       "      <td>NaN</td>\n",
       "      <td>NaN</td>\n",
       "      <td>NaN</td>\n",
       "      <td>NaN</td>\n",
       "      <td>NaN</td>\n",
       "      <td>NaN</td>\n",
       "      <td>...</td>\n",
       "      <td>NaN</td>\n",
       "      <td>NaN</td>\n",
       "      <td>NaN</td>\n",
       "      <td>NaN</td>\n",
       "      <td>NaN</td>\n",
       "      <td>NaN</td>\n",
       "      <td>NaN</td>\n",
       "      <td>NaN</td>\n",
       "      <td>NaN</td>\n",
       "      <td>NaN</td>\n",
       "    </tr>\n",
       "    <tr>\n",
       "      <th>3</th>\n",
       "      <td>NaN</td>\n",
       "      <td>NaN</td>\n",
       "      <td>2581.0000</td>\n",
       "      <td>0.0</td>\n",
       "      <td>NaN</td>\n",
       "      <td>NaN</td>\n",
       "      <td>NaN</td>\n",
       "      <td>NaN</td>\n",
       "      <td>NaN</td>\n",
       "      <td>NaN</td>\n",
       "      <td>...</td>\n",
       "      <td>NaN</td>\n",
       "      <td>NaN</td>\n",
       "      <td>NaN</td>\n",
       "      <td>NaN</td>\n",
       "      <td>NaN</td>\n",
       "      <td>NaN</td>\n",
       "      <td>NaN</td>\n",
       "      <td>NaN</td>\n",
       "      <td>NaN</td>\n",
       "      <td>NaN</td>\n",
       "    </tr>\n",
       "    <tr>\n",
       "      <th>4</th>\n",
       "      <td>NaN</td>\n",
       "      <td>NaN</td>\n",
       "      <td>2400.0000</td>\n",
       "      <td>0.0</td>\n",
       "      <td>NaN</td>\n",
       "      <td>NaN</td>\n",
       "      <td>NaN</td>\n",
       "      <td>NaN</td>\n",
       "      <td>NaN</td>\n",
       "      <td>NaN</td>\n",
       "      <td>...</td>\n",
       "      <td>NaN</td>\n",
       "      <td>NaN</td>\n",
       "      <td>NaN</td>\n",
       "      <td>NaN</td>\n",
       "      <td>NaN</td>\n",
       "      <td>NaN</td>\n",
       "      <td>NaN</td>\n",
       "      <td>NaN</td>\n",
       "      <td>NaN</td>\n",
       "      <td>NaN</td>\n",
       "    </tr>\n",
       "    <tr>\n",
       "      <th>...</th>\n",
       "      <td>...</td>\n",
       "      <td>...</td>\n",
       "      <td>...</td>\n",
       "      <td>...</td>\n",
       "      <td>...</td>\n",
       "      <td>...</td>\n",
       "      <td>...</td>\n",
       "      <td>...</td>\n",
       "      <td>...</td>\n",
       "      <td>...</td>\n",
       "      <td>...</td>\n",
       "      <td>...</td>\n",
       "      <td>...</td>\n",
       "      <td>...</td>\n",
       "      <td>...</td>\n",
       "      <td>...</td>\n",
       "      <td>...</td>\n",
       "      <td>...</td>\n",
       "      <td>...</td>\n",
       "      <td>...</td>\n",
       "      <td>...</td>\n",
       "    </tr>\n",
       "    <tr>\n",
       "      <th>305327</th>\n",
       "      <td>0.0</td>\n",
       "      <td>119089.99</td>\n",
       "      <td>4138.4000</td>\n",
       "      <td>0.0</td>\n",
       "      <td>-5.0</td>\n",
       "      <td>-2.0</td>\n",
       "      <td>-5.0</td>\n",
       "      <td>0.0</td>\n",
       "      <td>5671.000</td>\n",
       "      <td>NaN</td>\n",
       "      <td>...</td>\n",
       "      <td>12445.385</td>\n",
       "      <td>2fc785b2</td>\n",
       "      <td>717ddd49</td>\n",
       "      <td>a55475b1</td>\n",
       "      <td>3439d993</td>\n",
       "      <td>a55475b1</td>\n",
       "      <td>NaN</td>\n",
       "      <td>NaN</td>\n",
       "      <td>16097.200</td>\n",
       "      <td>NaN</td>\n",
       "    </tr>\n",
       "    <tr>\n",
       "      <th>305328</th>\n",
       "      <td>0.0</td>\n",
       "      <td>0.00</td>\n",
       "      <td>4747.2000</td>\n",
       "      <td>0.0</td>\n",
       "      <td>NaN</td>\n",
       "      <td>NaN</td>\n",
       "      <td>NaN</td>\n",
       "      <td>0.0</td>\n",
       "      <td>NaN</td>\n",
       "      <td>NaN</td>\n",
       "      <td>...</td>\n",
       "      <td>NaN</td>\n",
       "      <td>2fc785b2</td>\n",
       "      <td>6b2ae0fa</td>\n",
       "      <td>6b2ae0fa</td>\n",
       "      <td>3439d993</td>\n",
       "      <td>46b968c3</td>\n",
       "      <td>NaN</td>\n",
       "      <td>NaN</td>\n",
       "      <td>NaN</td>\n",
       "      <td>NaN</td>\n",
       "    </tr>\n",
       "    <tr>\n",
       "      <th>305329</th>\n",
       "      <td>0.0</td>\n",
       "      <td>335469.25</td>\n",
       "      <td>7088.6000</td>\n",
       "      <td>7216.0</td>\n",
       "      <td>-17.0</td>\n",
       "      <td>-45.0</td>\n",
       "      <td>-18.0</td>\n",
       "      <td>0.0</td>\n",
       "      <td>13376.601</td>\n",
       "      <td>NaN</td>\n",
       "      <td>...</td>\n",
       "      <td>7216.000</td>\n",
       "      <td>2fc785b2</td>\n",
       "      <td>717ddd49</td>\n",
       "      <td>a55475b1</td>\n",
       "      <td>3439d993</td>\n",
       "      <td>a55475b1</td>\n",
       "      <td>NaN</td>\n",
       "      <td>NaN</td>\n",
       "      <td>20508.201</td>\n",
       "      <td>NaN</td>\n",
       "    </tr>\n",
       "    <tr>\n",
       "      <th>305330</th>\n",
       "      <td>0.0</td>\n",
       "      <td>169487.72</td>\n",
       "      <td>4960.8003</td>\n",
       "      <td>2717.2</td>\n",
       "      <td>-11.0</td>\n",
       "      <td>-9.0</td>\n",
       "      <td>-11.0</td>\n",
       "      <td>0.0</td>\n",
       "      <td>7369.000</td>\n",
       "      <td>NaN</td>\n",
       "      <td>...</td>\n",
       "      <td>2717.200</td>\n",
       "      <td>2fc785b2</td>\n",
       "      <td>717ddd49</td>\n",
       "      <td>a55475b1</td>\n",
       "      <td>3439d993</td>\n",
       "      <td>a55475b1</td>\n",
       "      <td>NaN</td>\n",
       "      <td>NaN</td>\n",
       "      <td>NaN</td>\n",
       "      <td>NaN</td>\n",
       "    </tr>\n",
       "    <tr>\n",
       "      <th>305331</th>\n",
       "      <td>0.0</td>\n",
       "      <td>45531.80</td>\n",
       "      <td>5192.6000</td>\n",
       "      <td>0.0</td>\n",
       "      <td>-7.0</td>\n",
       "      <td>NaN</td>\n",
       "      <td>-7.0</td>\n",
       "      <td>0.0</td>\n",
       "      <td>4139.200</td>\n",
       "      <td>NaN</td>\n",
       "      <td>...</td>\n",
       "      <td>NaN</td>\n",
       "      <td>2fc785b2</td>\n",
       "      <td>6b2ae0fa</td>\n",
       "      <td>a55475b1</td>\n",
       "      <td>3439d993</td>\n",
       "      <td>a55475b1</td>\n",
       "      <td>NaN</td>\n",
       "      <td>NaN</td>\n",
       "      <td>NaN</td>\n",
       "      <td>NaN</td>\n",
       "    </tr>\n",
       "  </tbody>\n",
       "</table>\n",
       "<p>305332 rows × 70 columns</p>\n",
       "</div>"
      ],
      "text/plain": [
       "        actualdpdtolerance_344P  amtinstpaidbefduel24m_4187115A  annuity_780A  \\\n",
       "0                           NaN                             NaN     3390.2000   \n",
       "1                           NaN                             NaN     9568.6010   \n",
       "2                           NaN                             NaN     5109.6000   \n",
       "3                           NaN                             NaN     2581.0000   \n",
       "4                           NaN                             NaN     2400.0000   \n",
       "...                         ...                             ...           ...   \n",
       "305327                      0.0                       119089.99     4138.4000   \n",
       "305328                      0.0                            0.00     4747.2000   \n",
       "305329                      0.0                       335469.25     7088.6000   \n",
       "305330                      0.0                       169487.72     4960.8003   \n",
       "305331                      0.0                        45531.80     5192.6000   \n",
       "\n",
       "        annuitynextmonth_57A  avgdbddpdlast24m_3658932P  \\\n",
       "0                        0.0                        NaN   \n",
       "1                        0.0                        NaN   \n",
       "2                        0.0                        NaN   \n",
       "3                        0.0                        NaN   \n",
       "4                        0.0                        NaN   \n",
       "...                      ...                        ...   \n",
       "305327                   0.0                       -5.0   \n",
       "305328                   0.0                        NaN   \n",
       "305329                7216.0                      -17.0   \n",
       "305330                2717.2                      -11.0   \n",
       "305331                   0.0                       -7.0   \n",
       "\n",
       "        avgdbddpdlast3m_4187120P  avgdbdtollast24m_4525197P  \\\n",
       "0                            NaN                        NaN   \n",
       "1                            NaN                        NaN   \n",
       "2                            NaN                        NaN   \n",
       "3                            NaN                        NaN   \n",
       "4                            NaN                        NaN   \n",
       "...                          ...                        ...   \n",
       "305327                      -2.0                       -5.0   \n",
       "305328                       NaN                        NaN   \n",
       "305329                     -45.0                      -18.0   \n",
       "305330                      -9.0                      -11.0   \n",
       "305331                       NaN                       -7.0   \n",
       "\n",
       "        avgdpdtolclosure24_3658938P  avginstallast24m_3658937A  \\\n",
       "0                               NaN                        NaN   \n",
       "1                               NaN                        NaN   \n",
       "2                               NaN                        NaN   \n",
       "3                               NaN                        NaN   \n",
       "4                               NaN                        NaN   \n",
       "...                             ...                        ...   \n",
       "305327                          0.0                   5671.000   \n",
       "305328                          0.0                        NaN   \n",
       "305329                          0.0                  13376.601   \n",
       "305330                          0.0                   7369.000   \n",
       "305331                          0.0                   4139.200   \n",
       "\n",
       "        avglnamtstart24m_4525187A  ...  totinstallast1m_4525188A  \\\n",
       "0                             NaN  ...                       NaN   \n",
       "1                             NaN  ...                       NaN   \n",
       "2                             NaN  ...                       NaN   \n",
       "3                             NaN  ...                       NaN   \n",
       "4                             NaN  ...                       NaN   \n",
       "...                           ...  ...                       ...   \n",
       "305327                        NaN  ...                 12445.385   \n",
       "305328                        NaN  ...                       NaN   \n",
       "305329                        NaN  ...                  7216.000   \n",
       "305330                        NaN  ...                  2717.200   \n",
       "305331                        NaN  ...                       NaN   \n",
       "\n",
       "        description_5085714M  education_1103M  education_88M  maritalst_385M  \\\n",
       "0                        NaN              NaN            NaN             NaN   \n",
       "1                        NaN              NaN            NaN             NaN   \n",
       "2                        NaN              NaN            NaN             NaN   \n",
       "3                        NaN              NaN            NaN             NaN   \n",
       "4                        NaN              NaN            NaN             NaN   \n",
       "...                      ...              ...            ...             ...   \n",
       "305327              2fc785b2         717ddd49       a55475b1        3439d993   \n",
       "305328              2fc785b2         6b2ae0fa       6b2ae0fa        3439d993   \n",
       "305329              2fc785b2         717ddd49       a55475b1        3439d993   \n",
       "305330              2fc785b2         717ddd49       a55475b1        3439d993   \n",
       "305331              2fc785b2         6b2ae0fa       a55475b1        3439d993   \n",
       "\n",
       "        maritalst_893M  pmtaverage_3A  pmtaverage_4527227A  \\\n",
       "0                  NaN            NaN                  NaN   \n",
       "1                  NaN            NaN                  NaN   \n",
       "2                  NaN            NaN                  NaN   \n",
       "3                  NaN            NaN                  NaN   \n",
       "4                  NaN            NaN                  NaN   \n",
       "...                ...            ...                  ...   \n",
       "305327        a55475b1            NaN                  NaN   \n",
       "305328        46b968c3            NaN                  NaN   \n",
       "305329        a55475b1            NaN                  NaN   \n",
       "305330        a55475b1            NaN                  NaN   \n",
       "305331        a55475b1            NaN                  NaN   \n",
       "\n",
       "        pmtaverage_4955615A pmtssum_45A  \n",
       "0                       NaN         NaN  \n",
       "1                       NaN         NaN  \n",
       "2                       NaN         NaN  \n",
       "3                       NaN         NaN  \n",
       "4                       NaN         NaN  \n",
       "...                     ...         ...  \n",
       "305327            16097.200         NaN  \n",
       "305328                  NaN         NaN  \n",
       "305329            20508.201         NaN  \n",
       "305330                  NaN         NaN  \n",
       "305331                  NaN         NaN  \n",
       "\n",
       "[305332 rows x 70 columns]"
      ]
     },
     "execution_count": 73,
     "metadata": {},
     "output_type": "execute_result"
    }
   ],
   "source": [
    "base_train, X_train, y_train = from_polars_to_pandas(case_ids_train)\n",
    "base_valid, X_valid, y_valid = from_polars_to_pandas(case_ids_valid)\n",
    "base_test, X_test, y_test = from_polars_to_pandas(case_ids_test)\n",
    "\n",
    "for df in [X_train, X_valid, X_test]:\n",
    "    df = convert_strings(df)\n",
    "    \n",
    "df"
   ]
  },
  {
   "cell_type": "code",
   "execution_count": 74,
   "id": "0700469c",
   "metadata": {
    "execution": {
     "iopub.execute_input": "2024-05-22T16:45:52.160889Z",
     "iopub.status.busy": "2024-05-22T16:45:52.160486Z",
     "iopub.status.idle": "2024-05-22T16:45:52.166453Z",
     "shell.execute_reply": "2024-05-22T16:45:52.165117Z"
    },
    "papermill": {
     "duration": 0.048993,
     "end_time": "2024-05-22T16:45:52.168655",
     "exception": false,
     "start_time": "2024-05-22T16:45:52.119662",
     "status": "completed"
    },
    "scrolled": true,
    "tags": []
   },
   "outputs": [
    {
     "name": "stdout",
     "output_type": "stream",
     "text": [
      "Train: (915995, 70)\n",
      "Valid: (305332, 70)\n",
      "Test: (305332, 70)\n"
     ]
    }
   ],
   "source": [
    "print(f\"Train: {X_train.shape}\")\n",
    "print(f\"Valid: {X_valid.shape}\")\n",
    "print(f\"Test: {X_test.shape}\")"
   ]
  },
  {
   "cell_type": "markdown",
   "id": "4fe404d7",
   "metadata": {
    "papermill": {
     "duration": 0.039462,
     "end_time": "2024-05-22T16:45:52.248770",
     "exception": false,
     "start_time": "2024-05-22T16:45:52.209308",
     "status": "completed"
    },
    "tags": []
   },
   "source": [
    "# Training LightGBM"
   ]
  },
  {
   "cell_type": "code",
   "execution_count": 75,
   "id": "83adc93b",
   "metadata": {
    "execution": {
     "iopub.execute_input": "2024-05-22T16:45:52.329667Z",
     "iopub.status.busy": "2024-05-22T16:45:52.329321Z",
     "iopub.status.idle": "2024-05-22T16:47:25.417311Z",
     "shell.execute_reply": "2024-05-22T16:47:25.415924Z"
    },
    "papermill": {
     "duration": 93.131345,
     "end_time": "2024-05-22T16:47:25.419809",
     "exception": false,
     "start_time": "2024-05-22T16:45:52.288464",
     "status": "completed"
    },
    "tags": []
   },
   "outputs": [
    {
     "name": "stdout",
     "output_type": "stream",
     "text": [
      "Training until validation scores don't improve for 10 rounds\n",
      "[50]\tvalid_0's auc: 0.742776\n",
      "[100]\tvalid_0's auc: 0.759971\n",
      "[150]\tvalid_0's auc: 0.767515\n",
      "[200]\tvalid_0's auc: 0.771745\n",
      "[250]\tvalid_0's auc: 0.774267\n",
      "[300]\tvalid_0's auc: 0.775872\n",
      "[350]\tvalid_0's auc: 0.777276\n",
      "[400]\tvalid_0's auc: 0.7784\n",
      "[450]\tvalid_0's auc: 0.779294\n",
      "[500]\tvalid_0's auc: 0.77995\n",
      "[550]\tvalid_0's auc: 0.780564\n",
      "[600]\tvalid_0's auc: 0.781375\n",
      "[650]\tvalid_0's auc: 0.781908\n",
      "[700]\tvalid_0's auc: 0.782373\n",
      "Early stopping, best iteration is:\n",
      "[696]\tvalid_0's auc: 0.782388\n"
     ]
    }
   ],
   "source": [
    "lgb_train = lgb.Dataset(X_train, label=y_train)\n",
    "lgb_valid = lgb.Dataset(X_valid, label=y_valid, reference=lgb_train)\n",
    "\n",
    "params = {\n",
    "    \"boosting_type\": \"gbdt\",\n",
    "    \"objective\": \"binary\",\n",
    "    \"metric\": \"auc\",\n",
    "    \"max_depth\": 3,\n",
    "    \"num_leaves\": 25,\n",
    "    \"learning_rate\": 0.05,\n",
    "    \"feature_fraction\": 0.9,\n",
    "    \"bagging_fraction\": 0.8,\n",
    "    \"bagging_freq\": 5,\n",
    "    \"n_estimators\": 1000,\n",
    "    \"verbose\": -1,\n",
    "}\n",
    "\n",
    "gbm = lgb.train(\n",
    "    params,\n",
    "    lgb_train,\n",
    "    valid_sets=lgb_valid,\n",
    "    callbacks=[lgb.log_evaluation(50), lgb.early_stopping(10)]\n",
    ")"
   ]
  },
  {
   "cell_type": "code",
   "execution_count": 76,
   "id": "617b44b1",
   "metadata": {
    "execution": {
     "iopub.execute_input": "2024-05-22T16:47:25.503960Z",
     "iopub.status.busy": "2024-05-22T16:47:25.503440Z",
     "iopub.status.idle": "2024-05-22T16:47:43.522549Z",
     "shell.execute_reply": "2024-05-22T16:47:43.521367Z"
    },
    "papermill": {
     "duration": 18.064343,
     "end_time": "2024-05-22T16:47:43.525252",
     "exception": false,
     "start_time": "2024-05-22T16:47:25.460909",
     "status": "completed"
    },
    "tags": []
   },
   "outputs": [
    {
     "name": "stdout",
     "output_type": "stream",
     "text": [
      "The AUC score on the train set is: 0.792209066706691\n",
      "The AUC score on the valid set is: 0.7823877168754692\n",
      "The AUC score on the test set is: 0.7784630534469104\n"
     ]
    }
   ],
   "source": [
    "for base, X in [(base_train, X_train), (base_valid, X_valid), (base_test, X_test)]:\n",
    "    y_pred = gbm.predict(X, num_iteration=gbm.best_iteration)\n",
    "    base[\"score\"] = y_pred\n",
    "\n",
    "print(f'The AUC score on the train set is: {roc_auc_score(base_train[\"target\"], base_train[\"score\"])}') \n",
    "print(f'The AUC score on the valid set is: {roc_auc_score(base_valid[\"target\"], base_valid[\"score\"])}') \n",
    "print(f'The AUC score on the test set is: {roc_auc_score(base_test[\"target\"], base_test[\"score\"])}')  \n"
   ]
  },
  {
   "cell_type": "code",
   "execution_count": 77,
   "id": "9bc99f86",
   "metadata": {
    "execution": {
     "iopub.execute_input": "2024-05-22T16:47:43.609296Z",
     "iopub.status.busy": "2024-05-22T16:47:43.608923Z",
     "iopub.status.idle": "2024-05-22T16:47:44.760303Z",
     "shell.execute_reply": "2024-05-22T16:47:44.759303Z"
    },
    "papermill": {
     "duration": 1.196703,
     "end_time": "2024-05-22T16:47:44.762833",
     "exception": false,
     "start_time": "2024-05-22T16:47:43.566130",
     "status": "completed"
    },
    "tags": []
   },
   "outputs": [
    {
     "name": "stdout",
     "output_type": "stream",
     "text": [
      "The stability score on the train set is: 0.562112479722089\n",
      "The stability score on the valid set is: 0.5343616743750068\n",
      "The stability score on the test set is: 0.5210892935596464\n"
     ]
    }
   ],
   "source": [
    "def gini_stability(base, w_fallingrate=88.0, w_resstd=-0.5):\n",
    "    gini_in_time = base.loc[:, [\"WEEK_NUM\", \"target\", \"score\"]]\\\n",
    "        .sort_values(\"WEEK_NUM\")\\\n",
    "        .groupby(\"WEEK_NUM\")[[\"target\", \"score\"]]\\\n",
    "        .apply(lambda x: 2*roc_auc_score(x[\"target\"], x[\"score\"])-1).tolist()\n",
    "    \n",
    "    x = np.arange(len(gini_in_time))\n",
    "    y = gini_in_time\n",
    "    a, b = np.polyfit(x, y, 1)\n",
    "    y_hat = a*x + b\n",
    "    residuals = y - y_hat\n",
    "    res_std = np.std(residuals)\n",
    "    avg_gini = np.mean(gini_in_time)\n",
    "    return avg_gini + w_fallingrate * min(0, a) + w_resstd * res_std\n",
    "\n",
    "stability_score_train = gini_stability(base_train)\n",
    "stability_score_valid = gini_stability(base_valid)\n",
    "stability_score_test = gini_stability(base_test)\n",
    "\n",
    "print(f'The stability score on the train set is: {stability_score_train}') \n",
    "print(f'The stability score on the valid set is: {stability_score_valid}') \n",
    "print(f'The stability score on the test set is: {stability_score_test}')  \n"
   ]
  },
  {
   "cell_type": "code",
   "execution_count": 78,
   "id": "08c70a83",
   "metadata": {
    "execution": {
     "iopub.execute_input": "2024-05-22T16:47:44.851005Z",
     "iopub.status.busy": "2024-05-22T16:47:44.850594Z",
     "iopub.status.idle": "2024-05-22T16:47:44.953637Z",
     "shell.execute_reply": "2024-05-22T16:47:44.952735Z"
    },
    "papermill": {
     "duration": 0.149971,
     "end_time": "2024-05-22T16:47:44.956245",
     "exception": false,
     "start_time": "2024-05-22T16:47:44.806274",
     "status": "completed"
    },
    "tags": []
   },
   "outputs": [],
   "source": [
    "X_submission = data_submission[cols_pred].to_pandas()\n",
    "X_submission = convert_strings(X_submission)\n",
    "categorical_cols = X_train.select_dtypes(include=['category']).columns\n",
    "\n",
    "for col in categorical_cols:\n",
    "    train_categories = set(X_train[col].cat.categories)\n",
    "    submission_categories = set(X_submission[col].cat.categories)\n",
    "    new_categories = submission_categories - train_categories\n",
    "    X_submission.loc[X_submission[col].isin(new_categories), col] = \"Unknown\"\n",
    "    new_dtype = pd.CategoricalDtype(categories=train_categories, ordered=True)\n",
    "    X_train[col] = X_train[col].astype(new_dtype)\n",
    "    X_submission[col] = X_submission[col].astype(new_dtype)\n",
    "\n",
    "y_submission_pred = gbm.predict(X_submission, num_iteration=gbm.best_iteration)"
   ]
  },
  {
   "cell_type": "code",
   "execution_count": 79,
   "id": "03b55794",
   "metadata": {
    "execution": {
     "iopub.execute_input": "2024-05-22T16:47:45.041028Z",
     "iopub.status.busy": "2024-05-22T16:47:45.040153Z",
     "iopub.status.idle": "2024-05-22T16:47:45.054513Z",
     "shell.execute_reply": "2024-05-22T16:47:45.053586Z"
    },
    "papermill": {
     "duration": 0.060156,
     "end_time": "2024-05-22T16:47:45.056964",
     "exception": false,
     "start_time": "2024-05-22T16:47:44.996808",
     "status": "completed"
    },
    "tags": []
   },
   "outputs": [],
   "source": [
    "submission = pd.DataFrame({\n",
    "    \"case_id\": data_submission[\"case_id\"].to_numpy(),\n",
    "    \"score\": y_submission_pred\n",
    "}).set_index('case_id')\n",
    "submission.to_csv(\"./submission.csv\")"
   ]
  },
  {
   "cell_type": "code",
   "execution_count": 80,
   "id": "7e777ee6",
   "metadata": {
    "execution": {
     "iopub.execute_input": "2024-05-22T16:47:45.151559Z",
     "iopub.status.busy": "2024-05-22T16:47:45.151173Z",
     "iopub.status.idle": "2024-05-22T16:47:45.163398Z",
     "shell.execute_reply": "2024-05-22T16:47:45.162260Z"
    },
    "papermill": {
     "duration": 0.063036,
     "end_time": "2024-05-22T16:47:45.165923",
     "exception": false,
     "start_time": "2024-05-22T16:47:45.102887",
     "status": "completed"
    },
    "tags": []
   },
   "outputs": [
    {
     "data": {
      "text/html": [
       "<div>\n",
       "<style scoped>\n",
       "    .dataframe tbody tr th:only-of-type {\n",
       "        vertical-align: middle;\n",
       "    }\n",
       "\n",
       "    .dataframe tbody tr th {\n",
       "        vertical-align: top;\n",
       "    }\n",
       "\n",
       "    .dataframe thead th {\n",
       "        text-align: right;\n",
       "    }\n",
       "</style>\n",
       "<table border=\"1\" class=\"dataframe\">\n",
       "  <thead>\n",
       "    <tr style=\"text-align: right;\">\n",
       "      <th></th>\n",
       "      <th>score</th>\n",
       "    </tr>\n",
       "    <tr>\n",
       "      <th>case_id</th>\n",
       "      <th></th>\n",
       "    </tr>\n",
       "  </thead>\n",
       "  <tbody>\n",
       "    <tr>\n",
       "      <th>57543</th>\n",
       "      <td>0.012920</td>\n",
       "    </tr>\n",
       "    <tr>\n",
       "      <th>57549</th>\n",
       "      <td>0.054264</td>\n",
       "    </tr>\n",
       "    <tr>\n",
       "      <th>57551</th>\n",
       "      <td>0.007886</td>\n",
       "    </tr>\n",
       "    <tr>\n",
       "      <th>57552</th>\n",
       "      <td>0.009010</td>\n",
       "    </tr>\n",
       "    <tr>\n",
       "      <th>57569</th>\n",
       "      <td>0.037663</td>\n",
       "    </tr>\n",
       "    <tr>\n",
       "      <th>57630</th>\n",
       "      <td>0.012030</td>\n",
       "    </tr>\n",
       "    <tr>\n",
       "      <th>57631</th>\n",
       "      <td>0.035755</td>\n",
       "    </tr>\n",
       "    <tr>\n",
       "      <th>57632</th>\n",
       "      <td>0.001523</td>\n",
       "    </tr>\n",
       "    <tr>\n",
       "      <th>57633</th>\n",
       "      <td>0.077396</td>\n",
       "    </tr>\n",
       "    <tr>\n",
       "      <th>57634</th>\n",
       "      <td>0.005463</td>\n",
       "    </tr>\n",
       "  </tbody>\n",
       "</table>\n",
       "</div>"
      ],
      "text/plain": [
       "            score\n",
       "case_id          \n",
       "57543    0.012920\n",
       "57549    0.054264\n",
       "57551    0.007886\n",
       "57552    0.009010\n",
       "57569    0.037663\n",
       "57630    0.012030\n",
       "57631    0.035755\n",
       "57632    0.001523\n",
       "57633    0.077396\n",
       "57634    0.005463"
      ]
     },
     "execution_count": 80,
     "metadata": {},
     "output_type": "execute_result"
    }
   ],
   "source": [
    "submission"
   ]
  }
 ],
 "metadata": {
  "kaggle": {
   "accelerator": "none",
   "dataSources": [
    {
     "databundleVersionId": 7921029,
     "sourceId": 50160,
     "sourceType": "competition"
    }
   ],
   "dockerImageVersionId": 30698,
   "isGpuEnabled": false,
   "isInternetEnabled": false,
   "language": "python",
   "sourceType": "notebook"
  },
  "kernelspec": {
   "display_name": "Python 3",
   "language": "python",
   "name": "python3"
  },
  "language_info": {
   "codemirror_mode": {
    "name": "ipython",
    "version": 3
   },
   "file_extension": ".py",
   "mimetype": "text/x-python",
   "name": "python",
   "nbconvert_exporter": "python",
   "pygments_lexer": "ipython3",
   "version": "3.10.13"
  },
  "papermill": {
   "default_parameters": {},
   "duration": 213.731595,
   "end_time": "2024-05-22T16:47:48.054903",
   "environment_variables": {},
   "exception": null,
   "input_path": "__notebook__.ipynb",
   "output_path": "__notebook__.ipynb",
   "parameters": {},
   "start_time": "2024-05-22T16:44:14.323308",
   "version": "2.5.0"
  }
 },
 "nbformat": 4,
 "nbformat_minor": 5
}
